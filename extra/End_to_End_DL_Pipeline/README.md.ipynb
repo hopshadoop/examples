{
 "cells": [
  {
   "cell_type": "markdown",
   "metadata": {},
   "source": [
    "\n",
    "# End-to-End Distributed Deep Learning Pipeline on Hops\n",
    "\n",
    "The notebooks assumes that you have downloaded the TinyImageNet dataset\n",
    "\n",
    "- You can download the dataset from [here](https://tiny-imagenet.herokuapp.com/)\n",
    "- Unzip the dataset in your project root\n",
    "- You can also reuse an existing dataset with the TinyImageNet by sharing it across projects at hops.site\n",
    "- The same pipeline can also be used for training on the larger ImageNet dataset, you just need to change the dimensions in from 64x64x3 images to 224x224x3 and make sure that you have a similar directory layout\n",
    "\n",
    "===\n",
    "\n",
    "## Step 1: Parse the Raw Dataset, join Features with Labels, Save to FeatureStore\n",
    "\n",
    "[Step1_Notebook](./Step1_Save_to_Featurestore.ipynb)\n",
    "\n",
    "![step1.png](./../images/step1.png)\n",
    "\n",
    "\n",
    "## Step 2: Single Machine Training Using Distributed Hyperparameter Search and Model Iteration using Reproducible Experiments\n",
    "\n",
    "[Step2_Notebook](./Step2_Model_Training_Parallel_Experiments.ipynb)\n",
    "\n",
    "![step2.png](./../images/step2.png)"
   ]
  },
  {
   "cell_type": "markdown",
   "metadata": {},
   "source": [
    "## Step 3: Multiple GPU Training Using the Ring-All-Reduce Architecture\n",
    "\n",
    "[Step3_Notebook](./Step3_Ring_AllReduce_GPU_Training.ipynb)\n",
    "\n",
    "![step3.png](./../images/step3.png)"
   ]
  },
  {
   "cell_type": "markdown",
   "metadata": {},
   "source": [
    "## Step 4: Model Serving\n",
    "\n",
    "[Step4_Notebook](./Step4_Model_Serving.ipynb)\n",
    "\n",
    "![step4.png](./../images/step4.png)"
   ]
  },
  {
   "cell_type": "code",
   "execution_count": null,
   "metadata": {},
   "outputs": [],
   "source": []
  }
 ],
 "metadata": {
  "kernelspec": {
   "display_name": "PySpark",
   "language": "",
   "name": "pysparkkernel"
  },
  "language_info": {
   "codemirror_mode": {
    "name": "python",
    "version": 2
   },
   "mimetype": "text/x-python",
   "name": "pyspark",
   "pygments_lexer": "python2"
  }
 },
 "nbformat": 4,
 "nbformat_minor": 2
}