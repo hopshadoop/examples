{
 "cells": [
  {
   "cell_type": "markdown",
   "metadata": {},
   "source": [
    " # Feature Store Tour - Python API\n",
    " \n",
    "This notebook contains a tour/reference for the Hopsworks feature store Python API on Amazon SageMaker. The notebook is meant to be run on Amazon SageMaker after setting up Hopsworks to work with AWS [(see here)](https://hopsworks.readthedocs.io/en/latest/user_guide/hopsworks/featurestore.html#connecting-from-amazon-sagemaker).\n",
    "\n",
    "The notebook is designed to be used in combination with the Feature Store Tour on Hopsworks, it assumes that you have run the following feature engineering job: [job](https://github.com/logicalclocks/hops-examples/tree/master/featurestore_tour) (**the job is added automatically when you start the feature store tour in Hopsworks. You can run the job by going to the 'Jobs' tab to the left in the Hopsworks project home page**). \n",
    "\n",
    "Which will produce the following model of feature groups in your project's feature store:\n",
    "\n",
    "![Feature Store Model](../images/model.png \"Feature Store Model\")\n",
    "\n",
    "In this notebook we will run queries over this feature store model. We will also create new feature groups and training datasets.\n",
    "\n",
    "We will go from (1) features to (2) training datasets to (3) A trained model"
   ]
  },
  {
   "cell_type": "markdown",
   "metadata": {},
   "source": [
    "## Installation"
   ]
  },
  {
   "cell_type": "markdown",
   "metadata": {},
   "source": [
    "To access the feature store from SageMaker the hopsworks-cloud-sdk needs to be installed:"
   ]
  },
  {
   "cell_type": "code",
   "execution_count": null,
   "metadata": {},
   "outputs": [],
   "source": [
    "!pip install hopsworks-cloud-sdk"
   ]
  },
  {
   "cell_type": "markdown",
   "metadata": {},
   "source": [
    "## Imports"
   ]
  },
  {
   "cell_type": "code",
   "execution_count": 2,
   "metadata": {},
   "outputs": [],
   "source": [
    "from hops import featurestore"
   ]
  },
  {
   "cell_type": "markdown",
   "metadata": {},
   "source": [
    "## Connecting"
   ]
  },
  {
   "cell_type": "markdown",
   "metadata": {},
   "source": [
    "This assumes that Hopsworks and AWS were already configured correctly. See [Connecting from Amazon SageMaker](https://hopsworks.readthedocs.io/en/latest/user_guide/hopsworks/featurestore.html#connecting-from-amazon-sagemaker)."
   ]
  },
  {
   "cell_type": "code",
   "execution_count": 3,
   "metadata": {},
   "outputs": [],
   "source": [
    "featurestore.connect('ec2-13-53-124-128.eu-north-1.compute.amazonaws.com', 'demo_featurestore_admin000', hostname_verification=False)"
   ]
  },
  {
   "cell_type": "markdown",
   "metadata": {},
   "source": [
    "## Get The Name of The Project's Feature Store\n",
    "\n",
    "Each project with the feature store service enabled automatically gets its own feature store created. This feature store is only accessible within the project unless you decide to share it with other projects. The name of the feature store is `<project_name>_featurestore`, and you can get the name with the API method `project_featurestore()`. "
   ]
  },
  {
   "cell_type": "code",
   "execution_count": 4,
   "metadata": {},
   "outputs": [
    {
     "data": {
      "text/plain": [
       "'demo_featurestore_admin000_featurestore'"
      ]
     },
     "execution_count": 4,
     "metadata": {},
     "output_type": "execute_result"
    }
   ],
   "source": [
    "featurestore.project_featurestore()"
   ]
  },
  {
   "cell_type": "markdown",
   "metadata": {},
   "source": [
    "## Get a List of All Feature Stores Accessible in the Current Project \n",
    "\n",
    "Feature Stores can be shared across projects in a multi-tenant manner, just like any Hopsworks-dataset can. You can read more about sharing datasets at [hops.io](hops.io), but in essence to share a dataset you just have to right click on it in your project. The feature groups in the feature store are located in a dataset called `<project_name>_featurestore.db` in your project.\n",
    "\n",
    "![Share Feature Store](./images/share_featurestore.png \"Share Feature Store\")"
   ]
  },
  {
   "cell_type": "code",
   "execution_count": 5,
   "metadata": {},
   "outputs": [
    {
     "data": {
      "text/plain": [
       "['demo_featurestore_admin000_featurestore']"
      ]
     },
     "execution_count": 5,
     "metadata": {},
     "output_type": "execute_result"
    }
   ],
   "source": [
    "featurestore.get_project_featurestores()"
   ]
  },
  {
   "cell_type": "markdown",
   "metadata": {},
   "source": [
    "## Querying The Feature Store\n",
    "\n",
    "The feature store can be queried programmatically and with raw SQL. When you query the feature store programmatically, the library will infer how to fetch the different features using a **query planner**. \n",
    "\n",
    "![Feature Store Query Planner](../images/query_optimizer.png \"Feature Store Query Planner\")\n",
    "\n",
    "When interacting with the feature store it is sufficient to be familiar with three concepts:\n",
    "\n",
    "- The **feature**, this refer to an individual versioned and documented feature in the feature store, e.g the age of a person.\n",
    "- The **feature group**, this refer to a documented and versioned group of features stored as a Hive table that is linked to a specific Spark/Numpy/Pandas job that takes in raw data and outputs the computed features.\n",
    "- The **training dataset**, this refer to a versioned and managed dataset of features, stored in HopsFS as tfrecords, .csv, .tsv, or parquet.\n",
    "\n",
    "A feature group contains a group of features and a training dataset contains a set of features, potentially from many different feature groups.\n",
    "\n",
    "![Feature Store Concepts](../images/concepts.png \"Feature Store Contents\")\n",
    "\n",
    "When you query the feature store you will always get back the results in a pandas dataframe. This is for scalability reasons. If the dataset is small and you want to work with it in memory you can convert it into a pandas dataframe or a numpy matrix using one line of code as we will demonstrate later on in this notebook."
   ]
  },
  {
   "cell_type": "markdown",
   "metadata": {},
   "source": [
    "### Fetch an Individual Feature\n",
    "\n",
    "When retrieving a single feature from the featurestore, the hops-util-py library will infer in which feature group the feature belongs to by querying the metastore, but you can also explicitly specify which featuregroup and version to query. \n",
    "\n",
    "If there are multiple features of the same name in the featurestore, it is required to specify enough information to uniquely identify the feature (e.g specify feature group and version). If no featurestore is provided it will default to the project's featurestore.\n",
    "\n",
    "To read an individual feature, use the method `get_feature(feature_name)`"
   ]
  },
  {
   "cell_type": "markdown",
   "metadata": {},
   "source": [
    "Without specifying the feature store, feature group and version, the library will infer it:"
   ]
  },
  {
   "cell_type": "code",
   "execution_count": 6,
   "metadata": {},
   "outputs": [
    {
     "name": "stdout",
     "output_type": "stream",
     "text": [
      "Logical query plan for getting 1 feature from the featurestore created successfully\n",
      "SQL string for the query created successfully\n",
      "Running sql: SELECT team_budget FROM teams_features_1 against the offline feature store\n"
     ]
    },
    {
     "data": {
      "text/html": [
       "<div>\n",
       "<style scoped>\n",
       "    .dataframe tbody tr th:only-of-type {\n",
       "        vertical-align: middle;\n",
       "    }\n",
       "\n",
       "    .dataframe tbody tr th {\n",
       "        vertical-align: top;\n",
       "    }\n",
       "\n",
       "    .dataframe thead th {\n",
       "        text-align: right;\n",
       "    }\n",
       "</style>\n",
       "<table border=\"1\" class=\"dataframe\">\n",
       "  <thead>\n",
       "    <tr style=\"text-align: right;\">\n",
       "      <th></th>\n",
       "      <th>team_budget</th>\n",
       "    </tr>\n",
       "  </thead>\n",
       "  <tbody>\n",
       "    <tr>\n",
       "      <th>0</th>\n",
       "      <td>12957.0760</td>\n",
       "    </tr>\n",
       "    <tr>\n",
       "      <th>1</th>\n",
       "      <td>2403.3704</td>\n",
       "    </tr>\n",
       "    <tr>\n",
       "      <th>2</th>\n",
       "      <td>3390.3755</td>\n",
       "    </tr>\n",
       "    <tr>\n",
       "      <th>3</th>\n",
       "      <td>13547.4290</td>\n",
       "    </tr>\n",
       "    <tr>\n",
       "      <th>4</th>\n",
       "      <td>9678.3330</td>\n",
       "    </tr>\n",
       "  </tbody>\n",
       "</table>\n",
       "</div>"
      ],
      "text/plain": [
       "   team_budget\n",
       "0   12957.0760\n",
       "1    2403.3704\n",
       "2    3390.3755\n",
       "3   13547.4290\n",
       "4    9678.3330"
      ]
     },
     "execution_count": 6,
     "metadata": {},
     "output_type": "execute_result"
    }
   ],
   "source": [
    "featurestore.get_feature(\"team_budget\").head(5)"
   ]
  },
  {
   "cell_type": "markdown",
   "metadata": {},
   "source": [
    "You can also explicitly specify the feature store, feature group, the version, and the return format:"
   ]
  },
  {
   "cell_type": "code",
   "execution_count": 7,
   "metadata": {},
   "outputs": [
    {
     "name": "stdout",
     "output_type": "stream",
     "text": [
      "Logical query plan for getting 1 feature from the featurestore created successfully\n",
      "SQL string for the query created successfully\n",
      "Running sql: SELECT team_budget FROM teams_features_1 against the offline feature store\n"
     ]
    },
    {
     "data": {
      "text/html": [
       "<div>\n",
       "<style scoped>\n",
       "    .dataframe tbody tr th:only-of-type {\n",
       "        vertical-align: middle;\n",
       "    }\n",
       "\n",
       "    .dataframe tbody tr th {\n",
       "        vertical-align: top;\n",
       "    }\n",
       "\n",
       "    .dataframe thead th {\n",
       "        text-align: right;\n",
       "    }\n",
       "</style>\n",
       "<table border=\"1\" class=\"dataframe\">\n",
       "  <thead>\n",
       "    <tr style=\"text-align: right;\">\n",
       "      <th></th>\n",
       "      <th>team_budget</th>\n",
       "    </tr>\n",
       "  </thead>\n",
       "  <tbody>\n",
       "    <tr>\n",
       "      <th>0</th>\n",
       "      <td>12957.0760</td>\n",
       "    </tr>\n",
       "    <tr>\n",
       "      <th>1</th>\n",
       "      <td>2403.3704</td>\n",
       "    </tr>\n",
       "    <tr>\n",
       "      <th>2</th>\n",
       "      <td>3390.3755</td>\n",
       "    </tr>\n",
       "    <tr>\n",
       "      <th>3</th>\n",
       "      <td>13547.4290</td>\n",
       "    </tr>\n",
       "    <tr>\n",
       "      <th>4</th>\n",
       "      <td>9678.3330</td>\n",
       "    </tr>\n",
       "  </tbody>\n",
       "</table>\n",
       "</div>"
      ],
      "text/plain": [
       "   team_budget\n",
       "0   12957.0760\n",
       "1    2403.3704\n",
       "2    3390.3755\n",
       "3   13547.4290\n",
       "4    9678.3330"
      ]
     },
     "execution_count": 7,
     "metadata": {},
     "output_type": "execute_result"
    }
   ],
   "source": [
    "featurestore.get_feature(\n",
    "    \"team_budget\", \n",
    "    featurestore=featurestore.project_featurestore(), \n",
    "    featuregroup=\"teams_features\", \n",
    "    featuregroup_version = 1\n",
    ").head(5)"
   ]
  },
  {
   "cell_type": "markdown",
   "metadata": {},
   "source": [
    "### Fetch an Entire Feature Group\n",
    "\n",
    "You can get an entire featuregroup from the API. If no feature store is provided the API will default to the project's feature store, if no version is provided it will default to version 1 of the feature group. The return format is as a pandas dataframe."
   ]
  },
  {
   "cell_type": "code",
   "execution_count": 8,
   "metadata": {},
   "outputs": [
    {
     "name": "stdout",
     "output_type": "stream",
     "text": [
      "SQL string for the query created successfully\n",
      "Running sql: SELECT * FROM teams_features_1 against the offline feature store\n"
     ]
    },
    {
     "data": {
      "text/html": [
       "<div>\n",
       "<style scoped>\n",
       "    .dataframe tbody tr th:only-of-type {\n",
       "        vertical-align: middle;\n",
       "    }\n",
       "\n",
       "    .dataframe tbody tr th {\n",
       "        vertical-align: top;\n",
       "    }\n",
       "\n",
       "    .dataframe thead th {\n",
       "        text-align: right;\n",
       "    }\n",
       "</style>\n",
       "<table border=\"1\" class=\"dataframe\">\n",
       "  <thead>\n",
       "    <tr style=\"text-align: right;\">\n",
       "      <th></th>\n",
       "      <th>team_budget</th>\n",
       "      <th>team_id</th>\n",
       "      <th>team_position</th>\n",
       "    </tr>\n",
       "  </thead>\n",
       "  <tbody>\n",
       "    <tr>\n",
       "      <th>0</th>\n",
       "      <td>12957.0760</td>\n",
       "      <td>1</td>\n",
       "      <td>1</td>\n",
       "    </tr>\n",
       "    <tr>\n",
       "      <th>1</th>\n",
       "      <td>2403.3704</td>\n",
       "      <td>2</td>\n",
       "      <td>2</td>\n",
       "    </tr>\n",
       "    <tr>\n",
       "      <th>2</th>\n",
       "      <td>3390.3755</td>\n",
       "      <td>3</td>\n",
       "      <td>3</td>\n",
       "    </tr>\n",
       "    <tr>\n",
       "      <th>3</th>\n",
       "      <td>13547.4290</td>\n",
       "      <td>4</td>\n",
       "      <td>4</td>\n",
       "    </tr>\n",
       "    <tr>\n",
       "      <th>4</th>\n",
       "      <td>9678.3330</td>\n",
       "      <td>5</td>\n",
       "      <td>5</td>\n",
       "    </tr>\n",
       "  </tbody>\n",
       "</table>\n",
       "</div>"
      ],
      "text/plain": [
       "   team_budget  team_id  team_position\n",
       "0   12957.0760        1              1\n",
       "1    2403.3704        2              2\n",
       "2    3390.3755        3              3\n",
       "3   13547.4290        4              4\n",
       "4    9678.3330        5              5"
      ]
     },
     "execution_count": 8,
     "metadata": {},
     "output_type": "execute_result"
    }
   ],
   "source": [
    "featurestore.get_featuregroup(\"teams_features\").head(5)"
   ]
  },
  {
   "cell_type": "markdown",
   "metadata": {},
   "source": [
    "The default parameters can be overriden:"
   ]
  },
  {
   "cell_type": "code",
   "execution_count": 9,
   "metadata": {},
   "outputs": [
    {
     "name": "stdout",
     "output_type": "stream",
     "text": [
      "SQL string for the query created successfully\n",
      "Running sql: SELECT * FROM teams_features_1 against the offline feature store\n"
     ]
    },
    {
     "data": {
      "text/html": [
       "<div>\n",
       "<style scoped>\n",
       "    .dataframe tbody tr th:only-of-type {\n",
       "        vertical-align: middle;\n",
       "    }\n",
       "\n",
       "    .dataframe tbody tr th {\n",
       "        vertical-align: top;\n",
       "    }\n",
       "\n",
       "    .dataframe thead th {\n",
       "        text-align: right;\n",
       "    }\n",
       "</style>\n",
       "<table border=\"1\" class=\"dataframe\">\n",
       "  <thead>\n",
       "    <tr style=\"text-align: right;\">\n",
       "      <th></th>\n",
       "      <th>team_budget</th>\n",
       "      <th>team_id</th>\n",
       "      <th>team_position</th>\n",
       "    </tr>\n",
       "  </thead>\n",
       "  <tbody>\n",
       "    <tr>\n",
       "      <th>0</th>\n",
       "      <td>12957.0760</td>\n",
       "      <td>1</td>\n",
       "      <td>1</td>\n",
       "    </tr>\n",
       "    <tr>\n",
       "      <th>1</th>\n",
       "      <td>2403.3704</td>\n",
       "      <td>2</td>\n",
       "      <td>2</td>\n",
       "    </tr>\n",
       "    <tr>\n",
       "      <th>2</th>\n",
       "      <td>3390.3755</td>\n",
       "      <td>3</td>\n",
       "      <td>3</td>\n",
       "    </tr>\n",
       "    <tr>\n",
       "      <th>3</th>\n",
       "      <td>13547.4290</td>\n",
       "      <td>4</td>\n",
       "      <td>4</td>\n",
       "    </tr>\n",
       "    <tr>\n",
       "      <th>4</th>\n",
       "      <td>9678.3330</td>\n",
       "      <td>5</td>\n",
       "      <td>5</td>\n",
       "    </tr>\n",
       "  </tbody>\n",
       "</table>\n",
       "</div>"
      ],
      "text/plain": [
       "   team_budget  team_id  team_position\n",
       "0   12957.0760        1              1\n",
       "1    2403.3704        2              2\n",
       "2    3390.3755        3              3\n",
       "3   13547.4290        4              4\n",
       "4    9678.3330        5              5"
      ]
     },
     "execution_count": 9,
     "metadata": {},
     "output_type": "execute_result"
    }
   ],
   "source": [
    "featurestore.get_featuregroup(\n",
    "    \"teams_features\", \n",
    "    featurestore=featurestore.project_featurestore(), \n",
    "    featuregroup_version = 1\n",
    ").head(5)"
   ]
  },
  {
   "cell_type": "markdown",
   "metadata": {},
   "source": [
    "### Fetch A Set of Features\n",
    "\n",
    "When retrieving a list of features from the featurestore, the hops-util-py library will infer which featuregroup the features belongs to by querying the metastore. If the features reside in different featuregroups, the library will also try to infer how to join the features together based on common columns. If the JOIN query cannot be inferred due to existence of multiple features with the same name or non-obvious JOIN query, the user need to supply enough information to the API call to be able to query the featurestore. If the user already knows the JOIN query it can also run featurestore.sql(joinQuery) directly (an example of this is shown further down in this notebook). If no featurestore is provided the API will default to the project's featurestore."
   ]
  },
  {
   "cell_type": "markdown",
   "metadata": {},
   "source": [
    "Example of querying the feature store for a list of features without specifying the feature groups and feature store:"
   ]
  },
  {
   "cell_type": "code",
   "execution_count": 10,
   "metadata": {},
   "outputs": [
    {
     "name": "stdout",
     "output_type": "stream",
     "text": [
      "Logical query plan for getting 3 features from the featurestore created successfully\n",
      "SQL string for the query created successfully\n",
      "Running sql: SELECT average_player_age, average_attendance, team_budget FROM players_features_1 JOIN attendances_features_1 JOIN teams_features_1 ON players_features_1.`team_id`=attendances_features_1.`team_id` AND players_features_1.`team_id`=teams_features_1.`team_id` against the offline feature store\n"
     ]
    },
    {
     "data": {
      "text/html": [
       "<div>\n",
       "<style scoped>\n",
       "    .dataframe tbody tr th:only-of-type {\n",
       "        vertical-align: middle;\n",
       "    }\n",
       "\n",
       "    .dataframe tbody tr th {\n",
       "        vertical-align: top;\n",
       "    }\n",
       "\n",
       "    .dataframe thead th {\n",
       "        text-align: right;\n",
       "    }\n",
       "</style>\n",
       "<table border=\"1\" class=\"dataframe\">\n",
       "  <thead>\n",
       "    <tr style=\"text-align: right;\">\n",
       "      <th></th>\n",
       "      <th>average_player_age</th>\n",
       "      <th>average_attendance</th>\n",
       "      <th>team_budget</th>\n",
       "    </tr>\n",
       "  </thead>\n",
       "  <tbody>\n",
       "    <tr>\n",
       "      <th>0</th>\n",
       "      <td>25.65</td>\n",
       "      <td>3271.9340</td>\n",
       "      <td>16758.0660</td>\n",
       "    </tr>\n",
       "    <tr>\n",
       "      <th>1</th>\n",
       "      <td>25.67</td>\n",
       "      <td>2695.4463</td>\n",
       "      <td>14580.9480</td>\n",
       "    </tr>\n",
       "    <tr>\n",
       "      <th>2</th>\n",
       "      <td>25.67</td>\n",
       "      <td>2701.0522</td>\n",
       "      <td>9290.6380</td>\n",
       "    </tr>\n",
       "    <tr>\n",
       "      <th>3</th>\n",
       "      <td>25.88</td>\n",
       "      <td>92301.0860</td>\n",
       "      <td>12957.0760</td>\n",
       "    </tr>\n",
       "    <tr>\n",
       "      <th>4</th>\n",
       "      <td>26.18</td>\n",
       "      <td>2823.9960</td>\n",
       "      <td>4134.0903</td>\n",
       "    </tr>\n",
       "  </tbody>\n",
       "</table>\n",
       "</div>"
      ],
      "text/plain": [
       "   average_player_age  average_attendance  team_budget\n",
       "0               25.65           3271.9340   16758.0660\n",
       "1               25.67           2695.4463   14580.9480\n",
       "2               25.67           2701.0522    9290.6380\n",
       "3               25.88          92301.0860   12957.0760\n",
       "4               26.18           2823.9960    4134.0903"
      ]
     },
     "execution_count": 10,
     "metadata": {},
     "output_type": "execute_result"
    }
   ],
   "source": [
    "featurestore.get_features(\n",
    "    [\"team_budget\", \"average_attendance\", \"average_player_age\"]\n",
    ").head(5)"
   ]
  },
  {
   "cell_type": "markdown",
   "metadata": {},
   "source": [
    "We can also explicitly specify the feature groups where the features reside. Either the feature groups and versions can be specified by prepending feature names with `<feature group name>_<feature group version.`, or by providing a dict with entries of `<feature group name> -> <feature group version>`:"
   ]
  },
  {
   "cell_type": "code",
   "execution_count": 11,
   "metadata": {},
   "outputs": [
    {
     "name": "stdout",
     "output_type": "stream",
     "text": [
      "Logical query plan for getting 3 features from the featurestore created successfully\n",
      "SQL string for the query created successfully\n",
      "Running sql: SELECT attendances_features_1.average_attendance, teams_features_1.team_budget, players_features_1.average_player_age FROM attendances_features_1 JOIN teams_features_1 JOIN players_features_1 ON attendances_features_1.`team_id`=teams_features_1.`team_id` AND attendances_features_1.`team_id`=players_features_1.`team_id` against the offline feature store\n"
     ]
    },
    {
     "data": {
      "text/html": [
       "<div>\n",
       "<style scoped>\n",
       "    .dataframe tbody tr th:only-of-type {\n",
       "        vertical-align: middle;\n",
       "    }\n",
       "\n",
       "    .dataframe tbody tr th {\n",
       "        vertical-align: top;\n",
       "    }\n",
       "\n",
       "    .dataframe thead th {\n",
       "        text-align: right;\n",
       "    }\n",
       "</style>\n",
       "<table border=\"1\" class=\"dataframe\">\n",
       "  <thead>\n",
       "    <tr style=\"text-align: right;\">\n",
       "      <th></th>\n",
       "      <th>average_attendance</th>\n",
       "      <th>team_budget</th>\n",
       "      <th>average_player_age</th>\n",
       "    </tr>\n",
       "  </thead>\n",
       "  <tbody>\n",
       "    <tr>\n",
       "      <th>0</th>\n",
       "      <td>3271.9340</td>\n",
       "      <td>16758.0660</td>\n",
       "      <td>25.65</td>\n",
       "    </tr>\n",
       "    <tr>\n",
       "      <th>1</th>\n",
       "      <td>2695.4463</td>\n",
       "      <td>14580.9480</td>\n",
       "      <td>25.67</td>\n",
       "    </tr>\n",
       "    <tr>\n",
       "      <th>2</th>\n",
       "      <td>2701.0522</td>\n",
       "      <td>9290.6380</td>\n",
       "      <td>25.67</td>\n",
       "    </tr>\n",
       "    <tr>\n",
       "      <th>3</th>\n",
       "      <td>92301.0860</td>\n",
       "      <td>12957.0760</td>\n",
       "      <td>25.88</td>\n",
       "    </tr>\n",
       "    <tr>\n",
       "      <th>4</th>\n",
       "      <td>2823.9960</td>\n",
       "      <td>4134.0903</td>\n",
       "      <td>26.18</td>\n",
       "    </tr>\n",
       "  </tbody>\n",
       "</table>\n",
       "</div>"
      ],
      "text/plain": [
       "   average_attendance  team_budget  average_player_age\n",
       "0           3271.9340   16758.0660               25.65\n",
       "1           2695.4463   14580.9480               25.67\n",
       "2           2701.0522    9290.6380               25.67\n",
       "3          92301.0860   12957.0760               25.88\n",
       "4           2823.9960    4134.0903               26.18"
      ]
     },
     "execution_count": 11,
     "metadata": {},
     "output_type": "execute_result"
    }
   ],
   "source": [
    "featurestore.get_features(\n",
    "    [\"teams_features_1.team_budget\", \n",
    "     \"attendances_features_1.average_attendance\", \n",
    "     \"players_features_1.average_player_age\"]\n",
    ").head(5)"
   ]
  },
  {
   "cell_type": "code",
   "execution_count": 12,
   "metadata": {},
   "outputs": [
    {
     "name": "stdout",
     "output_type": "stream",
     "text": [
      "Logical query plan for getting 3 features from the featurestore created successfully\n",
      "SQL string for the query created successfully\n",
      "Running sql: SELECT average_player_age, average_attendance, team_budget FROM attendances_features_1 JOIN players_features_1 JOIN teams_features_1 ON attendances_features_1.`team_id`=players_features_1.`team_id` AND attendances_features_1.`team_id`=teams_features_1.`team_id` against the offline feature store\n"
     ]
    },
    {
     "data": {
      "text/html": [
       "<div>\n",
       "<style scoped>\n",
       "    .dataframe tbody tr th:only-of-type {\n",
       "        vertical-align: middle;\n",
       "    }\n",
       "\n",
       "    .dataframe tbody tr th {\n",
       "        vertical-align: top;\n",
       "    }\n",
       "\n",
       "    .dataframe thead th {\n",
       "        text-align: right;\n",
       "    }\n",
       "</style>\n",
       "<table border=\"1\" class=\"dataframe\">\n",
       "  <thead>\n",
       "    <tr style=\"text-align: right;\">\n",
       "      <th></th>\n",
       "      <th>average_player_age</th>\n",
       "      <th>average_attendance</th>\n",
       "      <th>team_budget</th>\n",
       "    </tr>\n",
       "  </thead>\n",
       "  <tbody>\n",
       "    <tr>\n",
       "      <th>0</th>\n",
       "      <td>25.65</td>\n",
       "      <td>3271.9340</td>\n",
       "      <td>16758.0660</td>\n",
       "    </tr>\n",
       "    <tr>\n",
       "      <th>1</th>\n",
       "      <td>25.67</td>\n",
       "      <td>2695.4463</td>\n",
       "      <td>14580.9480</td>\n",
       "    </tr>\n",
       "    <tr>\n",
       "      <th>2</th>\n",
       "      <td>25.67</td>\n",
       "      <td>2701.0522</td>\n",
       "      <td>9290.6380</td>\n",
       "    </tr>\n",
       "    <tr>\n",
       "      <th>3</th>\n",
       "      <td>25.88</td>\n",
       "      <td>92301.0860</td>\n",
       "      <td>12957.0760</td>\n",
       "    </tr>\n",
       "    <tr>\n",
       "      <th>4</th>\n",
       "      <td>26.18</td>\n",
       "      <td>2823.9960</td>\n",
       "      <td>4134.0903</td>\n",
       "    </tr>\n",
       "  </tbody>\n",
       "</table>\n",
       "</div>"
      ],
      "text/plain": [
       "   average_player_age  average_attendance  team_budget\n",
       "0               25.65           3271.9340   16758.0660\n",
       "1               25.67           2695.4463   14580.9480\n",
       "2               25.67           2701.0522    9290.6380\n",
       "3               25.88          92301.0860   12957.0760\n",
       "4               26.18           2823.9960    4134.0903"
      ]
     },
     "execution_count": 12,
     "metadata": {},
     "output_type": "execute_result"
    }
   ],
   "source": [
    "featurestore.get_features(\n",
    "    [\"team_budget\", \"average_attendance\", \"average_player_age\"],\n",
    "    featurestore=featurestore.project_featurestore(),\n",
    "    featuregroups_version_dict={\n",
    "        \"teams_features\": 1, \n",
    "        \"attendances_features\": 1,\n",
    "        \"players_features\": 1\n",
    "    }\n",
    ").head(5)"
   ]
  },
  {
   "cell_type": "markdown",
   "metadata": {},
   "source": [
    "If you have a lot of name collisions and it is not obvious how to infer the JOIN query to get the features from the feature store. You can explicitly specify the argument `join_key` to the API (or you can provide the entire SQL query using the API method `.sql` as we will demonstrate later on in the notebook)"
   ]
  },
  {
   "cell_type": "code",
   "execution_count": 13,
   "metadata": {},
   "outputs": [
    {
     "name": "stdout",
     "output_type": "stream",
     "text": [
      "Logical query plan for getting 3 features from the featurestore created successfully\n",
      "SQL string for the query created successfully\n",
      "Running sql: SELECT average_player_age, average_attendance, team_budget FROM teams_features_1 JOIN attendances_features_1 JOIN players_features_1 ON teams_features_1.`team_id`=attendances_features_1.`team_id` AND teams_features_1.`team_id`=players_features_1.`team_id` against the offline feature store\n"
     ]
    },
    {
     "data": {
      "text/html": [
       "<div>\n",
       "<style scoped>\n",
       "    .dataframe tbody tr th:only-of-type {\n",
       "        vertical-align: middle;\n",
       "    }\n",
       "\n",
       "    .dataframe tbody tr th {\n",
       "        vertical-align: top;\n",
       "    }\n",
       "\n",
       "    .dataframe thead th {\n",
       "        text-align: right;\n",
       "    }\n",
       "</style>\n",
       "<table border=\"1\" class=\"dataframe\">\n",
       "  <thead>\n",
       "    <tr style=\"text-align: right;\">\n",
       "      <th></th>\n",
       "      <th>average_player_age</th>\n",
       "      <th>average_attendance</th>\n",
       "      <th>team_budget</th>\n",
       "    </tr>\n",
       "  </thead>\n",
       "  <tbody>\n",
       "    <tr>\n",
       "      <th>0</th>\n",
       "      <td>25.65</td>\n",
       "      <td>3271.9340</td>\n",
       "      <td>16758.0660</td>\n",
       "    </tr>\n",
       "    <tr>\n",
       "      <th>1</th>\n",
       "      <td>25.67</td>\n",
       "      <td>2695.4463</td>\n",
       "      <td>14580.9480</td>\n",
       "    </tr>\n",
       "    <tr>\n",
       "      <th>2</th>\n",
       "      <td>25.67</td>\n",
       "      <td>2701.0522</td>\n",
       "      <td>9290.6380</td>\n",
       "    </tr>\n",
       "    <tr>\n",
       "      <th>3</th>\n",
       "      <td>25.88</td>\n",
       "      <td>92301.0860</td>\n",
       "      <td>12957.0760</td>\n",
       "    </tr>\n",
       "    <tr>\n",
       "      <th>4</th>\n",
       "      <td>26.18</td>\n",
       "      <td>2823.9960</td>\n",
       "      <td>4134.0903</td>\n",
       "    </tr>\n",
       "  </tbody>\n",
       "</table>\n",
       "</div>"
      ],
      "text/plain": [
       "   average_player_age  average_attendance  team_budget\n",
       "0               25.65           3271.9340   16758.0660\n",
       "1               25.67           2695.4463   14580.9480\n",
       "2               25.67           2701.0522    9290.6380\n",
       "3               25.88          92301.0860   12957.0760\n",
       "4               26.18           2823.9960    4134.0903"
      ]
     },
     "execution_count": 13,
     "metadata": {},
     "output_type": "execute_result"
    }
   ],
   "source": [
    "featurestore.get_features(\n",
    "    [\"team_budget\", \"average_attendance\", \"average_player_age\"],\n",
    "    featurestore=featurestore.project_featurestore(),\n",
    "    featuregroups_version_dict={\n",
    "        \"teams_features\": 1, \n",
    "        \"attendances_features\": 1,\n",
    "        \"players_features\": 1\n",
    "    },\n",
    "    join_key = \"team_id\"\n",
    ").head(5)"
   ]
  },
  {
   "cell_type": "markdown",
   "metadata": {},
   "source": [
    "#### Advanced Eamples of Fetching Sets of Features and Common Pitfalls"
   ]
  },
  {
   "cell_type": "markdown",
   "metadata": {},
   "source": [
    "Getting 12 features from 4 different feature groups:"
   ]
  },
  {
   "cell_type": "code",
   "execution_count": 14,
   "metadata": {},
   "outputs": [
    {
     "name": "stdout",
     "output_type": "stream",
     "text": [
      "Logical query plan for getting 12 features from the featurestore created successfully\n",
      "SQL string for the query created successfully\n",
      "Running sql: SELECT average_position, sum_player_rating, sum_player_worth, average_attendance, average_player_age, sum_position, team_position, average_player_worth, sum_player_age, sum_attendance, average_player_rating, team_budget FROM season_scores_features_1 JOIN players_features_1 JOIN attendances_features_1 JOIN teams_features_1 ON season_scores_features_1.`team_id`=players_features_1.`team_id` AND season_scores_features_1.`team_id`=attendances_features_1.`team_id` AND season_scores_features_1.`team_id`=teams_features_1.`team_id` against the offline feature store\n"
     ]
    },
    {
     "data": {
      "text/html": [
       "<div>\n",
       "<style scoped>\n",
       "    .dataframe tbody tr th:only-of-type {\n",
       "        vertical-align: middle;\n",
       "    }\n",
       "\n",
       "    .dataframe tbody tr th {\n",
       "        vertical-align: top;\n",
       "    }\n",
       "\n",
       "    .dataframe thead th {\n",
       "        text-align: right;\n",
       "    }\n",
       "</style>\n",
       "<table border=\"1\" class=\"dataframe\">\n",
       "  <thead>\n",
       "    <tr style=\"text-align: right;\">\n",
       "      <th></th>\n",
       "      <th>average_position</th>\n",
       "      <th>sum_player_rating</th>\n",
       "      <th>sum_player_worth</th>\n",
       "      <th>average_attendance</th>\n",
       "      <th>average_player_age</th>\n",
       "      <th>sum_position</th>\n",
       "      <th>team_position</th>\n",
       "      <th>average_player_worth</th>\n",
       "      <th>sum_player_age</th>\n",
       "      <th>sum_attendance</th>\n",
       "      <th>average_player_rating</th>\n",
       "      <th>team_budget</th>\n",
       "    </tr>\n",
       "  </thead>\n",
       "  <tbody>\n",
       "    <tr>\n",
       "      <th>0</th>\n",
       "      <td>55.15</td>\n",
       "      <td>32269.797</td>\n",
       "      <td>30787.268</td>\n",
       "      <td>3271.9340</td>\n",
       "      <td>25.65</td>\n",
       "      <td>1103.0</td>\n",
       "      <td>26</td>\n",
       "      <td>307.87268</td>\n",
       "      <td>2565.0</td>\n",
       "      <td>65438.680</td>\n",
       "      <td>322.69797</td>\n",
       "      <td>16758.0660</td>\n",
       "    </tr>\n",
       "    <tr>\n",
       "      <th>1</th>\n",
       "      <td>62.45</td>\n",
       "      <td>22957.967</td>\n",
       "      <td>22179.488</td>\n",
       "      <td>2695.4463</td>\n",
       "      <td>25.67</td>\n",
       "      <td>1249.0</td>\n",
       "      <td>36</td>\n",
       "      <td>221.79488</td>\n",
       "      <td>2567.0</td>\n",
       "      <td>53908.926</td>\n",
       "      <td>229.57967</td>\n",
       "      <td>14580.9480</td>\n",
       "    </tr>\n",
       "    <tr>\n",
       "      <th>2</th>\n",
       "      <td>58.45</td>\n",
       "      <td>22761.396</td>\n",
       "      <td>18485.990</td>\n",
       "      <td>2701.0522</td>\n",
       "      <td>25.67</td>\n",
       "      <td>1169.0</td>\n",
       "      <td>37</td>\n",
       "      <td>184.85991</td>\n",
       "      <td>2567.0</td>\n",
       "      <td>54021.043</td>\n",
       "      <td>227.61397</td>\n",
       "      <td>9290.6380</td>\n",
       "    </tr>\n",
       "    <tr>\n",
       "      <th>3</th>\n",
       "      <td>29.05</td>\n",
       "      <td>719186.300</td>\n",
       "      <td>792043.250</td>\n",
       "      <td>92301.0860</td>\n",
       "      <td>25.88</td>\n",
       "      <td>581.0</td>\n",
       "      <td>1</td>\n",
       "      <td>7920.43260</td>\n",
       "      <td>2588.0</td>\n",
       "      <td>1846021.800</td>\n",
       "      <td>7191.86330</td>\n",
       "      <td>12957.0760</td>\n",
       "    </tr>\n",
       "    <tr>\n",
       "      <th>4</th>\n",
       "      <td>74.15</td>\n",
       "      <td>18149.428</td>\n",
       "      <td>17936.293</td>\n",
       "      <td>2823.9960</td>\n",
       "      <td>26.18</td>\n",
       "      <td>1483.0</td>\n",
       "      <td>43</td>\n",
       "      <td>179.36293</td>\n",
       "      <td>2618.0</td>\n",
       "      <td>56479.920</td>\n",
       "      <td>181.49428</td>\n",
       "      <td>4134.0903</td>\n",
       "    </tr>\n",
       "  </tbody>\n",
       "</table>\n",
       "</div>"
      ],
      "text/plain": [
       "   average_position  sum_player_rating  sum_player_worth  average_attendance  \\\n",
       "0             55.15          32269.797         30787.268           3271.9340   \n",
       "1             62.45          22957.967         22179.488           2695.4463   \n",
       "2             58.45          22761.396         18485.990           2701.0522   \n",
       "3             29.05         719186.300        792043.250          92301.0860   \n",
       "4             74.15          18149.428         17936.293           2823.9960   \n",
       "\n",
       "   average_player_age  sum_position  team_position  average_player_worth  \\\n",
       "0               25.65        1103.0             26             307.87268   \n",
       "1               25.67        1249.0             36             221.79488   \n",
       "2               25.67        1169.0             37             184.85991   \n",
       "3               25.88         581.0              1            7920.43260   \n",
       "4               26.18        1483.0             43             179.36293   \n",
       "\n",
       "   sum_player_age  sum_attendance  average_player_rating  team_budget  \n",
       "0          2565.0       65438.680              322.69797   16758.0660  \n",
       "1          2567.0       53908.926              229.57967   14580.9480  \n",
       "2          2567.0       54021.043              227.61397    9290.6380  \n",
       "3          2588.0     1846021.800             7191.86330   12957.0760  \n",
       "4          2618.0       56479.920              181.49428    4134.0903  "
      ]
     },
     "execution_count": 14,
     "metadata": {},
     "output_type": "execute_result"
    }
   ],
   "source": [
    "featurestore.get_features(\n",
    "    [\"team_budget\", \"average_attendance\", \"average_player_age\",\n",
    "    \"team_position\", \"sum_attendance\", \n",
    "     \"average_player_rating\", \"average_player_worth\", \"sum_player_age\",\n",
    "     \"sum_player_rating\", \"sum_player_worth\", \"sum_position\", \n",
    "     \"average_position\"\n",
    "    ]\n",
    ").head(5)"
   ]
  },
  {
   "cell_type": "markdown",
   "metadata": {},
   "source": [
    "### Create a training dataset from the Feature Store\n",
    "\n",
    "The feature store has an abstraction of a **training dataset**, which is a dataset with a set of features (potentially from many different feature groups) and labels (in case of supervised learning).\n",
    "\n",
    "When you train a machine learning model, you want to use all features that have predictive power and that the model can learn from. At this point, we can create a training dataset of features from several different feature groups and use that for training. That is the purpose of the training dataset abstraction.\n",
    "\n",
    "Of course you can always just save a group of features anywhere inside your project, e.g as a csv, or .tfrecords file. However, by using the feature store you can create managed training datasets. Managed training datasets will show up in the feature registry UI and will automatically be versioned, documented and reproducible.\n",
    "\n",
    "Lets create a dataset called *team_position_prediction* by using the previous set of 12 relevant features from the featurestore. We will combine features from four different feature groups to form this training dataset: \n",
    "\n",
    "- teams_features\n",
    "- attendances_features\n",
    "- players_features\n",
    "- season_scores_features"
   ]
  },
  {
   "cell_type": "code",
   "execution_count": 15,
   "metadata": {},
   "outputs": [],
   "source": [
    "feature_list = [\"team_budget\", \"average_attendance\", \"average_player_age\",\n",
    "    \"team_position\", \"sum_attendance\", \n",
    "     \"average_player_rating\", \"average_player_worth\", \"sum_player_age\",\n",
    "     \"sum_player_rating\", \"sum_player_worth\", \"sum_position\", \n",
    "     \"average_position\"\n",
    "    ]"
   ]
  },
  {
   "cell_type": "markdown",
   "metadata": {},
   "source": [
    "Now we can create a training dataset with the list of features with some extended metadata such as schema (automatically inferred). By default when you create a training dataset it will be in \"tfrecords\" format and statistics will be computed for all features. After the dataset have been created you can view and/or update the metadata about the training dataset from the Hopsworks featurestore UI."
   ]
  },
  {
   "cell_type": "markdown",
   "metadata": {},
   "source": [
    "First you should check if a training dataset with the same name has been created before:"
   ]
  },
  {
   "cell_type": "code",
   "execution_count": 16,
   "metadata": {},
   "outputs": [
    {
     "name": "stdout",
     "output_type": "stream",
     "text": [
      "3\n"
     ]
    }
   ],
   "source": [
    "latest_version = featurestore.get_latest_training_dataset_version(\"team_position_prediction\")\n",
    "print(latest_version)"
   ]
  },
  {
   "cell_type": "markdown",
   "metadata": {},
   "source": [
    "Now you can use the `featurestore.create_training_dataset()` API to create and launch a job which will create your training dataset. You can either pass in a list of feature names from different feature groups to be joined on `join_key` or a pure sql query string for more complex training datasets. The `join_key` is optional and we will infer it from the primary key of the feature groups if it is not provided. The job will be called the same name as your training dataset, in case you want to rerun the creation from the Hopsworks UI. Good practice is to increase the version by 1, but you can also decide to overwrite it with the same version if you set the `overwrite` argument to `True`.\n",
    "\n",
    "By default the dataset is written as \"tfrecords\" to HopsFS but you can specify an alternative `sink` by passing your storage connector name. Please note that the storage connector has to be created in the Hopsworks featurestore UI previously.\n",
    "\n",
    "The `featurestore.create_training_dataset()` API offers additional parameters to modify its behaviour, for the full range of possible arguments please refer to the docs. Most arguments will be familiar to you from the `featurestore.get_features()` API."
   ]
  },
  {
   "cell_type": "code",
   "execution_count": 17,
   "metadata": {},
   "outputs": [
    {
     "name": "stdout",
     "output_type": "stream",
     "text": [
      "Training Dataset job successfully started\n"
     ]
    }
   ],
   "source": [
    "featurestore.create_training_dataset(\n",
    "    training_dataset = \"team_position_prediction\",\n",
    "    features = feature_list,\n",
    "    descriptive_statistics = False,\n",
    "    feature_correlation = False,\n",
    "    feature_histograms = False,\n",
    "    cluster_analysis = False,\n",
    "    training_dataset_version = latest_version + 1,\n",
    "    overwrite=True\n",
    ")"
   ]
  },
  {
   "cell_type": "markdown",
   "metadata": {},
   "source": [
    "If you want to utilize the SQL query functionality, you have to know that you can query a feature group by assembling its name with the desired version: **[featuregroup]_[version]**.\n",
    "\n",
    "In the following example we create a training dataset by selecting all features from the 'games_features' feature group with version 1."
   ]
  },
  {
   "cell_type": "code",
   "execution_count": 18,
   "metadata": {},
   "outputs": [
    {
     "name": "stdout",
     "output_type": "stream",
     "text": [
      "3\n"
     ]
    }
   ],
   "source": [
    "latest_version = featurestore.get_latest_training_dataset_version(\"games_features_all\")\n",
    "print(latest_version)"
   ]
  },
  {
   "cell_type": "code",
   "execution_count": 19,
   "metadata": {},
   "outputs": [
    {
     "name": "stdout",
     "output_type": "stream",
     "text": [
      "Training Dataset job successfully started\n"
     ]
    }
   ],
   "source": [
    "featurestore.create_training_dataset(\n",
    "    training_dataset = \"games_features_all\",\n",
    "    sql_query = \"SELECT * FROM games_features_1\",\n",
    "    descriptive_statistics = False,\n",
    "    feature_correlation = False,\n",
    "    feature_histograms = False,\n",
    "    cluster_analysis = False,\n",
    "    training_dataset_version = latest_version + 1,\n",
    "    overwrite=True\n",
    ")"
   ]
  },
  {
   "cell_type": "markdown",
   "metadata": {},
   "source": [
    "### Free Text SQL Query from the Feature Store\n",
    "\n",
    "For complex queries that cannot be inferred by the helper functions, enter the sql directly to the method `featurestore.sql()` it will default to the project specific feature store but you can also specify it explicitly. If you are proficient in SQL, this is the most efficient and preferred way to query the feature store."
   ]
  },
  {
   "cell_type": "markdown",
   "metadata": {},
   "source": [
    "Without specifying the feature store the query will by default be run against the project's feature store:"
   ]
  },
  {
   "cell_type": "code",
   "execution_count": 20,
   "metadata": {},
   "outputs": [
    {
     "name": "stdout",
     "output_type": "stream",
     "text": [
      "Running sql: SELECT * FROM teams_features_1 WHERE team_position < 5 against the offline feature store\n"
     ]
    },
    {
     "data": {
      "text/html": [
       "<div>\n",
       "<style scoped>\n",
       "    .dataframe tbody tr th:only-of-type {\n",
       "        vertical-align: middle;\n",
       "    }\n",
       "\n",
       "    .dataframe tbody tr th {\n",
       "        vertical-align: top;\n",
       "    }\n",
       "\n",
       "    .dataframe thead th {\n",
       "        text-align: right;\n",
       "    }\n",
       "</style>\n",
       "<table border=\"1\" class=\"dataframe\">\n",
       "  <thead>\n",
       "    <tr style=\"text-align: right;\">\n",
       "      <th></th>\n",
       "      <th>team_budget</th>\n",
       "      <th>team_id</th>\n",
       "      <th>team_position</th>\n",
       "    </tr>\n",
       "  </thead>\n",
       "  <tbody>\n",
       "    <tr>\n",
       "      <th>0</th>\n",
       "      <td>12957.0760</td>\n",
       "      <td>1</td>\n",
       "      <td>1</td>\n",
       "    </tr>\n",
       "    <tr>\n",
       "      <th>1</th>\n",
       "      <td>2403.3704</td>\n",
       "      <td>2</td>\n",
       "      <td>2</td>\n",
       "    </tr>\n",
       "    <tr>\n",
       "      <th>2</th>\n",
       "      <td>3390.3755</td>\n",
       "      <td>3</td>\n",
       "      <td>3</td>\n",
       "    </tr>\n",
       "    <tr>\n",
       "      <th>3</th>\n",
       "      <td>13547.4290</td>\n",
       "      <td>4</td>\n",
       "      <td>4</td>\n",
       "    </tr>\n",
       "  </tbody>\n",
       "</table>\n",
       "</div>"
      ],
      "text/plain": [
       "   team_budget  team_id  team_position\n",
       "0   12957.0760        1              1\n",
       "1    2403.3704        2              2\n",
       "2    3390.3755        3              3\n",
       "3   13547.4290        4              4"
      ]
     },
     "execution_count": 20,
     "metadata": {},
     "output_type": "execute_result"
    }
   ],
   "source": [
    "featurestore.sql(\"SELECT * FROM teams_features_1 WHERE team_position < 5\").head(5)"
   ]
  },
  {
   "cell_type": "markdown",
   "metadata": {},
   "source": [
    "You can also specify the featurestore to query explicitly:"
   ]
  },
  {
   "cell_type": "code",
   "execution_count": 21,
   "metadata": {
    "scrolled": true
   },
   "outputs": [
    {
     "name": "stdout",
     "output_type": "stream",
     "text": [
      "Running sql: SELECT * FROM teams_features_1 WHERE team_position < 5 against the offline feature store\n"
     ]
    },
    {
     "data": {
      "text/html": [
       "<div>\n",
       "<style scoped>\n",
       "    .dataframe tbody tr th:only-of-type {\n",
       "        vertical-align: middle;\n",
       "    }\n",
       "\n",
       "    .dataframe tbody tr th {\n",
       "        vertical-align: top;\n",
       "    }\n",
       "\n",
       "    .dataframe thead th {\n",
       "        text-align: right;\n",
       "    }\n",
       "</style>\n",
       "<table border=\"1\" class=\"dataframe\">\n",
       "  <thead>\n",
       "    <tr style=\"text-align: right;\">\n",
       "      <th></th>\n",
       "      <th>team_budget</th>\n",
       "      <th>team_id</th>\n",
       "      <th>team_position</th>\n",
       "    </tr>\n",
       "  </thead>\n",
       "  <tbody>\n",
       "    <tr>\n",
       "      <th>0</th>\n",
       "      <td>12957.0760</td>\n",
       "      <td>1</td>\n",
       "      <td>1</td>\n",
       "    </tr>\n",
       "    <tr>\n",
       "      <th>1</th>\n",
       "      <td>2403.3704</td>\n",
       "      <td>2</td>\n",
       "      <td>2</td>\n",
       "    </tr>\n",
       "    <tr>\n",
       "      <th>2</th>\n",
       "      <td>3390.3755</td>\n",
       "      <td>3</td>\n",
       "      <td>3</td>\n",
       "    </tr>\n",
       "    <tr>\n",
       "      <th>3</th>\n",
       "      <td>13547.4290</td>\n",
       "      <td>4</td>\n",
       "      <td>4</td>\n",
       "    </tr>\n",
       "  </tbody>\n",
       "</table>\n",
       "</div>"
      ],
      "text/plain": [
       "   team_budget  team_id  team_position\n",
       "0   12957.0760        1              1\n",
       "1    2403.3704        2              2\n",
       "2    3390.3755        3              3\n",
       "3   13547.4290        4              4"
      ]
     },
     "execution_count": 21,
     "metadata": {},
     "output_type": "execute_result"
    }
   ],
   "source": [
    "featurestore.sql(\"SELECT * FROM teams_features_1 WHERE team_position < 5\",\n",
    "                featurestore=featurestore.project_featurestore()).head(5)"
   ]
  },
  {
   "cell_type": "markdown",
   "metadata": {},
   "source": [
    "## Featuregroup Visualization\n",
    "\n",
    "As you will see later on in this tutorial, when writing to the featurestore there is an option to also compute statistics of the features. The computed statistics will be stored as attached metadata of featuregroups and visualized in the feature registry. You can also access the statistics from the python API and visualize it in Jupyter notebooks in `%%local`"
   ]
  },
  {
   "cell_type": "markdown",
   "metadata": {},
   "source": [
    "### Feature Distributions"
   ]
  },
  {
   "cell_type": "code",
   "execution_count": 22,
   "metadata": {},
   "outputs": [
    {
     "data": {
      "image/png": "[encoded data removed]",
      "text/plain": [
       "<Figure size 1152x1152 with 8 Axes>"
      ]
     },
     "metadata": {},
     "output_type": "display_data"
    }
   ],
   "source": [
    "featurestore.visualize_featuregroup_distributions(\"players_features\")"
   ]
  },
  {
   "cell_type": "markdown",
   "metadata": {},
   "source": [
    "You can also override default parameters and configure the plotting options:"
   ]
  },
  {
   "cell_type": "code",
   "execution_count": 23,
   "metadata": {},
   "outputs": [
    {
     "data": {
      "image/png": "[encoded data removed]",
      "text/plain": [
       "<Figure size 864x648 with 8 Axes>"
      ]
     },
     "metadata": {},
     "output_type": "display_data"
    }
   ],
   "source": [
    "featurestore.visualize_featuregroup_distributions(\"players_features\", \n",
    "                                                  featurestore=featurestore.project_featurestore(), \n",
    "                                                  featuregroup_version=1, \n",
    "                                                  figsize=(12, 9),\n",
    "                                                  color='lightblue', \n",
    "                                                  log=False, \n",
    "                                                  align=\"center\", \n",
    "                                                  plot=True)"
   ]
  },
  {
   "cell_type": "markdown",
   "metadata": {},
   "source": [
    "### Feature Correlations"
   ]
  },
  {
   "cell_type": "code",
   "execution_count": 24,
   "metadata": {},
   "outputs": [
    {
     "data": {
      "image/png": "[encoded data removed]",
      "text/plain": [
       "<Figure size 1152x864 with 2 Axes>"
      ]
     },
     "metadata": {},
     "output_type": "display_data"
    }
   ],
   "source": [
    "featurestore.visualize_featuregroup_correlations(\"players_features\")"
   ]
  },
  {
   "cell_type": "markdown",
   "metadata": {},
   "source": [
    "You can also override default parameters and configure the plotting options:"
   ]
  },
  {
   "cell_type": "code",
   "execution_count": 25,
   "metadata": {},
   "outputs": [
    {
     "data": {
      "image/png": "[encoded data removed]",
      "text/plain": [
       "<Figure size 576x432 with 2 Axes>"
      ]
     },
     "metadata": {},
     "output_type": "display_data"
    }
   ],
   "source": [
    "featurestore.visualize_featuregroup_correlations(\"players_features\", \n",
    "                                                 featurestore=None, \n",
    "                                                 featuregroup_version=1, \n",
    "                                                 figsize=(8,6),\n",
    "                                                 cmap=\"coolwarm\", \n",
    "                                                 annot=True, \n",
    "                                                 fmt=\".2f\", \n",
    "                                                 linewidths=.05, \n",
    "                                                 plot=True)"
   ]
  },
  {
   "cell_type": "markdown",
   "metadata": {},
   "source": [
    "### Feature Clusters"
   ]
  },
  {
   "cell_type": "code",
   "execution_count": 26,
   "metadata": {},
   "outputs": [
    {
     "data": {
      "image/png": "[encoded data removed]",
      "text/plain": [
       "<Figure size 1152x864 with 1 Axes>"
      ]
     },
     "metadata": {},
     "output_type": "display_data"
    }
   ],
   "source": [
    "featurestore.visualize_featuregroup_clusters(\"players_features\")"
   ]
  },
  {
   "cell_type": "markdown",
   "metadata": {},
   "source": [
    "You can also override default parameters and configure the plotting options:"
   ]
  },
  {
   "cell_type": "code",
   "execution_count": 27,
   "metadata": {},
   "outputs": [
    {
     "data": {
      "image/png": "[encoded data removed]",
      "text/plain": [
       "<Figure size 576x432 with 1 Axes>"
      ]
     },
     "metadata": {},
     "output_type": "display_data"
    }
   ],
   "source": [
    "featurestore.visualize_featuregroup_clusters(\"players_features\", \n",
    "                                featurestore=None, \n",
    "                                featuregroup_version=1, \n",
    "                                figsize=(8,6),\n",
    "                                plot=True)"
   ]
  },
  {
   "cell_type": "markdown",
   "metadata": {},
   "source": [
    "### Descriptive Stats"
   ]
  },
  {
   "cell_type": "code",
   "execution_count": 28,
   "metadata": {},
   "outputs": [
    {
     "data": {
      "text/html": [
       "<div>\n",
       "<style scoped>\n",
       "    .dataframe tbody tr th:only-of-type {\n",
       "        vertical-align: middle;\n",
       "    }\n",
       "\n",
       "    .dataframe tbody tr th {\n",
       "        vertical-align: top;\n",
       "    }\n",
       "\n",
       "    .dataframe thead th {\n",
       "        text-align: right;\n",
       "    }\n",
       "</style>\n",
       "<table border=\"1\" class=\"dataframe\">\n",
       "  <thead>\n",
       "    <tr style=\"text-align: right;\">\n",
       "      <th></th>\n",
       "      <th>metric</th>\n",
       "      <th>sum_player_rating</th>\n",
       "      <th>sum_player_worth</th>\n",
       "      <th>average_player_age</th>\n",
       "      <th>team_id</th>\n",
       "      <th>average_player_worth</th>\n",
       "      <th>sum_player_age</th>\n",
       "      <th>average_player_rating</th>\n",
       "    </tr>\n",
       "  </thead>\n",
       "  <tbody>\n",
       "    <tr>\n",
       "      <th>0</th>\n",
       "      <td>count</td>\n",
       "      <td>50.000</td>\n",
       "      <td>50.000</td>\n",
       "      <td>50.000000</td>\n",
       "      <td>50.00000</td>\n",
       "      <td>50.00000</td>\n",
       "      <td>50.00000</td>\n",
       "      <td>50.00000</td>\n",
       "    </tr>\n",
       "    <tr>\n",
       "      <th>1</th>\n",
       "      <td>max</td>\n",
       "      <td>719186.300</td>\n",
       "      <td>792043.250</td>\n",
       "      <td>27.000000</td>\n",
       "      <td>50.00000</td>\n",
       "      <td>7920.43260</td>\n",
       "      <td>2700.00000</td>\n",
       "      <td>7191.86330</td>\n",
       "    </tr>\n",
       "    <tr>\n",
       "      <th>2</th>\n",
       "      <td>stddev</td>\n",
       "      <td>118708.750</td>\n",
       "      <td>128564.730</td>\n",
       "      <td>0.522913</td>\n",
       "      <td>14.57738</td>\n",
       "      <td>1285.64720</td>\n",
       "      <td>52.29132</td>\n",
       "      <td>1187.08750</td>\n",
       "    </tr>\n",
       "    <tr>\n",
       "      <th>3</th>\n",
       "      <td>mean</td>\n",
       "      <td>71738.375</td>\n",
       "      <td>73451.310</td>\n",
       "      <td>25.568400</td>\n",
       "      <td>25.50000</td>\n",
       "      <td>734.51310</td>\n",
       "      <td>2556.84000</td>\n",
       "      <td>717.38370</td>\n",
       "    </tr>\n",
       "    <tr>\n",
       "      <th>4</th>\n",
       "      <td>min</td>\n",
       "      <td>15096.327</td>\n",
       "      <td>14229.664</td>\n",
       "      <td>24.340000</td>\n",
       "      <td>1.00000</td>\n",
       "      <td>142.29665</td>\n",
       "      <td>2434.00000</td>\n",
       "      <td>150.96327</td>\n",
       "    </tr>\n",
       "  </tbody>\n",
       "</table>\n",
       "</div>"
      ],
      "text/plain": [
       "   metric  sum_player_rating  sum_player_worth  average_player_age   team_id  \\\n",
       "0   count             50.000            50.000           50.000000  50.00000   \n",
       "1     max         719186.300        792043.250           27.000000  50.00000   \n",
       "2  stddev         118708.750        128564.730            0.522913  14.57738   \n",
       "3    mean          71738.375         73451.310           25.568400  25.50000   \n",
       "4     min          15096.327         14229.664           24.340000   1.00000   \n",
       "\n",
       "   average_player_worth  sum_player_age  average_player_rating  \n",
       "0              50.00000        50.00000               50.00000  \n",
       "1            7920.43260      2700.00000             7191.86330  \n",
       "2            1285.64720        52.29132             1187.08750  \n",
       "3             734.51310      2556.84000              717.38370  \n",
       "4             142.29665      2434.00000              150.96327  "
      ]
     },
     "execution_count": 28,
     "metadata": {},
     "output_type": "execute_result"
    }
   ],
   "source": [
    "desc_stats_df = featurestore.visualize_featuregroup_descriptive_stats(\"players_features\")\n",
    "desc_stats_df.head()"
   ]
  },
  {
   "cell_type": "markdown",
   "metadata": {},
   "source": [
    "## Training Datasets\n",
    "\n",
    "To group data in the feature store we use three concepts:\n",
    "\n",
    "- Feature\n",
    "- Feature group\n",
    "- Training Dataset\n",
    "\n",
    "Typically during the feature engineering phase of a machine learning project, you compute a set of features for each type of data that you have, these features are naturally grouped into a documented and versioned **feature group**. \n",
    "\n",
    "In practice, it is common that organizations have many different type of datasets that they can extract features from, for example if you are building a recommendation system you might have demographic data about each user as well as user-activity data. \n",
    "\n",
    "When you train a machine learning model, you want to use all features that have predictive power and that the model can learn from. At this point, we can create a training dataset of features from several different feature groups and use that for training. That is the purpose of the training dataset abstraction. \n",
    "\n",
    "Of course you can always just save a group of features anywhere inside your project, e.g as a csv, or .tfrecords file. However, by using the feature store you can create **managed** training datasets. Managed training datasets will show up in the feature registry UI and will automatically be versioned, documented and reproducible. "
   ]
  },
  {
   "cell_type": "markdown",
   "metadata": {},
   "source": [
    "Once a training dataset have been created you can find it in the featurestore UI in hopsworks under the tab `Training datasets`, from there you can also edit the metadata if necessary. "
   ]
  },
  {
   "cell_type": "markdown",
   "metadata": {},
   "source": [
    "### Get Training Dataset Path\n",
    "\n",
    "After a **managed dataset** have been created, it is easy to share it and re-use it for training various models. For example if the dataset have been materialized in tf-records format you can call the method `get_training_dataset_path(training_dataset)` to get the HDFS path and read it directly in your tensorflow code."
   ]
  },
  {
   "cell_type": "code",
   "execution_count": 29,
   "metadata": {},
   "outputs": [
    {
     "data": {
      "text/plain": [
       "'/Projects/demo_featurestore_admin000/demo_featurestore_admin000_Training_Datasets/tour_training_dataset_test_1/tour_training_dataset_test'"
      ]
     },
     "execution_count": 29,
     "metadata": {},
     "output_type": "execute_result"
    }
   ],
   "source": [
    "featurestore.get_training_dataset_path(\"tour_training_dataset_test\")"
   ]
  },
  {
   "cell_type": "markdown",
   "metadata": {},
   "source": [
    "By default the library will look for the training dataset in the project's featurestore and use version 1, but this can be overriden if required:"
   ]
  },
  {
   "cell_type": "code",
   "execution_count": 30,
   "metadata": {},
   "outputs": [
    {
     "data": {
      "text/plain": [
       "'/Projects/demo_featurestore_admin000/demo_featurestore_admin000_Training_Datasets/tour_training_dataset_test_1/tour_training_dataset_test'"
      ]
     },
     "execution_count": 30,
     "metadata": {},
     "output_type": "execute_result"
    }
   ],
   "source": [
    "featurestore.get_training_dataset_path(\n",
    "    \"tour_training_dataset_test\", \n",
    "    featurestore=featurestore.project_featurestore(),\n",
    "    training_dataset_version=featurestore.get_latest_training_dataset_version(\"tour_training_dataset_test\")\n",
    ")"
   ]
  },
  {
   "cell_type": "markdown",
   "metadata": {},
   "source": [
    "### Training Dataset Visualization\n",
    "\n",
    "Just as for featuregroups, the training dataset statistics can be visualized in the Jupyter notebook in `%%local`."
   ]
  },
  {
   "cell_type": "markdown",
   "metadata": {},
   "source": [
    "#### Feature Distributions"
   ]
  },
  {
   "cell_type": "code",
   "execution_count": 31,
   "metadata": {},
   "outputs": [
    {
     "data": {
      "image/png": "[encoded data removed]",
      "text/plain": [
       "<Figure size 1152x864 with 4 Axes>"
      ]
     },
     "metadata": {},
     "output_type": "display_data"
    }
   ],
   "source": [
    "featurestore.visualize_training_dataset_distributions(\"tour_training_dataset_test\")"
   ]
  },
  {
   "cell_type": "markdown",
   "metadata": {},
   "source": [
    "You can also override default parameters and set plotting configuration:"
   ]
  },
  {
   "cell_type": "code",
   "execution_count": 32,
   "metadata": {},
   "outputs": [
    {
     "data": {
      "image/png": "[encoded data removed]",
      "text/plain": [
       "<Figure size 864x648 with 4 Axes>"
      ]
     },
     "metadata": {},
     "output_type": "display_data"
    }
   ],
   "source": [
    "featurestore.visualize_training_dataset_distributions(\"tour_training_dataset_test\", \n",
    "                                                  featurestore=featurestore.project_featurestore(), \n",
    "                                                  training_dataset_version=1, \n",
    "                                                  figsize=(12, 9),\n",
    "                                                  color='lightblue', \n",
    "                                                  log=False, \n",
    "                                                  align=\"center\", \n",
    "                                                  plot=True)"
   ]
  },
  {
   "cell_type": "markdown",
   "metadata": {},
   "source": [
    "#### Feature Correlations"
   ]
  },
  {
   "cell_type": "code",
   "execution_count": 33,
   "metadata": {},
   "outputs": [
    {
     "data": {
      "image/png": "[encoded data removed]",
      "text/plain": [
       "<Figure size 1152x864 with 2 Axes>"
      ]
     },
     "metadata": {},
     "output_type": "display_data"
    }
   ],
   "source": [
    "featurestore.visualize_training_dataset_correlations(\"tour_training_dataset_test\")"
   ]
  },
  {
   "cell_type": "markdown",
   "metadata": {},
   "source": [
    "You can also override default parameters and set plotting configuration:"
   ]
  },
  {
   "cell_type": "code",
   "execution_count": 34,
   "metadata": {},
   "outputs": [
    {
     "data": {
      "image/png": "[encoded data removed]",
      "text/plain": [
       "<Figure size 576x432 with 2 Axes>"
      ]
     },
     "metadata": {},
     "output_type": "display_data"
    }
   ],
   "source": [
    "featurestore.visualize_training_dataset_correlations(\"tour_training_dataset_test\", \n",
    "                                                 featurestore=None, \n",
    "                                                 training_dataset_version=1, \n",
    "                                                 figsize=(8,6),\n",
    "                                                 cmap=\"coolwarm\", \n",
    "                                                 annot=True, \n",
    "                                                 fmt=\".2f\", \n",
    "                                                 linewidths=.05, \n",
    "                                                 plot=True)"
   ]
  },
  {
   "cell_type": "markdown",
   "metadata": {},
   "source": [
    "#### Feature Clusters"
   ]
  },
  {
   "cell_type": "code",
   "execution_count": 35,
   "metadata": {},
   "outputs": [
    {
     "data": {
      "image/png": "[encoded data removed]",
      "text/plain": [
       "<Figure size 1152x864 with 1 Axes>"
      ]
     },
     "metadata": {},
     "output_type": "display_data"
    }
   ],
   "source": [
    "featurestore.visualize_training_dataset_clusters(\"tour_training_dataset_test\")"
   ]
  },
  {
   "cell_type": "markdown",
   "metadata": {},
   "source": [
    "You can also override default parameters and set plotting configuration:"
   ]
  },
  {
   "cell_type": "code",
   "execution_count": 36,
   "metadata": {},
   "outputs": [
    {
     "data": {
      "image/png": "[encoded data removed]",
      "text/plain": [
       "<Figure size 576x432 with 1 Axes>"
      ]
     },
     "metadata": {},
     "output_type": "display_data"
    }
   ],
   "source": [
    "featurestore.visualize_training_dataset_clusters(\"tour_training_dataset_test\", \n",
    "                                featurestore=None, \n",
    "                                training_dataset_version=1, \n",
    "                                figsize=(8,6),\n",
    "                                plot=True)"
   ]
  },
  {
   "cell_type": "markdown",
   "metadata": {},
   "source": [
    "#### Descriptive Stats"
   ]
  },
  {
   "cell_type": "code",
   "execution_count": 37,
   "metadata": {},
   "outputs": [
    {
     "data": {
      "text/html": [
       "<div>\n",
       "<style scoped>\n",
       "    .dataframe tbody tr th:only-of-type {\n",
       "        vertical-align: middle;\n",
       "    }\n",
       "\n",
       "    .dataframe tbody tr th {\n",
       "        vertical-align: top;\n",
       "    }\n",
       "\n",
       "    .dataframe thead th {\n",
       "        text-align: right;\n",
       "    }\n",
       "</style>\n",
       "<table border=\"1\" class=\"dataframe\">\n",
       "  <thead>\n",
       "    <tr style=\"text-align: right;\">\n",
       "      <th></th>\n",
       "      <th>metric</th>\n",
       "      <th>average_player_age</th>\n",
       "      <th>average_attendance</th>\n",
       "      <th>team_budget</th>\n",
       "    </tr>\n",
       "  </thead>\n",
       "  <tbody>\n",
       "    <tr>\n",
       "      <th>0</th>\n",
       "      <td>count</td>\n",
       "      <td>50.000000</td>\n",
       "      <td>50.0000</td>\n",
       "      <td>50.0000</td>\n",
       "    </tr>\n",
       "    <tr>\n",
       "      <th>1</th>\n",
       "      <td>max</td>\n",
       "      <td>27.000000</td>\n",
       "      <td>92301.0860</td>\n",
       "      <td>21319.5330</td>\n",
       "    </tr>\n",
       "    <tr>\n",
       "      <th>2</th>\n",
       "      <td>stddev</td>\n",
       "      <td>0.522913</td>\n",
       "      <td>14232.3090</td>\n",
       "      <td>5238.9430</td>\n",
       "    </tr>\n",
       "    <tr>\n",
       "      <th>3</th>\n",
       "      <td>mean</td>\n",
       "      <td>25.568400</td>\n",
       "      <td>8669.3940</td>\n",
       "      <td>8723.2920</td>\n",
       "    </tr>\n",
       "    <tr>\n",
       "      <th>4</th>\n",
       "      <td>min</td>\n",
       "      <td>24.340000</td>\n",
       "      <td>1038.5237</td>\n",
       "      <td>760.8729</td>\n",
       "    </tr>\n",
       "  </tbody>\n",
       "</table>\n",
       "</div>"
      ],
      "text/plain": [
       "   metric  average_player_age  average_attendance  team_budget\n",
       "0   count           50.000000             50.0000      50.0000\n",
       "1     max           27.000000          92301.0860   21319.5330\n",
       "2  stddev            0.522913          14232.3090    5238.9430\n",
       "3    mean           25.568400           8669.3940    8723.2920\n",
       "4     min           24.340000           1038.5237     760.8729"
      ]
     },
     "execution_count": 37,
     "metadata": {},
     "output_type": "execute_result"
    }
   ],
   "source": [
    "desc_stats_df = featurestore.visualize_training_dataset_descriptive_stats(\"tour_training_dataset_test\")\n",
    "desc_stats_df.head()"
   ]
  },
  {
   "cell_type": "markdown",
   "metadata": {},
   "source": [
    "Since descriptive stats is just a pandas table and not a matplotlib figure it does not need a DISPLAY to work, so you can run it from the spark driver or executor as well:"
   ]
  },
  {
   "cell_type": "code",
   "execution_count": 38,
   "metadata": {},
   "outputs": [
    {
     "data": {
      "text/html": [
       "<div>\n",
       "<style scoped>\n",
       "    .dataframe tbody tr th:only-of-type {\n",
       "        vertical-align: middle;\n",
       "    }\n",
       "\n",
       "    .dataframe tbody tr th {\n",
       "        vertical-align: top;\n",
       "    }\n",
       "\n",
       "    .dataframe thead th {\n",
       "        text-align: right;\n",
       "    }\n",
       "</style>\n",
       "<table border=\"1\" class=\"dataframe\">\n",
       "  <thead>\n",
       "    <tr style=\"text-align: right;\">\n",
       "      <th></th>\n",
       "      <th>metric</th>\n",
       "      <th>average_player_age</th>\n",
       "      <th>average_attendance</th>\n",
       "      <th>team_budget</th>\n",
       "    </tr>\n",
       "  </thead>\n",
       "  <tbody>\n",
       "    <tr>\n",
       "      <th>0</th>\n",
       "      <td>count</td>\n",
       "      <td>50.000000</td>\n",
       "      <td>50.0000</td>\n",
       "      <td>50.0000</td>\n",
       "    </tr>\n",
       "    <tr>\n",
       "      <th>1</th>\n",
       "      <td>max</td>\n",
       "      <td>27.000000</td>\n",
       "      <td>92301.0860</td>\n",
       "      <td>21319.5330</td>\n",
       "    </tr>\n",
       "    <tr>\n",
       "      <th>2</th>\n",
       "      <td>stddev</td>\n",
       "      <td>0.522913</td>\n",
       "      <td>14232.3090</td>\n",
       "      <td>5238.9430</td>\n",
       "    </tr>\n",
       "    <tr>\n",
       "      <th>3</th>\n",
       "      <td>mean</td>\n",
       "      <td>25.568400</td>\n",
       "      <td>8669.3940</td>\n",
       "      <td>8723.2920</td>\n",
       "    </tr>\n",
       "    <tr>\n",
       "      <th>4</th>\n",
       "      <td>min</td>\n",
       "      <td>24.340000</td>\n",
       "      <td>1038.5237</td>\n",
       "      <td>760.8729</td>\n",
       "    </tr>\n",
       "  </tbody>\n",
       "</table>\n",
       "</div>"
      ],
      "text/plain": [
       "   metric  average_player_age  average_attendance  team_budget\n",
       "0   count           50.000000             50.0000      50.0000\n",
       "1     max           27.000000          92301.0860   21319.5330\n",
       "2  stddev            0.522913          14232.3090    5238.9430\n",
       "3    mean           25.568400           8669.3940    8723.2920\n",
       "4     min           24.340000           1038.5237     760.8729"
      ]
     },
     "execution_count": 38,
     "metadata": {},
     "output_type": "execute_result"
    }
   ],
   "source": [
    "desc_stats_df = featurestore.visualize_training_dataset_descriptive_stats(\"tour_training_dataset_test\")\n",
    "desc_stats_df.head()"
   ]
  },
  {
   "cell_type": "markdown",
   "metadata": {},
   "source": [
    "## Get Featurestore Metadata\n",
    "To explore the contents of the featurestore we recommend using the featurestore page in the Hopsworks UI but you can also get the metadata programmatically from the REST API"
   ]
  },
  {
   "cell_type": "markdown",
   "metadata": {},
   "source": [
    "### Update Metadata Cache"
   ]
  },
  {
   "cell_type": "code",
   "execution_count": 39,
   "metadata": {},
   "outputs": [
    {
     "data": {
      "text/plain": [
       "<hops.featurestore_impl.dao.common.featurestore_metadata.FeaturestoreMetadata at 0x7f6e0453bcc0>"
      ]
     },
     "execution_count": 39,
     "metadata": {},
     "output_type": "execute_result"
    }
   ],
   "source": [
    "featurestore.get_featurestore_metadata(update_cache=True)"
   ]
  },
  {
   "cell_type": "markdown",
   "metadata": {},
   "source": [
    "### List all Feature Stores Accessible In the Project"
   ]
  },
  {
   "cell_type": "code",
   "execution_count": 40,
   "metadata": {},
   "outputs": [
    {
     "data": {
      "text/plain": [
       "['demo_featurestore_admin000_featurestore']"
      ]
     },
     "execution_count": 40,
     "metadata": {},
     "output_type": "execute_result"
    }
   ],
   "source": [
    "featurestore.get_project_featurestores()"
   ]
  },
  {
   "cell_type": "markdown",
   "metadata": {},
   "source": [
    "### List all Feature Groups in a Feature Store"
   ]
  },
  {
   "cell_type": "code",
   "execution_count": 41,
   "metadata": {},
   "outputs": [
    {
     "data": {
      "text/plain": [
       "['games_features_1',\n",
       " 'games_features_on_demand_tour_1',\n",
       " 'games_features_hudi_tour_1',\n",
       " 'season_scores_features_1',\n",
       " 'attendances_features_1',\n",
       " 'players_features_1',\n",
       " 'teams_features_1',\n",
       " 'imported_feature_name_1',\n",
       " 'imported_feature_name_online_1']"
      ]
     },
     "execution_count": 41,
     "metadata": {},
     "output_type": "execute_result"
    }
   ],
   "source": [
    "featurestore.get_featuregroups()"
   ]
  },
  {
   "cell_type": "markdown",
   "metadata": {},
   "source": [
    "By default `get_featuregroups()` will use the project's feature store, but this can also be specified with the optional argument featurestore"
   ]
  },
  {
   "cell_type": "code",
   "execution_count": 42,
   "metadata": {},
   "outputs": [
    {
     "data": {
      "text/plain": [
       "['games_features_1',\n",
       " 'games_features_on_demand_tour_1',\n",
       " 'games_features_hudi_tour_1',\n",
       " 'season_scores_features_1',\n",
       " 'attendances_features_1',\n",
       " 'players_features_1',\n",
       " 'teams_features_1',\n",
       " 'imported_feature_name_1',\n",
       " 'imported_feature_name_online_1']"
      ]
     },
     "execution_count": 42,
     "metadata": {},
     "output_type": "execute_result"
    }
   ],
   "source": [
    "featurestore.get_featuregroups(featurestore=featurestore.project_featurestore())"
   ]
  },
  {
   "cell_type": "markdown",
   "metadata": {},
   "source": [
    "### List all Features in a Feature Store"
   ]
  },
  {
   "cell_type": "code",
   "execution_count": 43,
   "metadata": {},
   "outputs": [
    {
     "data": {
      "text/plain": [
       "['away_team_id',\n",
       " 'home_team_id',\n",
       " 'score',\n",
       " 'away_team_id',\n",
       " 'home_team_id',\n",
       " '_hoodie_commit_seqno',\n",
       " '_hoodie_commit_time',\n",
       " '_hoodie_file_name',\n",
       " '_hoodie_partition_path',\n",
       " '_hoodie_record_key',\n",
       " 'score',\n",
       " 'average_position',\n",
       " 'sum_position',\n",
       " 'team_id',\n",
       " 'average_attendance',\n",
       " 'sum_attendance',\n",
       " 'team_id',\n",
       " 'average_player_age',\n",
       " 'average_player_rating',\n",
       " 'average_player_worth',\n",
       " 'sum_player_age',\n",
       " 'sum_player_rating',\n",
       " 'sum_player_worth',\n",
       " 'team_id',\n",
       " 'team_budget',\n",
       " 'team_id',\n",
       " 'team_position',\n",
       " 'away_team_id',\n",
       " 'home_team_id',\n",
       " 'score',\n",
       " 'away_team_id',\n",
       " 'home_team_id',\n",
       " 'score']"
      ]
     },
     "execution_count": 43,
     "metadata": {},
     "output_type": "execute_result"
    }
   ],
   "source": [
    "featurestore.get_features_list()"
   ]
  },
  {
   "cell_type": "markdown",
   "metadata": {},
   "source": [
    "By default get_features_list() will use the project's feature store, but this can also be specified with the optional argument featurestore"
   ]
  },
  {
   "cell_type": "code",
   "execution_count": 44,
   "metadata": {},
   "outputs": [
    {
     "data": {
      "text/plain": [
       "['away_team_id',\n",
       " 'home_team_id',\n",
       " 'score',\n",
       " 'away_team_id',\n",
       " 'home_team_id',\n",
       " '_hoodie_commit_seqno',\n",
       " '_hoodie_commit_time',\n",
       " '_hoodie_file_name',\n",
       " '_hoodie_partition_path',\n",
       " '_hoodie_record_key',\n",
       " 'score',\n",
       " 'average_position',\n",
       " 'sum_position',\n",
       " 'team_id',\n",
       " 'average_attendance',\n",
       " 'sum_attendance',\n",
       " 'team_id',\n",
       " 'average_player_age',\n",
       " 'average_player_rating',\n",
       " 'average_player_worth',\n",
       " 'sum_player_age',\n",
       " 'sum_player_rating',\n",
       " 'sum_player_worth',\n",
       " 'team_id',\n",
       " 'team_budget',\n",
       " 'team_id',\n",
       " 'team_position',\n",
       " 'away_team_id',\n",
       " 'home_team_id',\n",
       " 'score',\n",
       " 'away_team_id',\n",
       " 'home_team_id',\n",
       " 'score']"
      ]
     },
     "execution_count": 44,
     "metadata": {},
     "output_type": "execute_result"
    }
   ],
   "source": [
    "featurestore.get_features_list(featurestore=featurestore.project_featurestore())"
   ]
  },
  {
   "cell_type": "markdown",
   "metadata": {},
   "source": [
    "### List all Training Datasets in a Feature Store"
   ]
  },
  {
   "cell_type": "code",
   "execution_count": 45,
   "metadata": {},
   "outputs": [
    {
     "data": {
      "text/plain": [
       "['tour_training_dataset_test_1',\n",
       " 'games_features_all_1',\n",
       " 'team_position_prediction_1',\n",
       " 'games_features_all_2',\n",
       " 'team_position_prediction_2',\n",
       " 'games_features_all_3',\n",
       " 'team_position_prediction_3',\n",
       " 'games_features_all_4']"
      ]
     },
     "execution_count": 45,
     "metadata": {},
     "output_type": "execute_result"
    }
   ],
   "source": [
    "featurestore.get_training_datasets()"
   ]
  },
  {
   "cell_type": "markdown",
   "metadata": {},
   "source": [
    "By default `get_training_datasets()` will use the project's feature store, but this can also be specified with the optional argument featurestore"
   ]
  },
  {
   "cell_type": "code",
   "execution_count": 46,
   "metadata": {},
   "outputs": [
    {
     "data": {
      "text/plain": [
       "['tour_training_dataset_test_1',\n",
       " 'games_features_all_1',\n",
       " 'team_position_prediction_1',\n",
       " 'games_features_all_2',\n",
       " 'team_position_prediction_2',\n",
       " 'games_features_all_3',\n",
       " 'team_position_prediction_3',\n",
       " 'games_features_all_4',\n",
       " 'team_position_prediction_4']"
      ]
     },
     "execution_count": 46,
     "metadata": {},
     "output_type": "execute_result"
    }
   ],
   "source": [
    "featurestore.get_training_datasets(featurestore=featurestore.project_featurestore())"
   ]
  },
  {
   "cell_type": "markdown",
   "metadata": {},
   "source": [
    "### List all Storage Connectors in a Feature Store"
   ]
  },
  {
   "cell_type": "code",
   "execution_count": 47,
   "metadata": {},
   "outputs": [
    {
     "data": {
      "text/plain": [
       "[('demo_featurestore_admin000_meb1_onlinefeaturestore', 'JDBC'),\n",
       " ('demo_featurestore_admin000', 'JDBC'),\n",
       " ('demo_featurestore_admin000_featurestore', 'JDBC'),\n",
       " ('s3_connector', 'S3'),\n",
       " ('demo_featurestore_admin000_Training_Datasets', 'HOPSFS')]"
      ]
     },
     "execution_count": 47,
     "metadata": {},
     "output_type": "execute_result"
    }
   ],
   "source": [
    "featurestore.get_storage_connectors()"
   ]
  },
  {
   "cell_type": "markdown",
   "metadata": {},
   "source": [
    "By default `get_storage_connectors()` will use the project's feature store, but this can also be specified with the optional argument featurestore"
   ]
  },
  {
   "cell_type": "code",
   "execution_count": 48,
   "metadata": {},
   "outputs": [
    {
     "data": {
      "text/plain": [
       "[('demo_featurestore_admin000_meb1_onlinefeaturestore', 'JDBC'),\n",
       " ('demo_featurestore_admin000', 'JDBC'),\n",
       " ('demo_featurestore_admin000_featurestore', 'JDBC'),\n",
       " ('s3_connector', 'S3'),\n",
       " ('demo_featurestore_admin000_Training_Datasets', 'HOPSFS')]"
      ]
     },
     "execution_count": 48,
     "metadata": {},
     "output_type": "execute_result"
    }
   ],
   "source": [
    "featurestore.get_storage_connectors(featurestore=featurestore.project_featurestore())"
   ]
  },
  {
   "cell_type": "markdown",
   "metadata": {},
   "source": [
    "### Get All Metadata (Features, Feature groups, Training Datasets) for a Feature Store"
   ]
  },
  {
   "cell_type": "code",
   "execution_count": 49,
   "metadata": {},
   "outputs": [
    {
     "data": {
      "text/plain": [
       "<hops.featurestore_impl.dao.common.featurestore_metadata.FeaturestoreMetadata at 0x7f6e03c3ea58>"
      ]
     },
     "execution_count": 49,
     "metadata": {},
     "output_type": "execute_result"
    }
   ],
   "source": [
    "featurestore.get_featurestore_metadata()"
   ]
  },
  {
   "cell_type": "markdown",
   "metadata": {},
   "source": [
    "By default `get_featurestore_metadata` will use the project's feature store, but this can also be specified with the optional argument featurestore"
   ]
  },
  {
   "cell_type": "code",
   "execution_count": 50,
   "metadata": {},
   "outputs": [
    {
     "data": {
      "text/plain": [
       "<hops.featurestore_impl.dao.common.featurestore_metadata.FeaturestoreMetadata at 0x7f6e03c3ea58>"
      ]
     },
     "execution_count": 50,
     "metadata": {},
     "output_type": "execute_result"
    }
   ],
   "source": [
    "featurestore.get_featurestore_metadata(featurestore=featurestore.project_featurestore())"
   ]
  },
  {
   "cell_type": "markdown",
   "metadata": {},
   "source": [
    "## Import Feature group from S3"
   ]
  },
  {
   "cell_type": "markdown",
   "metadata": {},
   "source": [
    "If you already have feature engineered data on S3 you can import it in the Hopsworks Featurestore using the following method.\n",
    "\n",
    "Before running it, you should make sure that the `storage_connector` has been created in Hopsworks. \n",
    "Furthermore, you can define the primary key of the feature group, which can be a composite key of multiple columns. Please make sure the primary key is unique. The dataset we are importing as a feature group has a composite primary key `home_team_id` and `away_team_id`. Specifying only one of the two will lead to a non-unique key and lets the import job fail.\n",
    "\n",
    "After invoking the method, you can check the status of the import job from the Jobs UI in your Hopsworks project."
   ]
  },
  {
   "cell_type": "code",
   "execution_count": 51,
   "metadata": {},
   "outputs": [],
   "source": [
    "featurestore.import_featuregroup_s3(storage_connector='s3_connector',\n",
    "                                    featuregroup='imported_feature_name',\n",
    "                                    path='games_features_composite_key_1',\n",
    "                                    description='Feature group imported from S3',\n",
    "                                    primary_key=['home_team_id', 'away_team_id'],\n",
    "                                    data_format='orc')"
   ]
  },
  {
   "cell_type": "markdown",
   "metadata": {},
   "source": [
    "By default the method will import the data in the offline featurestore. By setting the option `online=True` you can import your features in the online featurestore."
   ]
  },
  {
   "cell_type": "code",
   "execution_count": 52,
   "metadata": {},
   "outputs": [],
   "source": [
    "featurestore.import_featuregroup_s3(storage_connector='s3_connector',\n",
    "                                    featuregroup='imported_feature_name_online',\n",
    "                                    path='games_features_composite_key_1',\n",
    "                                    description='Feature group imported from S3',\n",
    "                                    primary_key=['home_team_id', 'away_team_id'],\n",
    "                                    data_format='orc',\n",
    "                                    online=True,\n",
    "                                    offline=False)"
   ]
  },
  {
   "cell_type": "code",
   "execution_count": null,
   "metadata": {},
   "outputs": [],
   "source": []
  }
 ],
 "metadata": {
  "kernelspec": {
   "display_name": "conda_tensorflow_p36",
   "language": "python",
   "name": "conda_tensorflow_p36"
  },
  "language_info": {
   "codemirror_mode": {
    "name": "ipython",
    "version": 3
   },
   "file_extension": ".py",
   "mimetype": "text/x-python",
   "name": "python",
   "nbconvert_exporter": "python",
   "pygments_lexer": "ipython3",
   "version": "3.6.5"
  }
 },
 "nbformat": 4,
 "nbformat_minor": 4
}
