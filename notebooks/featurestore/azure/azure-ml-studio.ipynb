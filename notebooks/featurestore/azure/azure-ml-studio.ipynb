{
  "cells": [
    {
      "cell_type": "markdown",
      "source": [
        "# Azure ML Studio and the Hopsworks Feature Store\n",
        "\n",
        "The Hopsworks Feature Store is an open platform that connects to the largest number of data stores, and data science platforms with the most comprehensive API support - Python, Spark (Python, Java/Scala). \n",
        "It supports Azure ML Studio Notebooks or Designer for feature engineering and as your data science platform. You can design and ingest features and you can browse existing features,  along with creating training datasets as either DataFrames or as files on Azure Blob storage.\n",
        "\n",
        "## Prerequisites\n",
        "In order to follow this tutorial, you need:\n",
        "\n",
        "- Hopsworks Feature Store running on https://hopsworks.ai. You can register for free with no credit-card and receive $4000 USD of credits to get started. You can deploy a feature store in either your own Azure account or even in an AWS account.\n",
        "- Users should also have an existing ML Studio environment with an attached compute cluster. You can upload this notebook and attach your compute to it.\n",
        "- If you want to follow this tutorial with the same data, make sure to upload [these files](https://repo.hops.works/master/featurestore/2.2.0-SNAPSHOT/notebooks/hsfs/archive/sales%20data-set.csv) to your ML Studio environment.\n",
        "- A project created within Hopsworks. If you don’t have one yet, you can simply follow  the Feature Store tour that creates a sample project for you.\n"
      ],
      "metadata": {
        "nteract": {
          "transient": {
            "deleting": false
          }
        }
      }
    },
    {
      "cell_type": "markdown",
      "source": [
        "### Step 1: Configure a Hopsworks API Key\n",
        "\n",
        "Connecting to the Feature Store from [Azure ML requires setting up a Feature Store API key](https://docs.hopsworks.ai/latest/integrations/mlstudio_notebooks/#generate-an-api-key) for authentication. \n",
        "\n",
        "In Hopsworks, click on your username in the top-right corner (1) and select *Settings* to open the user settings. Select *API keys*. (2) Give the key a name and select the **job**, **featurestore**, **dataset.create** and **project** scopes before (3) creating the key.\n",
        "Copy the key into your clipboard for the next step.\n",
        "\n",
        "### Step 2: Connect from an Azure Machine Learning Notebook\n",
        "\n",
        "To access the Feature Store from Azure Machine Learning, proceed with the following steps to install the Hopsworks Feature Store client called HSFS:\n"
      ],
      "metadata": {
        "nteract": {
          "transient": {
            "deleting": false
          }
        }
      }
    },
    {
      "cell_type": "code",
      "source": [
        "!pip install hsfs[hive]==2.1.4"
      ],
      "outputs": [],
      "execution_count": null,
      "metadata": {}
    },
    {
      "cell_type": "markdown",
      "source": [
        "Note that we are installing the latest version at the time of writing this (2.1.4) - you should always install the latest minor version that corresponds to the version of your Hopsworks Feature Store. So in this case our Hopsworks instance is running version 2.1.\n",
        "Furthermore, for Python clients (such as Azure ML), it is important to install HSFS with the `[hive]` optional extra. Spark clients do not need this.\n",
        "\n",
        "After successfully installing HSFS, you should be able to connect to the Feature Store from your Azure ML  notebook (note: you might need to restart the kernel, if you had HSFS previously installed):"
      ],
      "metadata": {
        "nteract": {
          "transient": {
            "deleting": false
          }
        }
      }
    },
    {
      "cell_type": "code",
      "source": [
        "import hsfs\n",
        "\n",
        "connection = hsfs.connection(host=\"[UUID].cloud.hopsworks.ai\",\n",
        "    project=\"[project-name]\",\n",
        "    engine=\"hive\",\n",
        "    api_key_value=\"[project-name]\")\n",
        "\n",
        "fs = connection.get_feature_store()"
      ],
      "outputs": [],
      "execution_count": null,
      "metadata": {
        "collapsed": true,
        "jupyter": {
          "source_hidden": false,
          "outputs_hidden": false
        },
        "nteract": {
          "transient": {
            "deleting": false
          }
        },
        "gather": {
          "logged": 1614082789104
        }
      }
    },
    {
      "cell_type": "markdown",
      "source": [
        "Make sure to replace the `[UUID]` with the one of the DNS of your Hopsworks instance, the `[project-name]` with the Hopsworks project that contains your feature store. And the `[api-key]` with the key created in Step 1. Please note that it’s not good practice to store the Api Key in your notebook- instead you should store the key safely in a permissions protected file and use the “api_key_file” argument to pass the filename to the connection method.\n",
        "Once you are connected you can get a handle to the feature store with `connection.get_feature_store()`. If the project you have connected to also contains a shared feature store (it is possible to have a feature store from another project shared with the project you are using), you can also get a handle on the shared feature store using the connection object.\n",
        "\n",
        "### Step 3: Ingest data from a Pandas dataframe to the Feature Store\n",
        "\n",
        "You can simply upload some data in your favourite file format to the Azure ML workspace or you configure a Hopsworks Storage Connector to cloud storage or a database. The Storage Connector safely stores endpoints and credentials to external stores or databases, making it easier for Data Scientists to retrieve data from them.  \n",
        "\n",
        "If you opted to upload the data as CSV files, as shown below, simply read it into a pandas dataframe:"
      ],
      "metadata": {
        "nteract": {
          "transient": {
            "deleting": false
          }
        }
      }
    },
    {
      "cell_type": "code",
      "source": [
        "import pandas as pd\n",
        "\n",
        "sales_csv = pd.read_csv(\"sales data-set.csv\")"
      ],
      "outputs": [],
      "execution_count": 2,
      "metadata": {
        "collapsed": true,
        "jupyter": {
          "source_hidden": false,
          "outputs_hidden": false
        },
        "nteract": {
          "transient": {
            "deleting": false
          }
        },
        "gather": {
          "logged": 1614082795986
        }
      }
    },
    {
      "cell_type": "code",
      "source": [
        "sales_csv"
      ],
      "outputs": [
        {
          "output_type": "execute_result",
          "execution_count": 3,
          "data": {
            "text/plain": "        store  dept        date  weekly_sales  is_holiday\n0           1     1  05/02/2010      24924.50       False\n1           1     1  12/02/2010      46039.49        True\n2           1     1  19/02/2010      41595.55       False\n3           1     1  26/02/2010      19403.54       False\n4           1     1  05/03/2010      21827.90       False\n...       ...   ...         ...           ...         ...\n421565     45    98  28/09/2012        508.37       False\n421566     45    98  05/10/2012        628.10       False\n421567     45    98  12/10/2012       1061.02       False\n421568     45    98  19/10/2012        760.01       False\n421569     45    98  26/10/2012       1076.80       False\n\n[421570 rows x 5 columns]",
            "text/html": "<div>\n<style scoped>\n    .dataframe tbody tr th:only-of-type {\n        vertical-align: middle;\n    }\n\n    .dataframe tbody tr th {\n        vertical-align: top;\n    }\n\n    .dataframe thead th {\n        text-align: right;\n    }\n</style>\n<table border=\"1\" class=\"dataframe\">\n  <thead>\n    <tr style=\"text-align: right;\">\n      <th></th>\n      <th>store</th>\n      <th>dept</th>\n      <th>date</th>\n      <th>weekly_sales</th>\n      <th>is_holiday</th>\n    </tr>\n  </thead>\n  <tbody>\n    <tr>\n      <th>0</th>\n      <td>1</td>\n      <td>1</td>\n      <td>05/02/2010</td>\n      <td>24924.50</td>\n      <td>False</td>\n    </tr>\n    <tr>\n      <th>1</th>\n      <td>1</td>\n      <td>1</td>\n      <td>12/02/2010</td>\n      <td>46039.49</td>\n      <td>True</td>\n    </tr>\n    <tr>\n      <th>2</th>\n      <td>1</td>\n      <td>1</td>\n      <td>19/02/2010</td>\n      <td>41595.55</td>\n      <td>False</td>\n    </tr>\n    <tr>\n      <th>3</th>\n      <td>1</td>\n      <td>1</td>\n      <td>26/02/2010</td>\n      <td>19403.54</td>\n      <td>False</td>\n    </tr>\n    <tr>\n      <th>4</th>\n      <td>1</td>\n      <td>1</td>\n      <td>05/03/2010</td>\n      <td>21827.90</td>\n      <td>False</td>\n    </tr>\n    <tr>\n      <th>...</th>\n      <td>...</td>\n      <td>...</td>\n      <td>...</td>\n      <td>...</td>\n      <td>...</td>\n    </tr>\n    <tr>\n      <th>421565</th>\n      <td>45</td>\n      <td>98</td>\n      <td>28/09/2012</td>\n      <td>508.37</td>\n      <td>False</td>\n    </tr>\n    <tr>\n      <th>421566</th>\n      <td>45</td>\n      <td>98</td>\n      <td>05/10/2012</td>\n      <td>628.10</td>\n      <td>False</td>\n    </tr>\n    <tr>\n      <th>421567</th>\n      <td>45</td>\n      <td>98</td>\n      <td>12/10/2012</td>\n      <td>1061.02</td>\n      <td>False</td>\n    </tr>\n    <tr>\n      <th>421568</th>\n      <td>45</td>\n      <td>98</td>\n      <td>19/10/2012</td>\n      <td>760.01</td>\n      <td>False</td>\n    </tr>\n    <tr>\n      <th>421569</th>\n      <td>45</td>\n      <td>98</td>\n      <td>26/10/2012</td>\n      <td>1076.80</td>\n      <td>False</td>\n    </tr>\n  </tbody>\n</table>\n<p>421570 rows × 5 columns</p>\n</div>"
          },
          "metadata": {}
        }
      ],
      "execution_count": 3,
      "metadata": {
        "collapsed": true,
        "jupyter": {
          "source_hidden": false,
          "outputs_hidden": false
        },
        "nteract": {
          "transient": {
            "deleting": false
          }
        },
        "gather": {
          "logged": 1614082797239
        }
      }
    },
    {
      "cell_type": "markdown",
      "source": [
        "Now, we can perform some feature engineering based on the pandas dataframe. We would like to predict the weekly sales of a department, so let’s create our target feature by selecting the last week available for each department:"
      ],
      "metadata": {
        "nteract": {
          "transient": {
            "deleting": false
          }
        }
      }
    },
    {
      "cell_type": "code",
      "source": [
        "sales_csv[\"date\"] = pd.to_datetime(sales_csv[\"date\"])\n",
        "sales_csv.sort_values([\"store\", \"dept\", \"date\"], inplace=True)\n",
        "target_df = sales_csv.groupby([\"store\", \"dept\"]).last().reset_index()"
      ],
      "outputs": [],
      "execution_count": 23,
      "metadata": {
        "collapsed": true,
        "jupyter": {
          "source_hidden": false,
          "outputs_hidden": false
        },
        "nteract": {
          "transient": {
            "deleting": false
          }
        },
        "gather": {
          "logged": 1614084085201
        }
      }
    },
    {
      "cell_type": "code",
      "source": [
        "target_df"
      ],
      "outputs": [
        {
          "output_type": "execute_result",
          "execution_count": 25,
          "data": {
            "text/plain": "      store  dept       date  weekly_sales  is_holiday\n0         1     1 2012-12-10      22764.01       False\n1         1     2 2012-12-10      42112.67       False\n2         1     3 2012-12-10      10487.17       False\n3         1     4 2012-12-10      35446.18       False\n4         1     5 2012-12-10      20920.03       False\n...     ...   ...        ...           ...         ...\n3326     45    94 2012-12-10       4041.28       False\n3327     45    95 2012-12-10      49334.77       False\n3328     45    96 2012-09-14          2.94       False\n3329     45    97 2012-12-10       6463.32       False\n3330     45    98 2012-12-10       1061.02       False\n\n[3331 rows x 5 columns]",
            "text/html": "<div>\n<style scoped>\n    .dataframe tbody tr th:only-of-type {\n        vertical-align: middle;\n    }\n\n    .dataframe tbody tr th {\n        vertical-align: top;\n    }\n\n    .dataframe thead th {\n        text-align: right;\n    }\n</style>\n<table border=\"1\" class=\"dataframe\">\n  <thead>\n    <tr style=\"text-align: right;\">\n      <th></th>\n      <th>store</th>\n      <th>dept</th>\n      <th>date</th>\n      <th>weekly_sales</th>\n      <th>is_holiday</th>\n    </tr>\n  </thead>\n  <tbody>\n    <tr>\n      <th>0</th>\n      <td>1</td>\n      <td>1</td>\n      <td>2012-12-10</td>\n      <td>22764.01</td>\n      <td>False</td>\n    </tr>\n    <tr>\n      <th>1</th>\n      <td>1</td>\n      <td>2</td>\n      <td>2012-12-10</td>\n      <td>42112.67</td>\n      <td>False</td>\n    </tr>\n    <tr>\n      <th>2</th>\n      <td>1</td>\n      <td>3</td>\n      <td>2012-12-10</td>\n      <td>10487.17</td>\n      <td>False</td>\n    </tr>\n    <tr>\n      <th>3</th>\n      <td>1</td>\n      <td>4</td>\n      <td>2012-12-10</td>\n      <td>35446.18</td>\n      <td>False</td>\n    </tr>\n    <tr>\n      <th>4</th>\n      <td>1</td>\n      <td>5</td>\n      <td>2012-12-10</td>\n      <td>20920.03</td>\n      <td>False</td>\n    </tr>\n    <tr>\n      <th>...</th>\n      <td>...</td>\n      <td>...</td>\n      <td>...</td>\n      <td>...</td>\n      <td>...</td>\n    </tr>\n    <tr>\n      <th>3326</th>\n      <td>45</td>\n      <td>94</td>\n      <td>2012-12-10</td>\n      <td>4041.28</td>\n      <td>False</td>\n    </tr>\n    <tr>\n      <th>3327</th>\n      <td>45</td>\n      <td>95</td>\n      <td>2012-12-10</td>\n      <td>49334.77</td>\n      <td>False</td>\n    </tr>\n    <tr>\n      <th>3328</th>\n      <td>45</td>\n      <td>96</td>\n      <td>2012-09-14</td>\n      <td>2.94</td>\n      <td>False</td>\n    </tr>\n    <tr>\n      <th>3329</th>\n      <td>45</td>\n      <td>97</td>\n      <td>2012-12-10</td>\n      <td>6463.32</td>\n      <td>False</td>\n    </tr>\n    <tr>\n      <th>3330</th>\n      <td>45</td>\n      <td>98</td>\n      <td>2012-12-10</td>\n      <td>1061.02</td>\n      <td>False</td>\n    </tr>\n  </tbody>\n</table>\n<p>3331 rows × 5 columns</p>\n</div>"
          },
          "metadata": {}
        }
      ],
      "execution_count": 25,
      "metadata": {
        "collapsed": true,
        "jupyter": {
          "source_hidden": false,
          "outputs_hidden": false
        },
        "nteract": {
          "transient": {
            "deleting": false
          }
        },
        "gather": {
          "logged": 1614084089261
        }
      }
    },
    {
      "cell_type": "markdown",
      "source": [
        "We can create this as a feature group, also containing the `is_holiday` feature, since, this information will be available at prediction time, there is no risk of data leakage."
      ],
      "metadata": {
        "nteract": {
          "transient": {
            "deleting": false
          }
        }
      }
    },
    {
      "cell_type": "code",
      "source": [
        "fg_target = fs.create_feature_group(\"weekly_sales_target_hudi\",\n",
        "    version=1,\n",
        "    description=\"containing the latest weekly sales of each store/department\",\n",
        "    primary_key=[\"store\", \"dept\"],\n",
        "    time_travel_format=\"HUDI\",\n",
        "    statistics_config={\"enabled\": True, \"correlations\": True, \"histograms\": True})\n",
        "\n",
        "fg_target.save(target_df)"
      ],
      "outputs": [
        {
          "output_type": "stream",
          "name": "stdout",
          "text": [
            "Configuring ingestion job...\n",
            "Uploading Pandas dataframe...\n",
            "Launching ingestion job...\n",
            "Ingestion Job started successfully, you can follow the progress at https://de9c4790-720c-11eb-b04c-d196dc8276c8.cloud.hopsworks.ai/hopsworks/#!/project/119/jobs\n"
          ]
        },
        {
          "output_type": "execute_result",
          "execution_count": 7,
          "data": {
            "text/plain": "<hsfs.feature_group.FeatureGroup at 0x7f16b24425f8>"
          },
          "metadata": {}
        }
      ],
      "execution_count": 7,
      "metadata": {
        "collapsed": true,
        "jupyter": {
          "source_hidden": false,
          "outputs_hidden": false
        },
        "nteract": {
          "transient": {
            "deleting": false
          }
        },
        "gather": {
          "logged": 1614082857172
        }
      }
    },
    {
      "cell_type": "markdown",
      "source": [
        "Let’s now create a few simple features based on the historical sales of each department:"
      ],
      "metadata": {
        "nteract": {
          "transient": {
            "deleting": false
          }
        }
      }
    },
    {
      "cell_type": "code",
      "source": [
        "import numpy as np"
      ],
      "outputs": [],
      "execution_count": 26,
      "metadata": {
        "collapsed": true,
        "jupyter": {
          "source_hidden": false,
          "outputs_hidden": false
        },
        "nteract": {
          "transient": {
            "deleting": false
          }
        },
        "gather": {
          "logged": 1614084100739
        }
      }
    },
    {
      "cell_type": "code",
      "source": [
        "df = pd.merge(sales_csv, target_df[[\"store\", \"dept\", \"date\"]], on=[\"store\", \"dept\"], how=\"left\")\n",
        "hist_df = df[df[\"date_x\"] != df[\"date_y\"]]\n",
        "hist_df[\"holiday_flag\"] = df['is_holiday'].apply(lambda x: 1 if x else 0) \n",
        "hist_df[\"non_holiday_flag\"] = df['is_holiday'].apply(lambda x: 0 if x else 1)\n",
        "hist_df[\"holiday_week_sales\"] = hist_df[\"holiday_flag\"] * hist_df[\"weekly_sales\"]\n",
        "hist_df[\"non_holiday_week_sales\"] = hist_df[\"non_holiday_flag\"] * hist_df[\"weekly_sales\"]\n",
        "total_features = hist_df.groupby([\"store\", \"dept\"]).agg(\n",
        "    {\"weekly_sales\": [sum, np.mean],\n",
        "     \"date_x\": pd.Series.nunique,\n",
        "     \"holiday_week_sales\": sum,\n",
        "     \"non_holiday_week_sales\": sum})\n",
        "total_features.columns = ['_'.join(col).strip() for col in total_features.columns.values]\n",
        "total_features.reset_index(inplace=True)"
      ],
      "outputs": [
        {
          "output_type": "stream",
          "name": "stderr",
          "text": [
            "SettingWithCopyWarning: \n",
            "A value is trying to be set on a copy of a slice from a DataFrame.\n",
            "Try using .loc[row_indexer,col_indexer] = value instead\n",
            "\n",
            "See the caveats in the documentation: http://pandas.pydata.org/pandas-docs/stable/user_guide/indexing.html#returning-a-view-versus-a-copy\n",
            "SettingWithCopyWarning: \n",
            "A value is trying to be set on a copy of a slice from a DataFrame.\n",
            "Try using .loc[row_indexer,col_indexer] = value instead\n",
            "\n",
            "See the caveats in the documentation: http://pandas.pydata.org/pandas-docs/stable/user_guide/indexing.html#returning-a-view-versus-a-copy\n",
            "SettingWithCopyWarning: \n",
            "A value is trying to be set on a copy of a slice from a DataFrame.\n",
            "Try using .loc[row_indexer,col_indexer] = value instead\n",
            "\n",
            "See the caveats in the documentation: http://pandas.pydata.org/pandas-docs/stable/user_guide/indexing.html#returning-a-view-versus-a-copy\n",
            "SettingWithCopyWarning: \n",
            "A value is trying to be set on a copy of a slice from a DataFrame.\n",
            "Try using .loc[row_indexer,col_indexer] = value instead\n",
            "\n",
            "See the caveats in the documentation: http://pandas.pydata.org/pandas-docs/stable/user_guide/indexing.html#returning-a-view-versus-a-copy\n"
          ]
        }
      ],
      "execution_count": 27,
      "metadata": {
        "collapsed": true,
        "jupyter": {
          "source_hidden": false,
          "outputs_hidden": false
        },
        "nteract": {
          "transient": {
            "deleting": false
          }
        },
        "gather": {
          "logged": 1614084103619
        }
      }
    },
    {
      "cell_type": "markdown",
      "source": [
        "And again, we finish by creating a feature group with this dataframe and saving it to the feature store:"
      ],
      "metadata": {
        "nteract": {
          "transient": {
            "deleting": false
          }
        }
      }
    },
    {
      "cell_type": "code",
      "source": [
        "weekly_sales_total = fs.create_feature_group(\"weekly_sales_total_hudi\",\n",
        "    version=1,\n",
        "    description=\"containing the total historical sales and weekly average of each store/department\",\n",
        "    primary_key=[\"store\", \"dept\"],\n",
        "    time_travel_format=\"HUDI\",\n",
        "    statistics_config={\"enabled\": True, \"correlations\": True, \"histograms\": True})\n",
        "\n",
        "weekly_sales_total.save(total_features)"
      ],
      "outputs": [
        {
          "output_type": "stream",
          "name": "stdout",
          "text": [
            "Configuring ingestion job...\n",
            "Uploading Pandas dataframe...\n",
            "Launching ingestion job...\n",
            "Ingestion Job started successfully, you can follow the progress at https://de9c4790-720c-11eb-b04c-d196dc8276c8.cloud.hopsworks.ai/hopsworks/#!/project/119/jobs\n"
          ]
        },
        {
          "output_type": "execute_result",
          "execution_count": 10,
          "data": {
            "text/plain": "<hsfs.feature_group.FeatureGroup at 0x7f16b2393710>"
          },
          "metadata": {}
        }
      ],
      "execution_count": 10,
      "metadata": {
        "collapsed": true,
        "jupyter": {
          "source_hidden": false,
          "outputs_hidden": false
        },
        "nteract": {
          "transient": {
            "deleting": false
          }
        },
        "gather": {
          "logged": 1614082963077
        }
      }
    },
    {
      "cell_type": "markdown",
      "source": [
        "Note: If you have existing feature engineering notebooks that you would like to reuse with the Hopsworks Feature Store, it should be enough to simply add the two calls (create the Feature Group, and save the dataframe to it) in order to ingest your features to the Feature Store. No other changes are required in your existing programs and you can still use your favourite Python libraries for feature engineering.\n",
        "With these two feature groups we can move to the next step to create a training dataset. Since we did not disable statistics computation, you can head to the Hopsworks Feature Store and inspect the pre-computed statistics over the newly created feature groups.\n",
        "\n",
        "### Step 4: Create a training dataset in your favorite file format using the Feature Store\n",
        "\n",
        "HSFS comes with an expressive [Join API and Query Planner](https://www.logicalclocks.com/blog/hopsworks-feature-store-api-2-0) that allows users to join, filter and explore feature groups in order to create training datasets.\n",
        "Assuming, you start with a new Jupyter Notebook, the first commands you need to run are to get handles to the previously created feature groups:\n"
      ],
      "metadata": {
        "nteract": {
          "transient": {
            "deleting": false
          }
        }
      }
    },
    {
      "cell_type": "code",
      "source": [
        "target_fg = fs.get_feature_group(\"weekly_sales_target\", version=1)\n",
        "sales_fg = fs.get_feature_group(\"weekly_sales_total\", version=1)"
      ],
      "outputs": [],
      "execution_count": null,
      "metadata": {
        "collapsed": true,
        "jupyter": {
          "source_hidden": false,
          "outputs_hidden": false
        },
        "nteract": {
          "transient": {
            "deleting": false
          }
        },
        "gather": {
          "logged": 1613989417879
        }
      }
    },
    {
      "cell_type": "markdown",
      "source": [
        "Note that we explicitly supply the (schema) version for the feature group (version=1), so that other developers can update the feature groups safely in higher numbered versions of the feature group.\n",
        "With our two feature group objects, we would like to join the target feature with our historical features, but only select the departments for our training dataset that have a full history of 142 weeks available:"
      ],
      "metadata": {
        "nteract": {
          "transient": {
            "deleting": false
          }
        }
      }
    },
    {
      "cell_type": "code",
      "source": [
        "td_query = target_fg.select([\"weekly_sales\", \"is_holiday\"]) \\\n",
        "    .join(sales_fg.filter(sales_fg.date_x_nunique == 142))\n",
        "\n",
        "td_query.show(5)"
      ],
      "outputs": [],
      "execution_count": null,
      "metadata": {
        "collapsed": true,
        "jupyter": {
          "source_hidden": false,
          "outputs_hidden": false
        },
        "nteract": {
          "transient": {
            "deleting": false
          }
        },
        "gather": {
          "logged": 1613990034148
        }
      }
    },
    {
      "cell_type": "markdown",
      "source": [
        "As you can see, feature group joins work similarly to pandas dataframe joins. In this case we can omit the join-key since both feature groups have the same primary key, however, for more advanced joins there is always the possibility to specify the join key from each group as well as the join type (left, inner, right, outer, etc) manually.\n",
        "Hopsworks Feature Store supports a variety of [storage connectors](https://docs.hopsworks.ai/latest/generated/storage_connector/) to materialize your training dataset to different cloud storage systems. If you have previously configured an Azure Data Lake Storage connector, you can now use it as the destination for your training dataset:"
      ],
      "metadata": {
        "nteract": {
          "transient": {
            "deleting": false
          }
        }
      }
    },
    {
      "cell_type": "code",
      "source": [
        "# storage = fs.get_storage_connector(\"ADLS\")"
      ],
      "outputs": [],
      "execution_count": null,
      "metadata": {
        "collapsed": true,
        "jupyter": {
          "source_hidden": false,
          "outputs_hidden": false
        },
        "nteract": {
          "transient": {
            "deleting": false
          }
        },
        "gather": {
          "logged": 1613990097127
        }
      }
    },
    {
      "cell_type": "markdown",
      "source": [
        "Similar to feature groups, you can now create the training dataset in your favourite file format, matching the machine learning library you are planning to use - for example, choose ‘tfrecord’ for TensorFlow. The Feature Store will make sure to track all metadata related to your training dataset, even if the training dataset is created outside of Hopsworks.\n"
      ],
      "metadata": {
        "nteract": {
          "transient": {
            "deleting": false
          }
        }
      }
    },
    {
      "cell_type": "code",
      "source": [
        "td = fs.create_training_dataset(\"weekly_sales_model\",\n",
        "    version=1,\n",
        "    data_format=\"tfrecord\",\n",
        "    splits={\"train\": 0.8, \"test\": 0.2},\n",
        "    seed=12,\n",
        "    #storage_connector=storage,\n",
        "    label=[\"weekly_sales\"])\n",
        "\n",
        "td.save(td_query)"
      ],
      "outputs": [
        {
          "output_type": "error",
          "ename": "NameError",
          "evalue": "name 'fs' is not defined",
          "traceback": [
            "\u001b[0;31m---------------------------------------------------------------------------\u001b[0m",
            "\u001b[0;31mNameError\u001b[0m                                 Traceback (most recent call last)",
            "\u001b[0;32m<ipython-input-1-86fb3ef5aefa>\u001b[0m in \u001b[0;36m<module>\u001b[0;34m\u001b[0m\n\u001b[0;32m----> 1\u001b[0;31m td = fs.create_training_dataset(\"weekly_sales_model\",\n\u001b[0m\u001b[1;32m      2\u001b[0m     \u001b[0mversion\u001b[0m\u001b[0;34m=\u001b[0m\u001b[0;36m1\u001b[0m\u001b[0;34m,\u001b[0m\u001b[0;34m\u001b[0m\u001b[0;34m\u001b[0m\u001b[0m\n\u001b[1;32m      3\u001b[0m     \u001b[0mdata_format\u001b[0m\u001b[0;34m=\u001b[0m\u001b[0;34m\"tfrecord\"\u001b[0m\u001b[0;34m,\u001b[0m\u001b[0;34m\u001b[0m\u001b[0;34m\u001b[0m\u001b[0m\n\u001b[1;32m      4\u001b[0m     \u001b[0msplits\u001b[0m\u001b[0;34m=\u001b[0m\u001b[0;34m{\u001b[0m\u001b[0;34m\"train\"\u001b[0m\u001b[0;34m:\u001b[0m \u001b[0;36m0.8\u001b[0m\u001b[0;34m,\u001b[0m \u001b[0;34m\"test\"\u001b[0m\u001b[0;34m:\u001b[0m \u001b[0;36m0.2\u001b[0m\u001b[0;34m}\u001b[0m\u001b[0;34m,\u001b[0m\u001b[0;34m\u001b[0m\u001b[0;34m\u001b[0m\u001b[0m\n\u001b[1;32m      5\u001b[0m     \u001b[0mseed\u001b[0m\u001b[0;34m=\u001b[0m\u001b[0;36m12\u001b[0m\u001b[0;34m,\u001b[0m\u001b[0;34m\u001b[0m\u001b[0;34m\u001b[0m\u001b[0m\n",
            "\u001b[0;31mNameError\u001b[0m: name 'fs' is not defined"
          ]
        }
      ],
      "execution_count": 1,
      "metadata": {
        "collapsed": true,
        "jupyter": {
          "source_hidden": false,
          "outputs_hidden": false
        },
        "nteract": {
          "transient": {
            "deleting": false
          }
        }
      }
    },
    {
      "cell_type": "markdown",
      "source": [
        "To retrieve the training dataset in your training environment you can simply get a handle to the dataset and its location, to pass it subsequently to your reader utilities:"
      ],
      "metadata": {
        "nteract": {
          "transient": {
            "deleting": false
          }
        }
      }
    },
    {
      "cell_type": "code",
      "source": [
        "td = fs.get_training_dataset(\"weekly_sales_model\", version=1)\n",
        "td.location"
      ],
      "outputs": [],
      "execution_count": null,
      "metadata": {
        "collapsed": true,
        "jupyter": {
          "source_hidden": false,
          "outputs_hidden": false
        },
        "nteract": {
          "transient": {
            "deleting": false
          }
        },
        "gather": {
          "logged": 1613990589400
        }
      }
    },
    {
      "cell_type": "markdown",
      "source": [
        "## Next Steps\n",
        "\n",
        "Head over to [documentation](https://docs.hopsworks.ai/) and learn more about the capabilities of the HSFS client libraries."
      ],
      "metadata": {
        "nteract": {
          "transient": {
            "deleting": false
          }
        }
      }
    },
    {
      "cell_type": "code",
      "source": [],
      "outputs": [],
      "execution_count": null,
      "metadata": {
        "collapsed": true,
        "jupyter": {
          "source_hidden": false,
          "outputs_hidden": false
        },
        "nteract": {
          "transient": {
            "deleting": false
          }
        }
      }
    }
  ],
  "metadata": {
    "kernelspec": {
      "name": "python3-azureml",
      "language": "python",
      "display_name": "Python 3.6 - AzureML"
    },
    "language_info": {
      "name": "python",
      "version": "3.6.9",
      "mimetype": "text/x-python",
      "codemirror_mode": {
        "name": "ipython",
        "version": 3
      },
      "pygments_lexer": "ipython3",
      "nbconvert_exporter": "python",
      "file_extension": ".py"
    },
    "kernel_info": {
      "name": "python3-azureml"
    },
    "nteract": {
      "version": "nteract-front-end@1.0.0"
    }
  },
  "nbformat": 4,
  "nbformat_minor": 2
}