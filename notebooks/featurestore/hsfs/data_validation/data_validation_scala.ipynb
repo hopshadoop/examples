{
 "cells": [
  {
   "cell_type": "markdown",
   "metadata": {},
   "source": [
    "# Data Validation in the Hopsworks Feature Store\n",
    "\n",
    "In this notebook we will introduce time travel operations in Hopsworks Feature Store (HSFS). Currently HSFS supports Apache Hudi (http://hudi.apache.org/) a storage abstraction/library for doing **incremental** data ingestion to a Hopsworks Feature Store."
   ]
  },
  {
   "cell_type": "markdown",
   "metadata": {},
   "source": [
    "## Background"
   ]
  },
  {
   "cell_type": "markdown",
   "metadata": {},
   "source": [
    "### Motivation\n",
    "\n",
    "Traditional ETL typically involves taking a snapshot of a production database and doing a full load into a data lake (typically stored on a distributed file system). Using the snapshot approach for ETL is simple since the snapshot is immutable and can be loaded as an atomic unit into the data lake. However, the con of taking this approach to doing data ingestion is that it is *slow*. Even if just a single record have been updated since the last data ingestion, the entire table has to be re-written. If you are working with Big Data (TB or PB size datasets) then this will introduce significant *data latency* and *wasted resources* (majority of the writes when ingesting the snapshot is redundant as most of the records have not been updated since the last ETL step). \n",
    "\n",
    "This motivates the use-case for **incremental** data ingestion. Incremental data ingestion means that only deltas/changelogs since the last ingestion are inserted. With incremental processing, you process data in *mini-batches* and run the spark job frequently. The incremental model makes better use of resources and makes it easier to do complex processing and joins.\n",
    "\n",
    "In addition data is rarely immutable in practice. A bank transaction might be reverted, a customer might change his or her home adress, and a customer review might be updated, to give a few examples. This is where Hudi comes into the picture. Hudi stands for `Hadoop Upserts anD Incrementals` and brings two new primitives for data engineering on distributed file systems (in addition to append/read):\n",
    "\n",
    "- `Upsert`: the ability to do insertions (appends) and updates efficiently. \n",
    "- `Incremental reads`: the ability to read datasets incrementally using the notion of \"commits\"."
   ]
  },
  {
   "cell_type": "markdown",
   "metadata": {},
   "source": [
    "### How Hopsworks Feature Store time travel operations can be used for ML and Feature Pipelines\n",
    "\n",
    "Hudi is integrated in the Hopsworks Feature Store for doing incremental feature computation and for point-in-time correctness and backfilling of feature data.\n",
    "\n",
    "![Incremental Feature Engineering](./../images/featurestore_incremental_pull.png \"Incremetal Feature Engineering\")"
   ]
  },
  {
   "cell_type": "markdown",
   "metadata": {},
   "source": [
    "## Examples"
   ]
  },
  {
   "cell_type": "markdown",
   "metadata": {},
   "source": [
    "### Create HUDI time travel enabled feature group and Bulk Insert Sample Dataset\n",
    "\n",
    "For this demo we will use small sample of the Agarwal Generator that is a widely used dataset. It contains the hypothetical data of people applying for a loan. `Rakesh Agrawal, Tomasz Imielinksi, and Arun Swami, \"Database Mining: A Performance Perspective\", IEEE Transactions on Knowledge and Data Engineering, 5(6), December 1993. <br/><br/>`\n",
    "\n",
    "##### For simplicity of demo purposes we will split Agarwal dataset into 3 freature groups and manualy create datasets: \n",
    "* `economy_fg` with customer id, salary, loan, value of house, age of house, commission and type of car features; "
   ]
  },
  {
   "cell_type": "markdown",
   "metadata": {},
   "source": [
    "### Importing necessary libraries "
   ]
  },
  {
   "cell_type": "code",
   "execution_count": 1,
   "metadata": {},
   "outputs": [
    {
     "name": "stdout",
     "output_type": "stream",
     "text": [
      "Starting Spark application\n"
     ]
    },
    {
     "data": {
      "text/html": [
       "<table>\n",
       "<tr><th>ID</th><th>YARN Application ID</th><th>Kind</th><th>State</th><th>Spark UI</th><th>Driver log</th></tr><tr><td>52</td><td>application_1610566077204_0014</td><td>spark</td><td>idle</td><td><a target=\"_blank\" href=\"http://hopsworks0.logicalclocks.com:8088/proxy/application_1610566077204_0014/\">Link</a></td><td><a target=\"_blank\" href=\"http://hopsworks0.logicalclocks.com:8042/node/containerlogs/container_e02_1610566077204_0014_01_000001/demo_fs_meb10000__meb10000\">Link</a></td></tr></table>"
      ],
      "text/plain": [
       "<IPython.core.display.HTML object>"
      ]
     },
     "metadata": {},
     "output_type": "display_data"
    },
    {
     "name": "stdout",
     "output_type": "stream",
     "text": [
      "SparkSession available as 'spark'.\n",
      "import com.logicalclocks.hsfs._\n",
      "import com.logicalclocks.hsfs.engine._\n",
      "import com.logicalclocks.hsfs.metadata.validation._\n",
      "import com.logicalclocks.hsfs.metadata.Expectation\n",
      "import scala.collection.JavaConversions._\n",
      "import collection.JavaConverters._\n",
      "import org.apache.spark.sql.{DataFrame, Row}\n",
      "import org.apache.spark.sql.catalyst.expressions.GenericRow\n",
      "import org.apache.spark.sql.types._\n",
      "import java.sql.Date\n",
      "import java.sql.Timestamp\n",
      "connection: com.logicalclocks.hsfs.HopsworksConnection = com.logicalclocks.hsfs.HopsworksConnection@41fe3112\n",
      "fs: com.logicalclocks.hsfs.FeatureStore = FeatureStore{id=68, name='demo_fs_meb10000_featurestore', projectId=120, featureGroupApi=com.logicalclocks.hsfs.metadata.FeatureGroupApi@29908988}\n"
     ]
    }
   ],
   "source": [
    "import com.logicalclocks.hsfs._\n",
    "import com.logicalclocks.hsfs.engine._\n",
    "import com.logicalclocks.hsfs.metadata.validation._\n",
    "import com.logicalclocks.hsfs.metadata.Expectation\n",
    "import scala.collection.JavaConversions._\n",
    "import collection.JavaConverters._\n",
    "\n",
    "import org.apache.spark.sql.{ DataFrame, Row }\n",
    "import org.apache.spark.sql.catalyst.expressions.GenericRow\n",
    "import org.apache.spark.sql.types._\n",
    "\n",
    "import java.sql.Date\n",
    "import java.sql.Timestamp\n",
    "\n",
    "val connection = HopsworksConnection.builder().build();\n",
    "val fs = connection.getFeatureStore();"
   ]
  },
  {
   "cell_type": "code",
   "execution_count": 2,
   "metadata": {},
   "outputs": [
    {
     "name": "stdout",
     "output_type": "stream",
     "text": [
      "economyFgSchema: List[org.apache.spark.sql.types.StructField] = List(StructField(id,IntegerType,true), StructField(salary,FloatType,true), StructField(commission,FloatType,true), StructField(car,StringType,true), StructField(hvalue,FloatType,true), StructField(hyears,IntegerType,true), StructField(loan,FloatType,true), StructField(year,IntegerType,true))\n"
     ]
    }
   ],
   "source": [
    "val economyFgSchema = \n",
    " scala.collection.immutable.List(\n",
    "  StructField(\"id\", IntegerType, true),\n",
    "  StructField(\"salary\", FloatType, true),\n",
    "  StructField(\"commission\", FloatType, true),\n",
    "  StructField(\"car\", StringType, true), \n",
    "  StructField(\"hvalue\", FloatType, true),      \n",
    "  StructField(\"hyears\", IntegerType, true),     \n",
    "  StructField(\"loan\", FloatType, true),\n",
    "  StructField(\"year\", IntegerType, true)          \n",
    ")"
   ]
  },
  {
   "cell_type": "markdown",
   "metadata": {},
   "source": [
    "### Create spark dataframes for each Feature groups"
   ]
  },
  {
   "cell_type": "code",
   "execution_count": 3,
   "metadata": {},
   "outputs": [
    {
     "name": "stdout",
     "output_type": "stream",
     "text": [
      "economyBulkInsertData: Seq[org.apache.spark.sql.Row] = List([1,110499.73,0.0,car15,235000.0,30,354724.2,2020], [2,140893.77,0.0,car20,135000.0,2,395015.34,2020], [3,119159.65,0.0,car1,145000.0,22,122025.08,2020], [4,20000.0,52593.63,car9,185000.0,30,99629.62,2020])\n",
      "economyBulkInsertDf: org.apache.spark.sql.DataFrame = [id: int, salary: float ... 6 more fields]\n"
     ]
    }
   ],
   "source": [
    "val economyBulkInsertData = Seq(\n",
    "    Row(1, 110499.73f, 0.0f,  \"car15\",  235000.0f, 30, 354724.18f, 2020),\n",
    "    Row(2, 140893.77f, 0.0f,  \"car20\",  135000.0f, 2, 395015.33f, 2020),\n",
    "    Row(3, 119159.65f, 0.0f,  \"car1\", 145000.0f, 22, 122025.08f, 2020),\n",
    "    Row(4, 20000.0f, 52593.63f, \"car9\", 185000.0f, 30, 99629.62f, 2020)\n",
    ")\n",
    "\n",
    "val economyBulkInsertDf = spark.createDataFrame(\n",
    "    spark.sparkContext.parallelize(economyBulkInsertData),\n",
    "    StructType(economyFgSchema)\n",
    ")"
   ]
  },
  {
   "cell_type": "code",
   "execution_count": 4,
   "metadata": {},
   "outputs": [
    {
     "name": "stdout",
     "output_type": "stream",
     "text": [
      "+---+---------+----------+-----+--------+------+---------+----+\n",
      "| id|   salary|commission|  car|  hvalue|hyears|     loan|year|\n",
      "+---+---------+----------+-----+--------+------+---------+----+\n",
      "|  1|110499.73|       0.0|car15|235000.0|    30| 354724.2|2020|\n",
      "|  2|140893.77|       0.0|car20|135000.0|     2|395015.34|2020|\n",
      "|  3|119159.65|       0.0| car1|145000.0|    22|122025.08|2020|\n",
      "|  4|  20000.0|  52593.63| car9|185000.0|    30| 99629.62|2020|\n",
      "+---+---------+----------+-----+--------+------+---------+----+\n",
      "\n"
     ]
    }
   ],
   "source": [
    "economyBulkInsertDf.show()"
   ]
  },
  {
   "cell_type": "markdown",
   "metadata": {},
   "source": [
    "# Data Validation\n",
    "\n",
    "The next sections shows you how to create feature store expectations, attach them to feature groups, and apply them to dataframes being appended to the feature group.  "
   ]
  },
  {
   "cell_type": "markdown",
   "metadata": {},
   "source": [
    "### Discover data validation rules supported in Hopsworks\n",
    "Hopsworks comes shipped with a set of data validation rules. These rules are **immutable**, uniquely identified by **name** and are available across all feature stores. These rules are used to create feature store expectations which can then be attached to feature groups."
   ]
  },
  {
   "cell_type": "code",
   "execution_count": 5,
   "metadata": {},
   "outputs": [
    {
     "name": "stdout",
     "output_type": "stream",
     "text": [
      "rules: Seq[com.logicalclocks.hsfs.metadata.RuleDefinition] = Buffer(RuleDefinition(name=HAS_MIN, predicate=VALUE, valueType=Fractional, description=Validate the feature's min), RuleDefinition(name=HAS_MEAN, predicate=VALUE, valueType=Fractional, description=Validate the feature's mean), RuleDefinition(name=HAS_SUM, predicate=VALUE, valueType=Fractional, description=Validate the feature's sum), RuleDefinition(name=HAS_MAX, predicate=VALUE, valueType=Fractional, description=Validate the feature's max))\n"
     ]
    }
   ],
   "source": [
    "// Get all available rule definitions\n",
    "val rules = connection.getRules()"
   ]
  },
  {
   "cell_type": "code",
   "execution_count": 6,
   "metadata": {},
   "outputs": [
    {
     "name": "stdout",
     "output_type": "stream",
     "text": [
      "ruleMax: com.logicalclocks.hsfs.metadata.RuleDefinition = RuleDefinition(name=HAS_MAX, predicate=VALUE, valueType=Fractional, description=Validate the feature's max)\n"
     ]
    }
   ],
   "source": [
    "// Get a rule definition by name\n",
    "val ruleMax = connection.getRule(RuleName.HAS_MAX)"
   ]
  },
  {
   "cell_type": "markdown",
   "metadata": {},
   "source": [
    "### Create Expectations based on Hopsworks rules\n",
    "\n",
    "Expectations are created at the feature store level. Multiple expectations can be created per feature store.\n",
    "\n",
    "An expectation is comprised from one or multiple rules and can refer to one or multiple features. An expectation can be utilized by attaching it to a feature group, as shown in the next sections"
   ]
  },
  {
   "cell_type": "code",
   "execution_count": 16,
   "metadata": {},
   "outputs": [
    {
     "name": "stdout",
     "output_type": "stream",
     "text": [
      "expectationSales: com.logicalclocks.hsfs.metadata.Expectation = Expectation(name=sales, description=min and max sales limits, features=[salary, commission], rules=[Rule(featureStoreRulesApi=com.logicalclocks.hsfs.metadata.RulesApi@6edfdc98, name=HAS_MIN, level=WARNING, min=0.0, max=null, pattern=null, acceptedType=null, legalValues=null), Rule(featureStoreRulesApi=com.logicalclocks.hsfs.metadata.RulesApi@7e160511, name=HAS_MAX, level=ERROR, min=null, max=1000000.0, pattern=null, acceptedType=null, legalValues=null)], featureStore=FeatureStore{id=68, name='demo_fs_meb10000_featurestore', projectId=120, featureGroupApi=com.logicalclocks.hsfs.metadata.FeatureGroupApi@29908988}, expectationsEngine=com.logicalclocks.hsfs.engine.ExpectationsEngine@2b86842)\n",
      "expectationYear: com.logicalclocks.hsfs.metadata.Expectation = Expectation(name=year, description=min and max limits, features=[year], rules=[Rule(featureStoreRulesApi=com.logicalclocks.hsfs.metadata.RulesApi@704714fa, name=HAS_MIN, level=WARNING, min=2018.0, max=null, pattern=null, acceptedType=null, legalValues=null), Rule(featureStoreRulesApi=com.logicalclocks.hsfs.metadata.RulesApi@212ff459, name=HAS_MAX, level=ERROR, min=null, max=2021.0, pattern=null, acceptedType=null, legalValues=null)], featureStore=FeatureStore{id=68, name='demo_fs_meb10000_featurestore', projectId=120, featureGroupApi=com.logicalclocks.hsfs.metadata.FeatureGroupApi@29908988}, expectationsEngine=com.logicalclocks.hsfs.engine.ExpectationsEngine@72f4572)\n"
     ]
    }
   ],
   "source": [
    "// Create an expectation for the \"salary\" and \"commissio\" features so that their min value is \"10\" and their max is \"100\"\n",
    "val expectationSales = (fs.createExpectation()\n",
    "                          .rules(Seq(\n",
    "                                 Rule.createRule(RuleName.HAS_MIN).min(0).level(Level.WARNING).build(), //Set rule by name\n",
    "                                 Rule.createRule(ruleMax).max(1000000).level(Level.ERROR).build())) //Set rule by passing the RuleDefinition metadata\n",
    "                         .name(\"sales\")\n",
    "                         .description(\"min and max sales limits\")\n",
    "                         .features(Seq(\"salary\", \"commission\"))\n",
    "                         .build())\n",
    "expectationSales.save()\n",
    "\n",
    "// Create an expectation for the \"year\" feature so that its min value is between 2018-2019 and its max value is equal to 2021\n",
    "val expectationYear = (fs.createExpectation()\n",
    "                         .rules(Seq(\n",
    "                                 Rule.createRule(RuleName.HAS_MIN).min(2018).level(Level.WARNING).build(),\n",
    "                                 Rule.createRule(RuleName.HAS_MAX).max(2021).level(Level.ERROR).build()))\n",
    "                         .name(\"year\")\n",
    "                         .description(\"min and max limits\")\n",
    "                         .features(Seq(\"year\"))\n",
    "                         .build())\n",
    "expectationYear.save()"
   ]
  },
  {
   "cell_type": "markdown",
   "metadata": {},
   "source": [
    "### Discover Feature Store Expectations\n",
    "\n",
    "Using the Python API you can easily find out which expectations are availeble in this feature store."
   ]
  },
  {
   "cell_type": "code",
   "execution_count": 17,
   "metadata": {},
   "outputs": [
    {
     "name": "stdout",
     "output_type": "stream",
     "text": [
      "fsExpectations: Seq[com.logicalclocks.hsfs.metadata.Expectation] = Buffer(Expectation(name=salary_commission, description=min and max limits, features=[salary, commission], rules=[Rule(featureStoreRulesApi=com.logicalclocks.hsfs.metadata.RulesApi@2c296723, name=HAS_MIN, level=WARNING, min=0.0, max=null, pattern=null, acceptedType=null, legalValues=null), Rule(featureStoreRulesApi=com.logicalclocks.hsfs.metadata.RulesApi@33eec721, name=HAS_MAX, level=ERROR, min=null, max=1000000.0, pattern=null, acceptedType=null, legalValues=null)], featureStore=null, expectationsEngine=com.logicalclocks.hsfs.engine.ExpectationsEngine@7baceaf7), Expectation(name=year, description=min and max limits, features=[year], rules=[Rule(featureStoreRulesApi=com.logicalclocks.hsfs.metadata.RulesApi@6bbec8ea, name..."
     ]
    }
   ],
   "source": [
    "// Retrieve all Feature Store expectations\n",
    "val fsExpectations = fs.getExpectations()"
   ]
  },
  {
   "cell_type": "code",
   "execution_count": 18,
   "metadata": {},
   "outputs": [
    {
     "name": "stdout",
     "output_type": "stream",
     "text": [
      "yearExp: com.logicalclocks.hsfs.metadata.Expectation = Expectation(name=year, description=min and max limits, features=[year], rules=[Rule(featureStoreRulesApi=com.logicalclocks.hsfs.metadata.RulesApi@71c175ce, name=HAS_MIN, level=WARNING, min=2018.0, max=null, pattern=null, acceptedType=null, legalValues=null), Rule(featureStoreRulesApi=com.logicalclocks.hsfs.metadata.RulesApi@62276cb, name=HAS_MAX, level=ERROR, min=null, max=2021.0, pattern=null, acceptedType=null, legalValues=null)], featureStore=null, expectationsEngine=com.logicalclocks.hsfs.engine.ExpectationsEngine@647c4a76)\n"
     ]
    }
   ],
   "source": [
    "// Retrieve a Feature Store expectation by name\n",
    "val yearExp = fs.getExpectation(\"year\")"
   ]
  },
  {
   "cell_type": "markdown",
   "metadata": {},
   "source": [
    "### Create feature group with expectations and validation type\n",
    "\n",
    "Feature store expectations can be attached and detached from feature groups. That enables ingestions pipelines to validate incoming data against expectations. Expectations can be set when creating a feature group. \n",
    "Later in the notebook we describe the possible validation type values and what that means for the feature group ingestion. For the moment, we initialize the validation type to STRICT"
   ]
  },
  {
   "cell_type": "code",
   "execution_count": 21,
   "metadata": {},
   "outputs": [
    {
     "name": "stdout",
     "output_type": "stream",
     "text": [
      "economyFg: com.logicalclocks.hsfs.FeatureGroup = com.logicalclocks.hsfs.FeatureGroup@12f9a583\n"
     ]
    }
   ],
   "source": [
    "val economyFg = (fs.createFeatureGroup()\n",
    "                .name(\"economy_fg48\")\n",
    "                .description(\"Hudi Household Economy Feature Group\")\n",
    "                .expectations(Seq(expectationSales, expectationYear))\n",
    "                .validationType(ValidationType.STRICT)\n",
    "                .version(1)\n",
    "                .primaryKeys(Seq(\"id\"))\n",
    "                .partitionKeys(Seq(\"year\"))\n",
    "                .timeTravelFormat(TimeTravelFormat.HUDI)\n",
    "                .build())"
   ]
  },
  {
   "cell_type": "markdown",
   "metadata": {},
   "source": [
    "### Bulk insert data into the feature group\n",
    "Since we have not yet saved any data into newly created feature groups we will use Apache hudi terminology and `Bulk Insert` data. In HSFS its just issuing `save` method.\n",
    "\n",
    "Data will be validated prior to being persisted into the Feature Store."
   ]
  },
  {
   "cell_type": "code",
   "execution_count": 22,
   "metadata": {},
   "outputs": [],
   "source": [
    "economyFg.save(economyBulkInsertDf)"
   ]
  },
  {
   "cell_type": "markdown",
   "metadata": {},
   "source": [
    "### Attach expectations to Feature Groups\n",
    "\n",
    "Expectations can be attached and detached from feature groups even after the latter are created. If an expectation is attached to a feature group, it will be used when inserted data is validated. An expectation can be attached to multiple feature groups, as long as the expectation's features exist in that feature group."
   ]
  },
  {
   "cell_type": "code",
   "execution_count": 23,
   "metadata": {},
   "outputs": [],
   "source": [
    "// Detach expectation by using its name or the metadata object, example shows the latter\n",
    "economyFg.detachExpectation(expectationYear)"
   ]
  },
  {
   "cell_type": "code",
   "execution_count": 24,
   "metadata": {},
   "outputs": [
    {
     "name": "stdout",
     "output_type": "stream",
     "text": [
      "res32: com.logicalclocks.hsfs.metadata.Expectation = Expectation(name=year, description=min and max limits, features=[year], rules=[Rule(featureStoreRulesApi=com.logicalclocks.hsfs.metadata.RulesApi@736f50ab, name=HAS_MIN, level=WARNING, min=2018.0, max=null, pattern=null, acceptedType=null, legalValues=null), Rule(featureStoreRulesApi=com.logicalclocks.hsfs.metadata.RulesApi@2b36c51, name=HAS_MAX, level=ERROR, min=null, max=2021.0, pattern=null, acceptedType=null, legalValues=null)], featureStore=null, expectationsEngine=com.logicalclocks.hsfs.engine.ExpectationsEngine@6c7b2bd4)\n"
     ]
    }
   ],
   "source": [
    "// Attach expectation by using its name or the metadata object, example shows the former\n",
    "economyFg.attachExpectation(\"year\")"
   ]
  },
  {
   "cell_type": "markdown",
   "metadata": {},
   "source": [
    "### Validations"
   ]
  },
  {
   "cell_type": "markdown",
   "metadata": {},
   "source": [
    "#### You can also validate the dataframe without having to insert the data into a feature group"
   ]
  },
  {
   "cell_type": "code",
   "execution_count": 25,
   "metadata": {},
   "outputs": [
    {
     "name": "stdout",
     "output_type": "stream",
     "text": [
      "res33: com.logicalclocks.hsfs.metadata.FeatureGroupValidation = FeatureGroupValidation(validationId=1097, validationTime=1611245275628, commitTime=null, expectationResults=[ExpectationResult(status=Success, expectation=Expectation(name=sales, description=min and max sales limits, features=[salary, commission], rules=[Rule(featureStoreRulesApi=com.logicalclocks.hsfs.metadata.RulesApi@6a6acb69, name=HAS_MIN, level=WARNING, min=0.0, max=null, pattern=null, acceptedType=null, legalValues=null), Rule(featureStoreRulesApi=com.logicalclocks.hsfs.metadata.RulesApi@2d03e570, name=HAS_MAX, level=ERROR, min=null, max=1000000.0, pattern=null, acceptedType=null, legalValues=null)], featureStore=null, expectationsEngine=com.logicalclocks.hsfs.engine.ExpectationsEngine@6ed47a72), results=[ValidationRe..."
     ]
    }
   ],
   "source": [
    "economyFg.validate(economyBulkInsertDf)"
   ]
  },
  {
   "cell_type": "markdown",
   "metadata": {},
   "source": [
    "#### You get retrieve all the validations of a feature group"
   ]
  },
  {
   "cell_type": "code",
   "execution_count": 26,
   "metadata": {},
   "outputs": [
    {
     "name": "stdout",
     "output_type": "stream",
     "text": [
      "validations: java.util.List[com.logicalclocks.hsfs.metadata.FeatureGroupValidation] = [FeatureGroupValidation(validationId=1097, validationTime=1611245275628, commitTime=null, expectationResults=[ExpectationResult(status=Success, expectation=Expectation(name=sales, description=min and max sales limits, features=[salary, commission], rules=[Rule(featureStoreRulesApi=com.logicalclocks.hsfs.metadata.RulesApi@19bb7b17, name=HAS_MIN, level=WARNING, min=0.0, max=null, pattern=null, acceptedType=null, legalValues=null), Rule(featureStoreRulesApi=com.logicalclocks.hsfs.metadata.RulesApi@480843b3, name=HAS_MAX, level=ERROR, min=null, max=1000000.0, pattern=null, acceptedType=null, legalValues=null)], featureStore=null, expectationsEngine=com.logicalclocks.hsfs.engine.ExpectationsEngine@2bc35dc),..."
     ]
    }
   ],
   "source": [
    "// Get all validations of the feature group\n",
    "val validations = economyFg.getValidations()"
   ]
  },
  {
   "cell_type": "markdown",
   "metadata": {},
   "source": [
    "#### ... or retrieve a validation by validation or commit time. \n",
    "\n",
    "Validation time is the timestamp when the validation started.\n",
    "\n",
    "Commit time is the time data was peristed in the time travel enabled feature group"
   ]
  },
  {
   "cell_type": "code",
   "execution_count": 30,
   "metadata": {},
   "outputs": [
    {
     "name": "stdout",
     "output_type": "stream",
     "text": [
      "validationTime: Long = 1611245151040\n"
     ]
    }
   ],
   "source": [
    "val validationTime = validations(1).getValidationTime()"
   ]
  },
  {
   "cell_type": "markdown",
   "metadata": {},
   "source": [
    "#### Commit time associated with the validation time when the data is committed to time-travel enabled feature group."
   ]
  },
  {
   "cell_type": "code",
   "execution_count": 31,
   "metadata": {},
   "outputs": [
    {
     "name": "stdout",
     "output_type": "stream",
     "text": [
      "commitTime: Long = 1611245152000\n"
     ]
    }
   ],
   "source": [
    "val commitTime = validations(1).getCommitTime()"
   ]
  },
  {
   "cell_type": "markdown",
   "metadata": {},
   "source": [
    "#### Get validation by Feature Group Commit Time"
   ]
  },
  {
   "cell_type": "code",
   "execution_count": 32,
   "metadata": {},
   "outputs": [
    {
     "name": "stdout",
     "output_type": "stream",
     "text": [
      "validation: com.logicalclocks.hsfs.metadata.FeatureGroupValidation = FeatureGroupValidation(validationId=1096, validationTime=1611245151040, commitTime=1611245152000, expectationResults=[ExpectationResult(status=Success, expectation=Expectation(name=sales, description=min and max sales limits, features=[salary, commission], rules=[Rule(featureStoreRulesApi=com.logicalclocks.hsfs.metadata.RulesApi@7f0d734b, name=HAS_MIN, level=WARNING, min=0.0, max=null, pattern=null, acceptedType=null, legalValues=null), Rule(featureStoreRulesApi=com.logicalclocks.hsfs.metadata.RulesApi@5eb458ce, name=HAS_MAX, level=ERROR, min=null, max=1000000.0, pattern=null, acceptedType=null, legalValues=null)], featureStore=null, expectationsEngine=com.logicalclocks.hsfs.engine.ExpectationsEngine@65d024ff), results..."
     ]
    }
   ],
   "source": [
    "// Get a validation by commitTime\n",
    "val validation = economyFg.getValidation(commitTime, DataValidationEngine.ValidationTimeType.COMMIT_TIME)"
   ]
  },
  {
   "cell_type": "markdown",
   "metadata": {},
   "source": [
    "#### Get validation by Feature Group Validation Time"
   ]
  },
  {
   "cell_type": "code",
   "execution_count": 33,
   "metadata": {},
   "outputs": [
    {
     "name": "stdout",
     "output_type": "stream",
     "text": [
      "validation: com.logicalclocks.hsfs.metadata.FeatureGroupValidation = FeatureGroupValidation(validationId=1096, validationTime=1611245151040, commitTime=1611245152000, expectationResults=[ExpectationResult(status=Success, expectation=Expectation(name=sales, description=min and max sales limits, features=[salary, commission], rules=[Rule(featureStoreRulesApi=com.logicalclocks.hsfs.metadata.RulesApi@2774f4fe, name=HAS_MIN, level=WARNING, min=0.0, max=null, pattern=null, acceptedType=null, legalValues=null), Rule(featureStoreRulesApi=com.logicalclocks.hsfs.metadata.RulesApi@5ae37b14, name=HAS_MAX, level=ERROR, min=null, max=1000000.0, pattern=null, acceptedType=null, legalValues=null)], featureStore=null, expectationsEngine=com.logicalclocks.hsfs.engine.ExpectationsEngine@31637ea2), results..."
     ]
    }
   ],
   "source": [
    "// Get a validation by validationTyme\n",
    "val validation = economyFg.getValidation(validationTime, com.logicalclocks.hsfs.engine.DataValidationEngine.ValidationTimeType.VALIDATION_TIME)"
   ]
  },
  {
   "cell_type": "markdown",
   "metadata": {},
   "source": [
    "#### Get the status of a validation"
   ]
  },
  {
   "cell_type": "code",
   "execution_count": 34,
   "metadata": {},
   "outputs": [
    {
     "name": "stdout",
     "output_type": "stream",
     "text": [
      "res37: com.logicalclocks.hsfs.metadata.ExpectationResult.Status = Success\n"
     ]
    }
   ],
   "source": [
    "validation.getStatus()"
   ]
  },
  {
   "cell_type": "markdown",
   "metadata": {},
   "source": [
    "### Upsert new invalid data into a Feature Group\n",
    "\n",
    "Now we will try to upsert some invalid data (year feature does not meet the maximum expectation). An error is returned to the client along with the failed expectation"
   ]
  },
  {
   "cell_type": "markdown",
   "metadata": {},
   "source": [
    "#### Generate Sample Upserts Data"
   ]
  },
  {
   "cell_type": "code",
   "execution_count": 35,
   "metadata": {},
   "outputs": [
    {
     "name": "stdout",
     "output_type": "stream",
     "text": [
      "economyUpsertData: Seq[org.apache.spark.sql.Row] = List([1,120499.73,0.0,car17,205000.0,30,564724.2,2022], [2,160893.77,0.0,car10,179000.0,2,455015.34,2020], [5,93956.32,0.0,car15,135000.0,1,458679.8,2020], [6,41365.43,52809.15,car7,135000.0,19,216839.7,2020], [7,94805.61,0.0,car17,135000.0,23,233216.06,2022])\n",
      "economyUpsertDf: org.apache.spark.sql.DataFrame = [id: int, salary: float ... 6 more fields]\n",
      "+---+---------+----------+-----+--------+------+---------+----+\n",
      "| id|   salary|commission|  car|  hvalue|hyears|     loan|year|\n",
      "+---+---------+----------+-----+--------+------+---------+----+\n",
      "|  1|120499.73|       0.0|car17|205000.0|    30| 564724.2|2022|\n",
      "|  2|160893.77|       0.0|car10|179000.0|     2|455015.34|2020|\n",
      "|  5| 93956.32|       0.0|car15|135000.0|     1| 458679.8|2020|\n",
      "|  6| 41365.43|  52809.15| car7|135000.0|    19| 216839.7|2020|\n",
      "|  7| 94805.61|       0.0|car17|135000.0|    23|233216.06|2022|\n",
      "+---+---------+----------+-----+--------+------+---------+----+\n",
      "\n"
     ]
    }
   ],
   "source": [
    "val economyUpsertData = Seq(\n",
    "    Row(1, 120499.73f, 0.0f, \"car17\", 205000.0f, 30, 564724.18f, 2022),    //update\n",
    "    Row(2, 160893.77f, 0.0f, \"car10\", 179000.0f, 2, 455015.33f, 2020),     //update\n",
    "    Row(5, 93956.32f, 0.0f, \"car15\",  135000.0f, 1, 458679.82f, 2020),     //insert\n",
    "    Row(6, 41365.43f, 52809.15f, \"car7\", 135000.0f, 19, 216839.71f, 2020), //insert\n",
    "    Row(7, 94805.61f, 0.0f, \"car17\", 135000.0f, 23, 233216.07f, 2022)      //insert\n",
    ")\n",
    "\n",
    "val economyUpsertDf = spark.createDataFrame(\n",
    "  spark.sparkContext.parallelize(economyUpsertData),\n",
    "  StructType(economyFgSchema)\n",
    ")\n",
    "\n",
    "economyUpsertDf.show(5)"
   ]
  },
  {
   "cell_type": "code",
   "execution_count": 36,
   "metadata": {},
   "outputs": [
    {
     "name": "stderr",
     "output_type": "stream",
     "text": [
      "An error was encountered:\n",
      "java.io.IOException: Error: 417{\"type\":\"restApiJsonResponse\",\"errorCode\":270147,\"errorMsg\":\"Feature group validation checks did not pass, will not persist validation results.\",\"usrMsg\":\"Results: [ExpectationResult{status=Failure, results=[ValidationResult{status=Failure, message='Value: 2022.0 does not meet the constraint requirement! HAS_MAX', value='2022.0', feature='year', rule=Rule{name=HAS_MAX, level=ERROR, min=null, max=2021.0, pattern='null', acceptedType=null, legalValues=null}}, ValidationResult{status=Success, message='Success', value='2020.0', feature='year', rule=Rule{name=HAS_MIN, level=WARNING, min=2018.0, max=null, pattern='null', acceptedType=null, legalValues=null}}], expectation=Expectation{name='year', features=[year], rules=[Rule{name=HAS_MIN, level=WARNING, min=2018.0, max=null, pattern='null', acceptedType=null, legalValues=null}, Rule{name=HAS_MAX, level=ERROR, min=null, max=2021.0, pattern='null', acceptedType=null, legalValues=null}]}}]\"}\n",
      "  at com.logicalclocks.hsfs.metadata.AuthorizationHandler.handleResponse(AuthorizationHandler.java:45)\n",
      "  at org.apache.http.impl.client.CloseableHttpClient.execute(CloseableHttpClient.java:223)\n",
      "  at org.apache.http.impl.client.CloseableHttpClient.execute(CloseableHttpClient.java:191)\n",
      "  at com.logicalclocks.hsfs.metadata.HopsworksInternalClient.handleRequest(HopsworksInternalClient.java:148)\n",
      "  at com.logicalclocks.hsfs.metadata.HopsworksClient.handleRequest(HopsworksClient.java:152)\n",
      "  at com.logicalclocks.hsfs.metadata.FeatureGroupValidationsApi.put(FeatureGroupValidationsApi.java:135)\n",
      "  at com.logicalclocks.hsfs.metadata.FeatureGroupValidationsApi.put(FeatureGroupValidationsApi.java:106)\n",
      "  at com.logicalclocks.hsfs.engine.DataValidationEngine.validate(DataValidationEngine.java:64)\n",
      "  at com.logicalclocks.hsfs.FeatureGroup.validate(FeatureGroup.java:394)\n",
      "  at com.logicalclocks.hsfs.engine.FeatureGroupEngine.saveDataframe(FeatureGroupEngine.java:135)\n",
      "  at com.logicalclocks.hsfs.FeatureGroup.insert(FeatureGroup.java:296)\n",
      "  at com.logicalclocks.hsfs.FeatureGroup.insert(FeatureGroup.java:258)\n",
      "  at com.logicalclocks.hsfs.FeatureGroup.insert(FeatureGroup.java:240)\n",
      "  ... 62 elided\n",
      "\n"
     ]
    }
   ],
   "source": [
    "// Insert call will fail as invalid data (year feature) is about to be ingested. Error shows the expectation that was not met\n",
    "economyFg.insert(economyUpsertDf)"
   ]
  },
  {
   "cell_type": "markdown",
   "metadata": {},
   "source": [
    "### Validation type\n",
    "The validation type determines the validation behavior. Available types are:\n",
    "- STRICT: Data validation is performed and data is ingested into feature group is updated only if validation status is \"SUCCESS\"\n",
    "- WARNING: Data validation is performed and data is ingested into the feature group only if validation status is \"WARNING\" or \"SUCCESS\"\n",
    "- ALL: Data validation is performed and data is ingested into the feature group regardless of the validation status\n",
    "- NONE: Data validation not performed on feature group\n",
    "\n",
    "The validation type can easily be changed for a feature group"
   ]
  },
  {
   "cell_type": "code",
   "execution_count": 37,
   "metadata": {},
   "outputs": [],
   "source": [
    "// The previous economy_upsert_df contains invalid data but we still want to persist the data, so we set the validation type from STRICT to ALL\n",
    "economyFg.updateValidationType(ValidationType.ALL)"
   ]
  },
  {
   "cell_type": "code",
   "execution_count": null,
   "metadata": {},
   "outputs": [],
   "source": [
    "// We try to insert the invalid df again\n",
    "economyFg.insert(economyUpsertDf)"
   ]
  },
  {
   "cell_type": "code",
   "execution_count": null,
   "metadata": {},
   "outputs": [],
   "source": []
  }
 ],
 "metadata": {
  "kernelspec": {
   "display_name": "Spark",
   "language": "scala",
   "name": "sparkkernel"
  },
  "language_info": {
   "codemirror_mode": "text/x-scala",
   "mimetype": "text/x-scala",
   "name": "scala",
   "pygments_lexer": "scala"
  }
 },
 "nbformat": 4,
 "nbformat_minor": 4
}