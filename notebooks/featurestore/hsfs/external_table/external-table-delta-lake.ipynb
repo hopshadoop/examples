{
 "cells": [
  {
   "cell_type": "raw",
   "metadata": {},
   "source": [
    "---\n",
    "title: \"External Table - Delta Lake on S3\"\n",
    "date: 2021-02-24\n",
    "type: technical_note\n",
    "draft: false\n",
    "---"
   ]
  },
  {
   "cell_type": "code",
   "execution_count": null,
   "metadata": {},
   "outputs": [],
   "source": [
    "import hsfs\n",
    "connection = hsfs.connection()\n",
    "fs = connection.get_feature_store()"
   ]
  },
  {
   "cell_type": "markdown",
   "metadata": {},
   "source": [
    "#### Create a connector to a Delta Lake Table in a bucket on S3\n",
    "\n",
    "The table should already exist and be stored in a bucket on S3. You then create a storage connector to the s3 bucket in the Hopsworks UI. In this figure, we are using an Instance Role (defined on the Hopsworks cluster) to access the S3 bucket.\n",
    "\n",
    "![Attach tags using the UI](../images/s3-connector-delta.png)"
   ]
  },
  {
   "cell_type": "code",
   "execution_count": null,
   "metadata": {},
   "outputs": [],
   "source": [
    "delta_conn = fs.get_storage_connector(\"telco_delta\")\n",
    "\n",
    "telco_on_dmd = fs.create_on_demand_feature_group(name=\"telco_s3_delta\",\n",
    "                                                version=1,\n",
    "                                                query=\"select * from telco\",\n",
    "                                                description=\"On-demand FG with telecom data\",\n",
    "                                                storage_connector=delta_conn,\n",
    "                                                statistics_config=True)\n",
    "telco_on_dmd.save()"
   ]
  }
 ],
 "metadata": {
  "kernelspec": {
   "display_name": "Python 3",
   "language": "python",
   "name": "python3"
  },
  "language_info": {
   "codemirror_mode": {
    "name": "ipython",
    "version": 3
   },
   "file_extension": ".py",
   "mimetype": "text/x-python",
   "name": "python",
   "nbconvert_exporter": "python",
   "pygments_lexer": "ipython3",
   "version": "3.6.9"
  }
 },
 "nbformat": 4,
 "nbformat_minor": 4
}
