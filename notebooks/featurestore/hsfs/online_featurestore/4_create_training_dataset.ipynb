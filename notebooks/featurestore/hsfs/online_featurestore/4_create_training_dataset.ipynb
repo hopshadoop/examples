{
 "cells": [
  {
   "cell_type": "markdown",
   "id": "b68c127b",
   "metadata": {},
   "source": [
    "---\n",
    "title: \"Create training dataset from online feature store enabled feature groups\"\n",
    "date: 2021-04-25\n",
    "type: technical_note\n",
    "draft: false\n",
    "---"
   ]
  },
  {
   "cell_type": "markdown",
   "id": "2346e772",
   "metadata": {},
   "source": [
    "### Establish a connection with your Hopsworks feature store."
   ]
  },
  {
   "cell_type": "code",
   "execution_count": 1,
   "id": "d9565abd",
   "metadata": {},
   "outputs": [
    {
     "name": "stdout",
     "output_type": "stream",
     "text": [
      "Starting Spark application\n"
     ]
    },
    {
     "data": {
      "text/html": [
       "<table>\n",
       "<tr><th>ID</th><th>YARN Application ID</th><th>Kind</th><th>State</th><th>Spark UI</th><th>Driver log</th></tr><tr><td>3</td><td>application_1619309085643_0004</td><td>pyspark</td><td>idle</td><td><a target=\"_blank\" href=\"/hopsworks-api/yarnui/https://hopsworks0.logicalclocks.com:8089/proxy/application_1619309085643_0004/\">Link</a></td><td><a target=\"_blank\" href=\"/hopsworks-api/yarnui/https://hopsworks0.logicalclocks.com:8044/node/containerlogs/container_1619309085643_0004_01_000001/OnlineFSdemo__meb10000\">Link</a></td></tr></table>"
      ],
      "text/plain": [
       "<IPython.core.display.HTML object>"
      ]
     },
     "metadata": {},
     "output_type": "display_data"
    },
    {
     "name": "stdout",
     "output_type": "stream",
     "text": [
      "SparkSession available as 'spark'.\n",
      "Connected. Call `.close()` to terminate connection gracefully."
     ]
    }
   ],
   "source": [
    "import hsfs\n",
    "connection = hsfs.connection()\n",
    "# get a reference to the feature store, you can access also shared feature stores by providing the feature store name\n",
    "fs = connection.get_feature_store()"
   ]
  },
  {
   "cell_type": "markdown",
   "id": "1c306817",
   "metadata": {},
   "source": [
    "## Get feature groups"
   ]
  },
  {
   "cell_type": "code",
   "execution_count": 2,
   "id": "4a1a0ef3",
   "metadata": {},
   "outputs": [],
   "source": [
    "card_transactions_10m_agg = fs.get_feature_group(\"card_transactions_10m_agg\", version = 1)\n",
    "card_transactions_1h_agg = fs.get_feature_group(\"card_transactions_1h_agg\", version = 1)\n",
    "card_transactions_12h_agg = fs.get_feature_group(\"card_transactions_12h_agg\", version = 1)"
   ]
  },
  {
   "cell_type": "markdown",
   "id": "1b6f705b",
   "metadata": {},
   "source": [
    "## Create training dataset"
   ]
  },
  {
   "cell_type": "code",
   "execution_count": 3,
   "id": "c92305ac",
   "metadata": {},
   "outputs": [
    {
     "name": "stdout",
     "output_type": "stream",
     "text": [
      "<hsfs.training_dataset.TrainingDataset object at 0x7f49f3111410>"
     ]
    }
   ],
   "source": [
    "query = card_transactions_10m_agg.select([\"stdev_amt_per_10m\", \"avg_amt_per_10m\", \"num_trans_per_10m\"])\\\n",
    "                                 .join(card_transactions_1h_agg.select([\"stdev_amt_per_1h\", \"avg_amt_per_1h\", \"num_trans_per_1h\"]))\\\n",
    "                                 .join(card_transactions_12h_agg.select([\"stdev_amt_per_12h\", \"avg_amt_per_12h\", \"num_trans_per_12h\"]))\n",
    "\n",
    "td_meta = fs.create_training_dataset(name=\"card_fraud_model\",\n",
    "                               description=\"Training dataset to train card fraud model\",\n",
    "                               data_format=\"tfrecord\",                               \n",
    "                               version=1)\n",
    "\n",
    "td_meta.save(query)"
   ]
  },
  {
   "cell_type": "code",
   "execution_count": null,
   "id": "42fcd555",
   "metadata": {},
   "outputs": [],
   "source": []
  }
 ],
 "metadata": {
  "kernelspec": {
   "display_name": "PySpark",
   "language": "python",
   "name": "pysparkkernel"
  },
  "language_info": {
   "codemirror_mode": {
    "name": "python",
    "version": 3
   },
   "mimetype": "text/x-python",
   "name": "pyspark",
   "pygments_lexer": "python3"
  }
 },
 "nbformat": 4,
 "nbformat_minor": 5
}