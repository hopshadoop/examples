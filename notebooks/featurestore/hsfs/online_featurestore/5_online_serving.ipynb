{
 "cells": [
  {
   "cell_type": "markdown",
   "id": "48aa4619",
   "metadata": {},
   "source": [
    "---\n",
    "title: \"Online Feature Serving\"\n",
    "date: 2021-04-25\n",
    "type: technical_note\n",
    "draft: false\n",
    "---"
   ]
  },
  {
   "cell_type": "markdown",
   "id": "847bcd09",
   "metadata": {},
   "source": [
    "## Connect to the Feature Store"
   ]
  },
  {
   "cell_type": "code",
   "execution_count": 1,
   "id": "f5c082fc",
   "metadata": {},
   "outputs": [
    {
     "name": "stdout",
     "output_type": "stream",
     "text": [
      "Starting Spark application\n"
     ]
    },
    {
     "data": {
      "text/html": [
       "<table>\n",
       "<tr><th>ID</th><th>YARN Application ID</th><th>Kind</th><th>State</th><th>Spark UI</th><th>Driver log</th></tr><tr><td>4</td><td>application_1619309085643_0005</td><td>pyspark</td><td>idle</td><td><a target=\"_blank\" href=\"/hopsworks-api/yarnui/https://hopsworks0.logicalclocks.com:8089/proxy/application_1619309085643_0005/\">Link</a></td><td><a target=\"_blank\" href=\"/hopsworks-api/yarnui/https://hopsworks0.logicalclocks.com:8044/node/containerlogs/container_1619309085643_0005_01_000001/OnlineFSdemo__meb10000\">Link</a></td></tr></table>"
      ],
      "text/plain": [
       "<IPython.core.display.HTML object>"
      ]
     },
     "metadata": {},
     "output_type": "display_data"
    },
    {
     "name": "stdout",
     "output_type": "stream",
     "text": [
      "SparkSession available as 'spark'.\n",
      "Connected. Call `.close()` to terminate connection gracefully."
     ]
    }
   ],
   "source": [
    "import hsfs\n",
    "\n",
    "connection = hsfs.connection()\n",
    "fs = connection.get_feature_store()"
   ]
  },
  {
   "cell_type": "markdown",
   "id": "0cbb5fae",
   "metadata": {},
   "source": [
    "## Get training dataset"
   ]
  },
  {
   "cell_type": "code",
   "execution_count": 2,
   "id": "2f1d70c0",
   "metadata": {},
   "outputs": [],
   "source": [
    "td_meta = fs.get_training_dataset(\"card_fraud_model\", 1)"
   ]
  },
  {
   "cell_type": "markdown",
   "id": "d7c493a1",
   "metadata": {},
   "source": [
    "To identify which primary key names are used for this training dataset query use serving_keys method"
   ]
  },
  {
   "cell_type": "code",
   "execution_count": 3,
   "id": "44ed7c10",
   "metadata": {},
   "outputs": [
    {
     "name": "stdout",
     "output_type": "stream",
     "text": [
      "{'cc_num'}"
     ]
    }
   ],
   "source": [
    "#`init_prepared_statement` method is needed to get serving_keys in case `get_serving_vector` has not beed called yet. This is not necessary for `get_serving_vector` method itself\n",
    "td_meta.init_prepared_statement() \n",
    "td_meta.serving_keys"
   ]
  },
  {
   "cell_type": "markdown",
   "id": "c02486d5",
   "metadata": {},
   "source": [
    "For demo purposes lets prepare list of primary key values that we are interested in to buils feature vectore from online feature store"
   ]
  },
  {
   "cell_type": "code",
   "execution_count": 4,
   "id": "8f9ffb0b",
   "metadata": {},
   "outputs": [],
   "source": [
    "card_numbers = [\"4867010117638802\",\n",
    "                 \"4564139086560436\", \n",
    "                 \"4638396144844325\",\n",
    "                 \"4460285888258185\", \n",
    "                 \"4032763187099525\", \n",
    "                 \"4650661577010550\", \n",
    "                ]"
   ]
  },
  {
   "cell_type": "code",
   "execution_count": 5,
   "id": "1acc69ad",
   "metadata": {},
   "outputs": [
    {
     "name": "stdout",
     "output_type": "stream",
     "text": [
      "[0.0, 53.98, 1, 2, 386.655, 438.35670686097643, 8, 3033.6029145826396, 1224.9825]\n",
      "[0.0, 64.4, 1, 2, 365.545, 398.1364731470856, 11, 31.47860260269159, 49.25272727272728]\n",
      "[0.0, 74.43, 1, 1, 46.2, 0.0, 8, 205.78118536445453, 136.8475]\n",
      "[0.0, 38.16, 1, 2, 11.29, 15.273506473629428, 8, 3685.9662745141004, 2106.3062499999996]\n",
      "[0.0, 36.26, 1, 1, 68.58, 0.0, 10, 1204.4018071612704, 425.006]\n",
      "[0.0, 86.05, 1, 1, 55.5, 0.0, 10, 1645.126762256737, 755.586]"
     ]
    }
   ],
   "source": [
    "for card_number in card_numbers:\n",
    "    serving_vector = td_meta.get_serving_vector({'cc_num': card_number})\n",
    "    print (serving_vector)"
   ]
  },
  {
   "cell_type": "code",
   "execution_count": null,
   "id": "ac31d523",
   "metadata": {},
   "outputs": [],
   "source": []
  }
 ],
 "metadata": {
  "kernelspec": {
   "display_name": "PySpark",
   "language": "python",
   "name": "pysparkkernel"
  },
  "language_info": {
   "codemirror_mode": {
    "name": "python",
    "version": 3
   },
   "mimetype": "text/x-python",
   "name": "pyspark",
   "pygments_lexer": "python3"
  }
 },
 "nbformat": 4,
 "nbformat_minor": 5
}