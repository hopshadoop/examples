{
 "cells": [
  {
   "cell_type": "raw",
   "id": "4a9f0255",
   "metadata": {},
   "source": [
    "---\n",
    "title: \"Feature Store Tags\"\n",
    "date: 2021-04-15\n",
    "type: technical_note\n",
    "draft: false\n",
    "---"
   ]
  },
  {
   "cell_type": "markdown",
   "id": "5c420913",
   "metadata": {},
   "source": [
    "# Tags\n",
    "\n",
    "The feature store enables users to attach tags to artifacts, such as feature groups or to training datasets. Tags are aditional metadata attached to your artifacts and thus they can be used for an enhance full text search. Adding tags to a feature group provides users with a more dynamic metadata content that can be used for both storage as well as enhancing artifact discoverability. \n",
    "\n",
    "<b>Note</b>: By default Hopsworks makes all metadata searchable, users can opt out for particular featurestores if they want to keep them private.\n",
    "\n",
    "A tag is a {<b>key</b>: <b>value</b>} association, providing additional information about the data, such as for example geographic origin. This is useful in an organization as it adds more context to your data making it easier to share and discover data and artifacts. Tagging is only available in the enterprise version.\n",
    "\n",
    "## Tag Schemas\n",
    "The first step is to define the schemas of tags that can later be attached. These schemas follow the https://json-schema.org as reference. The schemas define legal jsons and these can be primitives, objects or arrays. The schemas themselves are also defined as jsons. \n",
    "\n",
    "Allowed primitive types are:\n",
    "* string\n",
    "* boolean\n",
    "* integer\n",
    "* number (float)\n",
    "    \n",
    "A tag of primitive type - string would look like:\n",
    "```\n",
    "{ \"type\" : \"string\" }\n",
    "```\n",
    "and this would allow a json value of:\n",
    "```\n",
    "string tag value\n",
    "```\n",
    "\n",
    "But we can define arbitrarily complex json schemas, such as:\n",
    "```\n",
    "{\n",
    "  \"type\" : \"object\", \n",
    "  \"properties\" : \n",
    "  {\n",
    "    \"first_name\" : { \"type\" : \"string\" },\n",
    "    \"last_name\" : { \"type\" : \"string\" },\n",
    "    \"age\" : { \"type\" : \"integer\" },\n",
    "    \"hobbies\" : { \n",
    "        \"type\" : \"array\",\n",
    "        \"items\" : { \"type\" : \"string\" }\n",
    "    }\n",
    "  },\n",
    "  \"required\" : [\"first_name\", \"last_name\", \"age\"],\n",
    "  \"additionalProperties\": false\n",
    "}\n",
    "``` \n",
    "and a value that follows this schema would be:\n",
    "```\n",
    "{ \n",
    "  \"first_name\" : \"John\",\n",
    "  \"last_name\" : \"Doe\",\n",
    "  \"age\" : 27,\n",
    "  \"hobbies\" : [\"tennis\", \"reading\"]\n",
    "}\n",
    "```\n",
    "\n",
    "<b>Properties</b> section of a tag is a dictionary that defines field names and types.\n",
    "\n",
    "Json schema are pretty lenient, all that the properties section tells us, is that if a field appears, it should be of the appropriate type. So if the json object contains the field `first_name`, this field cannot be of type `boolean`, for example, it should be of type `string`. What we emphasize here, is that the properties section does not impose that fields declared are mandatory, or that the json object cannot contain other fields that were not defined in the schemas.\n",
    "\n",
    "<b>Required</b> section enforces the mandatory fields. In our case above `first_name`, `last_name`, `age` are declared as mandatory, while hobbies is left as an optional field. \n",
    "\n",
    "<b>Additional Properties</b> section enforces the strictness of the schema. If we set this to `false` the json objects of this schema can only use fields that are declared (mandatoriy or optional) by the schema. No undeclared fields will be allowed.\n",
    "\n",
    "Type object is the default type for schemas, so you can ommit it if you want to keep the schema short. The types can be arbitrarily nested within the schema to create arbitrarily complex types.\n",
    "\n",
    "### Advanced tag usage\n",
    "Json schemas as defined by https://json-schema.org allow for even more sections. \n",
    "\n",
    "We could enhance our previous person schema:\n",
    "* Add a `$schema` section to allow us to use more advanced features of the json schemas defined in later drafts. The default schema draft is 4 and we will use 7 here (latest).\n",
    "* Add an `id` field that is of type string but has to follow a particular regex pattern. We will also make this field mandatory.\n",
    "* Set some rules on `age`, for example age should be an Integer between 0 and 150. \n",
    "* Add an `address` field that is itself an object.\n",
    "\n",
    "\n",
    "```\n",
    "{\n",
    "  \"$schema\": \"http://json-schema.org/draft-07/schema#\",\n",
    "  \"type\" : \"object\", \n",
    "  \"properties\" : \n",
    "  {\n",
    "    \"id\" : {\n",
    "      \"type\" : \"string\",\n",
    "      \"pattern\" : \"^[A-Z]{2}[0-9]{4}$\"\n",
    "    },\n",
    "    \"first_name\" : { \"type\" : \"string\" },\n",
    "    \"last_name\" : { \"type\" : \"string\" },\n",
    "    \"age\" : { \n",
    "      \"type\" : \"integer\",\n",
    "      \"minimum\" : 0,\n",
    "      \"maximum\" : 150\n",
    "    },\n",
    "    \"hobbies\" : { \n",
    "        \"type\" : \"array\",\n",
    "        \"items\" : { \"type\" : \"string\" }\n",
    "    },\n",
    "    \"address\" : {\n",
    "      \"street\" : { \"type\" : \"string\" },\n",
    "      \"city\" : { \"type\" : \"string\" }\n",
    "    }\n",
    "  },\n",
    "  \"required\" : [\"id\", \"first_name\", \"last_name\", \"age\"],\n",
    "  \"additionalProperties\": false\n",
    "}\n",
    "``` \n",
    "and a valid value for this new schema would be:\n",
    "```\n",
    "{\n",
    "  \"id\" : \"AB1234\",\n",
    "  \"first_name\" : \"John\",\n",
    "  \"last_name\" : \"Doe\",\n",
    "  \"age\" : 27,\n",
    "  \"hobbies\" : [\"tennis\", \"reading\"],\n",
    "  \"address\" : {\n",
    "    \"street\" : \"Vasagatan nr. 12\",\n",
    "    \"city\" : \"Stockholm\"\n",
    "  }\n",
    "}\n",
    "```\n",
    "\n",
    "### Notebook required schema setup\n",
    "\n",
    "In order for this notebook to work properly you have to correct schemas setup.\n",
    "\n",
    "* Primitive string\n",
    "    * name: <b>location</b> \n",
    "    * value: <b>{\"type\":\"string\"}</b>\n",
    "* Complex object\n",
    "    * name: <b>person</b>\n",
    "    * value: <b>{\"\\$schema\":\"http://json-schema.org/draft-07/schema#\", \"type\":\"object\",\"properties\":{\"id\":{\"type\":\"string\",\"pattern\":\"^[A-Z]{2}[0-9]{4}\\$\"},\"first_name\":{\"type\":\"string\"},\"last_name\":{\"type\":\"string\"},\"age\":{\"type\":\"integer\",\"minimum\":0,\"maximum\":150},\"hobbies\":{\"type\":\"array\",\"items\":{\"type\":\"string\"}},\"address\":{\"street\":{\"type\":\"string\"},\"city\":{\"type\":\"string\"}}},\"required\":[\"id\",\"first_name\",\"last_name\",\"age\"],\"additionalProperties\":false}</b>\n",
    "\n",
    "### UI operations\n",
    "Creating schemas is currently only possible from the UI by a user with admin role, since the schemas are defined cluster wide. You can also attach and view tags from the UI. \n",
    "\n",
    "For more details on UI operations visit our documentation page: https://docs.hopsworks.ai/latest/generated/tags\n",
    "\n",
    "### References\n",
    "For more references on the schemas check:\n",
    "* Our documentation on https://docs.hopsworks.ai/latest/generated/tags\n",
    "* The reference https://json-schema.org in order to figure out the full capabilities of json schemas"
   ]
  },
  {
   "cell_type": "markdown",
   "id": "f3b6a070",
   "metadata": {},
   "source": [
    "## Notebook tour \n",
    "### Featurestore name\n",
    "Change the name of the featurestore according to the project you are running from. The example was written within the project names: <b>demo_fs_meb10000</b>, which is the feature store demo tour."
   ]
  },
  {
   "cell_type": "code",
   "execution_count": 5,
   "id": "db58108d",
   "metadata": {},
   "outputs": [
    {
     "name": "stdout",
     "output_type": "stream",
     "text": [
      "Connected. Call `.close()` to terminate connection gracefully."
     ]
    }
   ],
   "source": [
    "import hsfs\n",
    "connection = hsfs.connection()\n",
    "fs = connection.get_feature_store(name=\"demo_fs_meb10000_featurestore\")"
   ]
  },
  {
   "cell_type": "markdown",
   "id": "090d6ffa",
   "metadata": {},
   "source": [
    "### Creating a feature group and a training dataset\n",
    "The sections used to create the feature group and the training dataset might fail if the artifacts already exist, created by a previous run of this notebook."
   ]
  },
  {
   "cell_type": "code",
   "execution_count": 27,
   "id": "645ccb72",
   "metadata": {},
   "outputs": [],
   "source": [
    "fg_name = 'tag_fg'\n",
    "td_name = 'tag_td'"
   ]
  },
  {
   "cell_type": "markdown",
   "id": "a28d534d",
   "metadata": {},
   "source": [
    "Create the feature group used in this notebook to attach tags to."
   ]
  },
  {
   "cell_type": "code",
   "execution_count": 28,
   "id": "549bfd58",
   "metadata": {},
   "outputs": [
    {
     "name": "stdout",
     "output_type": "stream",
     "text": [
      "<hsfs.feature_group.FeatureGroup object at 0x7f5f34df3a50>"
     ]
    }
   ],
   "source": [
    "fg_data = []\n",
    "fg_data.append((1, 1, 1))\n",
    "fg_spark_df = spark.createDataFrame(fg_data, ['id', 'fg1_col1', 'fg1_col2'])\n",
    "fg_write = fs.create_feature_group(name=fg_name, version=1, description=\"tags notebook feature group\", primary_key=['id'], time_travel_format=None, statistics_config=False)\n",
    "fg_write.save(fg_spark_df)"
   ]
  },
  {
   "cell_type": "code",
   "execution_count": 29,
   "id": "541269f4",
   "metadata": {},
   "outputs": [
    {
     "name": "stdout",
     "output_type": "stream",
     "text": [
      "VersionWarning: No version provided for getting feature group `tag_fg`, defaulting to `1`."
     ]
    }
   ],
   "source": [
    "fg_read = fs.get_feature_group(fg_name)"
   ]
  },
  {
   "cell_type": "markdown",
   "id": "c3074e5c",
   "metadata": {},
   "source": [
    "Create the training dataset used in this notebook to attach tags to."
   ]
  },
  {
   "cell_type": "code",
   "execution_count": 30,
   "id": "e1956e55",
   "metadata": {},
   "outputs": [
    {
     "name": "stdout",
     "output_type": "stream",
     "text": [
      "<hsfs.training_dataset.TrainingDataset object at 0x7f5f34e35850>"
     ]
    }
   ],
   "source": [
    "td_query = fg_read.select_all()\n",
    "td = fs.create_training_dataset(name=td_name, description=\"tags notebook training dataset\", data_format=\"csv\", version=1)\n",
    "td.save(td_query)"
   ]
  },
  {
   "cell_type": "code",
   "execution_count": 31,
   "id": "97d269d4",
   "metadata": {},
   "outputs": [],
   "source": [
    "td_read = fs.get_training_dataset(td_name, 1)"
   ]
  },
  {
   "cell_type": "markdown",
   "id": "0764c1a6",
   "metadata": {},
   "source": [
    "### Working with tags on featuregroups"
   ]
  },
  {
   "cell_type": "markdown",
   "id": "3ba89ee4",
   "metadata": {},
   "source": [
    "#### Attaching tags"
   ]
  },
  {
   "cell_type": "markdown",
   "id": "aaf94c7d",
   "metadata": {},
   "source": [
    "Attaching a simple key-value(string) tag to your featuregroup.\n",
    "\n",
    "<b>Note</b>: You can only attach one tag value for a tag name, so by calling the add operation on the same tag multiple times, you perform an update operation.\n",
    "If you require attaching multiple values to a tag, like maybe a sequence, consider changing the tag type to an array of the type you just defined."
   ]
  },
  {
   "cell_type": "code",
   "execution_count": 32,
   "id": "0d034644",
   "metadata": {},
   "outputs": [],
   "source": [
    "tag1_name=\"location\"\n",
    "tag1_value=\"Sweden\""
   ]
  },
  {
   "cell_type": "code",
   "execution_count": 33,
   "id": "9d1531a4",
   "metadata": {},
   "outputs": [],
   "source": [
    "fg_read.add_tag(tag1_name, tag1_value)"
   ]
  },
  {
   "cell_type": "markdown",
   "id": "453534ff",
   "metadata": {},
   "source": [
    "#### Listing tags\n",
    "Reading a tag value use the tag key."
   ]
  },
  {
   "cell_type": "code",
   "execution_count": 34,
   "id": "fe1987b0",
   "metadata": {},
   "outputs": [
    {
     "name": "stdout",
     "output_type": "stream",
     "text": [
      "'Sweden'"
     ]
    }
   ],
   "source": [
    "fg_read.get_tag(tag1_name)"
   ]
  },
  {
   "cell_type": "markdown",
   "id": "44556d98",
   "metadata": {},
   "source": [
    "Reading all the tags attached to a feature group."
   ]
  },
  {
   "cell_type": "code",
   "execution_count": 35,
   "id": "516ee858",
   "metadata": {},
   "outputs": [
    {
     "name": "stdout",
     "output_type": "stream",
     "text": [
      "{'location': 'Sweden'}"
     ]
    }
   ],
   "source": [
    "fg_read.get_tags()"
   ]
  },
  {
   "cell_type": "markdown",
   "id": "b66a8a26",
   "metadata": {},
   "source": [
    "#### Deleting tags"
   ]
  },
  {
   "cell_type": "code",
   "execution_count": 36,
   "id": "8d3e1a07",
   "metadata": {},
   "outputs": [],
   "source": [
    "fg_read.delete_tag(tag1_name)"
   ]
  },
  {
   "cell_type": "markdown",
   "id": "1cd604fe",
   "metadata": {},
   "source": [
    "Tag is no longer in the list of attached tags, but can be re-attached at a later time."
   ]
  },
  {
   "cell_type": "code",
   "execution_count": 37,
   "id": "264a67cc",
   "metadata": {},
   "outputs": [
    {
     "name": "stdout",
     "output_type": "stream",
     "text": [
      "{}"
     ]
    }
   ],
   "source": [
    "fg_read.get_tags()"
   ]
  },
  {
   "cell_type": "markdown",
   "id": "675c582e",
   "metadata": {},
   "source": [
    "#### Using tags with more complex values\n",
    "Attaching a simple json object tag."
   ]
  },
  {
   "cell_type": "code",
   "execution_count": 38,
   "id": "4c0e4a97",
   "metadata": {},
   "outputs": [],
   "source": [
    "tag2_name=\"person\""
   ]
  },
  {
   "cell_type": "code",
   "execution_count": 39,
   "id": "e35ae36d",
   "metadata": {},
   "outputs": [],
   "source": [
    "tag2_value={\n",
    "  \"id\" : \"AB1234\",\n",
    "  \"first_name\" : \"John\",\n",
    "  \"last_name\" : \"Doe\",\n",
    "  \"age\" : 27,\n",
    "  \"hobbies\" : [\"tennis\", \"reading\"],\n",
    "  \"address\" : {\n",
    "    \"street\" : \"Vasagatan nr. 12\",\n",
    "    \"city\" : \"Stockholm\"\n",
    "  }\n",
    "}\n",
    "\n",
    "fg_read.add_tag(tag2_name, tag2_value)"
   ]
  },
  {
   "cell_type": "code",
   "execution_count": 40,
   "id": "66ba3247",
   "metadata": {},
   "outputs": [
    {
     "name": "stdout",
     "output_type": "stream",
     "text": [
      "{'id': 'AB1234', 'first_name': 'John', 'last_name': 'Doe', 'age': 27, 'hobbies': ['tennis', 'reading'], 'address': {'street': 'Vasagatan nr. 12', 'city': 'Stockholm'}}"
     ]
    }
   ],
   "source": [
    "fg_read.get_tag(tag2_name)"
   ]
  },
  {
   "cell_type": "markdown",
   "id": "b7e6b3e7",
   "metadata": {},
   "source": [
    "### Working with tags on training datasets\n",
    "The API calls for attaching, reading and deleting tags are exactly the same on training datasets as they are on feature groups."
   ]
  },
  {
   "cell_type": "markdown",
   "id": "c700d2a9",
   "metadata": {},
   "source": [
    "#### Attaching tags"
   ]
  },
  {
   "cell_type": "code",
   "execution_count": 41,
   "id": "00c2ec24",
   "metadata": {},
   "outputs": [],
   "source": [
    "td_read.add_tag(tag1_name, tag1_value)"
   ]
  },
  {
   "cell_type": "markdown",
   "id": "9ec93aca",
   "metadata": {},
   "source": [
    "#### Listing tags"
   ]
  },
  {
   "cell_type": "code",
   "execution_count": 42,
   "id": "d2bb6893",
   "metadata": {},
   "outputs": [
    {
     "name": "stdout",
     "output_type": "stream",
     "text": [
      "{'location': 'Sweden'}"
     ]
    }
   ],
   "source": [
    "td_read.get_tags()"
   ]
  },
  {
   "cell_type": "code",
   "execution_count": 43,
   "id": "9950b84f",
   "metadata": {},
   "outputs": [
    {
     "name": "stdout",
     "output_type": "stream",
     "text": [
      "'Sweden'"
     ]
    }
   ],
   "source": [
    "td_read.get_tag(tag1_name)"
   ]
  },
  {
   "cell_type": "markdown",
   "id": "2d40fd42",
   "metadata": {},
   "source": [
    "#### Deleting tags"
   ]
  },
  {
   "cell_type": "code",
   "execution_count": 44,
   "id": "91954f2a",
   "metadata": {},
   "outputs": [],
   "source": [
    "td_read.delete_tag(tag1_name)"
   ]
  },
  {
   "cell_type": "code",
   "execution_count": 45,
   "id": "028e6a2a",
   "metadata": {},
   "outputs": [
    {
     "name": "stdout",
     "output_type": "stream",
     "text": [
      "{}"
     ]
    }
   ],
   "source": [
    "td_read.get_tags()"
   ]
  },
  {
   "cell_type": "markdown",
   "id": "fe6a2966",
   "metadata": {},
   "source": [
    "### Cleaning up"
   ]
  },
  {
   "cell_type": "markdown",
   "id": "37b896c8",
   "metadata": {},
   "source": [
    "If you want to be able to rerun the notebook with no failed paragraphs you will need to delete the feature group <b>tag_fg</b> and the training dataset <b>tag_td</b>."
   ]
  },
  {
   "cell_type": "code",
   "execution_count": 46,
   "id": "a3a2fee1",
   "metadata": {},
   "outputs": [
    {
     "name": "stdout",
     "output_type": "stream",
     "text": [
      "Connection closed."
     ]
    }
   ],
   "source": [
    "connection.close()"
   ]
  }
 ],
 "metadata": {
  "kernelspec": {
   "display_name": "PySpark",
   "language": "python",
   "name": "pysparkkernel"
  },
  "language_info": {
   "codemirror_mode": {
    "name": "python",
    "version": 3
   },
   "mimetype": "text/x-python",
   "name": "pyspark",
   "pygments_lexer": "python3"
  }
 },
 "nbformat": 4,
 "nbformat_minor": 5
}