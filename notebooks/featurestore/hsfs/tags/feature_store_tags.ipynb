{
 "cells": [
  {
   "cell_type": "markdown",
   "id": "d371d203",
   "metadata": {},
   "source": [
    "## Tags\n",
    "\n",
    "The feature store enables users to attach tags to feature groups or to training datasets. Tags are aditional metadata attached to your artifacts and thus they can be used for an enhance full text search (by default Hopsworks makes all metadata searchable, users can opt out for particular featurestores if they want to keep them private). Adding tags to a feature group provides users with a more dynamic metadata content that can be used for both storage as well as enhancing artifact discoverability.  \n",
    "\n",
    "A tag is a {<b>key</b>: <b>value</b>} association, providing additional information about the data, such as for example geographic origin. This is useful in an organization as it adds more context to your data making it easier to share and discover data and artifacts. Tagging is only available in the enterprise version.\n",
    "\n",
    "### Tag Schemas\n",
    "The first step is to define the schemas of tags that can later be attached. These schemas follow the https://json-schema.org as reference. The schemas define legal jsons and these can be primitives such as integer, float(number), boolean, string, it can also be json objects or arrays. The schemas themselves are also defined as jsons. \n",
    "\n",
    "A schema of a <b>primitive</b> type looks like: \n",
    "```\n",
    "{ \"type\" : \"string\" }\n",
    "```\n",
    "Allowed primitive types are:\n",
    "* string\n",
    "* boolean\n",
    "* integer\n",
    "* number (float)\n",
    "    \n",
    "A schema of a <b>object</b> type looks like:\n",
    "```\n",
    "{\n",
    "  \"type\" : \"object\", \n",
    "  \"properties\" : \n",
    "  {\n",
    "    \"field1\": { \"type\" : \"string\" }, \n",
    "    \"field2\": { \"type\" : \"integer\" }\n",
    "  }\n",
    "}\n",
    "```  \n",
    "\n",
    "Type object is the default type for schemas, so you can ommit it if you want to keep the schema short. The properties field defines a dictionary of field names and their types.\n",
    "\n",
    "A schema of a <b>array</b> of strings type looks like: \n",
    "```\n",
    "{\n",
    "  \"type\" : \"array\", \n",
    "  \"items\" : { \"type\" : \"string\" }\n",
    "}\n",
    "```\n",
    "\n",
    "The array and object types can be arbitrarily nested of course.\n",
    "\n",
    "#### Creating schemas\n",
    "Schemas are defined at a cluster level, so they are available to all projects. They can only be defined by a user with admin rights.\n",
    "\n",
    "![Attach tags using the UI](images/create_schemas.gif)\n",
    "\n",
    "#### Attach tags using the UI\n",
    "Tags can be attached using the feature store UI or programmatically using the API. This API will be described in the rest of this notebook.\n",
    "\n",
    "![Attach tags using the UI](images/attach_tags.gif)\n",
    "\n",
    "### Notebook required schema setup\n",
    "\n",
    "In order for this notebook to work properly you have to correct schemas setup.\n",
    "\n",
    "* Primitive string\n",
    "    * name: <b>test_string</b> \n",
    "    * value: <b>{\"type\":\"string\"}</b>\n",
    "* Array (of strings)\n",
    "    * name: <b>test_array</b>\n",
    "    * value: <b>{\"type\":\"array\",\"items\":{\"type\":\"string\"}}</b>\n",
    "* Json object\n",
    "    * name: <b>test_obj</b>\n",
    "    * value: <b>{\"properties\":{\"f\":{\"type\":\"string\"}}}</b>\n",
    "* Array of objects\n",
    "    * name: <b>test_obj2</b>\n",
    "    * value: <b>{\"type\":\"array\",\"items\":{\"properties\":{\"f\":{\"type\":\"string\"}}}}</b>\n",
    "    "
   ]
  },
  {
   "cell_type": "markdown",
   "id": "b4d90653",
   "metadata": {},
   "source": [
    "#### Featurestore name\n",
    "Change the name of the featurestore according to the project you are running from. The example was written within the project names: <b>demo_fs_meb10000</b>, which is the feature store demo tour."
   ]
  },
  {
   "cell_type": "code",
   "execution_count": 1,
   "id": "aad5ec08",
   "metadata": {},
   "outputs": [
    {
     "name": "stdout",
     "output_type": "stream",
     "text": [
      "Starting Spark application\n"
     ]
    },
    {
     "data": {
      "text/html": [
       "<table>\n",
       "<tr><th>ID</th><th>YARN Application ID</th><th>Kind</th><th>State</th><th>Spark UI</th><th>Driver log</th></tr><tr><td>5</td><td>application_1617826195233_0007</td><td>pyspark</td><td>idle</td><td><a target=\"_blank\" href=\"/hopsworks-api/yarnui/https://hopsworks0.logicalclocks.com:8089/proxy/application_1617826195233_0007/\">Link</a></td><td><a target=\"_blank\" href=\"/hopsworks-api/yarnui/https://hopsworks0.logicalclocks.com:8044/node/containerlogs/container_1617826195233_0007_01_000001/demo_fs_meb10000__meb10000\">Link</a></td></tr></table>"
      ],
      "text/plain": [
       "<IPython.core.display.HTML object>"
      ]
     },
     "metadata": {},
     "output_type": "display_data"
    },
    {
     "name": "stdout",
     "output_type": "stream",
     "text": [
      "SparkSession available as 'spark'.\n",
      "Connected. Call `.close()` to terminate connection gracefully."
     ]
    }
   ],
   "source": [
    "import hsfs\n",
    "connection = hsfs.connection()\n",
    "fs = connection.get_feature_store(name=\"demo_fs_meb10000_featurestore\")"
   ]
  },
  {
   "cell_type": "markdown",
   "id": "1c102cb5",
   "metadata": {},
   "source": [
    "#### Creating a feature group and a training dataset\n",
    "The sections used to create the feature group and the training dataset might fail if the artifacts already exist, created by a previous run of this notebook."
   ]
  },
  {
   "cell_type": "code",
   "execution_count": 2,
   "id": "425527a2",
   "metadata": {},
   "outputs": [],
   "source": [
    "fg_name = 'fg1'\n",
    "td_name = 'td1'"
   ]
  },
  {
   "cell_type": "markdown",
   "id": "59fea5de",
   "metadata": {},
   "source": [
    "Create the feature group used in this notebook to attach tags to."
   ]
  },
  {
   "cell_type": "code",
   "execution_count": 3,
   "id": "0a990e2f",
   "metadata": {},
   "outputs": [
    {
     "name": "stdout",
     "output_type": "stream",
     "text": [
      "<hsfs.feature_group.FeatureGroup object at 0x7fe95eefec90>"
     ]
    }
   ],
   "source": [
    "fg_data = []\n",
    "fg_data.append((1, 1, 1))\n",
    "fg_col_1 = 'fg1' + '_col1'\n",
    "fg_col_2 = 'fg1' + '_col2'\n",
    "\n",
    "fg_spark_df = spark.createDataFrame(fg_data, ['id', fg_col_1, fg_col_2])\n",
    "fg_description = \"synthetic \" + fg_name\n",
    "\n",
    "fg_write = fs.create_feature_group(name=fg_name, version=1, description=fg_description, primary_key=['id'], time_travel_format=None, statistics_config=False)\n",
    "fg_write.save(fg_spark_df)"
   ]
  },
  {
   "cell_type": "code",
   "execution_count": 4,
   "id": "7e479fab",
   "metadata": {},
   "outputs": [
    {
     "name": "stdout",
     "output_type": "stream",
     "text": [
      "VersionWarning: No version provided for getting feature group `fg1`, defaulting to `1`."
     ]
    }
   ],
   "source": [
    "fg_read = fs.get_feature_group(fg_name)"
   ]
  },
  {
   "cell_type": "markdown",
   "id": "a5979e9e",
   "metadata": {},
   "source": [
    "Create the training dataset used in this notebook to attach tags to."
   ]
  },
  {
   "cell_type": "code",
   "execution_count": 5,
   "id": "806da74d",
   "metadata": {},
   "outputs": [
    {
     "name": "stdout",
     "output_type": "stream",
     "text": [
      "<hsfs.training_dataset.TrainingDataset object at 0x7fe95ee98a10>"
     ]
    }
   ],
   "source": [
    "td_query = fg_read.select_all()\n",
    "td_description = \"synthetic \" + td_name\n",
    "td = fs.create_training_dataset(name=td_name, description=td_description, data_format=\"csv\", version=1)\n",
    "td.save(td_query)"
   ]
  },
  {
   "cell_type": "code",
   "execution_count": 6,
   "id": "cd1c9d84",
   "metadata": {},
   "outputs": [],
   "source": [
    "td_read = fs.get_training_dataset(td_name, 1)"
   ]
  },
  {
   "cell_type": "markdown",
   "id": "a5c07fa2",
   "metadata": {},
   "source": [
    "#### Working with tags on featuregroups"
   ]
  },
  {
   "cell_type": "markdown",
   "id": "039264cc",
   "metadata": {},
   "source": [
    "##### Attaching tags"
   ]
  },
  {
   "cell_type": "markdown",
   "id": "b055e7be",
   "metadata": {},
   "source": [
    "Attaching a simple key-value(string) tag to your featuregroup.\n",
    "\n",
    "<b>Note</b>: You can only attach one tag value for a tag name, so by calling the add operation on the same tag multiple times, you perform an update operation.\n",
    "If you require attaching multiple values to a tag, like maybe a sequence, consider changing the tag type to an array of the type you just defined."
   ]
  },
  {
   "cell_type": "code",
   "execution_count": 7,
   "id": "77dc182b",
   "metadata": {},
   "outputs": [],
   "source": [
    "tag1_name=\"test_string\"\n",
    "tag1_value=\"test\""
   ]
  },
  {
   "cell_type": "code",
   "execution_count": 8,
   "id": "12ff875c",
   "metadata": {},
   "outputs": [],
   "source": [
    "fg_read.add_tag(tag1_name, tag1_value)"
   ]
  },
  {
   "cell_type": "markdown",
   "id": "b715d129",
   "metadata": {},
   "source": [
    "##### Listing tags\n",
    "Reading a tag value use the tag key."
   ]
  },
  {
   "cell_type": "code",
   "execution_count": 9,
   "id": "a48df951",
   "metadata": {},
   "outputs": [
    {
     "name": "stdout",
     "output_type": "stream",
     "text": [
      "'test'"
     ]
    }
   ],
   "source": [
    "fg_read.get_tag(tag1_name)"
   ]
  },
  {
   "cell_type": "markdown",
   "id": "81c652c7",
   "metadata": {},
   "source": [
    "Reading all the tags attached to a feature group."
   ]
  },
  {
   "cell_type": "code",
   "execution_count": 10,
   "id": "fc45a90e",
   "metadata": {},
   "outputs": [
    {
     "name": "stdout",
     "output_type": "stream",
     "text": [
      "{'test_string': 'test'}"
     ]
    }
   ],
   "source": [
    "fg_read.get_tags()"
   ]
  },
  {
   "cell_type": "markdown",
   "id": "3fb63c02",
   "metadata": {},
   "source": [
    "##### Deleting tags"
   ]
  },
  {
   "cell_type": "code",
   "execution_count": 11,
   "id": "9843caf7",
   "metadata": {},
   "outputs": [],
   "source": [
    "fg_read.delete_tag(tag1_name)"
   ]
  },
  {
   "cell_type": "markdown",
   "id": "efa31a60",
   "metadata": {},
   "source": [
    "Tag is no longer in the list of attached tags, but can be re-attached at a later time."
   ]
  },
  {
   "cell_type": "code",
   "execution_count": 12,
   "id": "2fe8df55",
   "metadata": {},
   "outputs": [
    {
     "name": "stdout",
     "output_type": "stream",
     "text": [
      "{}"
     ]
    }
   ],
   "source": [
    "fg_read.get_tags()"
   ]
  },
  {
   "cell_type": "markdown",
   "id": "78a8142c",
   "metadata": {},
   "source": [
    "##### Using tags with more complex values\n",
    "Attaching a simple json object tag."
   ]
  },
  {
   "cell_type": "code",
   "execution_count": 13,
   "id": "57aa8616",
   "metadata": {},
   "outputs": [],
   "source": [
    "tag2_name=\"test_obj\""
   ]
  },
  {
   "cell_type": "code",
   "execution_count": 14,
   "id": "d394c5d9",
   "metadata": {},
   "outputs": [],
   "source": [
    "tag2_value={}\n",
    "tag2_value['f']='test'\n",
    "fg_read.add_tag(tag2_name, tag2_value)"
   ]
  },
  {
   "cell_type": "code",
   "execution_count": 15,
   "id": "eab64893",
   "metadata": {},
   "outputs": [
    {
     "name": "stdout",
     "output_type": "stream",
     "text": [
      "{'f': 'test'}"
     ]
    }
   ],
   "source": [
    "fg_read.get_tag(tag2_name)"
   ]
  },
  {
   "cell_type": "markdown",
   "id": "8f01fd00",
   "metadata": {},
   "source": [
    "Attaching repeated values of same type - arrays."
   ]
  },
  {
   "cell_type": "code",
   "execution_count": 16,
   "id": "51f9dcb3",
   "metadata": {},
   "outputs": [],
   "source": [
    "tag3_name=\"test_array\""
   ]
  },
  {
   "cell_type": "code",
   "execution_count": 17,
   "id": "d0efe0b1",
   "metadata": {},
   "outputs": [],
   "source": [
    "tag3_value=[\"test\", \"not\"]\n",
    "fg_read.add_tag(tag3_name, tag3_value)"
   ]
  },
  {
   "cell_type": "code",
   "execution_count": 18,
   "id": "5cf5d4fe",
   "metadata": {},
   "outputs": [
    {
     "name": "stdout",
     "output_type": "stream",
     "text": [
      "['test', 'not']"
     ]
    }
   ],
   "source": [
    "fg_read.get_tag(tag3_name)"
   ]
  },
  {
   "cell_type": "markdown",
   "id": "f411504a",
   "metadata": {},
   "source": [
    "More on arrays of objects."
   ]
  },
  {
   "cell_type": "code",
   "execution_count": 19,
   "id": "51e2d01f",
   "metadata": {},
   "outputs": [],
   "source": [
    "tag4_name=\"test_obj2\""
   ]
  },
  {
   "cell_type": "code",
   "execution_count": 20,
   "id": "3e9c1d59",
   "metadata": {},
   "outputs": [],
   "source": [
    "tag4_value_1={}\n",
    "tag4_value_1['f']='test'\n",
    "tag4_value_2={}\n",
    "tag4_value_2['f']='not'\n",
    "tag4_value=[tag4_value_1, tag4_value_2]\n",
    "fg_read.add_tag(tag4_name, tag4_value)"
   ]
  },
  {
   "cell_type": "code",
   "execution_count": 21,
   "id": "f1ca409d",
   "metadata": {},
   "outputs": [
    {
     "name": "stdout",
     "output_type": "stream",
     "text": [
      "[{'f': 'test'}, {'f': 'not'}]"
     ]
    }
   ],
   "source": [
    "fg_read.get_tag(tag4_name)"
   ]
  },
  {
   "cell_type": "markdown",
   "id": "f82e5f9a",
   "metadata": {},
   "source": [
    "Get all tags attached to a feature group."
   ]
  },
  {
   "cell_type": "code",
   "execution_count": 22,
   "id": "01c0f1dc",
   "metadata": {},
   "outputs": [
    {
     "name": "stdout",
     "output_type": "stream",
     "text": [
      "{'test_obj': {'f': 'test'}, 'test_array': ['test', 'not'], 'test_obj2': [{'f': 'test'}, {'f': 'not'}]}"
     ]
    }
   ],
   "source": [
    "fg_read.get_tags()"
   ]
  },
  {
   "cell_type": "markdown",
   "id": "867b0307",
   "metadata": {},
   "source": [
    "#### Working with tags on training datasets\n",
    "The API calls for attaching, reading and deleting tags are exactly the same on training datasets as they are on feature groups."
   ]
  },
  {
   "cell_type": "markdown",
   "id": "c190365c",
   "metadata": {},
   "source": [
    "##### Attaching tags"
   ]
  },
  {
   "cell_type": "code",
   "execution_count": 23,
   "id": "d5a4a2b6",
   "metadata": {},
   "outputs": [],
   "source": [
    "td_read.add_tag(tag1_name, tag1_value)"
   ]
  },
  {
   "cell_type": "markdown",
   "id": "b1b3f053",
   "metadata": {},
   "source": [
    "##### Listing tags"
   ]
  },
  {
   "cell_type": "code",
   "execution_count": 24,
   "id": "e19cf4d0",
   "metadata": {},
   "outputs": [
    {
     "name": "stdout",
     "output_type": "stream",
     "text": [
      "{'test_string': 'test'}"
     ]
    }
   ],
   "source": [
    "td_read.get_tags()"
   ]
  },
  {
   "cell_type": "code",
   "execution_count": 25,
   "id": "7d702d7f",
   "metadata": {},
   "outputs": [
    {
     "name": "stdout",
     "output_type": "stream",
     "text": [
      "'test'"
     ]
    }
   ],
   "source": [
    "td_read.get_tag(tag1_name)"
   ]
  },
  {
   "cell_type": "markdown",
   "id": "148b9d48",
   "metadata": {},
   "source": [
    "##### Deleting tags"
   ]
  },
  {
   "cell_type": "code",
   "execution_count": 26,
   "id": "ce0b00a3",
   "metadata": {},
   "outputs": [],
   "source": [
    "td_read.delete_tag(tag1_name)"
   ]
  },
  {
   "cell_type": "code",
   "execution_count": 27,
   "id": "e7ba3e58",
   "metadata": {},
   "outputs": [
    {
     "name": "stdout",
     "output_type": "stream",
     "text": [
      "{}"
     ]
    }
   ],
   "source": [
    "td_read.get_tags()"
   ]
  },
  {
   "cell_type": "markdown",
   "id": "24e585a1",
   "metadata": {},
   "source": [
    "#### Search with Tags\n",
    "Once tags are attached, the feature groups are now searchable also by their tags, both keys and values.\n",
    "\n",
    "![Attach tags using the UI](images/search_by_tags.gif)"
   ]
  },
  {
   "cell_type": "markdown",
   "id": "216de546",
   "metadata": {},
   "source": [
    "#### Cleaning up"
   ]
  },
  {
   "cell_type": "markdown",
   "id": "4824ec2f",
   "metadata": {},
   "source": [
    "If you want to be able to rerun the notebook with no failed paragraphs you will need to delete the feature group <b>fg1</b> and the training dataset <b>td1</b>."
   ]
  },
  {
   "cell_type": "code",
   "execution_count": 28,
   "id": "646568f3",
   "metadata": {},
   "outputs": [
    {
     "name": "stdout",
     "output_type": "stream",
     "text": [
      "Connection closed."
     ]
    }
   ],
   "source": [
    "connection.close()"
   ]
  }
 ],
 "metadata": {
  "kernelspec": {
   "display_name": "PySpark",
   "language": "python",
   "name": "pysparkkernel"
  },
  "language_info": {
   "codemirror_mode": {
    "name": "python",
    "version": 3
   },
   "mimetype": "text/x-python",
   "name": "pyspark",
   "pygments_lexer": "python3"
  }
 },
 "nbformat": 4,
 "nbformat_minor": 5
}