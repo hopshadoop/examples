{
 "cells": [
  {
   "cell_type": "markdown",
   "source": [
    "---\n",
    "title: \"Maggy Distributed Hyper Parameter Optimization with Tensorflow example\"\n",
    "date: 2021-05-03\n",
    "type: technical_note\n",
    "draft: false\n",
    "---"
   ],
   "metadata": {
    "collapsed": false
   }
  },
  {
   "cell_type": "markdown",
   "metadata": {},
   "source": [
    "## maggy - IRIS Example\n",
    "---\n",
    "Created: 24/04/2019"
   ]
  },
  {
   "cell_type": "markdown",
   "metadata": {},
   "source": [
    "This notebook illustrates the usage of the maggy framework for asynchronous hyperparameter optimization on the famous Iris dataset.\n",
    "\n",
    "In this specific example we are using random search over three parameters and we are deploying the median early stopping rule in order to make use of the asynchrony of the framework. The Median Stopping Rule implements the simple strategy of stopping a trial if its performance falls below the median of other trials at similar points in time.\n",
    "\n",
    "We are using Keras for this example. This notebook works with any Spark cluster given that you are using maggy 0.1. In future versions we will add functionality that relies on Hopsworks.\n",
    "\n",
    "This notebook has been tested with TensorFlow 2.4.1 and Spark 3.0.1.  \n",
    "Requires Python 3.6 or higher."
   ]
  },
  {
   "cell_type": "markdown",
   "metadata": {},
   "source": [
    "### 1. Spark Session"
   ]
  },
  {
   "cell_type": "markdown",
   "metadata": {},
   "source": [
    "Make sure you have a running Spark Session/Context available. On Hopsworks just execute a simple command to start the spark application."
   ]
  },
  {
   "cell_type": "code",
   "execution_count": 7,
   "metadata": {
    "pycharm": {
     "name": "#%%\n"
    }
   },
   "outputs": [],
   "source": [
    "\n",
    "import pyspark\n",
    "sp = pyspark.sql.SparkSession.builder \\\n",
    "    .master(\"local\") \\\n",
    "    .appName(\"f-mnist-maggy\") \\\n",
    "    .config(\"spark.dynamicAllocation.enabled\", \"true\") \\\n",
    "    .config(\"spark.executor.cores\", 4) \\\n",
    "    .config(\n",
    "    \"spark.dynamicAllocation.minExecutors\",\"1\") \\\n",
    "    .config(\"spark.dynamicAllocation.maxExecutors\",\"5\") \\\n",
    "    .getOrCreate()"
   ]
  },
  {
   "cell_type": "code",
   "execution_count": 8,
   "metadata": {
    "pycharm": {
     "name": "#%%\n"
    }
   },
   "outputs": [],
   "source": [
    "#spark.sparkContext.getConf().getAll()"
   ]
  },
  {
   "cell_type": "markdown",
   "metadata": {},
   "source": [
    "### 2. Searchspace definition\n",
    "\n"
   ]
  },
  {
   "cell_type": "markdown",
   "metadata": {},
   "source": [
    "We want to conduct random search for the Iris example on three hyperparameters: Kernel size, pooling size and dropout rate. Hence, we have two continuous integer valued parameters and one double valued parameter."
   ]
  },
  {
   "cell_type": "code",
   "execution_count": 9,
   "metadata": {},
   "outputs": [
    {
     "name": "stdout",
     "output_type": "stream",
     "text": [
      "Hyperparameter added: kernel\n",
      "Hyperparameter added: pool\n",
      "Hyperparameter added: dropout\n"
     ]
    }
   ],
   "source": [
    "from maggy import Searchspace\n",
    "\n",
    "# The searchspace can be instantiated with parameters\n",
    "sp = Searchspace(kernel=('INTEGER', [2, 8]), pool=('INTEGER', [2, 8]))\n",
    "\n",
    "# Or additional parameters can be added one by one\n",
    "sp.add('dropout', ('DOUBLE', [0.01, 0.99]))"
   ]
  },
  {
   "cell_type": "markdown",
   "metadata": {},
   "source": [
    "### 3. Model training definition\n",
    "\n",
    "The programming model is that you wrap the code containing the model training inside a wrapper function. Inside that wrapper function provide all imports and parts that make up your experiment.\n",
    "\n",
    "There are several requirements for this wrapper function:\n",
    "\n",
    "1. The function should take the hyperparameters as arguments, plus one additional parameter `reporter` which is needed for reporting the current metric to the experiment driver.\n",
    "2. The function should return the metric that you want to optimize for. This should coincide with the metric being reported in the Keras callback (see next point).\n",
    "3. In order to leverage on the early stopping capabilities of maggy, you need to make use of the maggy reporter API. By including the reporter in your training loop, you are telling maggy which metric to report back to the experiment driver for optimization and to check for early stopping. It is as easy as adding `reporter.broadcast(metric=YOUR_METRIC)` for example at the end of your epoch or batch training step and adding a `reporter` argument to your function signature. If you are not writing your own training loop you can use the pre-written Keras callbacks:\n",
    "    - KerasBatchEnd\n",
    "    - KerasEpochEnd  \n",
    "(Please see documentation for a detailed explanation.)\n",
    "\n",
    "We are going to use the `KerasBatchEnd` callback to report back the accuracy after each batch. However, note that in the BatchEnd callback we have only access to training accuracy since validation after each batch would be too expensive.\n"
   ]
  },
  {
   "cell_type": "code",
   "execution_count": 10,
   "metadata": {},
   "outputs": [],
   "source": [
    "from maggy import experiment\n",
    "from maggy.callbacks import KerasBatchEnd"
   ]
  },
  {
   "cell_type": "markdown",
   "metadata": {},
   "source": [
    "Definition of the training wrapper function:\n",
    "(maggy specific parts are highlighted with comments and correspond to the three points described above.)"
   ]
  },
  {
   "cell_type": "code",
   "execution_count": 11,
   "metadata": {},
   "outputs": [],
   "source": [
    "#########\n",
    "### maggy: hyperparameters as arguments and including the reporter\n",
    "#########\n",
    "def training_function(kernel, pool, dropout, reporter):\n",
    "    import numpy as np\n",
    "    \n",
    "    import tensorflow as tf\n",
    "    from tensorflow import keras\n",
    "    from tensorflow.keras.models import Sequential\n",
    "    from tensorflow.keras.layers import Dense, Dropout, Flatten, Conv2D, MaxPooling2D\n",
    "    from tensorflow.keras.callbacks import TensorBoard\n",
    "    from tensorflow.keras.optimizers import RMSprop\n",
    "    from tensorflow.keras.utils import to_categorical \n",
    "    \n",
    "    from maggy import tensorboard\n",
    "    from sklearn import datasets\n",
    "    from sklearn.model_selection import train_test_split\n",
    "\n",
    "    log_dir = tensorboard.logdir()\n",
    "\n",
    "    # Import Iris data\n",
    "    iris = datasets.load_iris()\n",
    "    X = iris.data[:, :2]  # we only take the first two features.\n",
    "    y = iris.target\n",
    "\n",
    "    model = Sequential()\n",
    "    model.add(Dense(512,activation=\"relu\",input_shape=(2,)))\n",
    "    model.add(Dense(64,activation=\"tanh\"))\n",
    "    model.add(Dropout(0.2))\n",
    "    model.add(Dense(16,activation=\"relu\"))\n",
    "    model.add(Dense(3,activation=\"softmax\"))\n",
    "\n",
    "    model.compile(loss=\"categorical_crossentropy\",optimizer=RMSprop(),metrics=['accuracy'])\n",
    "\n",
    "    # Setup TensorBoard\n",
    "    tb_callback = TensorBoard(        \n",
    "        log_dir,\n",
    "        update_freq='batch',\n",
    "        profile_batch=0,  # workaround for issue #2084\n",
    "    )\n",
    "    \n",
    "    #########\n",
    "    ### maggy: REPORTER API through keras callback\n",
    "    #########\n",
    "    callbacks = [KerasBatchEnd(reporter, metric='accuracy'), tb_callback]\n",
    "\n",
    "\n",
    "    x_train, x_test, y_train, y_test = train_test_split(X, y, test_size=0.2)\n",
    "    y_train = to_categorical(y_train)\n",
    "    y_test = to_categorical(y_test)\n",
    "    \n",
    "    model.fit(x_train,y_train,\n",
    "               batch_size=10,\n",
    "               epochs=10,\n",
    "               validation_data=(x_test,y_test))\n",
    "    \n",
    "    score = model.evaluate(x_test, y_test, verbose=1)\n",
    "    \n",
    "    # Using print in the wrapper function will print underneath the Jupyter Cell with a \n",
    "    # prefix to indicate which prints come from the same executor\n",
    "    \n",
    "    print('Test loss:', score[0])\n",
    "    print('Test accuracy:', score[1])\n",
    "    \n",
    "    #########\n",
    "    ### maggy: return the metric to be optimized, test accuracy in this case\n",
    "    #########\n",
    "    return score[1]"
   ]
  },
  {
   "cell_type": "markdown",
   "metadata": {},
   "source": [
    "### 4. Launching the experiment\n",
    "\n",
    "Finally, we are ready to launch the maggy experiment.\n",
    "There are a variety of parameters to specify, some of which are optional:\n",
    "1. `train_fn`: your previously specified training wrapper function\n",
    "2. `searchspace`: the searchspace object\n",
    "3. `optimizer`: the optimization algorithm to be used (only 'randomsearch' available at the moment)\n",
    "4. `direction`: maximize or minimize the specified metric\n",
    "5. `num_trials`: number of different parameter combinations to be evaluated\n",
    "6. `name`: an experiment name\n",
    "7. `hb_interval`: Time in seconds between the heartbeat messages with the metric to the experiment driver. A sensible value is not much smaller than the frequency in which your training loop updates the metric. So using the KerasBatchEnd reporter callback, it does not make sense having a much smaller interval than the amount of time a batch takes to be processed.\n",
    "8. `es_interval`: Interval in seconds, specifying how often the currently running trials should be checked for early stopping. Should be bigger than the `hb_interval`.\n",
    "9. `es_min`: Minimum number of trials to be finished before starting to check for early stopping. For example, the median stopping rule implements the simple strategy of stopping a trial if its performance falls below the median of finished trials at similar points in time. We only want to start comparing to the median once there are several trials finished."
   ]
  },
  {
   "cell_type": "code",
   "execution_count": 12,
   "metadata": {},
   "outputs": [
    {
     "name": "stdout",
     "output_type": "stream",
     "text": [
      "Started Maggy Experiment: hp_tuning_test, local-1614678752937, run 2\n",
      "\n",
      "------ RandomSearch Results ------ direction(max) \n",
      "BEST combination {\"kernel\": 3, \"pool\": 6, \"dropout\": 0.388353358021858} -- metric 0.7\n",
      "WORST combination {\"kernel\": 8, \"pool\": 8, \"dropout\": 0.11248860558867116} -- metric 0.6333333\n",
      "AVERAGE metric -- 0.6666666716337204\n",
      "EARLY STOPPED Trials -- 0\n",
      "Total job time 0 hours, 0 minutes, 33 seconds\n",
      "\n",
      "Finished Experiment\n"
     ]
    }
   ],
   "source": [
    "from maggy.experiment_config import OptimizationConfig\n",
    "\n",
    "config = OptimizationConfig(num_trials=4,\n",
    "                            optimizer=\"randomsearch\",\n",
    "                            searchspace=sp,\n",
    "                            direction=\"max\",\n",
    "                            es_interval=1,\n",
    "                            es_min=5,\n",
    "                            name=\"hp_tuning_test\"\n",
    "                            )\n",
    "\n",
    "result = experiment.lagom(train_fn=training_function, config=config)"
   ]
  },
  {
   "cell_type": "markdown",
   "metadata": {},
   "source": [
    "To observe the progress, you can check the log of the jupyter notebook's server. The log will be saved in 'path-to-work-directory/experiments-log/'. TensorBoard support is added in the coming version."
   ]
  }
 ],
 "metadata": {
  "kernelspec": {
   "display_name": "Python 3",
   "language": "python",
   "name": "python3"
  },
  "language_info": {
   "codemirror_mode": {
    "name": "ipython",
    "version": 3
   },
   "file_extension": ".py",
   "mimetype": "text/x-python",
   "name": "python",
   "nbconvert_exporter": "python",
   "pygments_lexer": "ipython3",
   "version": "3.7.0"
  }
 },
 "nbformat": 4,
 "nbformat_minor": 2
}