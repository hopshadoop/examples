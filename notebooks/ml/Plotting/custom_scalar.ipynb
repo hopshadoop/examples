{
 "cells": [
  {
   "cell_type": "markdown",
   "metadata": {},
   "source": [
    "# TensorBoard custom scalar\n",
    "---\n",
    "\n",
    "<font color='red'> <h3>Tested with TensorFlow/TensorBoard 1.15.0</h3></font>\n",
    "\n",
    "![Image7-Monitor.png](../images/custom_scalar.png)"
   ]
  },
  {
   "cell_type": "code",
   "execution_count": 1,
   "metadata": {},
   "outputs": [
    {
     "name": "stdout",
     "output_type": "stream",
     "text": [
      "Starting Spark application\n"
     ]
    },
    {
     "data": {
      "text/html": [
       "<table>\n",
       "<tr><th>ID</th><th>YARN Application ID</th><th>Kind</th><th>State</th><th>Spark UI</th><th>Driver log</th></tr><tr><td>5</td><td>application_1582818676081_0009</td><td>pyspark</td><td>idle</td><td><a target=\"_blank\" href=\"http://hopsworks0.logicalclocks.com:8088/proxy/application_1582818676081_0009/\">Link</a></td><td><a target=\"_blank\" href=\"http://hopsworks0.logicalclocks.com:8042/node/containerlogs/container_e01_1582818676081_0009_01_000001/demo_deep_learning_admin000__meb10000\">Link</a></td></tr></table>"
      ],
      "text/plain": [
       "<IPython.core.display.HTML object>"
      ]
     },
     "metadata": {},
     "output_type": "display_data"
    },
    {
     "name": "stdout",
     "output_type": "stream",
     "text": [
      "SparkSession available as 'spark'.\n"
     ]
    }
   ],
   "source": [
    "def custom_scalar():\n",
    "    # Copyright 2017 The TensorFlow Authors. All Rights Reserved.\n",
    "    #\n",
    "    # Licensed under the Apache License, Version 2.0 (the \"License\");\n",
    "    # you may not use this file except in compliance with the License.\n",
    "    # You may obtain a copy of the License at\n",
    "    #\n",
    "    #     http://www.apache.org/licenses/LICENSE-2.0\n",
    "    #\n",
    "    # Unless required by applicable law or agreed to in writing, software\n",
    "    # distributed under the License is distributed on an \"AS IS\" BASIS,\n",
    "    # WITHOUT WARRANTIES OR CONDITIONS OF ANY KIND, either express or implied.\n",
    "    # See the License for the specific language governing permissions and\n",
    "    # limitations under the License.\n",
    "    # ==============================================================================\n",
    "    \"\"\"Create sample PR curve summary data.\n",
    "    The logic below logs scalar data and then lays out the custom scalars dashboard.\n",
    "    \"\"\"\n",
    "\n",
    "    from six.moves import xrange  # pylint: disable=redefined-builtin\n",
    "    import tensorflow as tf\n",
    "    #from tensorboard.compat import tf\n",
    "    from tensorboard import summary as summary_lib\n",
    "    from tensorboard.plugins.custom_scalar import layout_pb2\n",
    "\n",
    "    from hops import tensorboard\n",
    "\n",
    "    LOGDIR = tensorboard.logdir()\n",
    "\n",
    "\n",
    "    def run():\n",
    "      \"\"\"Run custom scalar demo and generate event files.\"\"\"\n",
    "      step = tf.placeholder(tf.float32, shape=[])\n",
    "\n",
    "      with tf.name_scope('loss'):\n",
    "        # Specify 2 different loss values, each tagged differently.\n",
    "        summary_lib.scalar('foo', tf.pow(0.9, step))\n",
    "        summary_lib.scalar('bar', tf.pow(0.85, step + 2))\n",
    "\n",
    "        # Log metric baz as well as upper and lower bounds for a margin chart.\n",
    "        middle_baz_value = step + 4 * tf.random_uniform([]) - 2\n",
    "        summary_lib.scalar('baz', middle_baz_value)\n",
    "        summary_lib.scalar('baz_lower',\n",
    "                           middle_baz_value - 6.42 - tf.random_uniform([]))\n",
    "        summary_lib.scalar('baz_upper',\n",
    "                           middle_baz_value + 6.42 + tf.random_uniform([]))\n",
    "\n",
    "      with tf.name_scope('trigFunctions'):\n",
    "        summary_lib.scalar('cosine', tf.cos(step))\n",
    "        summary_lib.scalar('sine', tf.sin(step))\n",
    "        summary_lib.scalar('tangent', tf.tan(step))\n",
    "\n",
    "      merged_summary = tf.summary.merge_all()\n",
    "\n",
    "      with tf.Session() as sess, tf.summary.FileWriter(LOGDIR) as writer:\n",
    "        # We only need to specify the layout once (instead of per step).\n",
    "        layout_summary = summary_lib.custom_scalar_pb(\n",
    "            layout_pb2.Layout(category=[\n",
    "                layout_pb2.Category(\n",
    "                    title='losses',\n",
    "                    chart=[\n",
    "                        layout_pb2.Chart(\n",
    "                            title='losses',\n",
    "                            multiline=layout_pb2.MultilineChartContent(\n",
    "                                tag=[r'loss(?!.*margin.*)'],)),\n",
    "                        layout_pb2.Chart(\n",
    "                            title='baz',\n",
    "                            margin=layout_pb2.MarginChartContent(\n",
    "                                series=[\n",
    "                                    layout_pb2.MarginChartContent.Series(\n",
    "                                        value='loss/baz/scalar_summary',\n",
    "                                        lower='loss/baz_lower/scalar_summary',\n",
    "                                        upper='loss/baz_upper/scalar_summary'\n",
    "                                    ),\n",
    "                                ],)),\n",
    "                    ]),\n",
    "                layout_pb2.Category(\n",
    "                    title='trig functions',\n",
    "                    chart=[\n",
    "                        layout_pb2.Chart(\n",
    "                            title='wave trig functions',\n",
    "                            multiline=layout_pb2.MultilineChartContent(\n",
    "                                tag=[\n",
    "                                    r'trigFunctions/cosine', r'trigFunctions/sine'\n",
    "                                ],)),\n",
    "                        # The range of tangent is different. Give it its own chart.\n",
    "                        layout_pb2.Chart(\n",
    "                            title='tan',\n",
    "                            multiline=layout_pb2.MultilineChartContent(\n",
    "                                tag=[r'trigFunctions/tangent'],)),\n",
    "                    ],\n",
    "                    # This category we care less about. Make it initially closed.\n",
    "                    closed=True),\n",
    "            ]))\n",
    "        writer.add_summary(layout_summary)\n",
    "\n",
    "        for i in xrange(42):\n",
    "          summary = sess.run(merged_summary, feed_dict={step: i})\n",
    "          writer.add_summary(summary, global_step=i)\n",
    "    run()"
   ]
  },
  {
   "cell_type": "code",
   "execution_count": 2,
   "metadata": {},
   "outputs": [
    {
     "name": "stdout",
     "output_type": "stream",
     "text": [
      "Finished Experiment \n",
      "\n",
      "('hdfs://10.0.2.15:8020/Projects/demo_deep_learning_admin000/Experiments/application_1582818676081_0009_1', {'log': 'Experiments/application_1582818676081_0009_1/output.log'})"
     ]
    }
   ],
   "source": [
    "from hops import experiment\n",
    "experiment.launch(custom_scalar)"
   ]
  }
 ],
 "metadata": {
  "kernelspec": {
   "display_name": "PySpark",
   "language": "python",
   "name": "pysparkkernel"
  },
  "language_info": {
   "codemirror_mode": {
    "name": "python",
    "version": 3
   },
   "mimetype": "text/x-python",
   "name": "pyspark",
   "pygments_lexer": "python3"
  }
 },
 "nbformat": 4,
 "nbformat_minor": 4
}