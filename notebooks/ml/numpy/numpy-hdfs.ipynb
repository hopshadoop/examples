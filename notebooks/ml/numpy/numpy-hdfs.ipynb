{
 "cells": [
  {
   "cell_type": "markdown",
   "metadata": {},
   "source": [
    "Numpy - read/write CSV files with HopsFS (HDFS)\n",
    "-------------------------------------------------------------------------------"
   ]
  },
  {
   "cell_type": "code",
   "execution_count": 1,
   "metadata": {},
   "outputs": [],
   "source": [
    "from hops import hdfs\n",
    "from hops import numpy_helper as numpy\n",
    "data = numpy.load(\"TourData/numpy/C_test.npy\")\n",
    "\n",
    "data.shape\n",
    "\n",
    "numpy.save(\"Resources/project-relative-path.npy\", data)\n",
    "numpy.save(hdfs.project_path() + \"/Resources/full-path.npy\", data)"
   ]
  }
 ],
 "metadata": {
  "kernelspec": {
   "display_name": "python-demo_featurestore_admin000__meb10000",
   "language": "python",
   "name": "python-demo_featurestore_admin000__meb10000"
  },
  "language_info": {
   "codemirror_mode": {
    "name": "ipython",
    "version": 2
   },
   "file_extension": ".py",
   "mimetype": "text/x-python",
   "name": "python",
   "nbconvert_exporter": "python",
   "pygments_lexer": "ipython3",
   "version": "2.7.15"
  }
 },
 "nbformat": 4,
 "nbformat_minor": 2
}