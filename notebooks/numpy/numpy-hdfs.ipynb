{
 "cells": [
  {
   "cell_type": "markdown",
   "metadata": {},
   "source": [
    "Numpy - read/write CSV files with HopsFS (HDFS)\n",
    "-------------------------------------------------------------------------------"
   ]
  },
  {
   "cell_type": "code",
   "execution_count": null,
   "metadata": {},
   "outputs": [],
   "source": [
    "from hops import hdfs\n",
    "from hops import numpy\n",
    "data = numpy.load(\"Resources/C_test.npy\")\n",
    "\n",
    "data.shape\n",
    "\n",
    "numpy.save(\"Resources/project-relative-path.npy\", data)\n",
    "numpy.save(hdfs.project_path() + \"/Resources/full-path.npy\", data)\n"
   ]
  }
 ],
 "metadata": {
  "kernelspec": {
   "display_name": "python-demo_deep_learning_admin000__meb10000",
   "language": "python",
   "name": "python-demo_deep_learning_admin000__meb10000"
  },
  "language_info": {
   "codemirror_mode": {
    "name": "ipython",
    "version": 3
   },
   "file_extension": ".py",
   "mimetype": "text/x-python",
   "name": "python",
   "nbconvert_exporter": "python",
   "pygments_lexer": "ipython3",
   "version": "3.6.8"
  }
 },
 "nbformat": 4,
 "nbformat_minor": 2
}