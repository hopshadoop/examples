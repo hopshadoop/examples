{
 "cells": [
  {
   "cell_type": "markdown",
   "metadata": {},
   "source": [
    "## Imports"
   ]
  },
  {
   "cell_type": "code",
   "execution_count": 1,
   "metadata": {},
   "outputs": [
    {
     "name": "stdout",
     "output_type": "stream",
     "text": [
      "Starting Spark application\n"
     ]
    },
    {
     "data": {
      "text/html": [
       "<table>\n",
       "<tr><th>ID</th><th>YARN Application ID</th><th>Kind</th><th>State</th><th>Spark UI</th><th>Driver log</th><th>Current session?</th></tr><tr><td>4</td><td>application_1544974908167_0026</td><td>pyspark</td><td>idle</td><td><a target=\"_blank\" href=\"http://hopsworks0.logicalclocks.com:8088/proxy/application_1544974908167_0026/\">Link</a></td><td><a target=\"_blank\" href=\"http://hopsworks0.logicalclocks.com:8042/node/containerlogs/container_e01_1544974908167_0026_01_000001/fs_demo__meb10000\">Link</a></td><td>✔</td></tr></table>"
      ],
      "text/plain": [
       "<IPython.core.display.HTML object>"
      ]
     },
     "metadata": {},
     "output_type": "display_data"
    },
    {
     "name": "stdout",
     "output_type": "stream",
     "text": [
      "SparkSession available as 'spark'.\n"
     ]
    }
   ],
   "source": [
    "from hops import featurestore"
   ]
  },
  {
   "cell_type": "markdown",
   "metadata": {},
   "source": [
    "## Get Project Featurestore\n",
    "\n",
    "Each project with the featurestore enabled gets its own Hive database for the featurestore, the name of the featurestore database is 'projectname_featurestore' and can be retrieved from the hops-util-py featurestore API"
   ]
  },
  {
   "cell_type": "code",
   "execution_count": null,
   "metadata": {},
   "outputs": [],
   "source": [
    "featurestore.project_featurestore()"
   ]
  },
  {
   "cell_type": "markdown",
   "metadata": {},
   "source": [
    "## Get all Featurestores Accessible in the Current Project"
   ]
  },
  {
   "cell_type": "markdown",
   "metadata": {},
   "source": [
    "Feature stores can be shared across projects just like other Hopsworks datasets. You can use this API function to list all the featurestores accessible in the project programmatically."
   ]
  },
  {
   "cell_type": "code",
   "execution_count": null,
   "metadata": {},
   "outputs": [],
   "source": [
    "featurestore.get_project_featurestores()"
   ]
  },
  {
   "cell_type": "markdown",
   "metadata": {},
   "source": [
    "## Get Individual Feature"
   ]
  },
  {
   "cell_type": "markdown",
   "metadata": {},
   "source": [
    "When retrieving a single feature from the featurestore, the hops-util-py library will infer which featuregroup the feature belongs to by querying the metastore, but you can also explicitly specify which featuregroup and version to query. If there are multiple features of the same name in the featurestore, it is required to specify enough information to uniquely identify the feature (e.g which featuregroup and which version).  If no featurestore is provided it will default to the project's featurestore."
   ]
  },
  {
   "cell_type": "markdown",
   "metadata": {},
   "source": [
    "Without specifying featuregroup:"
   ]
  },
  {
   "cell_type": "code",
   "execution_count": null,
   "metadata": {},
   "outputs": [],
   "source": [
    "featurestore.get_feature(\"action\").show(5)"
   ]
  },
  {
   "cell_type": "markdown",
   "metadata": {},
   "source": [
    "With specifed featuregroup:"
   ]
  },
  {
   "cell_type": "code",
   "execution_count": null,
   "metadata": {},
   "outputs": [],
   "source": [
    "featurestore.get_feature(\"action\", \n",
    "                         featurestore=featurestore.project_featurestore(), \n",
    "                         featuregroup=\"web_logs_features\", \n",
    "                         featuregroup_version = 1).show(5)"
   ]
  },
  {
   "cell_type": "markdown",
   "metadata": {},
   "source": [
    "## Get Featuregroup"
   ]
  },
  {
   "cell_type": "markdown",
   "metadata": {},
   "source": [
    "You can get an entire featuregroup from the API. If no featurestore is provided the API will default to the project's featurestore, if no version is provided it will default to version 1 of the featuregroup."
   ]
  },
  {
   "cell_type": "code",
   "execution_count": null,
   "metadata": {},
   "outputs": [],
   "source": [
    "featurestore.get_featuregroup(\"trx_summary_features\").show(5)"
   ]
  },
  {
   "cell_type": "code",
   "execution_count": null,
   "metadata": {},
   "outputs": [],
   "source": [
    "featurestore.get_featuregroup(\"trx_summary_features\", \n",
    "                              featurestore=featurestore.project_featurestore(), \n",
    "                              featuregroup_version = 1).show(5)"
   ]
  },
  {
   "cell_type": "markdown",
   "metadata": {},
   "source": [
    "## Get Set of Features"
   ]
  },
  {
   "cell_type": "markdown",
   "metadata": {},
   "source": [
    "When retrieving a list of features from the featurestore, the hops-util-py library will infer which featuregroup the features belongs to by querying the metastore. If the features reside in different featuregroups, the library will also **try** to infer how to join the features together based on common columns. If the JOIN query cannot be inferred due to existence of multiple features with the same name or non-obvious JOIN query, the user need to supply enough information to the API call to be able to query the featurestore. If the user already knows the JOIN query it can also run `featurestore.sql(joinQuery)` directly (an example of this is shown further down in this notebook). If no featurestore is provided it will default to the project's featurestore."
   ]
  },
  {
   "cell_type": "markdown",
   "metadata": {},
   "source": [
    "Without specifying featuregroups and join key:"
   ]
  },
  {
   "cell_type": "code",
   "execution_count": null,
   "metadata": {},
   "outputs": [],
   "source": [
    "featurestore.get_features([\"pagerank\", \"triangle_count\", \"avg_trx\"], \n",
    "             featurestore=featurestore.project_featurestore()).show(5)"
   ]
  },
  {
   "cell_type": "markdown",
   "metadata": {},
   "source": [
    "Without specifying the join key but specifying featuregroups:"
   ]
  },
  {
   "cell_type": "code",
   "execution_count": null,
   "metadata": {},
   "outputs": [],
   "source": [
    "featurestore.get_features([\"pagerank\", \"triangle_count\", \"avg_trx\"], \n",
    "             featurestore=featurestore.project_featurestore(), \n",
    "             featuregroups_version_dict={\n",
    "                 \"trx_graph_summary_features\": 1, \n",
    "                \"trx_summary_features\": 1\n",
    "             }).show(5)"
   ]
  },
  {
   "cell_type": "markdown",
   "metadata": {},
   "source": [
    "Specifying both featuregroups and join key:"
   ]
  },
  {
   "cell_type": "code",
   "execution_count": null,
   "metadata": {},
   "outputs": [],
   "source": [
    "featurestore.get_features([\"pagerank\", \"triangle_count\", \"avg_trx\"], \n",
    "             featurestore=featurestore.project_featurestore(), \n",
    "             featuregroups_version_dict={\n",
    "                 \"trx_graph_summary_features\": 1, \n",
    "                \"trx_summary_features\": 1\n",
    "             }, \n",
    "             join_key=\"cust_id\").show(5)"
   ]
  },
  {
   "cell_type": "markdown",
   "metadata": {},
   "source": [
    "### Advanced examples of Reading Features"
   ]
  },
  {
   "cell_type": "markdown",
   "metadata": {},
   "source": [
    "Getting 10 features from two different featuregroups without specifying the featuregroups"
   ]
  },
  {
   "cell_type": "code",
   "execution_count": null,
   "metadata": {},
   "outputs": [],
   "source": [
    "featurestore.get_features(\n",
    "    [\"pagerank\", \"triangle_count\", \"avg_trx\", \"count_trx\", \"max_trx\", \"min_trx\",\n",
    "    \"balance\", \"birthdate\", \"join_date\", \"number_of_accounts\"], \n",
    "             featurestore=featurestore.project_featurestore()).show(5)"
   ]
  },
  {
   "cell_type": "markdown",
   "metadata": {},
   "source": [
    "If you try to get features that exist in multiple featuregroups, the library will not be able to infer from which featuregroup to get the features, so you must specify the featuregroups explicitly as an argument"
   ]
  },
  {
   "cell_type": "code",
   "execution_count": null,
   "metadata": {},
   "outputs": [],
   "source": [
    "featurestore.get_features(\n",
    "    [\"pagerank\", \"triangle_count\", \"avg_trx\", \"count_trx\", \"max_trx\", \"min_trx\",\n",
    "    \"balance\", \"birthdate\", \"join_date\", \"number_of_accounts\", \"pep\"], \n",
    "             featurestore=featurestore.project_featurestore()).show(5)"
   ]
  },
  {
   "cell_type": "markdown",
   "metadata": {},
   "source": [
    "If we specify the featuregroup to get the feature where that exists in multiple featuregroups, the library can infer how to get the features:"
   ]
  },
  {
   "cell_type": "code",
   "execution_count": null,
   "metadata": {},
   "outputs": [],
   "source": [
    "featurestore.get_features(\n",
    "    [\"pagerank\", \"triangle_count\", \"avg_trx\", \"count_trx\", \"max_trx\", \"min_trx\",\n",
    "    \"balance\", \"birthdate\", \"join_date\", \"number_of_accounts\", \"pep\"], \n",
    "             featurestore=featurestore.project_featurestore(),\n",
    "    featuregroups_version_dict={\n",
    "                \"trx_graph_summary_features\": 1, \n",
    "                \"trx_summary_features\": 1,\n",
    "                \"demographic_features\": 1\n",
    "             }).show(5)"
   ]
  },
  {
   "cell_type": "markdown",
   "metadata": {},
   "source": [
    "Example of getting 19 features from 5 different featuregroups: "
   ]
  },
  {
   "cell_type": "code",
   "execution_count": null,
   "metadata": {},
   "outputs": [],
   "source": [
    "featurestore.get_features(\n",
    "    [\"pagerank\", \"triangle_count\", \"avg_trx\", \"count_trx\", \"max_trx\", \"min_trx\",\n",
    "    \"balance\", \"birthdate\", \"join_date\", \"number_of_accounts\", \"pep\", \"customer_type\", \"gender\", \"web_id\",\n",
    "    \"time_spent_seconds\", \"address\", \"action\", \"report_date\", \"report_id\"], \n",
    "             featurestore=featurestore.project_featurestore(),\n",
    "    featuregroups_version_dict={\n",
    "                \"trx_graph_summary_features\": 1, \n",
    "                \"trx_summary_features\": 1,\n",
    "                \"demographic_features\": 1,\n",
    "                \"web_logs_features\": 1,\n",
    "                \"police_report_features\": 1\n",
    "             }).show(5)"
   ]
  },
  {
   "cell_type": "markdown",
   "metadata": {},
   "source": [
    "Sometimes you might want to get a feature that exist in multiple featuregroups and you want to include all of these featuregroups in your query, then you can specify from which of the featuregroup to get the feature by prepending the feature-name with the featuregroup name + '\\_version', e.g: 'demographic\\_features_1.cust_id'. If you don't specify this the query will fail as the library won't know from which of your specified featuregroups to get the feature: "
   ]
  },
  {
   "cell_type": "code",
   "execution_count": null,
   "metadata": {},
   "outputs": [],
   "source": [
    "featurestore.get_features(\n",
    "    [\"pagerank\", \"triangle_count\", \"avg_trx\", \"count_trx\", \"max_trx\", \"min_trx\",\n",
    "    \"balance\", \"birthdate\", \"join_date\", \"number_of_accounts\", \"pep\", \"customer_type\", \"gender\", \"web_id\",\n",
    "    \"time_spent_seconds\", \"address\", \"action\", \"report_date\", \"report_id\", \"cust_id\"], \n",
    "             featurestore=featurestore.project_featurestore(),\n",
    "    featuregroups_version_dict={\n",
    "                \"trx_graph_summary_features\": 1, \n",
    "                \"trx_summary_features\": 1,\n",
    "                \"demographic_features\": 1,\n",
    "                \"web_logs_features\": 1,\n",
    "                \"police_report_features\": 1\n",
    "             }).show(5)"
   ]
  },
  {
   "cell_type": "markdown",
   "metadata": {},
   "source": [
    "If we change 'cust\\_id' to 'featuregroupname\\_version.cust\\_id' it works: "
   ]
  },
  {
   "cell_type": "code",
   "execution_count": null,
   "metadata": {},
   "outputs": [],
   "source": [
    "featurestore.get_features(\n",
    "    [\"pagerank\", \"triangle_count\", \"avg_trx\", \"count_trx\", \"max_trx\", \"min_trx\",\n",
    "    \"balance\", \"birthdate\", \"join_date\", \"number_of_accounts\", \"pep\", \"customer_type\", \"gender\", \"web_id\",\n",
    "    \"time_spent_seconds\", \"address\", \"action\", \"report_date\", \"report_id\", \"demographic_features_1.cust_id\"], \n",
    "             featurestore=featurestore.project_featurestore(),\n",
    "    featuregroups_version_dict={\n",
    "                \"trx_graph_summary_features\": 1, \n",
    "                \"trx_summary_features\": 1,\n",
    "                \"demographic_features\": 1,\n",
    "                \"web_logs_features\": 1,\n",
    "                \"police_report_features\": 1\n",
    "             }).show(5)"
   ]
  },
  {
   "cell_type": "markdown",
   "metadata": {},
   "source": [
    "## Free Text Query from Feature Store"
   ]
  },
  {
   "cell_type": "markdown",
   "metadata": {},
   "source": [
    "For complex queries that cannot be inferred by the helper functions, enter the sql directly to the method `featurestore.sql()` it will default to the project specific feature store but you can also specify it explicitly. If you are proficient in SQL, this is the most efficient and preferred way to query the featurestore"
   ]
  },
  {
   "cell_type": "markdown",
   "metadata": {},
   "source": [
    "Without specifying the featurestore it will default to the project-specific featurestore:"
   ]
  },
  {
   "cell_type": "code",
   "execution_count": null,
   "metadata": {},
   "outputs": [],
   "source": [
    "featurestore.sql(\"SELECT * FROM trx_graph_summary_features_1 WHERE triangle_count > 5\").show(5)"
   ]
  },
  {
   "cell_type": "markdown",
   "metadata": {},
   "source": [
    "You can also specify the featurestore to query explicitly:"
   ]
  },
  {
   "cell_type": "code",
   "execution_count": null,
   "metadata": {},
   "outputs": [],
   "source": [
    "featurestore.sql(\"SELECT * FROM trx_graph_summary_features_1 WHERE triangle_count > 5\", \n",
    "                 featurestore=featurestore.project_featurestore()).show(5)"
   ]
  },
  {
   "cell_type": "markdown",
   "metadata": {},
   "source": [
    "## Insert Into the Feature Store"
   ]
  },
  {
   "cell_type": "markdown",
   "metadata": {},
   "source": [
    "Lets first get some sample data to insert"
   ]
  },
  {
   "cell_type": "code",
   "execution_count": null,
   "metadata": {},
   "outputs": [],
   "source": [
    "from pyspark.sql import SQLContext\n",
    "import pandas as pd\n",
    "from pyspark.sql.types import StructType, StructField, StringType, TimestampType, LongType\n",
    "sqlContext = SQLContext(sc)\n",
    "schema = StructType([StructField(\"id\", LongType(), True),\n",
    "                         StructField(\"customer_type\", StringType(), True)\n",
    "                        ])\n",
    "sampleDf = sqlContext.createDataFrame([(3, \"hops_customer_1\"), (4, \"hops_customer_2\")], schema)"
   ]
  },
  {
   "cell_type": "code",
   "execution_count": null,
   "metadata": {},
   "outputs": [],
   "source": [
    "sampleDf.show()"
   ]
  },
  {
   "cell_type": "markdown",
   "metadata": {},
   "source": [
    "Lets inspect the contents of the featuregroup 'customer_type_lookup' that we are going to insert the sample data into"
   ]
  },
  {
   "cell_type": "code",
   "execution_count": null,
   "metadata": {},
   "outputs": [],
   "source": [
    "sparkDf = featurestore.get_featuregroup(\"customer_type_lookup\")"
   ]
  },
  {
   "cell_type": "code",
   "execution_count": null,
   "metadata": {},
   "outputs": [],
   "source": [
    "sparkDf.show()"
   ]
  },
  {
   "cell_type": "code",
   "execution_count": null,
   "metadata": {},
   "outputs": [],
   "source": [
    "sparkDf.count()"
   ]
  },
  {
   "cell_type": "markdown",
   "metadata": {},
   "source": [
    "Now we can insert the sample data and verify the new contents of the featuregroup. By default the insert mode is \"append\", the featurestore is the project's featurestore and the version is 1"
   ]
  },
  {
   "cell_type": "code",
   "execution_count": null,
   "metadata": {},
   "outputs": [],
   "source": [
    "featurestore.insert_into_featuregroup(sampleDf, \"customer_type_lookup\")"
   ]
  },
  {
   "cell_type": "code",
   "execution_count": null,
   "metadata": {},
   "outputs": [],
   "source": [
    "featurestore.get_featuregroup(\"customer_type_lookup\").show()"
   ]
  },
  {
   "cell_type": "code",
   "execution_count": null,
   "metadata": {},
   "outputs": [],
   "source": [
    "featurestore.get_featuregroup(\"customer_type_lookup\").count()"
   ]
  },
  {
   "cell_type": "markdown",
   "metadata": {},
   "source": [
    "You can also explicitly specify featurestore, featuregroup version, and the insert mode:"
   ]
  },
  {
   "cell_type": "code",
   "execution_count": null,
   "metadata": {},
   "outputs": [],
   "source": [
    "featurestore.insert_into_featuregroup(sampleDf, \n",
    "                         \"customer_type_lookup\", \n",
    "                         featurestore=featurestore.project_featurestore(), \n",
    "                         featuregroup_version=1, \n",
    "                         mode=\"append\")"
   ]
  },
  {
   "cell_type": "code",
   "execution_count": null,
   "metadata": {},
   "outputs": [],
   "source": [
    "featurestore.get_featuregroup(\"customer_type_lookup\").show()"
   ]
  },
  {
   "cell_type": "markdown",
   "metadata": {},
   "source": [
    "The two supported insert modes are \"append\" and \"overwrite\""
   ]
  },
  {
   "cell_type": "code",
   "execution_count": null,
   "metadata": {},
   "outputs": [],
   "source": [
    "featurestore.insert_into_featuregroup(sampleDf, \n",
    "                         \"customer_type_lookup\", \n",
    "                         featurestore=featurestore.project_featurestore(), \n",
    "                         featuregroup_version=1, \n",
    "                         mode=\"overwrite\")"
   ]
  },
  {
   "cell_type": "code",
   "execution_count": null,
   "metadata": {},
   "outputs": [],
   "source": [
    "featurestore.get_featuregroup(\"customer_type_lookup\").show()"
   ]
  },
  {
   "cell_type": "markdown",
   "metadata": {},
   "source": [
    "## Compute Featuregroup Statistics"
   ]
  },
  {
   "cell_type": "markdown",
   "metadata": {},
   "source": [
    "Statistics about a featuregroup can be useful in the stage of feature engineering and when deciding which features to use for training. "
   ]
  },
  {
   "cell_type": "markdown",
   "metadata": {},
   "source": [
    "To compute statistics about an existing featuregroup (that should not be empty of course), you can use the API call `update_featuregroup_stats`. By default it will compute all statistics (descriptive, feature correlation, histograms, and cluster analysis), use the project's featurestore, use version 1 of the featuregroup and use all columns for computing statistics:"
   ]
  },
  {
   "cell_type": "code",
   "execution_count": null,
   "metadata": {},
   "outputs": [],
   "source": [
    "featurestore.update_featuregroup_stats(\"trx_summary_features\")"
   ]
  },
  {
   "cell_type": "markdown",
   "metadata": {},
   "source": [
    "You can also be explicitly specify featuregroup details and what statistics to compute: "
   ]
  },
  {
   "cell_type": "code",
   "execution_count": null,
   "metadata": {},
   "outputs": [],
   "source": [
    "featurestore.update_featuregroup_stats(\n",
    "    \"trx_summary_features\", \n",
    "    featuregroup_version=1, \n",
    "    featurestore=featurestore.project_featurestore(), \n",
    "    descriptive_statistics=True,\n",
    "    feature_correlation=True, \n",
    "    feature_histograms=True,\n",
    "    cluster_analysis=True,\n",
    "    stat_columns=None)"
   ]
  },
  {
   "cell_type": "markdown",
   "metadata": {},
   "source": [
    "If you only want to compute statistics for certain set of columns and exclude surrogat key-columns for example, you can use the optional argument `stat_columns` to specify which columns to include:"
   ]
  },
  {
   "cell_type": "code",
   "execution_count": null,
   "metadata": {},
   "outputs": [],
   "source": [
    "featurestore.update_featuregroup_stats(\n",
    "    \"trx_summary_features\", \n",
    "    featuregroup_version=1, \n",
    "    featurestore=featurestore.project_featurestore(), \n",
    "    descriptive_statistics=True,\n",
    "    feature_correlation=True, \n",
    "    feature_histograms=True,\n",
    "    cluster_analysis=True,\n",
    "    stat_columns=['avg_trx', 'count_trx', 'max_trx', 'min_trx'])"
   ]
  },
  {
   "cell_type": "markdown",
   "metadata": {},
   "source": [
    "## Create a Featuregroup From a Spark Dataframe"
   ]
  },
  {
   "cell_type": "markdown",
   "metadata": {},
   "source": [
    "In most cases it is recommended that featuregroups are created in the UI on Hopsworks and that care is taken in documenting the featuregroup. However, sometimes it is practical to create a featuregroup directly from a spark dataframe and fill in the metadata about the featuregroup later in the UI. This can be done through the create_featuregroup API function."
   ]
  },
  {
   "cell_type": "markdown",
   "metadata": {},
   "source": [
    "Lets create a new featuregroup that contains the same contents as the featuregroup trx_summary except the the column  count_trx is dropped"
   ]
  },
  {
   "cell_type": "code",
   "execution_count": null,
   "metadata": {},
   "outputs": [],
   "source": [
    "trx_summary_df = featurestore.get_featuregroup(\"trx_summary_features\")\n",
    "trx_summary_df1 = trx_summary_df.drop(\"count_trx\")"
   ]
  },
  {
   "cell_type": "code",
   "execution_count": null,
   "metadata": {},
   "outputs": [],
   "source": [
    "trx_summary_df1.show(5)"
   ]
  },
  {
   "cell_type": "markdown",
   "metadata": {},
   "source": [
    "Lets now create a new featuregroup using the transformed dataframe"
   ]
  },
  {
   "cell_type": "code",
   "execution_count": null,
   "metadata": {},
   "outputs": [],
   "source": [
    "featurestore.create_featuregroup(\n",
    "    trx_summary_df1,\n",
    "    \"trx_summary_features_2\",\n",
    "    description=\"trx_summary_features without the column count_trx\"\n",
    ")"
   ]
  },
  {
   "cell_type": "markdown",
   "metadata": {},
   "source": [
    "By default the new featuregroup will be created in the project's featurestore and the statistics for the new featuregroup will be computed based on the provided spark dataframe. You can configure this behaviour by modifying the default arguments and filling in extra metadata:"
   ]
  },
  {
   "cell_type": "code",
   "execution_count": null,
   "metadata": {},
   "outputs": [],
   "source": [
    "featurestore.create_featuregroup(\n",
    "    trx_summary_df1,\n",
    "    \"trx_summary_features_2_2\",\n",
    "    description=\"trx_summary_features without the column count_trx\",\n",
    "    featurestore=featurestore.project_featurestore(),\n",
    "    featuregroup_version=1,\n",
    "    job_id=None,\n",
    "    dependencies=[],\n",
    "    descriptive_statistics=False,\n",
    "    feature_correlation=False,\n",
    "    feature_histograms=False,\n",
    "    cluster_analysis=False,\n",
    "    stat_columns=None\n",
    ")"
   ]
  },
  {
   "cell_type": "markdown",
   "metadata": {},
   "source": [
    "## Create Training Datasets from a Set of Features"
   ]
  },
  {
   "cell_type": "markdown",
   "metadata": {},
   "source": [
    "After you have found the features you need in the featurestore you can materialize the features into a training dataset so that you can train a machine learning model using the features. Just as for featuregroups, it is useful to version and document training datasets, for this reason HopsML supports **managed training datasets** which enables you to easily version, document and automate the materialization of training datasets."
   ]
  },
  {
   "cell_type": "markdown",
   "metadata": {},
   "source": [
    "Metadata for a training dataset can be created from the Hopsworks UI or directly from the API with the function `create_training_dataset`. The training datasets in a project are stored in a top-level dataset called `Training_Datasets`, (i.e `hdfs:///Projects/<ProjectName>/Training_Datasets`."
   ]
  },
  {
   "cell_type": "markdown",
   "metadata": {},
   "source": [
    "Once a training dataset have been created you can find it in the featurestore UI in hopsworks under the tab `Training datasets`, from there you can also edit the metadata if necessary. After a training dataset have been created with the necessary metadata you can save the actual data in the training dataset by using the API function `insert_into_training_dataset`."
   ]
  },
  {
   "cell_type": "markdown",
   "metadata": {},
   "source": [
    "Lets create a dataset called `AML_dataset` by using a set of relevant features from the featurestore."
   ]
  },
  {
   "cell_type": "markdown",
   "metadata": {},
   "source": [
    "First we select the features (and/or labels) that we want"
   ]
  },
  {
   "cell_type": "code",
   "execution_count": null,
   "metadata": {},
   "outputs": [],
   "source": [
    "dataset_df = featurestore.get_features(\n",
    "    [\"pagerank\", \"triangle_count\", \"avg_trx\", \"count_trx\", \"max_trx\", \"min_trx\",\n",
    "    \"balance\", \"number_of_accounts\", \"pep\"], \n",
    "             featurestore=featurestore.project_featurestore(),\n",
    "    featuregroups_version_dict={\n",
    "                \"trx_graph_summary_features\": 1, \n",
    "                \"trx_summary_features\": 1,\n",
    "                \"demographic_features\": 1\n",
    "             })"
   ]
  },
  {
   "cell_type": "code",
   "execution_count": null,
   "metadata": {},
   "outputs": [],
   "source": [
    "dataset_df.show(5)"
   ]
  },
  {
   "cell_type": "markdown",
   "metadata": {},
   "source": [
    "Now we can create a training dataset from the dataframe with some extended metadata such as schema (automatically inferred). By default when you create a training dataset it will be in \"tfrecords\" format and statistics will be computed for all features. After the dataset have been created you can view and/or update the metadata about the training dataset from the Hopsworks featurestore UI"
   ]
  },
  {
   "cell_type": "code",
   "execution_count": null,
   "metadata": {},
   "outputs": [],
   "source": [
    "featurestore.create_training_dataset(dataset_df, \"AML_dataset\")"
   ]
  },
  {
   "cell_type": "markdown",
   "metadata": {},
   "source": [
    "You can override the default configuration if necessary:"
   ]
  },
  {
   "cell_type": "code",
   "execution_count": null,
   "metadata": {},
   "outputs": [],
   "source": [
    "featurestore.create_training_dataset(\n",
    "    dataset_df, \"TestDataset\",\n",
    "    description=\"\",\n",
    "    featurestore=featurestore.project_featurestore(),\n",
    "    data_format=\"csv\",\n",
    "    training_dataset_version=1,\n",
    "    job_id=None,\n",
    "    dependencies=[],\n",
    "    descriptive_statistics=False,\n",
    "    feature_correlation=False,\n",
    "    feature_histograms=False,\n",
    "    cluster_analysis=False,\n",
    "    stat_columns=None)"
   ]
  },
  {
   "cell_type": "markdown",
   "metadata": {},
   "source": [
    "## Inserting Into an Existing Training Dataset"
   ]
  },
  {
   "cell_type": "markdown",
   "metadata": {},
   "source": [
    "Once a dataset have been created, its metadata is browsable in the featurestore registry in the Hopsworks UI. If you don't want to create a new training dataset but just overwrite or insert new data into an existing training dataset, you can use the API function 'insert_into_training_dataset'"
   ]
  },
  {
   "cell_type": "code",
   "execution_count": null,
   "metadata": {},
   "outputs": [],
   "source": [
    "featurestore.insert_into_training_dataset(dataset_df, \"TestDataset\")"
   ]
  },
  {
   "cell_type": "markdown",
   "metadata": {},
   "source": [
    "By default the `insert_into_training_dataset` will use the project's featurestore, version 1 of the training dataset, and update the training dataset statistics, this configuration can be overridden:"
   ]
  },
  {
   "cell_type": "code",
   "execution_count": null,
   "metadata": {},
   "outputs": [],
   "source": [
    "featurestore.insert_into_training_dataset(\n",
    "    dataset_df,\n",
    "    \"TestDataset\",\n",
    "    featurestore=featurestore.project_featurestore(),\n",
    "    training_dataset_version=1,\n",
    "    descriptive_statistics=False,\n",
    "    feature_correlation=False,\n",
    "    feature_histograms=False,\n",
    "    cluster_analysis=False,\n",
    "    stat_columns=None\n",
    ")"
   ]
  },
  {
   "cell_type": "markdown",
   "metadata": {},
   "source": [
    "## Get Training Dataset Path"
   ]
  },
  {
   "cell_type": "markdown",
   "metadata": {},
   "source": [
    "After a **managed dataset** have been created, it is easy to share it and re-use it for training various models. For example if the dataset have been materialized in tf-records format you can call the method `get_training_dataset_path(training_dataset)` to get the HDFS path and read it directly in your tensorflow code."
   ]
  },
  {
   "cell_type": "code",
   "execution_count": null,
   "metadata": {},
   "outputs": [],
   "source": [
    "featurestore.get_training_dataset_path(\"AML_dataset\")"
   ]
  },
  {
   "cell_type": "markdown",
   "metadata": {},
   "source": [
    "By default the library will look for the training dataset in the project's featurestore and use version 1, but this can be override if required:"
   ]
  },
  {
   "cell_type": "code",
   "execution_count": null,
   "metadata": {},
   "outputs": [],
   "source": [
    "featurestore.get_training_dataset_path(\n",
    "    \"AML_dataset\", \n",
    "    featurestore=featurestore.project_featurestore(),\n",
    "    training_dataset_version=1\n",
    ")"
   ]
  },
  {
   "cell_type": "markdown",
   "metadata": {},
   "source": [
    "## Get Featurestore Metadata\n",
    "To explore the contents of the featurestore we recommend using the featurestore page in the Hopsworks UI but you can also get the metadata programmatically from the REST API"
   ]
  },
  {
   "cell_type": "markdown",
   "metadata": {},
   "source": [
    "### List all Feature Stores Accessible In the Project"
   ]
  },
  {
   "cell_type": "code",
   "execution_count": 2,
   "metadata": {},
   "outputs": [
    {
     "name": "stdout",
     "output_type": "stream",
     "text": [
      "['fs_demo_featurestore']"
     ]
    }
   ],
   "source": [
    "featurestore.get_project_featurestores()"
   ]
  },
  {
   "cell_type": "markdown",
   "metadata": {},
   "source": [
    "### List all Feature Groups in a Feature Store"
   ]
  },
  {
   "cell_type": "code",
   "execution_count": 3,
   "metadata": {},
   "outputs": [
    {
     "name": "stdout",
     "output_type": "stream",
     "text": [
      "['customer_type_lookup', 'pep_lookup', 'gender_lookup', 'trx_type_lookup', 'country_lookup', 'alert_type_lookup', 'industry_sector_lookup', 'rule_name_lookup', 'web_address_lookup', 'browser_action_lookup', 'demographic_features', 'hipo_features', 'trx_graph_summary_features', 'trx_features', 'trx_summary_features', 'trx_graph_edge_list', 'alert_features', 'web_logs_features', 'police_report_features']"
     ]
    }
   ],
   "source": [
    "featurestore.get_featuregroups()"
   ]
  },
  {
   "cell_type": "markdown",
   "metadata": {},
   "source": [
    "By default `get_featuregroups()` will use the project's feature store, but this can also be specified with the optional argument `featurestore`"
   ]
  },
  {
   "cell_type": "code",
   "execution_count": 4,
   "metadata": {},
   "outputs": [
    {
     "name": "stdout",
     "output_type": "stream",
     "text": [
      "['customer_type_lookup', 'pep_lookup', 'gender_lookup', 'trx_type_lookup', 'country_lookup', 'alert_type_lookup', 'industry_sector_lookup', 'rule_name_lookup', 'web_address_lookup', 'browser_action_lookup', 'demographic_features', 'hipo_features', 'trx_graph_summary_features', 'trx_features', 'trx_summary_features', 'trx_graph_edge_list', 'alert_features', 'web_logs_features', 'police_report_features']"
     ]
    }
   ],
   "source": [
    "featurestore.get_featuregroups(featurestore=featurestore.project_featurestore())"
   ]
  },
  {
   "cell_type": "markdown",
   "metadata": {},
   "source": [
    "### List all Training Datasets in a Feature Store"
   ]
  },
  {
   "cell_type": "code",
   "execution_count": 5,
   "metadata": {},
   "outputs": [
    {
     "name": "stdout",
     "output_type": "stream",
     "text": [
      "['AML_dataset', 'TestDataset']"
     ]
    }
   ],
   "source": [
    "featurestore.get_training_datasets()"
   ]
  },
  {
   "cell_type": "markdown",
   "metadata": {},
   "source": [
    "By default `get_training_datasets()` will use the project's feature store, but this can also be specified with the optional argument featurestore"
   ]
  },
  {
   "cell_type": "code",
   "execution_count": 8,
   "metadata": {},
   "outputs": [
    {
     "name": "stdout",
     "output_type": "stream",
     "text": [
      "['AML_dataset', 'TestDataset']"
     ]
    }
   ],
   "source": [
    "featurestore.get_training_datasets(featurestore=featurestore.project_featurestore())"
   ]
  },
  {
   "cell_type": "markdown",
   "metadata": {},
   "source": [
    "### Get All Metadata (Features, Feature groups, Training Datasets) for a Feature Store"
   ]
  },
  {
   "cell_type": "code",
   "execution_count": 9,
   "metadata": {},
   "outputs": [
    {
     "name": "stdout",
     "output_type": "stream",
     "text": [
      "{'featuregroups': [{'clusterAnalysis': None, 'created': '2018-12-17T10:18:46Z', 'creator': 'admin@kth.se', 'dependencies': [{'path': '/Projects/fs_demo/sample_data/kyc.csv', 'modification': '2018-12-17T07:11:12.234Z', 'inodeId': 101078, 'dir': False}], 'description': 'lookup table for id to customer type, used when converting from numeric to categrorical representation and vice verse', 'descriptiveStatistics': None, 'featureCorrelationMatrix': None, 'features': [{'name': 'customer_type', 'type': 'string', 'description': 'The categorical customer_type', 'primary': False}, {'name': 'id', 'type': 'bigint', 'description': 'The numeric id of the customer_type', 'primary': True}], 'featuresHistogram': None, 'featurestoreId': 1, 'featurestoreName': 'fs_demo_featurestore', 'id': 45, 'inodeId': 103829, 'jobId': 1, 'jobName': 'customer_type_lookup_job', 'jobStatus': 'Succeeded', 'lastComputed': '2018-12-17T07:25:27Z', 'name': 'customer_type_lookup', 'version': 1, 'hdfsStorePaths': ['hdfs://10.0.2.15:8020/apps/hive/warehouse/fs_demo_featurestore.db/customer_type_lookup_1']}, {'clusterAnalysis': None, 'created': '2018-12-17T07:22:47Z', 'creator': 'admin@kth.se', 'dependencies': [{'path': '/Projects/fs_demo/sample_data/kyc.csv', 'modification': '2018-12-17T07:11:12.234Z', 'inodeId': 101078, 'dir': False}], 'description': 'lookup table for id to pep type, used when converting from numeric to categrorical representation and vice verse', 'descriptiveStatistics': None, 'featureCorrelationMatrix': None, 'features': [{'name': 'id', 'type': 'bigint', 'description': 'The numeric id of the pep_lookup', 'primary': True}, {'name': 'pep', 'type': 'string', 'description': 'The categorical pep', 'primary': False}], 'featuresHistogram': None, 'featurestoreId': 1, 'featurestoreName': 'fs_demo_featurestore', 'id': 34, 'inodeId': 101684, 'jobId': 2, 'jobName': 'pep_lookup_job', 'jobStatus': 'Succeeded', 'lastComputed': '2018-12-17T07:21:57Z', 'name': 'pep_lookup', 'version': 1, 'hdfsStorePaths': ['hdfs://10.0.2.15:8020/apps/hive/warehouse/fs_demo_featurestore.db/pep_lookup_1']}, {'clusterAnalysis': None, 'created': '2018-12-17T07:22:44Z', 'creator': 'admin@kth.se', 'dependencies': [{'path': '/Projects/fs_demo/sample_data/kyc.csv', 'modification': '2018-12-17T07:11:12.234Z', 'inodeId': 101078, 'dir': False}], 'description': 'lookup table for id to gender type, used when converting from numeric to categrorical representation and vice verse', 'descriptiveStatistics': None, 'featureCorrelationMatrix': None, 'features': [{'name': 'gender', 'type': 'string', 'description': 'The categorical gender', 'primary': False}, {'name': 'id', 'type': 'bigint', 'description': 'The numeric id of the gender', 'primary': True}], 'featuresHistogram': None, 'featurestoreId': 1, 'featurestoreName': 'fs_demo_featurestore', 'id': 33, 'inodeId': 101672, 'jobId': 3, 'jobName': 'gender_lookup_job', 'jobStatus': 'Succeeded', 'lastComputed': '2018-12-17T07:21:54Z', 'name': 'gender_lookup', 'version': 1, 'hdfsStorePaths': ['hdfs://10.0.2.15:8020/apps/hive/warehouse/fs_demo_featurestore.db/gender_lookup_1']}, {'clusterAnalysis': None, 'created': '2018-12-17T07:20:57Z', 'creator': 'admin@kth.se', 'dependencies': [{'path': '/Projects/fs_demo/sample_data/trx.csv', 'modification': '2018-12-17T07:11:12.698Z', 'inodeId': 101079, 'dir': False}], 'description': 'lookup table for id to trx_type type, used when converting from numeric to categorical representation and vice verse', 'descriptiveStatistics': None, 'featureCorrelationMatrix': None, 'features': [{'name': 'id', 'type': 'bigint', 'description': 'The numeric id of the transaction type', 'primary': True}, {'name': 'trx_type', 'type': 'string', 'description': 'The categorical transaction type', 'primary': False}], 'featuresHistogram': None, 'featurestoreId': 1, 'featurestoreName': 'fs_demo_featurestore', 'id': 32, 'inodeId': 101597, 'jobId': 4, 'jobName': 'trx_type_lookup_job', 'jobStatus': 'Succeeded', 'lastComputed': '2018-12-17T07:20:04Z', 'name': 'trx_type_lookup', 'version': 1, 'hdfsStorePaths': ['hdfs://10.0.2.15:8020/apps/hive/warehouse/fs_demo_featurestore.db/trx_type_lookup_1']}, {'clusterAnalysis': None, 'created': '2018-12-17T07:20:54Z', 'creator': 'admin@kth.se', 'dependencies': [{'path': '/Projects/fs_demo/sample_data/trx.csv', 'modification': '2018-12-17T07:11:12.698Z', 'inodeId': 101079, 'dir': False}], 'description': 'lookup table for id to country, used when converting from numeric to categorical representation and vice verse', 'descriptiveStatistics': None, 'featureCorrelationMatrix': None, 'features': [{'name': 'id', 'type': 'bigint', 'description': 'The numeric id of the country', 'primary': True}, {'name': 'trx_country', 'type': 'string', 'description': 'The categorical country', 'primary': False}], 'featuresHistogram': None, 'featurestoreId': 1, 'featurestoreName': 'fs_demo_featurestore', 'id': 31, 'inodeId': 101581, 'jobId': 5, 'jobName': 'country_lookup_job', 'jobStatus': 'Succeeded', 'lastComputed': '2018-12-17T07:19:59Z', 'name': 'country_lookup', 'version': 1, 'hdfsStorePaths': ['hdfs://10.0.2.15:8020/apps/hive/warehouse/fs_demo_featurestore.db/country_lookup_1']}, {'clusterAnalysis': None, 'created': '2018-12-17T07:19:22Z', 'creator': 'admin@kth.se', 'dependencies': [{'path': '/Projects/fs_demo/sample_data/alerts.csv', 'modification': '2018-12-17T07:11:12.603Z', 'inodeId': 101084, 'dir': False}], 'description': 'lookup table for id to alert_type, used when converting from numeric to categorical representation and vice verse', 'descriptiveStatistics': None, 'featureCorrelationMatrix': None, 'features': [{'name': 'alert_type', 'type': 'string', 'description': 'The categorical alert_type', 'primary': False}, {'name': 'id', 'type': 'bigint', 'description': 'The numeric id of the alert_type', 'primary': True}], 'featuresHistogram': None, 'featurestoreId': 1, 'featurestoreName': 'fs_demo_featurestore', 'id': 29, 'inodeId': 101498, 'jobId': 7, 'jobName': 'alert_type_lookup_job', 'jobStatus': 'Succeeded', 'lastComputed': '2018-12-17T07:18:25Z', 'name': 'alert_type_lookup', 'version': 1, 'hdfsStorePaths': ['hdfs://10.0.2.15:8020/apps/hive/warehouse/fs_demo_featurestore.db/alert_type_lookup_1']}, {'clusterAnalysis': None, 'created': '2018-12-17T07:19:25Z', 'creator': 'admin@kth.se', 'dependencies': [{'path': '/Projects/fs_demo/sample_data/hipo.csv', 'modification': '2018-12-17T07:11:12.612Z', 'inodeId': 101085, 'dir': False}], 'description': 'lookup table for id to industry_sector, used when converting from numeric to categorical representation and vice verse', 'descriptiveStatistics': None, 'featureCorrelationMatrix': None, 'features': [{'name': 'id', 'type': 'bigint', 'description': 'The numeric id of the industry_sector', 'primary': True}, {'name': 'industry_sector', 'type': 'string', 'description': 'The categorical industry_sector', 'primary': False}], 'featuresHistogram': None, 'featurestoreId': 1, 'featurestoreName': 'fs_demo_featurestore', 'id': 30, 'inodeId': 101505, 'jobId': 6, 'jobName': 'industry_sector_lookup_job', 'jobStatus': 'Succeeded', 'lastComputed': '2018-12-17T07:18:29Z', 'name': 'industry_sector_lookup', 'version': 1, 'hdfsStorePaths': ['hdfs://10.0.2.15:8020/apps/hive/warehouse/fs_demo_featurestore.db/industry_sector_lookup_1']}, {'clusterAnalysis': None, 'created': '2018-12-17T07:17:52Z', 'creator': 'admin@kth.se', 'dependencies': [{'path': '/Projects/fs_demo/sample_data/alerts.csv', 'modification': '2018-12-17T07:11:12.603Z', 'inodeId': 101084, 'dir': False}], 'description': 'lookup table for id to rule_name of an alert, used when converting from numeric to categorical representation and vice verse', 'descriptiveStatistics': None, 'featureCorrelationMatrix': None, 'features': [{'name': 'id', 'type': 'bigint', 'description': 'The numeric id of the rule_name', 'primary': True}, {'name': 'rule_name', 'type': 'string', 'description': 'The categorical rule_name', 'primary': False}], 'featuresHistogram': None, 'featurestoreId': 1, 'featurestoreName': 'fs_demo_featurestore', 'id': 28, 'inodeId': 101343, 'jobId': 8, 'jobName': 'rule_name_lookup_job', 'jobStatus': 'Succeeded', 'lastComputed': '2018-12-17T07:17:02Z', 'name': 'rule_name_lookup', 'version': 1, 'hdfsStorePaths': ['hdfs://10.0.2.15:8020/apps/hive/warehouse/fs_demo_featurestore.db/rule_name_lookup_1']}, {'clusterAnalysis': None, 'created': '2018-12-17T07:17:47Z', 'creator': 'admin@kth.se', 'dependencies': [{'path': '/Projects/fs_demo/sample_data/web_logs.csv', 'modification': '2018-12-17T07:11:13.105Z', 'inodeId': 101081, 'dir': False}], 'description': 'lookup table for id to web_address, used when converting from numeric to categorical representation and vice verse', 'descriptiveStatistics': None, 'featureCorrelationMatrix': None, 'features': [{'name': 'id', 'type': 'bigint', 'description': 'The numeric id of the web_address', 'primary': True}, {'name': 'web_address', 'type': 'string', 'description': 'The categorical web_address', 'primary': False}], 'featuresHistogram': None, 'featurestoreId': 1, 'featurestoreName': 'fs_demo_featurestore', 'id': 27, 'inodeId': 101329, 'jobId': 9, 'jobName': 'web_address_lookup_job', 'jobStatus': 'Succeeded', 'lastComputed': '2018-12-17T07:17:00Z', 'name': 'web_address_lookup', 'version': 1, 'hdfsStorePaths': ['hdfs://10.0.2.15:8020/apps/hive/warehouse/fs_demo_featurestore.db/web_address_lookup_1']}, {'clusterAnalysis': None, 'created': '2018-12-17T07:16:38Z', 'creator': 'admin@kth.se', 'dependencies': [{'path': '/Projects/fs_demo/sample_data/web_logs.csv', 'modification': '2018-12-17T07:11:13.105Z', 'inodeId': 101081, 'dir': False}], 'description': 'lookup table for id to browser_action, used when converting from numeric to categorical representation and vice verse', 'descriptiveStatistics': None, 'featureCorrelationMatrix': None, 'features': [{'name': 'browser_action', 'type': 'string', 'description': 'The categorical browser_action', 'primary': False}, {'name': 'id', 'type': 'bigint', 'description': 'The numeric id of the browser_action', 'primary': True}], 'featuresHistogram': None, 'featurestoreId': 1, 'featurestoreName': 'fs_demo_featurestore', 'id': 26, 'inodeId': 101273, 'jobId': 10, 'jobName': 'browser_action_lookup_job', 'jobStatus': 'Succeeded', 'lastComputed': '2018-12-17T07:16:05Z', 'name': 'browser_action_lookup', 'version': 1, 'hdfsStorePaths': ['hdfs://10.0.2.15:8020/apps/hive/warehouse/fs_demo_featurestore.db/browser_action_lookup_1']}, {'clusterAnalysis': None, 'created': '2018-12-17T07:45:30Z', 'creator': 'admin@kth.se', 'dependencies': [{'path': '/Projects/fs_demo/sample_data/kyc.csv', 'modification': '2018-12-17T07:11:12.234Z', 'inodeId': 101078, 'dir': False}], 'description': 'preprocessed features from the KYC table', 'descriptiveStatistics': None, 'featureCorrelationMatrix': None, 'features': [{'name': 'balance', 'type': 'float', 'description': 'the balance of the customer', 'primary': False}, {'name': 'birthdate', 'type': 'timestamp', 'description': 'the birthdate of the customer', 'primary': False}, {'name': 'customer_type', 'type': 'bigint', 'description': 'the type of customer', 'primary': False}, {'name': 'cust_id', 'type': 'int', 'description': 'The id of the customer', 'primary': True}, {'name': 'gender', 'type': 'bigint', 'description': 'the gender of the customer', 'primary': False}, {'name': 'join_date', 'type': 'timestamp', 'description': 'the date that the customer joined Swedbank', 'primary': False}, {'name': 'number_of_accounts', 'type': 'int', 'description': 'the number of Swedbank accounts of the customer', 'primary': False}, {'name': 'pep', 'type': 'bigint', 'description': 'whether the person is a PEP or not', 'primary': False}], 'featuresHistogram': None, 'featurestoreId': 1, 'featurestoreName': 'fs_demo_featurestore', 'id': 43, 'inodeId': 102465, 'jobId': 11, 'jobName': 'demographic_features_job', 'jobStatus': 'Succeeded', 'lastComputed': '2018-12-17T07:44:30Z', 'name': 'demographic_features', 'version': 1, 'hdfsStorePaths': ['hdfs://10.0.2.15:8020/apps/hive/warehouse/fs_demo_featurestore.db/demographic_features_1']}, {'clusterAnalysis': None, 'created': '2018-12-17T07:39:58Z', 'creator': 'admin@kth.se', 'dependencies': [{'path': '/Projects/fs_demo/sample_data/hipo.csv', 'modification': '2018-12-17T07:11:12.612Z', 'inodeId': 101085, 'dir': False}], 'description': 'Features on corporate customers', 'descriptiveStatistics': None, 'featureCorrelationMatrix': None, 'features': [{'name': 'corporate_id', 'type': 'int', 'description': 'id of the corporate customer', 'primary': True}, {'name': 'externa_kostnader', 'type': 'float', 'description': 'The amount paid to external accounts by the corporate', 'primary': False}, {'name': 'industry_sector', 'type': 'int', 'description': 'The line of business of the corporate', 'primary': False}, {'name': 'netomsettning_1year', 'type': 'float', 'description': 'The net turnover for the first year of the corporate', 'primary': False}, {'name': 'netomsettning_2year', 'type': 'float', 'description': 'The net turnover for the frist two years of the corporate', 'primary': False}, {'name': 'netomsettning_3year', 'type': 'float', 'description': 'The net turnover for the first three years of the corporate', 'primary': False}], 'featuresHistogram': None, 'featurestoreId': 1, 'featurestoreName': 'fs_demo_featurestore', 'id': 39, 'inodeId': 101954, 'jobId': 16, 'jobName': 'hipo_features_job', 'jobStatus': 'Succeeded', 'lastComputed': '2018-12-17T07:39:12Z', 'name': 'hipo_features', 'version': 1, 'hdfsStorePaths': ['hdfs://10.0.2.15:8020/apps/hive/warehouse/fs_demo_featurestore.db/hipo_features_1']}, {'clusterAnalysis': None, 'created': '2018-12-17T07:46:03Z', 'creator': 'admin@kth.se', 'dependencies': [{'path': '/Projects/fs_demo/sample_data/trx.csv', 'modification': '2018-12-17T07:11:12.698Z', 'inodeId': 101079, 'dir': False}], 'description': 'Contain aggregate graph features of a customers transactions', 'descriptiveStatistics': None, 'featureCorrelationMatrix': None, 'features': [{'name': 'cust_id', 'type': 'int', 'description': 'Id of the customer', 'primary': True}, {'name': 'pagerank', 'type': 'float', 'description': 'The pagerank of the customer in the transaction graph', 'primary': False}, {'name': 'triangle_count', 'type': 'float', 'description': 'The triangle count of the customer in the transaction graph', 'primary': False}], 'featuresHistogram': None, 'featurestoreId': 1, 'featurestoreName': 'fs_demo_featurestore', 'id': 44, 'inodeId': 102485, 'jobId': 13, 'jobName': 'trx_graph_summary_features_job', 'jobStatus': 'Succeeded', 'lastComputed': '2018-12-17T07:44:22Z', 'name': 'trx_graph_summary_features', 'version': 1, 'hdfsStorePaths': ['hdfs://10.0.2.15:8020/apps/hive/warehouse/fs_demo_featurestore.db/trx_graph_summary_features_1']}, {'clusterAnalysis': None, 'created': '2018-12-17T07:43:24Z', 'creator': 'admin@kth.se', 'dependencies': [{'path': '/Projects/fs_demo/sample_data/trx.csv', 'modification': '2018-12-17T07:11:12.698Z', 'inodeId': 101079, 'dir': False}], 'description': 'Features for single transactions', 'descriptiveStatistics': None, 'featureCorrelationMatrix': None, 'features': [{'name': 'cust_id_in', 'type': 'int', 'description': 'The cust_id of the customer making the transaction', 'primary': False}, {'name': 'cust_id_out', 'type': 'int', 'description': 'The id of the customer receiving the transaction', 'primary': False}, {'name': 'trx_amount', 'type': 'float', 'description': 'The amount of money transferred in the transaction', 'primary': False}, {'name': 'trx_bankid', 'type': 'int', 'description': 'The bankid of the customer making the transaction', 'primary': False}, {'name': 'trx_clearingnum', 'type': 'int', 'description': 'The clearingnumber of the customer making the transaction', 'primary': False}, {'name': 'trx_country', 'type': 'bigint', 'description': 'The country of the customer making the transaction', 'primary': False}, {'name': 'trx_date', 'type': 'timestamp', 'description': 'The date of the transaction', 'primary': False}, {'name': 'trx_id', 'type': 'int', 'description': 'The id of the transaction', 'primary': True}, {'name': 'trx_type', 'type': 'bigint', 'description': 'The type of the transaction', 'primary': False}], 'featuresHistogram': None, 'featurestoreId': 1, 'featurestoreName': 'fs_demo_featurestore', 'id': 41, 'inodeId': 102028, 'jobId': 14, 'jobName': 'trx_features_job', 'jobStatus': 'Succeeded', 'lastComputed': '2018-12-17T07:42:21Z', 'name': 'trx_features', 'version': 1, 'hdfsStorePaths': ['hdfs://10.0.2.15:8020/apps/hive/warehouse/fs_demo_featurestore.db/trx_features_1']}, {'clusterAnalysis': {'dataPoints': [{'datapointName': '0', 'firstDimension': -2345.273, 'secondDimension': 229.58089}, {'datapointName': '1', 'firstDimension': -1768.6044, 'secondDimension': 223.81322}, {'datapointName': '2', 'firstDimension': -1949.2148, 'secondDimension': -83.15607}, {'datapointName': '3', 'firstDimension': -1516.4617, 'secondDimension': 114.42044}, {'datapointName': '4', 'firstDimension': -1018.29395, 'secondDimension': -120.53977}, {'datapointName': '5', 'firstDimension': -2330.6316, 'secondDimension': 232.22452}, {'datapointName': '6', 'firstDimension': -2037.4371, 'secondDimension': -103.285}, {'datapointName': '7', 'firstDimension': -1411.2494, 'secondDimension': 82.20043}, {'datapointName': '8', 'firstDimension': -2847.8296, 'secondDimension': 26.811089}, {'datapointName': '9', 'firstDimension': -1908.8762, 'secondDimension': -72.938194}, {'datapointName': '10', 'firstDimension': -1801.8035, 'secondDimension': 37.551975}, {'datapointName': '11', 'firstDimension': -2046.7512, 'secondDimension': 96.25141}, {'datapointName': '12', 'firstDimension': -2443.9524, 'secondDimension': -151.09146}, {'datapointName': '13', 'firstDimension': -1460.2214, 'secondDimension': -231.8811}, {'datapointName': '14', 'firstDimension': -2000.2948, 'secondDimension': -21.911083}, {'datapointName': '15', 'firstDimension': -1797.9084, 'secondDimension': -108.855156}, {'datapointName': '16', 'firstDimension': -1643.5743, 'secondDimension': 235.73154}, {'datapointName': '17', 'firstDimension': -2782.1682, 'secondDimension': -191.85814}, {'datapointName': '18', 'firstDimension': -2695.3132, 'secondDimension': 228.08112}, {'datapointName': '19', 'firstDimension': -1649.7908, 'secondDimension': -107.96134}, {'datapointName': '20', 'firstDimension': -2600.0034, 'secondDimension': 15.861871}, {'datapointName': '21', 'firstDimension': -3010.0068, 'secondDimension': 105.990776}, {'datapointName': '22', 'firstDimension': -3093.073, 'secondDimension': -187.68864}, {'datapointName': '23', 'firstDimension': -1580.2543, 'secondDimension': 212.65974}, {'datapointName': '24', 'firstDimension': -2559.98, 'secondDimension': -252.55658}, {'datapointName': '25', 'firstDimension': -2559.98, 'secondDimension': -252.55658}, {'datapointName': '26', 'firstDimension': -1494.0813, 'secondDimension': -210.07423}, {'datapointName': '27', 'firstDimension': -2343.67, 'secondDimension': 426.9512}, {'datapointName': '28', 'firstDimension': -1185.6387, 'secondDimension': 68.67055}, {'datapointName': '29', 'firstDimension': -2017.8551, 'secondDimension': -83.8289}, {'datapointName': '30', 'firstDimension': -2174.5913, 'secondDimension': 248.46835}, {'datapointName': '31', 'firstDimension': -2707.0662, 'secondDimension': -318.66214}, {'datapointName': '32', 'firstDimension': -2471.3098, 'secondDimension': 242.74992}, {'datapointName': '33', 'firstDimension': -2371.3606, 'secondDimension': 161.57509}, {'datapointName': '34', 'firstDimension': -1295.8698, 'secondDimension': -44.130547}, {'datapointName': '35', 'firstDimension': -2382.114, 'secondDimension': 262.01523}, {'datapointName': '36', 'firstDimension': -1176.6532, 'secondDimension': -36.220856}, {'datapointName': '37', 'firstDimension': -1762.1342, 'secondDimension': -4.8541}, {'datapointName': '38', 'firstDimension': -2622.9282, 'secondDimension': 94.42669}, {'datapointName': '39', 'firstDimension': -1570.3088, 'secondDimension': 252.27228}, {'datapointName': '40', 'firstDimension': -1466.7789, 'secondDimension': -32.823967}], 'clusters': [{'datapointName': '0', 'cluster': 4}, {'datapointName': '1', 'cluster': 3}, {'datapointName': '2', 'cluster': 3}, {'datapointName': '3', 'cluster': 1}, {'datapointName': '4', 'cluster': 1}, {'datapointName': '5', 'cluster': 4}, {'datapointName': '6', 'cluster': 4}, {'datapointName': '7', 'cluster': 1}, {'datapointName': '8', 'cluster': 2}, {'datapointName': '9', 'cluster': 3}, {'datapointName': '10', 'cluster': 3}, {'datapointName': '11', 'cluster': 4}, {'datapointName': '12', 'cluster': 0}, {'datapointName': '13', 'cluster': 1}, {'datapointName': '14', 'cluster': 4}, {'datapointName': '15', 'cluster': 3}, {'datapointName': '16', 'cluster': 3}, {'datapointName': '17', 'cluster': 0}, {'datapointName': '18', 'cluster': 0}, {'datapointName': '19', 'cluster': 3}, {'datapointName': '20', 'cluster': 0}, {'datapointName': '21', 'cluster': 2}, {'datapointName': '22', 'cluster': 2}, {'datapointName': '23', 'cluster': 3}, {'datapointName': '24', 'cluster': 0}, {'datapointName': '25', 'cluster': 0}, {'datapointName': '26', 'cluster': 1}, {'datapointName': '27', 'cluster': 4}, {'datapointName': '28', 'cluster': 1}, {'datapointName': '29', 'cluster': 4}, {'datapointName': '30', 'cluster': 4}, {'datapointName': '31', 'cluster': 0}, {'datapointName': '32', 'cluster': 0}, {'datapointName': '33', 'cluster': 4}, {'datapointName': '34', 'cluster': 1}, {'datapointName': '35', 'cluster': 4}, {'datapointName': '36', 'cluster': 1}, {'datapointName': '37', 'cluster': 3}, {'datapointName': '38', 'cluster': 0}, {'datapointName': '39', 'cluster': 3}, {'datapointName': '40', 'cluster': 1}], 'statisticType': 'clusterAnalysis'}, 'created': '2018-12-17T07:43:38Z', 'creator': 'admin@kth.se', 'dependencies': [{'path': '/Projects/fs_demo/sample_data/trx.csv', 'modification': '2018-12-17T07:11:12.698Z', 'inodeId': 101079, 'dir': False}], 'description': 'Aggregate of transactions for customers', 'descriptiveStatistics': {'descriptiveStats': [{'featureName': 'avg_trx', 'metricValues': [{'metricName': 'count', 'value': 500.0}, {'metricName': 'mean', 'value': 804.36707}, {'metricName': 'stddev', 'value': 190.28111}, {'metricName': 'min', 'value': 260.58777}, {'metricName': 'max', 'value': 1544.8882}], 'statisticType': 'descriptiveStatistics'}, {'featureName': 'count_trx', 'metricValues': [{'metricName': 'count', 'value': 500.0}, {'metricName': 'mean', 'value': 20.0}, {'metricName': 'stddev', 'value': 6.230058}, {'metricName': 'min', 'value': 4.0}, {'metricName': 'max', 'value': 38.0}], 'statisticType': 'descriptiveStatistics'}, {'featureName': 'cust_id', 'metricValues': [{'metricName': 'count', 'value': 500.0}, {'metricName': 'mean', 'value': 249.5}, {'metricName': 'stddev', 'value': 144.48183}, {'metricName': 'min', 'value': 0.0}, {'metricName': 'max', 'value': 499.0}], 'statisticType': 'descriptiveStatistics'}, {'featureName': 'max_trx', 'metricValues': [{'metricName': 'count', 'value': 500.0}, {'metricName': 'mean', 'value': 1876.5645}, {'metricName': 'stddev', 'value': 532.82294}, {'metricName': 'min', 'value': 608.2359}, {'metricName': 'max', 'value': 3885.9565}], 'statisticType': 'descriptiveStatistics'}, {'featureName': 'min_trx', 'metricValues': [{'metricName': 'count', 'value': 500.0}, {'metricName': 'mean', 'value': 126.41404}, {'metricName': 'stddev', 'value': 135.2302}, {'metricName': 'min', 'value': 0.15052964}, {'metricName': 'max', 'value': 1403.2979}], 'statisticType': 'descriptiveStatistics'}]}, 'featureCorrelationMatrix': {'featureCorrelations': [{'featureName': 'min_trx', 'correlationValues': [{'featureName': 'avg_trx', 'correlation': 0.39488143, 'statisticType': 'featureCorrelations'}, {'featureName': 'count_trx', 'correlation': -0.317576, 'statisticType': 'featureCorrelations'}, {'featureName': 'cust_id', 'correlation': 0.011664786, 'statisticType': 'featureCorrelations'}, {'featureName': 'max_trx', 'correlation': 3.518876e-05, 'statisticType': 'featureCorrelations'}, {'featureName': 'min_trx', 'correlation': 1.0, 'statisticType': 'featureCorrelations'}]}, {'featureName': 'max_trx', 'correlationValues': [{'featureName': 'avg_trx', 'correlation': 0.6561947, 'statisticType': 'featureCorrelations'}, {'featureName': 'count_trx', 'correlation': 0.34287718, 'statisticType': 'featureCorrelations'}, {'featureName': 'cust_id', 'correlation': 0.03468117, 'statisticType': 'featureCorrelations'}, {'featureName': 'max_trx', 'correlation': 1.0, 'statisticType': 'featureCorrelations'}, {'featureName': 'min_trx', 'correlation': 3.518876e-05, 'statisticType': 'featureCorrelations'}]}, {'featureName': 'avg_trx', 'correlationValues': [{'featureName': 'avg_trx', 'correlation': 1.0, 'statisticType': 'featureCorrelations'}, {'featureName': 'count_trx', 'correlation': 0.06330359, 'statisticType': 'featureCorrelations'}, {'featureName': 'cust_id', 'correlation': 0.0101051945, 'statisticType': 'featureCorrelations'}, {'featureName': 'max_trx', 'correlation': 0.6561947, 'statisticType': 'featureCorrelations'}, {'featureName': 'min_trx', 'correlation': 0.39488143, 'statisticType': 'featureCorrelations'}]}, {'featureName': 'count_trx', 'correlationValues': [{'featureName': 'avg_trx', 'correlation': 0.06330359, 'statisticType': 'featureCorrelations'}, {'featureName': 'count_trx', 'correlation': 1.0, 'statisticType': 'featureCorrelations'}, {'featureName': 'cust_id', 'correlation': 0.0024979685, 'statisticType': 'featureCorrelations'}, {'featureName': 'max_trx', 'correlation': 0.34287718, 'statisticType': 'featureCorrelations'}, {'featureName': 'min_trx', 'correlation': -0.317576, 'statisticType': 'featureCorrelations'}]}, {'featureName': 'cust_id', 'correlationValues': [{'featureName': 'avg_trx', 'correlation': 0.0101051945, 'statisticType': 'featureCorrelations'}, {'featureName': 'count_trx', 'correlation': 0.0024979685, 'statisticType': 'featureCorrelations'}, {'featureName': 'cust_id', 'correlation': 1.0, 'statisticType': 'featureCorrelations'}, {'featureName': 'max_trx', 'correlation': 0.03468117, 'statisticType': 'featureCorrelations'}, {'featureName': 'min_trx', 'correlation': 0.011664786, 'statisticType': 'featureCorrelations'}]}]}, 'features': [{'name': 'avg_trx', 'type': 'float', 'description': 'The average transaction amount of the customer', 'primary': False}, {'name': 'count_trx', 'type': 'bigint', 'description': 'The number of transactions made by the customer', 'primary': False}, {'name': 'cust_id', 'type': 'int', 'description': 'Id of the customer', 'primary': True}, {'name': 'max_trx', 'type': 'float', 'description': 'The maximum transaction amount made by the customer', 'primary': False}, {'name': 'min_trx', 'type': 'float', 'description': 'The minimum transaction amount made by the customer', 'primary': False}], 'featuresHistogram': {'featureDistributions': [{'featureName': 'avg_trx', 'frequencyDistribution': [{'bin': '260.5877685547', 'frequency': 2}, {'bin': '324.8027893066', 'frequency': 7}, {'bin': '389.0178100586', 'frequency': 9}, {'bin': '453.2328308105', 'frequency': 13}, {'bin': '517.4478515625', 'frequency': 19}, {'bin': '581.6628723145', 'frequency': 50}, {'bin': '645.8778930664', 'frequency': 54}, {'bin': '710.0929138184', 'frequency': 68}, {'bin': '774.3079345703', 'frequency': 66}, {'bin': '838.5229553223', 'frequency': 74}, {'bin': '902.7379760742', 'frequency': 42}, {'bin': '966.9529968262', 'frequency': 41}, {'bin': '1031.1680175781', 'frequency': 24}, {'bin': '1095.3830383301', 'frequency': 13}, {'bin': '1159.598059082', 'frequency': 9}, {'bin': '1223.813079834', 'frequency': 4}, {'bin': '1288.0281005859', 'frequency': 1}, {'bin': '1352.2431213379', 'frequency': 2}, {'bin': '1416.4581420898', 'frequency': 1}, {'bin': '1480.6731628418', 'frequency': 1}], 'statisticType': 'featureDistributions'}, {'featureName': 'count_trx', 'frequencyDistribution': [{'bin': '4.0', 'frequency': 2}, {'bin': '5.7', 'frequency': 5}, {'bin': '7.4', 'frequency': 12}, {'bin': '9.1', 'frequency': 14}, {'bin': '10.8', 'frequency': 26}, {'bin': '12.5', 'frequency': 51}, {'bin': '14.2', 'frequency': 0}, {'bin': '15.9', 'frequency': 48}, {'bin': '17.6', 'frequency': 69}, {'bin': '19.3', 'frequency': 62}, {'bin': '21.0', 'frequency': 62}, {'bin': '22.7', 'frequency': 43}, {'bin': '24.4', 'frequency': 38}, {'bin': '26.1', 'frequency': 0}, {'bin': '27.8', 'frequency': 32}, {'bin': '29.5', 'frequency': 14}, {'bin': '31.2', 'frequency': 8}, {'bin': '32.9', 'frequency': 7}, {'bin': '34.6', 'frequency': 5}, {'bin': '36.3', 'frequency': 2}], 'statisticType': 'featureDistributions'}, {'featureName': 'cust_id', 'frequencyDistribution': [{'bin': '0.0', 'frequency': 25}, {'bin': '24.95', 'frequency': 25}, {'bin': '49.9', 'frequency': 25}, {'bin': '74.85', 'frequency': 25}, {'bin': '99.8', 'frequency': 25}, {'bin': '124.75', 'frequency': 25}, {'bin': '149.7', 'frequency': 25}, {'bin': '174.65', 'frequency': 25}, {'bin': '199.6', 'frequency': 25}, {'bin': '224.55', 'frequency': 25}, {'bin': '249.5', 'frequency': 25}, {'bin': '274.45', 'frequency': 25}, {'bin': '299.4', 'frequency': 25}, {'bin': '324.35', 'frequency': 25}, {'bin': '349.3', 'frequency': 25}, {'bin': '374.25', 'frequency': 25}, {'bin': '399.2', 'frequency': 25}, {'bin': '424.15', 'frequency': 25}, {'bin': '449.1', 'frequency': 25}, {'bin': '474.05', 'frequency': 25}], 'statisticType': 'featureDistributions'}, {'featureName': 'max_trx', 'frequencyDistribution': [{'bin': '608.2359008789', 'frequency': 6}, {'bin': '772.1219329834', 'frequency': 7}, {'bin': '936.0079650879', 'frequency': 9}, {'bin': '1099.8939971924', 'frequency': 34}, {'bin': '1263.7800292969', 'frequency': 46}, {'bin': '1427.6660614014', 'frequency': 49}, {'bin': '1591.5520935059', 'frequency': 71}, {'bin': '1755.4381256104', 'frequency': 67}, {'bin': '1919.3241577148', 'frequency': 50}, {'bin': '2083.2101898193', 'frequency': 44}, {'bin': '2247.0962219238', 'frequency': 38}, {'bin': '2410.9822540283', 'frequency': 30}, {'bin': '2574.8682861328', 'frequency': 17}, {'bin': '2738.7543182373', 'frequency': 14}, {'bin': '2902.6403503418', 'frequency': 10}, {'bin': '3066.5263824463', 'frequency': 2}, {'bin': '3230.4124145508', 'frequency': 1}, {'bin': '3394.2984466553', 'frequency': 3}, {'bin': '3558.1844787598', 'frequency': 0}, {'bin': '3722.0705108643', 'frequency': 2}], 'statisticType': 'featureDistributions'}, {'featureName': 'min_trx', 'frequencyDistribution': [{'bin': '0.1505296379', 'frequency': 216}, {'bin': '70.3078957342', 'frequency': 119}, {'bin': '140.4652618304', 'frequency': 68}, {'bin': '210.6226279266', 'frequency': 45}, {'bin': '280.7799940228', 'frequency': 24}, {'bin': '350.9373601191', 'frequency': 13}, {'bin': '421.0947262153', 'frequency': 5}, {'bin': '491.2520923115', 'frequency': 4}, {'bin': '561.4094584078', 'frequency': 2}, {'bin': '631.566824504', 'frequency': 1}, {'bin': '701.7241906002', 'frequency': 0}, {'bin': '771.8815566964', 'frequency': 2}, {'bin': '842.0389227927', 'frequency': 0}, {'bin': '912.1962888889', 'frequency': 0}, {'bin': '982.3536549851', 'frequency': 0}, {'bin': '1052.5110210814', 'frequency': 0}, {'bin': '1122.6683871776', 'frequency': 0}, {'bin': '1192.8257532738', 'frequency': 0}, {'bin': '1262.98311937', 'frequency': 0}, {'bin': '1333.1404854663', 'frequency': 1}], 'statisticType': 'featureDistributions'}]}, 'featurestoreId': 1, 'featurestoreName': 'fs_demo_featurestore', 'id': 42, 'inodeId': 102044, 'jobId': 15, 'jobName': 'trx_summary_features_job', 'jobStatus': 'Succeeded', 'lastComputed': '2018-12-17T07:42:18Z', 'name': 'trx_summary_features', 'version': 1, 'hdfsStorePaths': ['hdfs://10.0.2.15:8020/apps/hive/warehouse/fs_demo_featurestore.db/trx_summary_features_1']}, {'clusterAnalysis': None, 'created': '2018-12-17T07:40:01Z', 'creator': 'admin@kth.se', 'dependencies': [{'path': '/Projects/fs_demo/sample_data/trx.csv', 'modification': '2018-12-17T07:11:12.698Z', 'inodeId': 101079, 'dir': False}], 'description': 'The edge list of the transactions graph', 'descriptiveStatistics': None, 'featureCorrelationMatrix': None, 'features': [{'name': 'amount', 'type': 'float', 'description': 'The amount transferred in the transaction', 'primary': False}, {'name': 'cust_id_1', 'type': 'int', 'description': 'The customer making the transaction', 'primary': True}, {'name': 'cust_id_2', 'type': 'int', 'description': 'The customer receiving the transaction', 'primary': False}], 'featuresHistogram': None, 'featurestoreId': 1, 'featurestoreName': 'fs_demo_featurestore', 'id': 40, 'inodeId': 101964, 'jobId': 12, 'jobName': 'trx_graph_edge_list_job', 'jobStatus': 'Succeeded', 'lastComputed': '2018-12-17T07:39:15Z', 'name': 'trx_graph_edge_list', 'version': 1, 'hdfsStorePaths': ['hdfs://10.0.2.15:8020/apps/hive/warehouse/fs_demo_featurestore.db/trx_graph_edge_list_1']}, {'clusterAnalysis': None, 'created': '2018-12-17T07:32:21Z', 'creator': 'admin@kth.se', 'dependencies': [{'path': '/Projects/fs_demo/sample_data/alerts.csv', 'modification': '2018-12-17T07:11:12.603Z', 'inodeId': 101084, 'dir': False}], 'description': 'Features from transaction alerts', 'descriptiveStatistics': None, 'featureCorrelationMatrix': None, 'features': [{'name': 'alert_date', 'type': 'timestamp', 'description': 'The date of the alert', 'primary': False}, {'name': 'alert_id', 'type': 'int', 'description': 'The id of the alert', 'primary': True}, {'name': 'alert_score', 'type': 'float', 'description': 'The score of the alert indicating how severe the alert was', 'primary': False}, {'name': 'alert_type', 'type': 'int', 'description': 'The type of the alert, e.g TERRORISM', 'primary': False}, {'name': 'rule_name', 'type': 'int', 'description': 'The name of the rule that fired the alert', 'primary': False}, {'name': 'trx_id', 'type': 'int', 'description': 'The id of the transaction that was alerted', 'primary': False}], 'featuresHistogram': None, 'featurestoreId': 1, 'featurestoreName': 'fs_demo_featurestore', 'id': 38, 'inodeId': 101868, 'jobId': 17, 'jobName': 'alert_features_job', 'jobStatus': 'Succeeded', 'lastComputed': '2018-12-17T07:31:50Z', 'name': 'alert_features', 'version': 1, 'hdfsStorePaths': ['hdfs://10.0.2.15:8020/apps/hive/warehouse/fs_demo_featurestore.db/alert_features_1']}, {'clusterAnalysis': None, 'created': '2018-12-17T07:31:36Z', 'creator': 'admin@kth.se', 'dependencies': [{'path': '/Projects/fs_demo/sample_data/web_logs.csv', 'modification': '2018-12-17T07:11:13.105Z', 'inodeId': 101081, 'dir': False}], 'description': 'Features on web logs recording customers activity with the internet bank', 'descriptiveStatistics': None, 'featureCorrelationMatrix': None, 'features': [{'name': 'action', 'type': 'int', 'description': 'The type of web action', 'primary': False}, {'name': 'address', 'type': 'int', 'description': 'IP address used by the customer', 'primary': False}, {'name': 'cust_id', 'type': 'int', 'description': 'Id of the customer', 'primary': False}, {'name': 'time_spent_seconds', 'type': 'int', 'description': 'Number of seconds the web session was active', 'primary': False}, {'name': 'web_id', 'type': 'int', 'description': 'Id of the web activity', 'primary': True}], 'featuresHistogram': None, 'featurestoreId': 1, 'featurestoreName': 'fs_demo_featurestore', 'id': 37, 'inodeId': 101827, 'jobId': 19, 'jobName': 'web_logs_features_job', 'jobStatus': 'Succeeded', 'lastComputed': '2018-12-17T07:30:41Z', 'name': 'web_logs_features', 'version': 1, 'hdfsStorePaths': ['hdfs://10.0.2.15:8020/apps/hive/warehouse/fs_demo_featurestore.db/web_logs_features_1']}, {'clusterAnalysis': None, 'created': '2018-12-17T07:31:33Z', 'creator': 'admin@kth.se', 'dependencies': [{'path': '/Projects/fs_demo/sample_data/police_reports.csv', 'modification': '2018-12-17T07:11:12.245Z', 'inodeId': 101080, 'dir': False}], 'description': 'Features on customers reported to the police', 'descriptiveStatistics': None, 'featureCorrelationMatrix': None, 'features': [{'name': 'cust_id', 'type': 'int', 'description': 'The id of the reported customer', 'primary': False}, {'name': 'report_date', 'type': 'timestamp', 'description': 'The date the customer was reported', 'primary': False}, {'name': 'report_id', 'type': 'int', 'description': 'The id of the report', 'primary': True}], 'featuresHistogram': None, 'featurestoreId': 1, 'featurestoreName': 'fs_demo_featurestore', 'id': 36, 'inodeId': 101820, 'jobId': 18, 'jobName': 'police_report_features_job', 'jobStatus': 'Succeeded', 'lastComputed': '2018-12-17T07:30:44Z', 'name': 'police_report_features', 'version': 1, 'hdfsStorePaths': ['hdfs://10.0.2.15:8020/apps/hive/warehouse/fs_demo_featurestore.db/police_report_features_1']}], 'trainingDatasets': [{'clusterAnalysis': {'dataPoints': [{'datapointName': '0', 'firstDimension': 309237645000.0, 'secondDimension': -3083.9312}, {'datapointName': '1', 'firstDimension': 309237645000.0, 'secondDimension': -7978.8486}, {'datapointName': '2', 'firstDimension': 309237645000.0, 'secondDimension': -21393.018}, {'datapointName': '3', 'firstDimension': 1331439860000.0, 'secondDimension': -9714.874}, {'datapointName': '4', 'firstDimension': 1331439860000.0, 'secondDimension': -8637.631}, {'datapointName': '5', 'firstDimension': 309237645000.0, 'secondDimension': -3196.3108}, {'datapointName': '6', 'firstDimension': 1331439860000.0, 'secondDimension': -5640.489}, {'datapointName': '7', 'firstDimension': 1331439860000.0, 'secondDimension': -7949.7456}, {'datapointName': '8', 'firstDimension': 1331439860000.0, 'secondDimension': -8044.1265}, {'datapointName': '9', 'firstDimension': 1331439860000.0, 'secondDimension': -2804.2}, {'datapointName': '10', 'firstDimension': 309237645000.0, 'secondDimension': -3241.1807}, {'datapointName': '11', 'firstDimension': 1331439860000.0, 'secondDimension': -12715.115}, {'datapointName': '12', 'firstDimension': 1331439860000.0, 'secondDimension': -10847.311}, {'datapointName': '13', 'firstDimension': 309237645000.0, 'secondDimension': -6091.7295}, {'datapointName': '14', 'firstDimension': 1331439860000.0, 'secondDimension': -22685.518}, {'datapointName': '15', 'firstDimension': 1331439860000.0, 'secondDimension': -1489.2426}, {'datapointName': '16', 'firstDimension': 1331439860000.0, 'secondDimension': -7464.9004}, {'datapointName': '17', 'firstDimension': 309237645000.0, 'secondDimension': -9645.84}, {'datapointName': '18', 'firstDimension': 1331439860000.0, 'secondDimension': -13011.734}, {'datapointName': '19', 'firstDimension': 309237645000.0, 'secondDimension': -2284.445}, {'datapointName': '20', 'firstDimension': 1331439860000.0, 'secondDimension': -3327.0247}, {'datapointName': '21', 'firstDimension': 1331439860000.0, 'secondDimension': -4804.7515}, {'datapointName': '22', 'firstDimension': 309237645000.0, 'secondDimension': -9927.772}, {'datapointName': '23', 'firstDimension': 1331439860000.0, 'secondDimension': -19798.81}, {'datapointName': '24', 'firstDimension': 309237645000.0, 'secondDimension': -9951.468}, {'datapointName': '25', 'firstDimension': 309237645000.0, 'secondDimension': 169.77069}, {'datapointName': '26', 'firstDimension': 1331439860000.0, 'secondDimension': -19771.084}, {'datapointName': '27', 'firstDimension': 309237645000.0, 'secondDimension': -16209.611}, {'datapointName': '28', 'firstDimension': 1331439860000.0, 'secondDimension': -4107.43}, {'datapointName': '29', 'firstDimension': 1331439860000.0, 'secondDimension': -14277.082}, {'datapointName': '30', 'firstDimension': 1331439860000.0, 'secondDimension': -1361.2714}, {'datapointName': '31', 'firstDimension': 1331439860000.0, 'secondDimension': -4029.541}, {'datapointName': '32', 'firstDimension': 1331439860000.0, 'secondDimension': -408.549}, {'datapointName': '33', 'firstDimension': 309237645000.0, 'secondDimension': -11266.673}, {'datapointName': '34', 'firstDimension': 309237645000.0, 'secondDimension': -11266.673}, {'datapointName': '35', 'firstDimension': 309237645000.0, 'secondDimension': -17879.416}, {'datapointName': '36', 'firstDimension': 309237645000.0, 'secondDimension': -7693.962}, {'datapointName': '37', 'firstDimension': 309237645000.0, 'secondDimension': -7113.051}], 'clusters': [{'datapointName': '0', 'cluster': 3}, {'datapointName': '1', 'cluster': 4}, {'datapointName': '2', 'cluster': 0}, {'datapointName': '3', 'cluster': 1}, {'datapointName': '4', 'cluster': 1}, {'datapointName': '5', 'cluster': 3}, {'datapointName': '6', 'cluster': 2}, {'datapointName': '7', 'cluster': 2}, {'datapointName': '8', 'cluster': 2}, {'datapointName': '9', 'cluster': 2}, {'datapointName': '10', 'cluster': 3}, {'datapointName': '11', 'cluster': 1}, {'datapointName': '12', 'cluster': 1}, {'datapointName': '13', 'cluster': 4}, {'datapointName': '14', 'cluster': 1}, {'datapointName': '15', 'cluster': 2}, {'datapointName': '16', 'cluster': 2}, {'datapointName': '17', 'cluster': 4}, {'datapointName': '18', 'cluster': 1}, {'datapointName': '19', 'cluster': 3}, {'datapointName': '20', 'cluster': 2}, {'datapointName': '21', 'cluster': 2}, {'datapointName': '22', 'cluster': 4}, {'datapointName': '23', 'cluster': 1}, {'datapointName': '24', 'cluster': 4}, {'datapointName': '25', 'cluster': 3}, {'datapointName': '26', 'cluster': 1}, {'datapointName': '27', 'cluster': 0}, {'datapointName': '28', 'cluster': 2}, {'datapointName': '29', 'cluster': 1}, {'datapointName': '30', 'cluster': 2}, {'datapointName': '31', 'cluster': 2}, {'datapointName': '32', 'cluster': 2}, {'datapointName': '33', 'cluster': 4}, {'datapointName': '34', 'cluster': 4}, {'datapointName': '35', 'cluster': 0}, {'datapointName': '36', 'cluster': 4}, {'datapointName': '37', 'cluster': 4}], 'statisticType': 'clusterAnalysis'}, 'created': '2018-12-17T11:57:44Z', 'creator': 'admin@kth.se', 'dependencies': [], 'description': '', 'descriptiveStatistics': {'descriptiveStats': [{'featureName': 'balance', 'metricValues': [{'metricName': 'count', 'value': 500.0}, {'metricName': 'mean', 'value': 7788.0317}, {'metricName': 'stddev', 'value': 5615.956}, {'metricName': 'min', 'value': 6.618235}, {'metricName': 'max', 'value': 31677.91}], 'statisticType': 'descriptiveStatistics'}, {'featureName': 'pep', 'metricValues': [{'metricName': 'count', 'value': 500.0}, {'metricName': 'mean', 'value': 771273060000.0}, {'metricName': 'stddev', 'value': 509250011000.0}, {'metricName': 'min', 'value': 309237645000.0}, {'metricName': 'max', 'value': 1331439860000.0}], 'statisticType': 'descriptiveStatistics'}, {'featureName': 'max_trx', 'metricValues': [{'metricName': 'count', 'value': 500.0}, {'metricName': 'mean', 'value': 1876.5645}, {'metricName': 'stddev', 'value': 532.82294}, {'metricName': 'min', 'value': 608.2359}, {'metricName': 'max', 'value': 3885.9565}], 'statisticType': 'descriptiveStatistics'}, {'featureName': 'triangle_count', 'metricValues': [{'metricName': 'count', 'value': 500.0}, {'metricName': 'mean', 'value': 7.524}, {'metricName': 'stddev', 'value': 4.1804757}, {'metricName': 'min', 'value': 0.0}, {'metricName': 'max', 'value': 21.0}], 'statisticType': 'descriptiveStatistics'}, {'featureName': 'number_of_accounts', 'metricValues': [{'metricName': 'count', 'value': 500.0}, {'metricName': 'mean', 'value': 7.752}, {'metricName': 'stddev', 'value': 4.065902}, {'metricName': 'min', 'value': 1.0}, {'metricName': 'max', 'value': 14.0}], 'statisticType': 'descriptiveStatistics'}, {'featureName': 'min_trx', 'metricValues': [{'metricName': 'count', 'value': 500.0}, {'metricName': 'mean', 'value': 126.41404}, {'metricName': 'stddev', 'value': 135.2302}, {'metricName': 'min', 'value': 0.15052964}, {'metricName': 'max', 'value': 1403.2979}], 'statisticType': 'descriptiveStatistics'}, {'featureName': 'avg_trx', 'metricValues': [{'metricName': 'count', 'value': 500.0}, {'metricName': 'mean', 'value': 804.36707}, {'metricName': 'stddev', 'value': 190.28111}, {'metricName': 'min', 'value': 260.58777}, {'metricName': 'max', 'value': 1544.8882}], 'statisticType': 'descriptiveStatistics'}, {'featureName': 'count_trx', 'metricValues': [{'metricName': 'count', 'value': 500.0}, {'metricName': 'mean', 'value': 20.0}, {'metricName': 'stddev', 'value': 6.230058}, {'metricName': 'min', 'value': 4.0}, {'metricName': 'max', 'value': 38.0}], 'statisticType': 'descriptiveStatistics'}, {'featureName': 'pagerank', 'metricValues': [{'metricName': 'count', 'value': 500.0}, {'metricName': 'mean', 'value': 1.0}, {'metricName': 'stddev', 'value': 0.0}, {'metricName': 'min', 'value': 1.0}, {'metricName': 'max', 'value': 1.0}], 'statisticType': 'descriptiveStatistics'}]}, 'featureCorrelationMatrix': {'featureCorrelations': [{'featureName': 'min_trx', 'correlationValues': [{'featureName': 'balance', 'correlation': -0.035783004, 'statisticType': 'featureCorrelations'}, {'featureName': 'pep', 'correlation': 0.025501782, 'statisticType': 'featureCorrelations'}, {'featureName': 'max_trx', 'correlation': 3.518876e-05, 'statisticType': 'featureCorrelations'}, {'featureName': 'triangle_count', 'correlation': -0.098245956, 'statisticType': 'featureCorrelations'}, {'featureName': 'number_of_accounts', 'correlation': -0.027770644, 'statisticType': 'featureCorrelations'}, {'featureName': 'min_trx', 'correlation': 1.0, 'statisticType': 'featureCorrelations'}, {'featureName': 'avg_trx', 'correlation': 0.39488143, 'statisticType': 'featureCorrelations'}, {'featureName': 'count_trx', 'correlation': -0.317576, 'statisticType': 'featureCorrelations'}, {'featureName': 'pagerank', 'correlation': 0.0, 'statisticType': 'featureCorrelations'}]}, {'featureName': 'balance', 'correlationValues': [{'featureName': 'balance', 'correlation': 1.0, 'statisticType': 'featureCorrelations'}, {'featureName': 'pep', 'correlation': -0.005911451, 'statisticType': 'featureCorrelations'}, {'featureName': 'max_trx', 'correlation': -0.033707105, 'statisticType': 'featureCorrelations'}, {'featureName': 'triangle_count', 'correlation': -0.024456615, 'statisticType': 'featureCorrelations'}, {'featureName': 'number_of_accounts', 'correlation': 0.024859415, 'statisticType': 'featureCorrelations'}, {'featureName': 'min_trx', 'correlation': -0.035783004, 'statisticType': 'featureCorrelations'}, {'featureName': 'avg_trx', 'correlation': -0.042454593, 'statisticType': 'featureCorrelations'}, {'featureName': 'count_trx', 'correlation': 0.020852992, 'statisticType': 'featureCorrelations'}, {'featureName': 'pagerank', 'correlation': 0.0, 'statisticType': 'featureCorrelations'}]}, {'featureName': 'triangle_count', 'correlationValues': [{'featureName': 'balance', 'correlation': -0.024456615, 'statisticType': 'featureCorrelations'}, {'featureName': 'pep', 'correlation': 0.05636367, 'statisticType': 'featureCorrelations'}, {'featureName': 'max_trx', 'correlation': 0.12662022, 'statisticType': 'featureCorrelations'}, {'featureName': 'triangle_count', 'correlation': 1.0, 'statisticType': 'featureCorrelations'}, {'featureName': 'number_of_accounts', 'correlation': -0.016744748, 'statisticType': 'featureCorrelations'}, {'featureName': 'min_trx', 'correlation': -0.098245956, 'statisticType': 'featureCorrelations'}, {'featureName': 'avg_trx', 'correlation': 0.059870116, 'statisticType': 'featureCorrelations'}, {'featureName': 'count_trx', 'correlation': 0.48660156, 'statisticType': 'featureCorrelations'}, {'featureName': 'pagerank', 'correlation': 0.0, 'statisticType': 'featureCorrelations'}]}, {'featureName': 'number_of_accounts', 'correlationValues': [{'featureName': 'balance', 'correlation': 0.024859415, 'statisticType': 'featureCorrelations'}, {'featureName': 'pep', 'correlation': -0.02666486, 'statisticType': 'featureCorrelations'}, {'featureName': 'max_trx', 'correlation': 0.0053743166, 'statisticType': 'featureCorrelations'}, {'featureName': 'triangle_count', 'correlation': -0.016744748, 'statisticType': 'featureCorrelations'}, {'featureName': 'number_of_accounts', 'correlation': 1.0, 'statisticType': 'featureCorrelations'}, {'featureName': 'min_trx', 'correlation': -0.027770644, 'statisticType': 'featureCorrelations'}, {'featureName': 'avg_trx', 'correlation': -0.045659218, 'statisticType': 'featureCorrelations'}, {'featureName': 'count_trx', 'correlation': 0.00094936165, 'statisticType': 'featureCorrelations'}, {'featureName': 'pagerank', 'correlation': 0.0, 'statisticType': 'featureCorrelations'}]}, {'featureName': 'pep', 'correlationValues': [{'featureName': 'balance', 'correlation': -0.005911451, 'statisticType': 'featureCorrelations'}, {'featureName': 'pep', 'correlation': 1.0, 'statisticType': 'featureCorrelations'}, {'featureName': 'max_trx', 'correlation': 0.03964969, 'statisticType': 'featureCorrelations'}, {'featureName': 'triangle_count', 'correlation': 0.05636367, 'statisticType': 'featureCorrelations'}, {'featureName': 'number_of_accounts', 'correlation': -0.02666486, 'statisticType': 'featureCorrelations'}, {'featureName': 'min_trx', 'correlation': 0.025501782, 'statisticType': 'featureCorrelations'}, {'featureName': 'avg_trx', 'correlation': 0.0037346045, 'statisticType': 'featureCorrelations'}, {'featureName': 'count_trx', 'correlation': 0.028409643, 'statisticType': 'featureCorrelations'}, {'featureName': 'pagerank', 'correlation': 0.0, 'statisticType': 'featureCorrelations'}]}, {'featureName': 'max_trx', 'correlationValues': [{'featureName': 'balance', 'correlation': -0.033707105, 'statisticType': 'featureCorrelations'}, {'featureName': 'pep', 'correlation': 0.03964969, 'statisticType': 'featureCorrelations'}, {'featureName': 'max_trx', 'correlation': 1.0, 'statisticType': 'featureCorrelations'}, {'featureName': 'triangle_count', 'correlation': 0.12662022, 'statisticType': 'featureCorrelations'}, {'featureName': 'number_of_accounts', 'correlation': 0.0053743166, 'statisticType': 'featureCorrelations'}, {'featureName': 'min_trx', 'correlation': 3.518876e-05, 'statisticType': 'featureCorrelations'}, {'featureName': 'avg_trx', 'correlation': 0.6561947, 'statisticType': 'featureCorrelations'}, {'featureName': 'count_trx', 'correlation': 0.34287718, 'statisticType': 'featureCorrelations'}, {'featureName': 'pagerank', 'correlation': 0.0, 'statisticType': 'featureCorrelations'}]}, {'featureName': 'pagerank', 'correlationValues': [{'featureName': 'balance', 'correlation': 0.0, 'statisticType': 'featureCorrelations'}, {'featureName': 'pep', 'correlation': 0.0, 'statisticType': 'featureCorrelations'}, {'featureName': 'max_trx', 'correlation': 0.0, 'statisticType': 'featureCorrelations'}, {'featureName': 'triangle_count', 'correlation': 0.0, 'statisticType': 'featureCorrelations'}, {'featureName': 'number_of_accounts', 'correlation': 0.0, 'statisticType': 'featureCorrelations'}, {'featureName': 'min_trx', 'correlation': 0.0, 'statisticType': 'featureCorrelations'}, {'featureName': 'avg_trx', 'correlation': 0.0, 'statisticType': 'featureCorrelations'}, {'featureName': 'count_trx', 'correlation': 0.0, 'statisticType': 'featureCorrelations'}, {'featureName': 'pagerank', 'correlation': 1.0, 'statisticType': 'featureCorrelations'}]}, {'featureName': 'avg_trx', 'correlationValues': [{'featureName': 'balance', 'correlation': -0.042454593, 'statisticType': 'featureCorrelations'}, {'featureName': 'pep', 'correlation': 0.0037346045, 'statisticType': 'featureCorrelations'}, {'featureName': 'max_trx', 'correlation': 0.6561947, 'statisticType': 'featureCorrelations'}, {'featureName': 'triangle_count', 'correlation': 0.059870116, 'statisticType': 'featureCorrelations'}, {'featureName': 'number_of_accounts', 'correlation': -0.045659218, 'statisticType': 'featureCorrelations'}, {'featureName': 'min_trx', 'correlation': 0.39488143, 'statisticType': 'featureCorrelations'}, {'featureName': 'avg_trx', 'correlation': 1.0, 'statisticType': 'featureCorrelations'}, {'featureName': 'count_trx', 'correlation': 0.06330359, 'statisticType': 'featureCorrelations'}, {'featureName': 'pagerank', 'correlation': 0.0, 'statisticType': 'featureCorrelations'}]}, {'featureName': 'count_trx', 'correlationValues': [{'featureName': 'balance', 'correlation': 0.020852992, 'statisticType': 'featureCorrelations'}, {'featureName': 'pep', 'correlation': 0.028409643, 'statisticType': 'featureCorrelations'}, {'featureName': 'max_trx', 'correlation': 0.34287718, 'statisticType': 'featureCorrelations'}, {'featureName': 'triangle_count', 'correlation': 0.48660156, 'statisticType': 'featureCorrelations'}, {'featureName': 'number_of_accounts', 'correlation': 0.00094936165, 'statisticType': 'featureCorrelations'}, {'featureName': 'min_trx', 'correlation': -0.317576, 'statisticType': 'featureCorrelations'}, {'featureName': 'avg_trx', 'correlation': 0.06330359, 'statisticType': 'featureCorrelations'}, {'featureName': 'count_trx', 'correlation': 1.0, 'statisticType': 'featureCorrelations'}, {'featureName': 'pagerank', 'correlation': 0.0, 'statisticType': 'featureCorrelations'}]}]}, 'features': [{'name': 'pagerank', 'type': 'FLOAT', 'description': '-', 'primary': False}, {'name': 'count_trx', 'type': 'BIGINT', 'description': '-', 'primary': False}, {'name': 'avg_trx', 'type': 'FLOAT', 'description': '-', 'primary': False}, {'name': 'min_trx', 'type': 'FLOAT', 'description': '-', 'primary': False}, {'name': 'number_of_accounts', 'type': 'INT', 'description': '-', 'primary': False}, {'name': 'triangle_count', 'type': 'FLOAT', 'description': '-', 'primary': False}, {'name': 'max_trx', 'type': 'FLOAT', 'description': '-', 'primary': False}, {'name': 'pep', 'type': 'BIGINT', 'description': '-', 'primary': False}, {'name': 'balance', 'type': 'FLOAT', 'description': '-', 'primary': False}], 'featuresHistogram': {'featureDistributions': [{'featureName': 'balance', 'frequencyDistribution': [{'bin': '6.6182351112', 'frequency': 56}, {'bin': '1590.1828311682', 'frequency': 69}, {'bin': '3173.7474272251', 'frequency': 58}, {'bin': '4757.3120232821', 'frequency': 49}, {'bin': '6340.876619339', 'frequency': 56}, {'bin': '7924.4412153959', 'frequency': 43}, {'bin': '9508.0058114529', 'frequency': 33}, {'bin': '11091.5704075098', 'frequency': 36}, {'bin': '12675.1350035667', 'frequency': 34}, {'bin': '14258.6995996237', 'frequency': 22}, {'bin': '15842.2641956806', 'frequency': 15}, {'bin': '17425.8287917376', 'frequency': 6}, {'bin': '19009.3933877945', 'frequency': 12}, {'bin': '20592.9579838514', 'frequency': 5}, {'bin': '22176.5225799084', 'frequency': 3}, {'bin': '23760.0871759653', 'frequency': 0}, {'bin': '25343.6517720222', 'frequency': 0}, {'bin': '26927.2163680792', 'frequency': 1}, {'bin': '28510.7809641361', 'frequency': 1}, {'bin': '30094.3455601931', 'frequency': 1}], 'statisticType': 'featureDistributions'}, {'featureName': 'pep', 'frequencyDistribution': [{'bin': '309237645312.0', 'frequency': 274}, {'bin': '360347756134.4000244141', 'frequency': 0}, {'bin': '411457866956.799987793', 'frequency': 0}, {'bin': '462567977779.200012207', 'frequency': 0}, {'bin': '513678088601.5999755859', 'frequency': 0}, {'bin': '564788199424.0', 'frequency': 0}, {'bin': '615898310246.4000244141', 'frequency': 0}, {'bin': '667008421068.8000488281', 'frequency': 0}, {'bin': '718118531891.1999511719', 'frequency': 0}, {'bin': '769228642713.6000976562', 'frequency': 0}, {'bin': '820338753536.0', 'frequency': 0}, {'bin': '871448864358.4000244141', 'frequency': 0}, {'bin': '922558975180.8000488281', 'frequency': 0}, {'bin': '973669086003.2000732422', 'frequency': 0}, {'bin': '1024779196825.5999755859', 'frequency': 0}, {'bin': '1075889307648.0', 'frequency': 0}, {'bin': '1126999418470.3999023438', 'frequency': 0}, {'bin': '1178109529292.8000488281', 'frequency': 0}, {'bin': '1229219640115.2001953125', 'frequency': 0}, {'bin': '1280329750937.6000976562', 'frequency': 226}], 'statisticType': 'featureDistributions'}, {'featureName': 'max_trx', 'frequencyDistribution': [{'bin': '608.2359008789', 'frequency': 6}, {'bin': '772.1219329834', 'frequency': 7}, {'bin': '936.0079650879', 'frequency': 9}, {'bin': '1099.8939971924', 'frequency': 34}, {'bin': '1263.7800292969', 'frequency': 46}, {'bin': '1427.6660614014', 'frequency': 49}, {'bin': '1591.5520935059', 'frequency': 71}, {'bin': '1755.4381256104', 'frequency': 67}, {'bin': '1919.3241577148', 'frequency': 50}, {'bin': '2083.2101898193', 'frequency': 44}, {'bin': '2247.0962219238', 'frequency': 38}, {'bin': '2410.9822540283', 'frequency': 30}, {'bin': '2574.8682861328', 'frequency': 17}, {'bin': '2738.7543182373', 'frequency': 14}, {'bin': '2902.6403503418', 'frequency': 10}, {'bin': '3066.5263824463', 'frequency': 2}, {'bin': '3230.4124145508', 'frequency': 1}, {'bin': '3394.2984466553', 'frequency': 3}, {'bin': '3558.1844787598', 'frequency': 0}, {'bin': '3722.0705108643', 'frequency': 2}], 'statisticType': 'featureDistributions'}, {'featureName': 'triangle_count', 'frequencyDistribution': [{'bin': '0.0', 'frequency': 15}, {'bin': '1.05', 'frequency': 32}, {'bin': '2.1', 'frequency': 37}, {'bin': '3.15', 'frequency': 49}, {'bin': '4.2', 'frequency': 52}, {'bin': '5.25', 'frequency': 42}, {'bin': '6.3', 'frequency': 44}, {'bin': '7.35', 'frequency': 51}, {'bin': '8.4', 'frequency': 38}, {'bin': '9.45', 'frequency': 27}, {'bin': '10.5', 'frequency': 29}, {'bin': '11.55', 'frequency': 24}, {'bin': '12.6', 'frequency': 13}, {'bin': '13.65', 'frequency': 10}, {'bin': '14.7', 'frequency': 10}, {'bin': '15.75', 'frequency': 9}, {'bin': '16.8', 'frequency': 7}, {'bin': '17.85', 'frequency': 5}, {'bin': '18.9', 'frequency': 0}, {'bin': '19.95', 'frequency': 6}], 'statisticType': 'featureDistributions'}, {'featureName': 'number_of_accounts', 'frequencyDistribution': [{'bin': '1.0', 'frequency': 35}, {'bin': '1.65', 'frequency': 30}, {'bin': '2.3', 'frequency': 0}, {'bin': '2.95', 'frequency': 37}, {'bin': '3.6', 'frequency': 36}, {'bin': '4.25', 'frequency': 0}, {'bin': '4.9', 'frequency': 27}, {'bin': '5.55', 'frequency': 39}, {'bin': '6.2', 'frequency': 0}, {'bin': '6.85', 'frequency': 31}, {'bin': '7.5', 'frequency': 35}, {'bin': '8.15', 'frequency': 0}, {'bin': '8.8', 'frequency': 30}, {'bin': '9.45', 'frequency': 42}, {'bin': '10.1', 'frequency': 0}, {'bin': '10.75', 'frequency': 43}, {'bin': '11.4', 'frequency': 36}, {'bin': '12.05', 'frequency': 0}, {'bin': '12.7', 'frequency': 41}, {'bin': '13.35', 'frequency': 38}], 'statisticType': 'featureDistributions'}, {'featureName': 'min_trx', 'frequencyDistribution': [{'bin': '0.1505296379', 'frequency': 216}, {'bin': '70.3078957342', 'frequency': 119}, {'bin': '140.4652618304', 'frequency': 68}, {'bin': '210.6226279266', 'frequency': 45}, {'bin': '280.7799940228', 'frequency': 24}, {'bin': '350.9373601191', 'frequency': 13}, {'bin': '421.0947262153', 'frequency': 5}, {'bin': '491.2520923115', 'frequency': 4}, {'bin': '561.4094584078', 'frequency': 2}, {'bin': '631.566824504', 'frequency': 1}, {'bin': '701.7241906002', 'frequency': 0}, {'bin': '771.8815566964', 'frequency': 2}, {'bin': '842.0389227927', 'frequency': 0}, {'bin': '912.1962888889', 'frequency': 0}, {'bin': '982.3536549851', 'frequency': 0}, {'bin': '1052.5110210814', 'frequency': 0}, {'bin': '1122.6683871776', 'frequency': 0}, {'bin': '1192.8257532738', 'frequency': 0}, {'bin': '1262.98311937', 'frequency': 0}, {'bin': '1333.1404854663', 'frequency': 1}], 'statisticType': 'featureDistributions'}, {'featureName': 'avg_trx', 'frequencyDistribution': [{'bin': '260.5877685547', 'frequency': 2}, {'bin': '324.8027893066', 'frequency': 7}, {'bin': '389.0178100586', 'frequency': 9}, {'bin': '453.2328308105', 'frequency': 13}, {'bin': '517.4478515625', 'frequency': 19}, {'bin': '581.6628723145', 'frequency': 50}, {'bin': '645.8778930664', 'frequency': 54}, {'bin': '710.0929138184', 'frequency': 68}, {'bin': '774.3079345703', 'frequency': 66}, {'bin': '838.5229553223', 'frequency': 74}, {'bin': '902.7379760742', 'frequency': 42}, {'bin': '966.9529968262', 'frequency': 41}, {'bin': '1031.1680175781', 'frequency': 24}, {'bin': '1095.3830383301', 'frequency': 13}, {'bin': '1159.598059082', 'frequency': 9}, {'bin': '1223.813079834', 'frequency': 4}, {'bin': '1288.0281005859', 'frequency': 1}, {'bin': '1352.2431213379', 'frequency': 2}, {'bin': '1416.4581420898', 'frequency': 1}, {'bin': '1480.6731628418', 'frequency': 1}], 'statisticType': 'featureDistributions'}, {'featureName': 'count_trx', 'frequencyDistribution': [{'bin': '4.0', 'frequency': 2}, {'bin': '5.7', 'frequency': 5}, {'bin': '7.4', 'frequency': 12}, {'bin': '9.1', 'frequency': 14}, {'bin': '10.8', 'frequency': 26}, {'bin': '12.5', 'frequency': 51}, {'bin': '14.2', 'frequency': 0}, {'bin': '15.9', 'frequency': 48}, {'bin': '17.6', 'frequency': 69}, {'bin': '19.3', 'frequency': 62}, {'bin': '21.0', 'frequency': 62}, {'bin': '22.7', 'frequency': 43}, {'bin': '24.4', 'frequency': 38}, {'bin': '26.1', 'frequency': 0}, {'bin': '27.8', 'frequency': 32}, {'bin': '29.5', 'frequency': 14}, {'bin': '31.2', 'frequency': 8}, {'bin': '32.9', 'frequency': 7}, {'bin': '34.6', 'frequency': 5}, {'bin': '36.3', 'frequency': 2}], 'statisticType': 'featureDistributions'}, {'featureName': 'pagerank', 'frequencyDistribution': [{'bin': '1.0', 'frequency': 500}], 'statisticType': 'featureDistributions'}]}, 'featurestoreId': 1, 'featurestoreName': 'fs_demo_featurestore', 'id': 5, 'inodeId': 106772, 'jobId': None, 'jobName': None, 'jobStatus': None, 'lastComputed': None, 'name': 'AML_dataset', 'version': 1, 'dataFormat': 'tfrecords', 'hdfsStorePath': '/Projects/fs_demo/Training_Datasets/AML_dataset_1', 'size': 0}, {'clusterAnalysis': {'dataPoints': [{'datapointName': '0', 'firstDimension': -309237645000.0, 'secondDimension': 20106.723}, {'datapointName': '1', 'firstDimension': -1331439860000.0, 'secondDimension': 16601.521}, {'datapointName': '2', 'firstDimension': -1331439860000.0, 'secondDimension': 7806.503}, {'datapointName': '3', 'firstDimension': -1331439860000.0, 'secondDimension': 1352.7709}, {'datapointName': '4', 'firstDimension': -309237645000.0, 'secondDimension': 4328.4453}, {'datapointName': '5', 'firstDimension': -1331439860000.0, 'secondDimension': 10511.799}, {'datapointName': '6', 'firstDimension': -1331439860000.0, 'secondDimension': 2422.1794}, {'datapointName': '7', 'firstDimension': -309237645000.0, 'secondDimension': 5537.27}, {'datapointName': '8', 'firstDimension': -1331439860000.0, 'secondDimension': 16346.803}, {'datapointName': '9', 'firstDimension': -1331439860000.0, 'secondDimension': 16954.521}, {'datapointName': '10', 'firstDimension': -1331439860000.0, 'secondDimension': 16954.521}, {'datapointName': '11', 'firstDimension': -309237645000.0, 'secondDimension': 6713.2393}, {'datapointName': '12', 'firstDimension': -309237645000.0, 'secondDimension': 4336.7915}, {'datapointName': '13', 'firstDimension': -1331439860000.0, 'secondDimension': 4469.9385}, {'datapointName': '14', 'firstDimension': -309237645000.0, 'secondDimension': 7878.2607}, {'datapointName': '15', 'firstDimension': -309237645000.0, 'secondDimension': 13561.976}, {'datapointName': '16', 'firstDimension': -309237645000.0, 'secondDimension': 14349.123}, {'datapointName': '17', 'firstDimension': -309237645000.0, 'secondDimension': 2736.8833}, {'datapointName': '18', 'firstDimension': -1331439860000.0, 'secondDimension': 18610.225}, {'datapointName': '19', 'firstDimension': -1331439860000.0, 'secondDimension': 1100.4834}, {'datapointName': '20', 'firstDimension': -309237645000.0, 'secondDimension': 11091.505}, {'datapointName': '21', 'firstDimension': -1331439860000.0, 'secondDimension': 2591.632}, {'datapointName': '22', 'firstDimension': -1331439860000.0, 'secondDimension': 1014.1514}, {'datapointName': '23', 'firstDimension': -309237645000.0, 'secondDimension': 1869.1776}, {'datapointName': '24', 'firstDimension': -1331439860000.0, 'secondDimension': 10988.505}, {'datapointName': '25', 'firstDimension': -1331439860000.0, 'secondDimension': 7466.997}, {'datapointName': '26', 'firstDimension': -309237645000.0, 'secondDimension': 14983.745}, {'datapointName': '27', 'firstDimension': -1331439860000.0, 'secondDimension': 22834.072}, {'datapointName': '28', 'firstDimension': -1331439860000.0, 'secondDimension': 1631.5436}, {'datapointName': '29', 'firstDimension': -309237645000.0, 'secondDimension': 10894.385}, {'datapointName': '30', 'firstDimension': -1331439860000.0, 'secondDimension': 6294.59}, {'datapointName': '31', 'firstDimension': -1331439860000.0, 'secondDimension': 7053.379}, {'datapointName': '32', 'firstDimension': -1331439860000.0, 'secondDimension': 7053.379}, {'datapointName': '33', 'firstDimension': -309237645000.0, 'secondDimension': 12564.201}, {'datapointName': '34', 'firstDimension': -1331439860000.0, 'secondDimension': 11008.783}, {'datapointName': '35', 'firstDimension': -309237645000.0, 'secondDimension': 7581.582}, {'datapointName': '36', 'firstDimension': -1331439860000.0, 'secondDimension': 1325.7572}, {'datapointName': '37', 'firstDimension': -1331439860000.0, 'secondDimension': 11420.431}, {'datapointName': '38', 'firstDimension': -1331439860000.0, 'secondDimension': 4936.403}, {'datapointName': '39', 'firstDimension': -309237645000.0, 'secondDimension': -101.52001}, {'datapointName': '40', 'firstDimension': -309237645000.0, 'secondDimension': 5457.3384}, {'datapointName': '41', 'firstDimension': -1331439860000.0, 'secondDimension': 19935.254}, {'datapointName': '42', 'firstDimension': -1331439860000.0, 'secondDimension': -168.1365}, {'datapointName': '43', 'firstDimension': -309237645000.0, 'secondDimension': 8720.543}, {'datapointName': '44', 'firstDimension': -1331439860000.0, 'secondDimension': 16416.453}, {'datapointName': '45', 'firstDimension': -1331439860000.0, 'secondDimension': 13440.766}, {'datapointName': '46', 'firstDimension': -309237645000.0, 'secondDimension': 1797.9172}, {'datapointName': '47', 'firstDimension': -309237645000.0, 'secondDimension': 4172.2935}, {'datapointName': '48', 'firstDimension': -309237645000.0, 'secondDimension': 1024.8698}, {'datapointName': '49', 'firstDimension': -309237645000.0, 'secondDimension': 10376.653}, {'datapointName': '50', 'firstDimension': -1331439860000.0, 'secondDimension': 5311.0513}, {'datapointName': '51', 'firstDimension': -309237645000.0, 'secondDimension': 19918.322}, {'datapointName': '52', 'firstDimension': -1331439860000.0, 'secondDimension': 14408.691}, {'datapointName': '53', 'firstDimension': -1331439860000.0, 'secondDimension': 9879.68}, {'datapointName': '54', 'firstDimension': -309237645000.0, 'secondDimension': 3005.4038}, {'datapointName': '55', 'firstDimension': -1331439860000.0, 'secondDimension': 1532.5122}, {'datapointName': '56', 'firstDimension': -1331439860000.0, 'secondDimension': 3565.981}, {'datapointName': '57', 'firstDimension': -309237645000.0, 'secondDimension': 17877.014}, {'datapointName': '58', 'firstDimension': -1331439860000.0, 'secondDimension': 8905.7}, {'datapointName': '59', 'firstDimension': -309237645000.0, 'secondDimension': 9141.746}, {'datapointName': '60', 'firstDimension': -309237645000.0, 'secondDimension': 12727.806}, {'datapointName': '61', 'firstDimension': -1331439860000.0, 'secondDimension': -393.3108}], 'clusters': [{'datapointName': '0', 'cluster': 0}, {'datapointName': '1', 'cluster': 1}, {'datapointName': '2', 'cluster': 2}, {'datapointName': '3', 'cluster': 2}, {'datapointName': '4', 'cluster': 3}, {'datapointName': '5', 'cluster': 1}, {'datapointName': '6', 'cluster': 2}, {'datapointName': '7', 'cluster': 3}, {'datapointName': '8', 'cluster': 1}, {'datapointName': '9', 'cluster': 1}, {'datapointName': '10', 'cluster': 1}, {'datapointName': '11', 'cluster': 4}, {'datapointName': '12', 'cluster': 3}, {'datapointName': '13', 'cluster': 2}, {'datapointName': '14', 'cluster': 4}, {'datapointName': '15', 'cluster': 0}, {'datapointName': '16', 'cluster': 0}, {'datapointName': '17', 'cluster': 3}, {'datapointName': '18', 'cluster': 1}, {'datapointName': '19', 'cluster': 2}, {'datapointName': '20', 'cluster': 4}, {'datapointName': '21', 'cluster': 2}, {'datapointName': '22', 'cluster': 2}, {'datapointName': '23', 'cluster': 3}, {'datapointName': '24', 'cluster': 1}, {'datapointName': '25', 'cluster': 2}, {'datapointName': '26', 'cluster': 0}, {'datapointName': '27', 'cluster': 1}, {'datapointName': '28', 'cluster': 2}, {'datapointName': '29', 'cluster': 4}, {'datapointName': '30', 'cluster': 2}, {'datapointName': '31', 'cluster': 2}, {'datapointName': '32', 'cluster': 2}, {'datapointName': '33', 'cluster': 4}, {'datapointName': '34', 'cluster': 1}, {'datapointName': '35', 'cluster': 4}, {'datapointName': '36', 'cluster': 2}, {'datapointName': '37', 'cluster': 1}, {'datapointName': '38', 'cluster': 2}, {'datapointName': '39', 'cluster': 3}, {'datapointName': '40', 'cluster': 3}, {'datapointName': '41', 'cluster': 1}, {'datapointName': '42', 'cluster': 2}, {'datapointName': '43', 'cluster': 4}, {'datapointName': '44', 'cluster': 1}, {'datapointName': '45', 'cluster': 1}, {'datapointName': '46', 'cluster': 3}, {'datapointName': '47', 'cluster': 3}, {'datapointName': '48', 'cluster': 3}, {'datapointName': '49', 'cluster': 4}, {'datapointName': '50', 'cluster': 2}, {'datapointName': '51', 'cluster': 0}, {'datapointName': '52', 'cluster': 1}, {'datapointName': '53', 'cluster': 1}, {'datapointName': '54', 'cluster': 3}, {'datapointName': '55', 'cluster': 2}, {'datapointName': '56', 'cluster': 2}, {'datapointName': '57', 'cluster': 0}, {'datapointName': '58', 'cluster': 1}, {'datapointName': '59', 'cluster': 4}, {'datapointName': '60', 'cluster': 4}, {'datapointName': '61', 'cluster': 2}], 'statisticType': 'clusterAnalysis'}, 'created': '2018-12-17T11:58:04Z', 'creator': 'admin@kth.se', 'dependencies': [], 'description': '', 'descriptiveStatistics': {'descriptiveStats': [{'featureName': 'balance', 'metricValues': [{'metricName': 'count', 'value': 500.0}, {'metricName': 'mean', 'value': 7788.0317}, {'metricName': 'stddev', 'value': 5615.956}, {'metricName': 'min', 'value': 6.618235}, {'metricName': 'max', 'value': 31677.91}], 'statisticType': 'descriptiveStatistics'}, {'featureName': 'pep', 'metricValues': [{'metricName': 'count', 'value': 500.0}, {'metricName': 'mean', 'value': 771273060000.0}, {'metricName': 'stddev', 'value': 509250011000.0}, {'metricName': 'min', 'value': 309237645000.0}, {'metricName': 'max', 'value': 1331439860000.0}], 'statisticType': 'descriptiveStatistics'}, {'featureName': 'max_trx', 'metricValues': [{'metricName': 'count', 'value': 500.0}, {'metricName': 'mean', 'value': 1876.5645}, {'metricName': 'stddev', 'value': 532.82294}, {'metricName': 'min', 'value': 608.2359}, {'metricName': 'max', 'value': 3885.9565}], 'statisticType': 'descriptiveStatistics'}, {'featureName': 'triangle_count', 'metricValues': [{'metricName': 'count', 'value': 500.0}, {'metricName': 'mean', 'value': 7.524}, {'metricName': 'stddev', 'value': 4.1804757}, {'metricName': 'min', 'value': 0.0}, {'metricName': 'max', 'value': 21.0}], 'statisticType': 'descriptiveStatistics'}, {'featureName': 'number_of_accounts', 'metricValues': [{'metricName': 'count', 'value': 500.0}, {'metricName': 'mean', 'value': 7.752}, {'metricName': 'stddev', 'value': 4.065902}, {'metricName': 'min', 'value': 1.0}, {'metricName': 'max', 'value': 14.0}], 'statisticType': 'descriptiveStatistics'}, {'featureName': 'min_trx', 'metricValues': [{'metricName': 'count', 'value': 500.0}, {'metricName': 'mean', 'value': 126.41404}, {'metricName': 'stddev', 'value': 135.2302}, {'metricName': 'min', 'value': 0.15052964}, {'metricName': 'max', 'value': 1403.2979}], 'statisticType': 'descriptiveStatistics'}, {'featureName': 'avg_trx', 'metricValues': [{'metricName': 'count', 'value': 500.0}, {'metricName': 'mean', 'value': 804.36707}, {'metricName': 'stddev', 'value': 190.28111}, {'metricName': 'min', 'value': 260.58777}, {'metricName': 'max', 'value': 1544.8882}], 'statisticType': 'descriptiveStatistics'}, {'featureName': 'count_trx', 'metricValues': [{'metricName': 'count', 'value': 500.0}, {'metricName': 'mean', 'value': 20.0}, {'metricName': 'stddev', 'value': 6.230058}, {'metricName': 'min', 'value': 4.0}, {'metricName': 'max', 'value': 38.0}], 'statisticType': 'descriptiveStatistics'}, {'featureName': 'pagerank', 'metricValues': [{'metricName': 'count', 'value': 500.0}, {'metricName': 'mean', 'value': 1.0}, {'metricName': 'stddev', 'value': 0.0}, {'metricName': 'min', 'value': 1.0}, {'metricName': 'max', 'value': 1.0}], 'statisticType': 'descriptiveStatistics'}]}, 'featureCorrelationMatrix': {'featureCorrelations': [{'featureName': 'min_trx', 'correlationValues': [{'featureName': 'balance', 'correlation': -0.035783004, 'statisticType': 'featureCorrelations'}, {'featureName': 'pep', 'correlation': 0.025501782, 'statisticType': 'featureCorrelations'}, {'featureName': 'max_trx', 'correlation': 3.518876e-05, 'statisticType': 'featureCorrelations'}, {'featureName': 'triangle_count', 'correlation': -0.098245956, 'statisticType': 'featureCorrelations'}, {'featureName': 'number_of_accounts', 'correlation': -0.027770644, 'statisticType': 'featureCorrelations'}, {'featureName': 'min_trx', 'correlation': 1.0, 'statisticType': 'featureCorrelations'}, {'featureName': 'avg_trx', 'correlation': 0.39488143, 'statisticType': 'featureCorrelations'}, {'featureName': 'count_trx', 'correlation': -0.317576, 'statisticType': 'featureCorrelations'}, {'featureName': 'pagerank', 'correlation': 0.0, 'statisticType': 'featureCorrelations'}]}, {'featureName': 'balance', 'correlationValues': [{'featureName': 'balance', 'correlation': 1.0, 'statisticType': 'featureCorrelations'}, {'featureName': 'pep', 'correlation': -0.005911451, 'statisticType': 'featureCorrelations'}, {'featureName': 'max_trx', 'correlation': -0.033707105, 'statisticType': 'featureCorrelations'}, {'featureName': 'triangle_count', 'correlation': -0.024456615, 'statisticType': 'featureCorrelations'}, {'featureName': 'number_of_accounts', 'correlation': 0.024859415, 'statisticType': 'featureCorrelations'}, {'featureName': 'min_trx', 'correlation': -0.035783004, 'statisticType': 'featureCorrelations'}, {'featureName': 'avg_trx', 'correlation': -0.042454593, 'statisticType': 'featureCorrelations'}, {'featureName': 'count_trx', 'correlation': 0.020852992, 'statisticType': 'featureCorrelations'}, {'featureName': 'pagerank', 'correlation': 0.0, 'statisticType': 'featureCorrelations'}]}, {'featureName': 'triangle_count', 'correlationValues': [{'featureName': 'balance', 'correlation': -0.024456615, 'statisticType': 'featureCorrelations'}, {'featureName': 'pep', 'correlation': 0.05636367, 'statisticType': 'featureCorrelations'}, {'featureName': 'max_trx', 'correlation': 0.12662022, 'statisticType': 'featureCorrelations'}, {'featureName': 'triangle_count', 'correlation': 1.0, 'statisticType': 'featureCorrelations'}, {'featureName': 'number_of_accounts', 'correlation': -0.016744748, 'statisticType': 'featureCorrelations'}, {'featureName': 'min_trx', 'correlation': -0.098245956, 'statisticType': 'featureCorrelations'}, {'featureName': 'avg_trx', 'correlation': 0.059870116, 'statisticType': 'featureCorrelations'}, {'featureName': 'count_trx', 'correlation': 0.48660156, 'statisticType': 'featureCorrelations'}, {'featureName': 'pagerank', 'correlation': 0.0, 'statisticType': 'featureCorrelations'}]}, {'featureName': 'number_of_accounts', 'correlationValues': [{'featureName': 'balance', 'correlation': 0.024859415, 'statisticType': 'featureCorrelations'}, {'featureName': 'pep', 'correlation': -0.02666486, 'statisticType': 'featureCorrelations'}, {'featureName': 'max_trx', 'correlation': 0.0053743166, 'statisticType': 'featureCorrelations'}, {'featureName': 'triangle_count', 'correlation': -0.016744748, 'statisticType': 'featureCorrelations'}, {'featureName': 'number_of_accounts', 'correlation': 1.0, 'statisticType': 'featureCorrelations'}, {'featureName': 'min_trx', 'correlation': -0.027770644, 'statisticType': 'featureCorrelations'}, {'featureName': 'avg_trx', 'correlation': -0.045659218, 'statisticType': 'featureCorrelations'}, {'featureName': 'count_trx', 'correlation': 0.00094936165, 'statisticType': 'featureCorrelations'}, {'featureName': 'pagerank', 'correlation': 0.0, 'statisticType': 'featureCorrelations'}]}, {'featureName': 'pep', 'correlationValues': [{'featureName': 'balance', 'correlation': -0.005911451, 'statisticType': 'featureCorrelations'}, {'featureName': 'pep', 'correlation': 1.0, 'statisticType': 'featureCorrelations'}, {'featureName': 'max_trx', 'correlation': 0.03964969, 'statisticType': 'featureCorrelations'}, {'featureName': 'triangle_count', 'correlation': 0.05636367, 'statisticType': 'featureCorrelations'}, {'featureName': 'number_of_accounts', 'correlation': -0.02666486, 'statisticType': 'featureCorrelations'}, {'featureName': 'min_trx', 'correlation': 0.025501782, 'statisticType': 'featureCorrelations'}, {'featureName': 'avg_trx', 'correlation': 0.0037346045, 'statisticType': 'featureCorrelations'}, {'featureName': 'count_trx', 'correlation': 0.028409643, 'statisticType': 'featureCorrelations'}, {'featureName': 'pagerank', 'correlation': 0.0, 'statisticType': 'featureCorrelations'}]}, {'featureName': 'max_trx', 'correlationValues': [{'featureName': 'balance', 'correlation': -0.033707105, 'statisticType': 'featureCorrelations'}, {'featureName': 'pep', 'correlation': 0.03964969, 'statisticType': 'featureCorrelations'}, {'featureName': 'max_trx', 'correlation': 1.0, 'statisticType': 'featureCorrelations'}, {'featureName': 'triangle_count', 'correlation': 0.12662022, 'statisticType': 'featureCorrelations'}, {'featureName': 'number_of_accounts', 'correlation': 0.0053743166, 'statisticType': 'featureCorrelations'}, {'featureName': 'min_trx', 'correlation': 3.518876e-05, 'statisticType': 'featureCorrelations'}, {'featureName': 'avg_trx', 'correlation': 0.6561947, 'statisticType': 'featureCorrelations'}, {'featureName': 'count_trx', 'correlation': 0.34287718, 'statisticType': 'featureCorrelations'}, {'featureName': 'pagerank', 'correlation': 0.0, 'statisticType': 'featureCorrelations'}]}, {'featureName': 'pagerank', 'correlationValues': [{'featureName': 'balance', 'correlation': 0.0, 'statisticType': 'featureCorrelations'}, {'featureName': 'pep', 'correlation': 0.0, 'statisticType': 'featureCorrelations'}, {'featureName': 'max_trx', 'correlation': 0.0, 'statisticType': 'featureCorrelations'}, {'featureName': 'triangle_count', 'correlation': 0.0, 'statisticType': 'featureCorrelations'}, {'featureName': 'number_of_accounts', 'correlation': 0.0, 'statisticType': 'featureCorrelations'}, {'featureName': 'min_trx', 'correlation': 0.0, 'statisticType': 'featureCorrelations'}, {'featureName': 'avg_trx', 'correlation': 0.0, 'statisticType': 'featureCorrelations'}, {'featureName': 'count_trx', 'correlation': 0.0, 'statisticType': 'featureCorrelations'}, {'featureName': 'pagerank', 'correlation': 1.0, 'statisticType': 'featureCorrelations'}]}, {'featureName': 'avg_trx', 'correlationValues': [{'featureName': 'balance', 'correlation': -0.042454593, 'statisticType': 'featureCorrelations'}, {'featureName': 'pep', 'correlation': 0.0037346045, 'statisticType': 'featureCorrelations'}, {'featureName': 'max_trx', 'correlation': 0.6561947, 'statisticType': 'featureCorrelations'}, {'featureName': 'triangle_count', 'correlation': 0.059870116, 'statisticType': 'featureCorrelations'}, {'featureName': 'number_of_accounts', 'correlation': -0.045659218, 'statisticType': 'featureCorrelations'}, {'featureName': 'min_trx', 'correlation': 0.39488143, 'statisticType': 'featureCorrelations'}, {'featureName': 'avg_trx', 'correlation': 1.0, 'statisticType': 'featureCorrelations'}, {'featureName': 'count_trx', 'correlation': 0.06330359, 'statisticType': 'featureCorrelations'}, {'featureName': 'pagerank', 'correlation': 0.0, 'statisticType': 'featureCorrelations'}]}, {'featureName': 'count_trx', 'correlationValues': [{'featureName': 'balance', 'correlation': 0.020852992, 'statisticType': 'featureCorrelations'}, {'featureName': 'pep', 'correlation': 0.028409643, 'statisticType': 'featureCorrelations'}, {'featureName': 'max_trx', 'correlation': 0.34287718, 'statisticType': 'featureCorrelations'}, {'featureName': 'triangle_count', 'correlation': 0.48660156, 'statisticType': 'featureCorrelations'}, {'featureName': 'number_of_accounts', 'correlation': 0.00094936165, 'statisticType': 'featureCorrelations'}, {'featureName': 'min_trx', 'correlation': -0.317576, 'statisticType': 'featureCorrelations'}, {'featureName': 'avg_trx', 'correlation': 0.06330359, 'statisticType': 'featureCorrelations'}, {'featureName': 'count_trx', 'correlation': 1.0, 'statisticType': 'featureCorrelations'}, {'featureName': 'pagerank', 'correlation': 0.0, 'statisticType': 'featureCorrelations'}]}]}, 'features': [{'name': 'pagerank', 'type': 'FLOAT', 'description': '-', 'primary': False}, {'name': 'count_trx', 'type': 'BIGINT', 'description': '-', 'primary': False}, {'name': 'avg_trx', 'type': 'FLOAT', 'description': '-', 'primary': False}, {'name': 'min_trx', 'type': 'FLOAT', 'description': '-', 'primary': False}, {'name': 'number_of_accounts', 'type': 'INT', 'description': '-', 'primary': False}, {'name': 'triangle_count', 'type': 'FLOAT', 'description': '-', 'primary': False}, {'name': 'max_trx', 'type': 'FLOAT', 'description': '-', 'primary': False}, {'name': 'pep', 'type': 'BIGINT', 'description': '-', 'primary': False}, {'name': 'balance', 'type': 'FLOAT', 'description': '-', 'primary': False}], 'featuresHistogram': {'featureDistributions': [{'featureName': 'balance', 'frequencyDistribution': [{'bin': '6.6182351112', 'frequency': 56}, {'bin': '1590.1828311682', 'frequency': 69}, {'bin': '3173.7474272251', 'frequency': 58}, {'bin': '4757.3120232821', 'frequency': 49}, {'bin': '6340.876619339', 'frequency': 56}, {'bin': '7924.4412153959', 'frequency': 43}, {'bin': '9508.0058114529', 'frequency': 33}, {'bin': '11091.5704075098', 'frequency': 36}, {'bin': '12675.1350035667', 'frequency': 34}, {'bin': '14258.6995996237', 'frequency': 22}, {'bin': '15842.2641956806', 'frequency': 15}, {'bin': '17425.8287917376', 'frequency': 6}, {'bin': '19009.3933877945', 'frequency': 12}, {'bin': '20592.9579838514', 'frequency': 5}, {'bin': '22176.5225799084', 'frequency': 3}, {'bin': '23760.0871759653', 'frequency': 0}, {'bin': '25343.6517720222', 'frequency': 0}, {'bin': '26927.2163680792', 'frequency': 1}, {'bin': '28510.7809641361', 'frequency': 1}, {'bin': '30094.3455601931', 'frequency': 1}], 'statisticType': 'featureDistributions'}, {'featureName': 'pep', 'frequencyDistribution': [{'bin': '309237645312.0', 'frequency': 274}, {'bin': '360347756134.4000244141', 'frequency': 0}, {'bin': '411457866956.799987793', 'frequency': 0}, {'bin': '462567977779.200012207', 'frequency': 0}, {'bin': '513678088601.5999755859', 'frequency': 0}, {'bin': '564788199424.0', 'frequency': 0}, {'bin': '615898310246.4000244141', 'frequency': 0}, {'bin': '667008421068.8000488281', 'frequency': 0}, {'bin': '718118531891.1999511719', 'frequency': 0}, {'bin': '769228642713.6000976562', 'frequency': 0}, {'bin': '820338753536.0', 'frequency': 0}, {'bin': '871448864358.4000244141', 'frequency': 0}, {'bin': '922558975180.8000488281', 'frequency': 0}, {'bin': '973669086003.2000732422', 'frequency': 0}, {'bin': '1024779196825.5999755859', 'frequency': 0}, {'bin': '1075889307648.0', 'frequency': 0}, {'bin': '1126999418470.3999023438', 'frequency': 0}, {'bin': '1178109529292.8000488281', 'frequency': 0}, {'bin': '1229219640115.2001953125', 'frequency': 0}, {'bin': '1280329750937.6000976562', 'frequency': 226}], 'statisticType': 'featureDistributions'}, {'featureName': 'max_trx', 'frequencyDistribution': [{'bin': '608.2359008789', 'frequency': 6}, {'bin': '772.1219329834', 'frequency': 7}, {'bin': '936.0079650879', 'frequency': 9}, {'bin': '1099.8939971924', 'frequency': 34}, {'bin': '1263.7800292969', 'frequency': 46}, {'bin': '1427.6660614014', 'frequency': 49}, {'bin': '1591.5520935059', 'frequency': 71}, {'bin': '1755.4381256104', 'frequency': 67}, {'bin': '1919.3241577148', 'frequency': 50}, {'bin': '2083.2101898193', 'frequency': 44}, {'bin': '2247.0962219238', 'frequency': 38}, {'bin': '2410.9822540283', 'frequency': 30}, {'bin': '2574.8682861328', 'frequency': 17}, {'bin': '2738.7543182373', 'frequency': 14}, {'bin': '2902.6403503418', 'frequency': 10}, {'bin': '3066.5263824463', 'frequency': 2}, {'bin': '3230.4124145508', 'frequency': 1}, {'bin': '3394.2984466553', 'frequency': 3}, {'bin': '3558.1844787598', 'frequency': 0}, {'bin': '3722.0705108643', 'frequency': 2}], 'statisticType': 'featureDistributions'}, {'featureName': 'triangle_count', 'frequencyDistribution': [{'bin': '0.0', 'frequency': 15}, {'bin': '1.05', 'frequency': 32}, {'bin': '2.1', 'frequency': 37}, {'bin': '3.15', 'frequency': 49}, {'bin': '4.2', 'frequency': 52}, {'bin': '5.25', 'frequency': 42}, {'bin': '6.3', 'frequency': 44}, {'bin': '7.35', 'frequency': 51}, {'bin': '8.4', 'frequency': 38}, {'bin': '9.45', 'frequency': 27}, {'bin': '10.5', 'frequency': 29}, {'bin': '11.55', 'frequency': 24}, {'bin': '12.6', 'frequency': 13}, {'bin': '13.65', 'frequency': 10}, {'bin': '14.7', 'frequency': 10}, {'bin': '15.75', 'frequency': 9}, {'bin': '16.8', 'frequency': 7}, {'bin': '17.85', 'frequency': 5}, {'bin': '18.9', 'frequency': 0}, {'bin': '19.95', 'frequency': 6}], 'statisticType': 'featureDistributions'}, {'featureName': 'number_of_accounts', 'frequencyDistribution': [{'bin': '1.0', 'frequency': 35}, {'bin': '1.65', 'frequency': 30}, {'bin': '2.3', 'frequency': 0}, {'bin': '2.95', 'frequency': 37}, {'bin': '3.6', 'frequency': 36}, {'bin': '4.25', 'frequency': 0}, {'bin': '4.9', 'frequency': 27}, {'bin': '5.55', 'frequency': 39}, {'bin': '6.2', 'frequency': 0}, {'bin': '6.85', 'frequency': 31}, {'bin': '7.5', 'frequency': 35}, {'bin': '8.15', 'frequency': 0}, {'bin': '8.8', 'frequency': 30}, {'bin': '9.45', 'frequency': 42}, {'bin': '10.1', 'frequency': 0}, {'bin': '10.75', 'frequency': 43}, {'bin': '11.4', 'frequency': 36}, {'bin': '12.05', 'frequency': 0}, {'bin': '12.7', 'frequency': 41}, {'bin': '13.35', 'frequency': 38}], 'statisticType': 'featureDistributions'}, {'featureName': 'min_trx', 'frequencyDistribution': [{'bin': '0.1505296379', 'frequency': 216}, {'bin': '70.3078957342', 'frequency': 119}, {'bin': '140.4652618304', 'frequency': 68}, {'bin': '210.6226279266', 'frequency': 45}, {'bin': '280.7799940228', 'frequency': 24}, {'bin': '350.9373601191', 'frequency': 13}, {'bin': '421.0947262153', 'frequency': 5}, {'bin': '491.2520923115', 'frequency': 4}, {'bin': '561.4094584078', 'frequency': 2}, {'bin': '631.566824504', 'frequency': 1}, {'bin': '701.7241906002', 'frequency': 0}, {'bin': '771.8815566964', 'frequency': 2}, {'bin': '842.0389227927', 'frequency': 0}, {'bin': '912.1962888889', 'frequency': 0}, {'bin': '982.3536549851', 'frequency': 0}, {'bin': '1052.5110210814', 'frequency': 0}, {'bin': '1122.6683871776', 'frequency': 0}, {'bin': '1192.8257532738', 'frequency': 0}, {'bin': '1262.98311937', 'frequency': 0}, {'bin': '1333.1404854663', 'frequency': 1}], 'statisticType': 'featureDistributions'}, {'featureName': 'avg_trx', 'frequencyDistribution': [{'bin': '260.5877685547', 'frequency': 2}, {'bin': '324.8027893066', 'frequency': 7}, {'bin': '389.0178100586', 'frequency': 9}, {'bin': '453.2328308105', 'frequency': 13}, {'bin': '517.4478515625', 'frequency': 19}, {'bin': '581.6628723145', 'frequency': 50}, {'bin': '645.8778930664', 'frequency': 54}, {'bin': '710.0929138184', 'frequency': 68}, {'bin': '774.3079345703', 'frequency': 66}, {'bin': '838.5229553223', 'frequency': 74}, {'bin': '902.7379760742', 'frequency': 42}, {'bin': '966.9529968262', 'frequency': 41}, {'bin': '1031.1680175781', 'frequency': 24}, {'bin': '1095.3830383301', 'frequency': 13}, {'bin': '1159.598059082', 'frequency': 9}, {'bin': '1223.813079834', 'frequency': 4}, {'bin': '1288.0281005859', 'frequency': 1}, {'bin': '1352.2431213379', 'frequency': 2}, {'bin': '1416.4581420898', 'frequency': 1}, {'bin': '1480.6731628418', 'frequency': 1}], 'statisticType': 'featureDistributions'}, {'featureName': 'count_trx', 'frequencyDistribution': [{'bin': '4.0', 'frequency': 2}, {'bin': '5.7', 'frequency': 5}, {'bin': '7.4', 'frequency': 12}, {'bin': '9.1', 'frequency': 14}, {'bin': '10.8', 'frequency': 26}, {'bin': '12.5', 'frequency': 51}, {'bin': '14.2', 'frequency': 0}, {'bin': '15.9', 'frequency': 48}, {'bin': '17.6', 'frequency': 69}, {'bin': '19.3', 'frequency': 62}, {'bin': '21.0', 'frequency': 62}, {'bin': '22.7', 'frequency': 43}, {'bin': '24.4', 'frequency': 38}, {'bin': '26.1', 'frequency': 0}, {'bin': '27.8', 'frequency': 32}, {'bin': '29.5', 'frequency': 14}, {'bin': '31.2', 'frequency': 8}, {'bin': '32.9', 'frequency': 7}, {'bin': '34.6', 'frequency': 5}, {'bin': '36.3', 'frequency': 2}], 'statisticType': 'featureDistributions'}, {'featureName': 'pagerank', 'frequencyDistribution': [{'bin': '1.0', 'frequency': 500}], 'statisticType': 'featureDistributions'}]}, 'featurestoreId': 1, 'featurestoreName': 'fs_demo_featurestore', 'id': 6, 'inodeId': 107146, 'jobId': None, 'jobName': None, 'jobStatus': None, 'lastComputed': None, 'name': 'TestDataset', 'version': 1, 'dataFormat': 'csv', 'hdfsStorePath': '/Projects/fs_demo/Training_Datasets/TestDataset_1', 'size': 0}]}"
     ]
    }
   ],
   "source": [
    "featurestore.get_featurestore_metadata()"
   ]
  },
  {
   "cell_type": "markdown",
   "metadata": {},
   "source": [
    "By default `get_featurestore_metadata` will use the project's feature store, but this can also be specified with the optional argument featurestore"
   ]
  },
  {
   "cell_type": "code",
   "execution_count": 10,
   "metadata": {},
   "outputs": [
    {
     "name": "stdout",
     "output_type": "stream",
     "text": [
      "{'featuregroups': [{'clusterAnalysis': None, 'created': '2018-12-17T10:18:46Z', 'creator': 'admin@kth.se', 'dependencies': [{'path': '/Projects/fs_demo/sample_data/kyc.csv', 'modification': '2018-12-17T07:11:12.234Z', 'inodeId': 101078, 'dir': False}], 'description': 'lookup table for id to customer type, used when converting from numeric to categrorical representation and vice verse', 'descriptiveStatistics': None, 'featureCorrelationMatrix': None, 'features': [{'name': 'customer_type', 'type': 'string', 'description': 'The categorical customer_type', 'primary': False}, {'name': 'id', 'type': 'bigint', 'description': 'The numeric id of the customer_type', 'primary': True}], 'featuresHistogram': None, 'featurestoreId': 1, 'featurestoreName': 'fs_demo_featurestore', 'id': 45, 'inodeId': 103829, 'jobId': 1, 'jobName': 'customer_type_lookup_job', 'jobStatus': 'Succeeded', 'lastComputed': '2018-12-17T07:25:27Z', 'name': 'customer_type_lookup', 'version': 1, 'hdfsStorePaths': ['hdfs://10.0.2.15:8020/apps/hive/warehouse/fs_demo_featurestore.db/customer_type_lookup_1']}, {'clusterAnalysis': None, 'created': '2018-12-17T07:22:47Z', 'creator': 'admin@kth.se', 'dependencies': [{'path': '/Projects/fs_demo/sample_data/kyc.csv', 'modification': '2018-12-17T07:11:12.234Z', 'inodeId': 101078, 'dir': False}], 'description': 'lookup table for id to pep type, used when converting from numeric to categrorical representation and vice verse', 'descriptiveStatistics': None, 'featureCorrelationMatrix': None, 'features': [{'name': 'id', 'type': 'bigint', 'description': 'The numeric id of the pep_lookup', 'primary': True}, {'name': 'pep', 'type': 'string', 'description': 'The categorical pep', 'primary': False}], 'featuresHistogram': None, 'featurestoreId': 1, 'featurestoreName': 'fs_demo_featurestore', 'id': 34, 'inodeId': 101684, 'jobId': 2, 'jobName': 'pep_lookup_job', 'jobStatus': 'Succeeded', 'lastComputed': '2018-12-17T07:21:57Z', 'name': 'pep_lookup', 'version': 1, 'hdfsStorePaths': ['hdfs://10.0.2.15:8020/apps/hive/warehouse/fs_demo_featurestore.db/pep_lookup_1']}, {'clusterAnalysis': None, 'created': '2018-12-17T07:22:44Z', 'creator': 'admin@kth.se', 'dependencies': [{'path': '/Projects/fs_demo/sample_data/kyc.csv', 'modification': '2018-12-17T07:11:12.234Z', 'inodeId': 101078, 'dir': False}], 'description': 'lookup table for id to gender type, used when converting from numeric to categrorical representation and vice verse', 'descriptiveStatistics': None, 'featureCorrelationMatrix': None, 'features': [{'name': 'gender', 'type': 'string', 'description': 'The categorical gender', 'primary': False}, {'name': 'id', 'type': 'bigint', 'description': 'The numeric id of the gender', 'primary': True}], 'featuresHistogram': None, 'featurestoreId': 1, 'featurestoreName': 'fs_demo_featurestore', 'id': 33, 'inodeId': 101672, 'jobId': 3, 'jobName': 'gender_lookup_job', 'jobStatus': 'Succeeded', 'lastComputed': '2018-12-17T07:21:54Z', 'name': 'gender_lookup', 'version': 1, 'hdfsStorePaths': ['hdfs://10.0.2.15:8020/apps/hive/warehouse/fs_demo_featurestore.db/gender_lookup_1']}, {'clusterAnalysis': None, 'created': '2018-12-17T07:20:57Z', 'creator': 'admin@kth.se', 'dependencies': [{'path': '/Projects/fs_demo/sample_data/trx.csv', 'modification': '2018-12-17T07:11:12.698Z', 'inodeId': 101079, 'dir': False}], 'description': 'lookup table for id to trx_type type, used when converting from numeric to categorical representation and vice verse', 'descriptiveStatistics': None, 'featureCorrelationMatrix': None, 'features': [{'name': 'id', 'type': 'bigint', 'description': 'The numeric id of the transaction type', 'primary': True}, {'name': 'trx_type', 'type': 'string', 'description': 'The categorical transaction type', 'primary': False}], 'featuresHistogram': None, 'featurestoreId': 1, 'featurestoreName': 'fs_demo_featurestore', 'id': 32, 'inodeId': 101597, 'jobId': 4, 'jobName': 'trx_type_lookup_job', 'jobStatus': 'Succeeded', 'lastComputed': '2018-12-17T07:20:04Z', 'name': 'trx_type_lookup', 'version': 1, 'hdfsStorePaths': ['hdfs://10.0.2.15:8020/apps/hive/warehouse/fs_demo_featurestore.db/trx_type_lookup_1']}, {'clusterAnalysis': None, 'created': '2018-12-17T07:20:54Z', 'creator': 'admin@kth.se', 'dependencies': [{'path': '/Projects/fs_demo/sample_data/trx.csv', 'modification': '2018-12-17T07:11:12.698Z', 'inodeId': 101079, 'dir': False}], 'description': 'lookup table for id to country, used when converting from numeric to categorical representation and vice verse', 'descriptiveStatistics': None, 'featureCorrelationMatrix': None, 'features': [{'name': 'id', 'type': 'bigint', 'description': 'The numeric id of the country', 'primary': True}, {'name': 'trx_country', 'type': 'string', 'description': 'The categorical country', 'primary': False}], 'featuresHistogram': None, 'featurestoreId': 1, 'featurestoreName': 'fs_demo_featurestore', 'id': 31, 'inodeId': 101581, 'jobId': 5, 'jobName': 'country_lookup_job', 'jobStatus': 'Succeeded', 'lastComputed': '2018-12-17T07:19:59Z', 'name': 'country_lookup', 'version': 1, 'hdfsStorePaths': ['hdfs://10.0.2.15:8020/apps/hive/warehouse/fs_demo_featurestore.db/country_lookup_1']}, {'clusterAnalysis': None, 'created': '2018-12-17T07:19:22Z', 'creator': 'admin@kth.se', 'dependencies': [{'path': '/Projects/fs_demo/sample_data/alerts.csv', 'modification': '2018-12-17T07:11:12.603Z', 'inodeId': 101084, 'dir': False}], 'description': 'lookup table for id to alert_type, used when converting from numeric to categorical representation and vice verse', 'descriptiveStatistics': None, 'featureCorrelationMatrix': None, 'features': [{'name': 'alert_type', 'type': 'string', 'description': 'The categorical alert_type', 'primary': False}, {'name': 'id', 'type': 'bigint', 'description': 'The numeric id of the alert_type', 'primary': True}], 'featuresHistogram': None, 'featurestoreId': 1, 'featurestoreName': 'fs_demo_featurestore', 'id': 29, 'inodeId': 101498, 'jobId': 7, 'jobName': 'alert_type_lookup_job', 'jobStatus': 'Succeeded', 'lastComputed': '2018-12-17T07:18:25Z', 'name': 'alert_type_lookup', 'version': 1, 'hdfsStorePaths': ['hdfs://10.0.2.15:8020/apps/hive/warehouse/fs_demo_featurestore.db/alert_type_lookup_1']}, {'clusterAnalysis': None, 'created': '2018-12-17T07:19:25Z', 'creator': 'admin@kth.se', 'dependencies': [{'path': '/Projects/fs_demo/sample_data/hipo.csv', 'modification': '2018-12-17T07:11:12.612Z', 'inodeId': 101085, 'dir': False}], 'description': 'lookup table for id to industry_sector, used when converting from numeric to categorical representation and vice verse', 'descriptiveStatistics': None, 'featureCorrelationMatrix': None, 'features': [{'name': 'id', 'type': 'bigint', 'description': 'The numeric id of the industry_sector', 'primary': True}, {'name': 'industry_sector', 'type': 'string', 'description': 'The categorical industry_sector', 'primary': False}], 'featuresHistogram': None, 'featurestoreId': 1, 'featurestoreName': 'fs_demo_featurestore', 'id': 30, 'inodeId': 101505, 'jobId': 6, 'jobName': 'industry_sector_lookup_job', 'jobStatus': 'Succeeded', 'lastComputed': '2018-12-17T07:18:29Z', 'name': 'industry_sector_lookup', 'version': 1, 'hdfsStorePaths': ['hdfs://10.0.2.15:8020/apps/hive/warehouse/fs_demo_featurestore.db/industry_sector_lookup_1']}, {'clusterAnalysis': None, 'created': '2018-12-17T07:17:52Z', 'creator': 'admin@kth.se', 'dependencies': [{'path': '/Projects/fs_demo/sample_data/alerts.csv', 'modification': '2018-12-17T07:11:12.603Z', 'inodeId': 101084, 'dir': False}], 'description': 'lookup table for id to rule_name of an alert, used when converting from numeric to categorical representation and vice verse', 'descriptiveStatistics': None, 'featureCorrelationMatrix': None, 'features': [{'name': 'id', 'type': 'bigint', 'description': 'The numeric id of the rule_name', 'primary': True}, {'name': 'rule_name', 'type': 'string', 'description': 'The categorical rule_name', 'primary': False}], 'featuresHistogram': None, 'featurestoreId': 1, 'featurestoreName': 'fs_demo_featurestore', 'id': 28, 'inodeId': 101343, 'jobId': 8, 'jobName': 'rule_name_lookup_job', 'jobStatus': 'Succeeded', 'lastComputed': '2018-12-17T07:17:02Z', 'name': 'rule_name_lookup', 'version': 1, 'hdfsStorePaths': ['hdfs://10.0.2.15:8020/apps/hive/warehouse/fs_demo_featurestore.db/rule_name_lookup_1']}, {'clusterAnalysis': None, 'created': '2018-12-17T07:17:47Z', 'creator': 'admin@kth.se', 'dependencies': [{'path': '/Projects/fs_demo/sample_data/web_logs.csv', 'modification': '2018-12-17T07:11:13.105Z', 'inodeId': 101081, 'dir': False}], 'description': 'lookup table for id to web_address, used when converting from numeric to categorical representation and vice verse', 'descriptiveStatistics': None, 'featureCorrelationMatrix': None, 'features': [{'name': 'id', 'type': 'bigint', 'description': 'The numeric id of the web_address', 'primary': True}, {'name': 'web_address', 'type': 'string', 'description': 'The categorical web_address', 'primary': False}], 'featuresHistogram': None, 'featurestoreId': 1, 'featurestoreName': 'fs_demo_featurestore', 'id': 27, 'inodeId': 101329, 'jobId': 9, 'jobName': 'web_address_lookup_job', 'jobStatus': 'Succeeded', 'lastComputed': '2018-12-17T07:17:00Z', 'name': 'web_address_lookup', 'version': 1, 'hdfsStorePaths': ['hdfs://10.0.2.15:8020/apps/hive/warehouse/fs_demo_featurestore.db/web_address_lookup_1']}, {'clusterAnalysis': None, 'created': '2018-12-17T07:16:38Z', 'creator': 'admin@kth.se', 'dependencies': [{'path': '/Projects/fs_demo/sample_data/web_logs.csv', 'modification': '2018-12-17T07:11:13.105Z', 'inodeId': 101081, 'dir': False}], 'description': 'lookup table for id to browser_action, used when converting from numeric to categorical representation and vice verse', 'descriptiveStatistics': None, 'featureCorrelationMatrix': None, 'features': [{'name': 'browser_action', 'type': 'string', 'description': 'The categorical browser_action', 'primary': False}, {'name': 'id', 'type': 'bigint', 'description': 'The numeric id of the browser_action', 'primary': True}], 'featuresHistogram': None, 'featurestoreId': 1, 'featurestoreName': 'fs_demo_featurestore', 'id': 26, 'inodeId': 101273, 'jobId': 10, 'jobName': 'browser_action_lookup_job', 'jobStatus': 'Succeeded', 'lastComputed': '2018-12-17T07:16:05Z', 'name': 'browser_action_lookup', 'version': 1, 'hdfsStorePaths': ['hdfs://10.0.2.15:8020/apps/hive/warehouse/fs_demo_featurestore.db/browser_action_lookup_1']}, {'clusterAnalysis': None, 'created': '2018-12-17T07:45:30Z', 'creator': 'admin@kth.se', 'dependencies': [{'path': '/Projects/fs_demo/sample_data/kyc.csv', 'modification': '2018-12-17T07:11:12.234Z', 'inodeId': 101078, 'dir': False}], 'description': 'preprocessed features from the KYC table', 'descriptiveStatistics': None, 'featureCorrelationMatrix': None, 'features': [{'name': 'balance', 'type': 'float', 'description': 'the balance of the customer', 'primary': False}, {'name': 'birthdate', 'type': 'timestamp', 'description': 'the birthdate of the customer', 'primary': False}, {'name': 'customer_type', 'type': 'bigint', 'description': 'the type of customer', 'primary': False}, {'name': 'cust_id', 'type': 'int', 'description': 'The id of the customer', 'primary': True}, {'name': 'gender', 'type': 'bigint', 'description': 'the gender of the customer', 'primary': False}, {'name': 'join_date', 'type': 'timestamp', 'description': 'the date that the customer joined Swedbank', 'primary': False}, {'name': 'number_of_accounts', 'type': 'int', 'description': 'the number of Swedbank accounts of the customer', 'primary': False}, {'name': 'pep', 'type': 'bigint', 'description': 'whether the person is a PEP or not', 'primary': False}], 'featuresHistogram': None, 'featurestoreId': 1, 'featurestoreName': 'fs_demo_featurestore', 'id': 43, 'inodeId': 102465, 'jobId': 11, 'jobName': 'demographic_features_job', 'jobStatus': 'Succeeded', 'lastComputed': '2018-12-17T07:44:30Z', 'name': 'demographic_features', 'version': 1, 'hdfsStorePaths': ['hdfs://10.0.2.15:8020/apps/hive/warehouse/fs_demo_featurestore.db/demographic_features_1']}, {'clusterAnalysis': None, 'created': '2018-12-17T07:39:58Z', 'creator': 'admin@kth.se', 'dependencies': [{'path': '/Projects/fs_demo/sample_data/hipo.csv', 'modification': '2018-12-17T07:11:12.612Z', 'inodeId': 101085, 'dir': False}], 'description': 'Features on corporate customers', 'descriptiveStatistics': None, 'featureCorrelationMatrix': None, 'features': [{'name': 'corporate_id', 'type': 'int', 'description': 'id of the corporate customer', 'primary': True}, {'name': 'externa_kostnader', 'type': 'float', 'description': 'The amount paid to external accounts by the corporate', 'primary': False}, {'name': 'industry_sector', 'type': 'int', 'description': 'The line of business of the corporate', 'primary': False}, {'name': 'netomsettning_1year', 'type': 'float', 'description': 'The net turnover for the first year of the corporate', 'primary': False}, {'name': 'netomsettning_2year', 'type': 'float', 'description': 'The net turnover for the frist two years of the corporate', 'primary': False}, {'name': 'netomsettning_3year', 'type': 'float', 'description': 'The net turnover for the first three years of the corporate', 'primary': False}], 'featuresHistogram': None, 'featurestoreId': 1, 'featurestoreName': 'fs_demo_featurestore', 'id': 39, 'inodeId': 101954, 'jobId': 16, 'jobName': 'hipo_features_job', 'jobStatus': 'Succeeded', 'lastComputed': '2018-12-17T07:39:12Z', 'name': 'hipo_features', 'version': 1, 'hdfsStorePaths': ['hdfs://10.0.2.15:8020/apps/hive/warehouse/fs_demo_featurestore.db/hipo_features_1']}, {'clusterAnalysis': None, 'created': '2018-12-17T07:46:03Z', 'creator': 'admin@kth.se', 'dependencies': [{'path': '/Projects/fs_demo/sample_data/trx.csv', 'modification': '2018-12-17T07:11:12.698Z', 'inodeId': 101079, 'dir': False}], 'description': 'Contain aggregate graph features of a customers transactions', 'descriptiveStatistics': None, 'featureCorrelationMatrix': None, 'features': [{'name': 'cust_id', 'type': 'int', 'description': 'Id of the customer', 'primary': True}, {'name': 'pagerank', 'type': 'float', 'description': 'The pagerank of the customer in the transaction graph', 'primary': False}, {'name': 'triangle_count', 'type': 'float', 'description': 'The triangle count of the customer in the transaction graph', 'primary': False}], 'featuresHistogram': None, 'featurestoreId': 1, 'featurestoreName': 'fs_demo_featurestore', 'id': 44, 'inodeId': 102485, 'jobId': 13, 'jobName': 'trx_graph_summary_features_job', 'jobStatus': 'Succeeded', 'lastComputed': '2018-12-17T07:44:22Z', 'name': 'trx_graph_summary_features', 'version': 1, 'hdfsStorePaths': ['hdfs://10.0.2.15:8020/apps/hive/warehouse/fs_demo_featurestore.db/trx_graph_summary_features_1']}, {'clusterAnalysis': None, 'created': '2018-12-17T07:43:24Z', 'creator': 'admin@kth.se', 'dependencies': [{'path': '/Projects/fs_demo/sample_data/trx.csv', 'modification': '2018-12-17T07:11:12.698Z', 'inodeId': 101079, 'dir': False}], 'description': 'Features for single transactions', 'descriptiveStatistics': None, 'featureCorrelationMatrix': None, 'features': [{'name': 'cust_id_in', 'type': 'int', 'description': 'The cust_id of the customer making the transaction', 'primary': False}, {'name': 'cust_id_out', 'type': 'int', 'description': 'The id of the customer receiving the transaction', 'primary': False}, {'name': 'trx_amount', 'type': 'float', 'description': 'The amount of money transferred in the transaction', 'primary': False}, {'name': 'trx_bankid', 'type': 'int', 'description': 'The bankid of the customer making the transaction', 'primary': False}, {'name': 'trx_clearingnum', 'type': 'int', 'description': 'The clearingnumber of the customer making the transaction', 'primary': False}, {'name': 'trx_country', 'type': 'bigint', 'description': 'The country of the customer making the transaction', 'primary': False}, {'name': 'trx_date', 'type': 'timestamp', 'description': 'The date of the transaction', 'primary': False}, {'name': 'trx_id', 'type': 'int', 'description': 'The id of the transaction', 'primary': True}, {'name': 'trx_type', 'type': 'bigint', 'description': 'The type of the transaction', 'primary': False}], 'featuresHistogram': None, 'featurestoreId': 1, 'featurestoreName': 'fs_demo_featurestore', 'id': 41, 'inodeId': 102028, 'jobId': 14, 'jobName': 'trx_features_job', 'jobStatus': 'Succeeded', 'lastComputed': '2018-12-17T07:42:21Z', 'name': 'trx_features', 'version': 1, 'hdfsStorePaths': ['hdfs://10.0.2.15:8020/apps/hive/warehouse/fs_demo_featurestore.db/trx_features_1']}, {'clusterAnalysis': {'dataPoints': [{'datapointName': '0', 'firstDimension': -2345.273, 'secondDimension': 229.58089}, {'datapointName': '1', 'firstDimension': -1768.6044, 'secondDimension': 223.81322}, {'datapointName': '2', 'firstDimension': -1949.2148, 'secondDimension': -83.15607}, {'datapointName': '3', 'firstDimension': -1516.4617, 'secondDimension': 114.42044}, {'datapointName': '4', 'firstDimension': -1018.29395, 'secondDimension': -120.53977}, {'datapointName': '5', 'firstDimension': -2330.6316, 'secondDimension': 232.22452}, {'datapointName': '6', 'firstDimension': -2037.4371, 'secondDimension': -103.285}, {'datapointName': '7', 'firstDimension': -1411.2494, 'secondDimension': 82.20043}, {'datapointName': '8', 'firstDimension': -2847.8296, 'secondDimension': 26.811089}, {'datapointName': '9', 'firstDimension': -1908.8762, 'secondDimension': -72.938194}, {'datapointName': '10', 'firstDimension': -1801.8035, 'secondDimension': 37.551975}, {'datapointName': '11', 'firstDimension': -2046.7512, 'secondDimension': 96.25141}, {'datapointName': '12', 'firstDimension': -2443.9524, 'secondDimension': -151.09146}, {'datapointName': '13', 'firstDimension': -1460.2214, 'secondDimension': -231.8811}, {'datapointName': '14', 'firstDimension': -2000.2948, 'secondDimension': -21.911083}, {'datapointName': '15', 'firstDimension': -1797.9084, 'secondDimension': -108.855156}, {'datapointName': '16', 'firstDimension': -1643.5743, 'secondDimension': 235.73154}, {'datapointName': '17', 'firstDimension': -2782.1682, 'secondDimension': -191.85814}, {'datapointName': '18', 'firstDimension': -2695.3132, 'secondDimension': 228.08112}, {'datapointName': '19', 'firstDimension': -1649.7908, 'secondDimension': -107.96134}, {'datapointName': '20', 'firstDimension': -2600.0034, 'secondDimension': 15.861871}, {'datapointName': '21', 'firstDimension': -3010.0068, 'secondDimension': 105.990776}, {'datapointName': '22', 'firstDimension': -3093.073, 'secondDimension': -187.68864}, {'datapointName': '23', 'firstDimension': -1580.2543, 'secondDimension': 212.65974}, {'datapointName': '24', 'firstDimension': -2559.98, 'secondDimension': -252.55658}, {'datapointName': '25', 'firstDimension': -2559.98, 'secondDimension': -252.55658}, {'datapointName': '26', 'firstDimension': -1494.0813, 'secondDimension': -210.07423}, {'datapointName': '27', 'firstDimension': -2343.67, 'secondDimension': 426.9512}, {'datapointName': '28', 'firstDimension': -1185.6387, 'secondDimension': 68.67055}, {'datapointName': '29', 'firstDimension': -2017.8551, 'secondDimension': -83.8289}, {'datapointName': '30', 'firstDimension': -2174.5913, 'secondDimension': 248.46835}, {'datapointName': '31', 'firstDimension': -2707.0662, 'secondDimension': -318.66214}, {'datapointName': '32', 'firstDimension': -2471.3098, 'secondDimension': 242.74992}, {'datapointName': '33', 'firstDimension': -2371.3606, 'secondDimension': 161.57509}, {'datapointName': '34', 'firstDimension': -1295.8698, 'secondDimension': -44.130547}, {'datapointName': '35', 'firstDimension': -2382.114, 'secondDimension': 262.01523}, {'datapointName': '36', 'firstDimension': -1176.6532, 'secondDimension': -36.220856}, {'datapointName': '37', 'firstDimension': -1762.1342, 'secondDimension': -4.8541}, {'datapointName': '38', 'firstDimension': -2622.9282, 'secondDimension': 94.42669}, {'datapointName': '39', 'firstDimension': -1570.3088, 'secondDimension': 252.27228}, {'datapointName': '40', 'firstDimension': -1466.7789, 'secondDimension': -32.823967}], 'clusters': [{'datapointName': '0', 'cluster': 4}, {'datapointName': '1', 'cluster': 3}, {'datapointName': '2', 'cluster': 3}, {'datapointName': '3', 'cluster': 1}, {'datapointName': '4', 'cluster': 1}, {'datapointName': '5', 'cluster': 4}, {'datapointName': '6', 'cluster': 4}, {'datapointName': '7', 'cluster': 1}, {'datapointName': '8', 'cluster': 2}, {'datapointName': '9', 'cluster': 3}, {'datapointName': '10', 'cluster': 3}, {'datapointName': '11', 'cluster': 4}, {'datapointName': '12', 'cluster': 0}, {'datapointName': '13', 'cluster': 1}, {'datapointName': '14', 'cluster': 4}, {'datapointName': '15', 'cluster': 3}, {'datapointName': '16', 'cluster': 3}, {'datapointName': '17', 'cluster': 0}, {'datapointName': '18', 'cluster': 0}, {'datapointName': '19', 'cluster': 3}, {'datapointName': '20', 'cluster': 0}, {'datapointName': '21', 'cluster': 2}, {'datapointName': '22', 'cluster': 2}, {'datapointName': '23', 'cluster': 3}, {'datapointName': '24', 'cluster': 0}, {'datapointName': '25', 'cluster': 0}, {'datapointName': '26', 'cluster': 1}, {'datapointName': '27', 'cluster': 4}, {'datapointName': '28', 'cluster': 1}, {'datapointName': '29', 'cluster': 4}, {'datapointName': '30', 'cluster': 4}, {'datapointName': '31', 'cluster': 0}, {'datapointName': '32', 'cluster': 0}, {'datapointName': '33', 'cluster': 4}, {'datapointName': '34', 'cluster': 1}, {'datapointName': '35', 'cluster': 4}, {'datapointName': '36', 'cluster': 1}, {'datapointName': '37', 'cluster': 3}, {'datapointName': '38', 'cluster': 0}, {'datapointName': '39', 'cluster': 3}, {'datapointName': '40', 'cluster': 1}], 'statisticType': 'clusterAnalysis'}, 'created': '2018-12-17T07:43:38Z', 'creator': 'admin@kth.se', 'dependencies': [{'path': '/Projects/fs_demo/sample_data/trx.csv', 'modification': '2018-12-17T07:11:12.698Z', 'inodeId': 101079, 'dir': False}], 'description': 'Aggregate of transactions for customers', 'descriptiveStatistics': {'descriptiveStats': [{'featureName': 'avg_trx', 'metricValues': [{'metricName': 'count', 'value': 500.0}, {'metricName': 'mean', 'value': 804.36707}, {'metricName': 'stddev', 'value': 190.28111}, {'metricName': 'min', 'value': 260.58777}, {'metricName': 'max', 'value': 1544.8882}], 'statisticType': 'descriptiveStatistics'}, {'featureName': 'count_trx', 'metricValues': [{'metricName': 'count', 'value': 500.0}, {'metricName': 'mean', 'value': 20.0}, {'metricName': 'stddev', 'value': 6.230058}, {'metricName': 'min', 'value': 4.0}, {'metricName': 'max', 'value': 38.0}], 'statisticType': 'descriptiveStatistics'}, {'featureName': 'cust_id', 'metricValues': [{'metricName': 'count', 'value': 500.0}, {'metricName': 'mean', 'value': 249.5}, {'metricName': 'stddev', 'value': 144.48183}, {'metricName': 'min', 'value': 0.0}, {'metricName': 'max', 'value': 499.0}], 'statisticType': 'descriptiveStatistics'}, {'featureName': 'max_trx', 'metricValues': [{'metricName': 'count', 'value': 500.0}, {'metricName': 'mean', 'value': 1876.5645}, {'metricName': 'stddev', 'value': 532.82294}, {'metricName': 'min', 'value': 608.2359}, {'metricName': 'max', 'value': 3885.9565}], 'statisticType': 'descriptiveStatistics'}, {'featureName': 'min_trx', 'metricValues': [{'metricName': 'count', 'value': 500.0}, {'metricName': 'mean', 'value': 126.41404}, {'metricName': 'stddev', 'value': 135.2302}, {'metricName': 'min', 'value': 0.15052964}, {'metricName': 'max', 'value': 1403.2979}], 'statisticType': 'descriptiveStatistics'}]}, 'featureCorrelationMatrix': {'featureCorrelations': [{'featureName': 'min_trx', 'correlationValues': [{'featureName': 'avg_trx', 'correlation': 0.39488143, 'statisticType': 'featureCorrelations'}, {'featureName': 'count_trx', 'correlation': -0.317576, 'statisticType': 'featureCorrelations'}, {'featureName': 'cust_id', 'correlation': 0.011664786, 'statisticType': 'featureCorrelations'}, {'featureName': 'max_trx', 'correlation': 3.518876e-05, 'statisticType': 'featureCorrelations'}, {'featureName': 'min_trx', 'correlation': 1.0, 'statisticType': 'featureCorrelations'}]}, {'featureName': 'max_trx', 'correlationValues': [{'featureName': 'avg_trx', 'correlation': 0.6561947, 'statisticType': 'featureCorrelations'}, {'featureName': 'count_trx', 'correlation': 0.34287718, 'statisticType': 'featureCorrelations'}, {'featureName': 'cust_id', 'correlation': 0.03468117, 'statisticType': 'featureCorrelations'}, {'featureName': 'max_trx', 'correlation': 1.0, 'statisticType': 'featureCorrelations'}, {'featureName': 'min_trx', 'correlation': 3.518876e-05, 'statisticType': 'featureCorrelations'}]}, {'featureName': 'avg_trx', 'correlationValues': [{'featureName': 'avg_trx', 'correlation': 1.0, 'statisticType': 'featureCorrelations'}, {'featureName': 'count_trx', 'correlation': 0.06330359, 'statisticType': 'featureCorrelations'}, {'featureName': 'cust_id', 'correlation': 0.0101051945, 'statisticType': 'featureCorrelations'}, {'featureName': 'max_trx', 'correlation': 0.6561947, 'statisticType': 'featureCorrelations'}, {'featureName': 'min_trx', 'correlation': 0.39488143, 'statisticType': 'featureCorrelations'}]}, {'featureName': 'count_trx', 'correlationValues': [{'featureName': 'avg_trx', 'correlation': 0.06330359, 'statisticType': 'featureCorrelations'}, {'featureName': 'count_trx', 'correlation': 1.0, 'statisticType': 'featureCorrelations'}, {'featureName': 'cust_id', 'correlation': 0.0024979685, 'statisticType': 'featureCorrelations'}, {'featureName': 'max_trx', 'correlation': 0.34287718, 'statisticType': 'featureCorrelations'}, {'featureName': 'min_trx', 'correlation': -0.317576, 'statisticType': 'featureCorrelations'}]}, {'featureName': 'cust_id', 'correlationValues': [{'featureName': 'avg_trx', 'correlation': 0.0101051945, 'statisticType': 'featureCorrelations'}, {'featureName': 'count_trx', 'correlation': 0.0024979685, 'statisticType': 'featureCorrelations'}, {'featureName': 'cust_id', 'correlation': 1.0, 'statisticType': 'featureCorrelations'}, {'featureName': 'max_trx', 'correlation': 0.03468117, 'statisticType': 'featureCorrelations'}, {'featureName': 'min_trx', 'correlation': 0.011664786, 'statisticType': 'featureCorrelations'}]}]}, 'features': [{'name': 'avg_trx', 'type': 'float', 'description': 'The average transaction amount of the customer', 'primary': False}, {'name': 'count_trx', 'type': 'bigint', 'description': 'The number of transactions made by the customer', 'primary': False}, {'name': 'cust_id', 'type': 'int', 'description': 'Id of the customer', 'primary': True}, {'name': 'max_trx', 'type': 'float', 'description': 'The maximum transaction amount made by the customer', 'primary': False}, {'name': 'min_trx', 'type': 'float', 'description': 'The minimum transaction amount made by the customer', 'primary': False}], 'featuresHistogram': {'featureDistributions': [{'featureName': 'avg_trx', 'frequencyDistribution': [{'bin': '260.5877685547', 'frequency': 2}, {'bin': '324.8027893066', 'frequency': 7}, {'bin': '389.0178100586', 'frequency': 9}, {'bin': '453.2328308105', 'frequency': 13}, {'bin': '517.4478515625', 'frequency': 19}, {'bin': '581.6628723145', 'frequency': 50}, {'bin': '645.8778930664', 'frequency': 54}, {'bin': '710.0929138184', 'frequency': 68}, {'bin': '774.3079345703', 'frequency': 66}, {'bin': '838.5229553223', 'frequency': 74}, {'bin': '902.7379760742', 'frequency': 42}, {'bin': '966.9529968262', 'frequency': 41}, {'bin': '1031.1680175781', 'frequency': 24}, {'bin': '1095.3830383301', 'frequency': 13}, {'bin': '1159.598059082', 'frequency': 9}, {'bin': '1223.813079834', 'frequency': 4}, {'bin': '1288.0281005859', 'frequency': 1}, {'bin': '1352.2431213379', 'frequency': 2}, {'bin': '1416.4581420898', 'frequency': 1}, {'bin': '1480.6731628418', 'frequency': 1}], 'statisticType': 'featureDistributions'}, {'featureName': 'count_trx', 'frequencyDistribution': [{'bin': '4.0', 'frequency': 2}, {'bin': '5.7', 'frequency': 5}, {'bin': '7.4', 'frequency': 12}, {'bin': '9.1', 'frequency': 14}, {'bin': '10.8', 'frequency': 26}, {'bin': '12.5', 'frequency': 51}, {'bin': '14.2', 'frequency': 0}, {'bin': '15.9', 'frequency': 48}, {'bin': '17.6', 'frequency': 69}, {'bin': '19.3', 'frequency': 62}, {'bin': '21.0', 'frequency': 62}, {'bin': '22.7', 'frequency': 43}, {'bin': '24.4', 'frequency': 38}, {'bin': '26.1', 'frequency': 0}, {'bin': '27.8', 'frequency': 32}, {'bin': '29.5', 'frequency': 14}, {'bin': '31.2', 'frequency': 8}, {'bin': '32.9', 'frequency': 7}, {'bin': '34.6', 'frequency': 5}, {'bin': '36.3', 'frequency': 2}], 'statisticType': 'featureDistributions'}, {'featureName': 'cust_id', 'frequencyDistribution': [{'bin': '0.0', 'frequency': 25}, {'bin': '24.95', 'frequency': 25}, {'bin': '49.9', 'frequency': 25}, {'bin': '74.85', 'frequency': 25}, {'bin': '99.8', 'frequency': 25}, {'bin': '124.75', 'frequency': 25}, {'bin': '149.7', 'frequency': 25}, {'bin': '174.65', 'frequency': 25}, {'bin': '199.6', 'frequency': 25}, {'bin': '224.55', 'frequency': 25}, {'bin': '249.5', 'frequency': 25}, {'bin': '274.45', 'frequency': 25}, {'bin': '299.4', 'frequency': 25}, {'bin': '324.35', 'frequency': 25}, {'bin': '349.3', 'frequency': 25}, {'bin': '374.25', 'frequency': 25}, {'bin': '399.2', 'frequency': 25}, {'bin': '424.15', 'frequency': 25}, {'bin': '449.1', 'frequency': 25}, {'bin': '474.05', 'frequency': 25}], 'statisticType': 'featureDistributions'}, {'featureName': 'max_trx', 'frequencyDistribution': [{'bin': '608.2359008789', 'frequency': 6}, {'bin': '772.1219329834', 'frequency': 7}, {'bin': '936.0079650879', 'frequency': 9}, {'bin': '1099.8939971924', 'frequency': 34}, {'bin': '1263.7800292969', 'frequency': 46}, {'bin': '1427.6660614014', 'frequency': 49}, {'bin': '1591.5520935059', 'frequency': 71}, {'bin': '1755.4381256104', 'frequency': 67}, {'bin': '1919.3241577148', 'frequency': 50}, {'bin': '2083.2101898193', 'frequency': 44}, {'bin': '2247.0962219238', 'frequency': 38}, {'bin': '2410.9822540283', 'frequency': 30}, {'bin': '2574.8682861328', 'frequency': 17}, {'bin': '2738.7543182373', 'frequency': 14}, {'bin': '2902.6403503418', 'frequency': 10}, {'bin': '3066.5263824463', 'frequency': 2}, {'bin': '3230.4124145508', 'frequency': 1}, {'bin': '3394.2984466553', 'frequency': 3}, {'bin': '3558.1844787598', 'frequency': 0}, {'bin': '3722.0705108643', 'frequency': 2}], 'statisticType': 'featureDistributions'}, {'featureName': 'min_trx', 'frequencyDistribution': [{'bin': '0.1505296379', 'frequency': 216}, {'bin': '70.3078957342', 'frequency': 119}, {'bin': '140.4652618304', 'frequency': 68}, {'bin': '210.6226279266', 'frequency': 45}, {'bin': '280.7799940228', 'frequency': 24}, {'bin': '350.9373601191', 'frequency': 13}, {'bin': '421.0947262153', 'frequency': 5}, {'bin': '491.2520923115', 'frequency': 4}, {'bin': '561.4094584078', 'frequency': 2}, {'bin': '631.566824504', 'frequency': 1}, {'bin': '701.7241906002', 'frequency': 0}, {'bin': '771.8815566964', 'frequency': 2}, {'bin': '842.0389227927', 'frequency': 0}, {'bin': '912.1962888889', 'frequency': 0}, {'bin': '982.3536549851', 'frequency': 0}, {'bin': '1052.5110210814', 'frequency': 0}, {'bin': '1122.6683871776', 'frequency': 0}, {'bin': '1192.8257532738', 'frequency': 0}, {'bin': '1262.98311937', 'frequency': 0}, {'bin': '1333.1404854663', 'frequency': 1}], 'statisticType': 'featureDistributions'}]}, 'featurestoreId': 1, 'featurestoreName': 'fs_demo_featurestore', 'id': 42, 'inodeId': 102044, 'jobId': 15, 'jobName': 'trx_summary_features_job', 'jobStatus': 'Succeeded', 'lastComputed': '2018-12-17T07:42:18Z', 'name': 'trx_summary_features', 'version': 1, 'hdfsStorePaths': ['hdfs://10.0.2.15:8020/apps/hive/warehouse/fs_demo_featurestore.db/trx_summary_features_1']}, {'clusterAnalysis': None, 'created': '2018-12-17T07:40:01Z', 'creator': 'admin@kth.se', 'dependencies': [{'path': '/Projects/fs_demo/sample_data/trx.csv', 'modification': '2018-12-17T07:11:12.698Z', 'inodeId': 101079, 'dir': False}], 'description': 'The edge list of the transactions graph', 'descriptiveStatistics': None, 'featureCorrelationMatrix': None, 'features': [{'name': 'amount', 'type': 'float', 'description': 'The amount transferred in the transaction', 'primary': False}, {'name': 'cust_id_1', 'type': 'int', 'description': 'The customer making the transaction', 'primary': True}, {'name': 'cust_id_2', 'type': 'int', 'description': 'The customer receiving the transaction', 'primary': False}], 'featuresHistogram': None, 'featurestoreId': 1, 'featurestoreName': 'fs_demo_featurestore', 'id': 40, 'inodeId': 101964, 'jobId': 12, 'jobName': 'trx_graph_edge_list_job', 'jobStatus': 'Succeeded', 'lastComputed': '2018-12-17T07:39:15Z', 'name': 'trx_graph_edge_list', 'version': 1, 'hdfsStorePaths': ['hdfs://10.0.2.15:8020/apps/hive/warehouse/fs_demo_featurestore.db/trx_graph_edge_list_1']}, {'clusterAnalysis': None, 'created': '2018-12-17T07:32:21Z', 'creator': 'admin@kth.se', 'dependencies': [{'path': '/Projects/fs_demo/sample_data/alerts.csv', 'modification': '2018-12-17T07:11:12.603Z', 'inodeId': 101084, 'dir': False}], 'description': 'Features from transaction alerts', 'descriptiveStatistics': None, 'featureCorrelationMatrix': None, 'features': [{'name': 'alert_date', 'type': 'timestamp', 'description': 'The date of the alert', 'primary': False}, {'name': 'alert_id', 'type': 'int', 'description': 'The id of the alert', 'primary': True}, {'name': 'alert_score', 'type': 'float', 'description': 'The score of the alert indicating how severe the alert was', 'primary': False}, {'name': 'alert_type', 'type': 'int', 'description': 'The type of the alert, e.g TERRORISM', 'primary': False}, {'name': 'rule_name', 'type': 'int', 'description': 'The name of the rule that fired the alert', 'primary': False}, {'name': 'trx_id', 'type': 'int', 'description': 'The id of the transaction that was alerted', 'primary': False}], 'featuresHistogram': None, 'featurestoreId': 1, 'featurestoreName': 'fs_demo_featurestore', 'id': 38, 'inodeId': 101868, 'jobId': 17, 'jobName': 'alert_features_job', 'jobStatus': 'Succeeded', 'lastComputed': '2018-12-17T07:31:50Z', 'name': 'alert_features', 'version': 1, 'hdfsStorePaths': ['hdfs://10.0.2.15:8020/apps/hive/warehouse/fs_demo_featurestore.db/alert_features_1']}, {'clusterAnalysis': None, 'created': '2018-12-17T07:31:36Z', 'creator': 'admin@kth.se', 'dependencies': [{'path': '/Projects/fs_demo/sample_data/web_logs.csv', 'modification': '2018-12-17T07:11:13.105Z', 'inodeId': 101081, 'dir': False}], 'description': 'Features on web logs recording customers activity with the internet bank', 'descriptiveStatistics': None, 'featureCorrelationMatrix': None, 'features': [{'name': 'action', 'type': 'int', 'description': 'The type of web action', 'primary': False}, {'name': 'address', 'type': 'int', 'description': 'IP address used by the customer', 'primary': False}, {'name': 'cust_id', 'type': 'int', 'description': 'Id of the customer', 'primary': False}, {'name': 'time_spent_seconds', 'type': 'int', 'description': 'Number of seconds the web session was active', 'primary': False}, {'name': 'web_id', 'type': 'int', 'description': 'Id of the web activity', 'primary': True}], 'featuresHistogram': None, 'featurestoreId': 1, 'featurestoreName': 'fs_demo_featurestore', 'id': 37, 'inodeId': 101827, 'jobId': 19, 'jobName': 'web_logs_features_job', 'jobStatus': 'Succeeded', 'lastComputed': '2018-12-17T07:30:41Z', 'name': 'web_logs_features', 'version': 1, 'hdfsStorePaths': ['hdfs://10.0.2.15:8020/apps/hive/warehouse/fs_demo_featurestore.db/web_logs_features_1']}, {'clusterAnalysis': None, 'created': '2018-12-17T07:31:33Z', 'creator': 'admin@kth.se', 'dependencies': [{'path': '/Projects/fs_demo/sample_data/police_reports.csv', 'modification': '2018-12-17T07:11:12.245Z', 'inodeId': 101080, 'dir': False}], 'description': 'Features on customers reported to the police', 'descriptiveStatistics': None, 'featureCorrelationMatrix': None, 'features': [{'name': 'cust_id', 'type': 'int', 'description': 'The id of the reported customer', 'primary': False}, {'name': 'report_date', 'type': 'timestamp', 'description': 'The date the customer was reported', 'primary': False}, {'name': 'report_id', 'type': 'int', 'description': 'The id of the report', 'primary': True}], 'featuresHistogram': None, 'featurestoreId': 1, 'featurestoreName': 'fs_demo_featurestore', 'id': 36, 'inodeId': 101820, 'jobId': 18, 'jobName': 'police_report_features_job', 'jobStatus': 'Succeeded', 'lastComputed': '2018-12-17T07:30:44Z', 'name': 'police_report_features', 'version': 1, 'hdfsStorePaths': ['hdfs://10.0.2.15:8020/apps/hive/warehouse/fs_demo_featurestore.db/police_report_features_1']}], 'trainingDatasets': [{'clusterAnalysis': {'dataPoints': [{'datapointName': '0', 'firstDimension': 309237645000.0, 'secondDimension': -3083.9312}, {'datapointName': '1', 'firstDimension': 309237645000.0, 'secondDimension': -7978.8486}, {'datapointName': '2', 'firstDimension': 309237645000.0, 'secondDimension': -21393.018}, {'datapointName': '3', 'firstDimension': 1331439860000.0, 'secondDimension': -9714.874}, {'datapointName': '4', 'firstDimension': 1331439860000.0, 'secondDimension': -8637.631}, {'datapointName': '5', 'firstDimension': 309237645000.0, 'secondDimension': -3196.3108}, {'datapointName': '6', 'firstDimension': 1331439860000.0, 'secondDimension': -5640.489}, {'datapointName': '7', 'firstDimension': 1331439860000.0, 'secondDimension': -7949.7456}, {'datapointName': '8', 'firstDimension': 1331439860000.0, 'secondDimension': -8044.1265}, {'datapointName': '9', 'firstDimension': 1331439860000.0, 'secondDimension': -2804.2}, {'datapointName': '10', 'firstDimension': 309237645000.0, 'secondDimension': -3241.1807}, {'datapointName': '11', 'firstDimension': 1331439860000.0, 'secondDimension': -12715.115}, {'datapointName': '12', 'firstDimension': 1331439860000.0, 'secondDimension': -10847.311}, {'datapointName': '13', 'firstDimension': 309237645000.0, 'secondDimension': -6091.7295}, {'datapointName': '14', 'firstDimension': 1331439860000.0, 'secondDimension': -22685.518}, {'datapointName': '15', 'firstDimension': 1331439860000.0, 'secondDimension': -1489.2426}, {'datapointName': '16', 'firstDimension': 1331439860000.0, 'secondDimension': -7464.9004}, {'datapointName': '17', 'firstDimension': 309237645000.0, 'secondDimension': -9645.84}, {'datapointName': '18', 'firstDimension': 1331439860000.0, 'secondDimension': -13011.734}, {'datapointName': '19', 'firstDimension': 309237645000.0, 'secondDimension': -2284.445}, {'datapointName': '20', 'firstDimension': 1331439860000.0, 'secondDimension': -3327.0247}, {'datapointName': '21', 'firstDimension': 1331439860000.0, 'secondDimension': -4804.7515}, {'datapointName': '22', 'firstDimension': 309237645000.0, 'secondDimension': -9927.772}, {'datapointName': '23', 'firstDimension': 1331439860000.0, 'secondDimension': -19798.81}, {'datapointName': '24', 'firstDimension': 309237645000.0, 'secondDimension': -9951.468}, {'datapointName': '25', 'firstDimension': 309237645000.0, 'secondDimension': 169.77069}, {'datapointName': '26', 'firstDimension': 1331439860000.0, 'secondDimension': -19771.084}, {'datapointName': '27', 'firstDimension': 309237645000.0, 'secondDimension': -16209.611}, {'datapointName': '28', 'firstDimension': 1331439860000.0, 'secondDimension': -4107.43}, {'datapointName': '29', 'firstDimension': 1331439860000.0, 'secondDimension': -14277.082}, {'datapointName': '30', 'firstDimension': 1331439860000.0, 'secondDimension': -1361.2714}, {'datapointName': '31', 'firstDimension': 1331439860000.0, 'secondDimension': -4029.541}, {'datapointName': '32', 'firstDimension': 1331439860000.0, 'secondDimension': -408.549}, {'datapointName': '33', 'firstDimension': 309237645000.0, 'secondDimension': -11266.673}, {'datapointName': '34', 'firstDimension': 309237645000.0, 'secondDimension': -11266.673}, {'datapointName': '35', 'firstDimension': 309237645000.0, 'secondDimension': -17879.416}, {'datapointName': '36', 'firstDimension': 309237645000.0, 'secondDimension': -7693.962}, {'datapointName': '37', 'firstDimension': 309237645000.0, 'secondDimension': -7113.051}], 'clusters': [{'datapointName': '0', 'cluster': 3}, {'datapointName': '1', 'cluster': 4}, {'datapointName': '2', 'cluster': 0}, {'datapointName': '3', 'cluster': 1}, {'datapointName': '4', 'cluster': 1}, {'datapointName': '5', 'cluster': 3}, {'datapointName': '6', 'cluster': 2}, {'datapointName': '7', 'cluster': 2}, {'datapointName': '8', 'cluster': 2}, {'datapointName': '9', 'cluster': 2}, {'datapointName': '10', 'cluster': 3}, {'datapointName': '11', 'cluster': 1}, {'datapointName': '12', 'cluster': 1}, {'datapointName': '13', 'cluster': 4}, {'datapointName': '14', 'cluster': 1}, {'datapointName': '15', 'cluster': 2}, {'datapointName': '16', 'cluster': 2}, {'datapointName': '17', 'cluster': 4}, {'datapointName': '18', 'cluster': 1}, {'datapointName': '19', 'cluster': 3}, {'datapointName': '20', 'cluster': 2}, {'datapointName': '21', 'cluster': 2}, {'datapointName': '22', 'cluster': 4}, {'datapointName': '23', 'cluster': 1}, {'datapointName': '24', 'cluster': 4}, {'datapointName': '25', 'cluster': 3}, {'datapointName': '26', 'cluster': 1}, {'datapointName': '27', 'cluster': 0}, {'datapointName': '28', 'cluster': 2}, {'datapointName': '29', 'cluster': 1}, {'datapointName': '30', 'cluster': 2}, {'datapointName': '31', 'cluster': 2}, {'datapointName': '32', 'cluster': 2}, {'datapointName': '33', 'cluster': 4}, {'datapointName': '34', 'cluster': 4}, {'datapointName': '35', 'cluster': 0}, {'datapointName': '36', 'cluster': 4}, {'datapointName': '37', 'cluster': 4}], 'statisticType': 'clusterAnalysis'}, 'created': '2018-12-17T11:57:44Z', 'creator': 'admin@kth.se', 'dependencies': [], 'description': '', 'descriptiveStatistics': {'descriptiveStats': [{'featureName': 'balance', 'metricValues': [{'metricName': 'count', 'value': 500.0}, {'metricName': 'mean', 'value': 7788.0317}, {'metricName': 'stddev', 'value': 5615.956}, {'metricName': 'min', 'value': 6.618235}, {'metricName': 'max', 'value': 31677.91}], 'statisticType': 'descriptiveStatistics'}, {'featureName': 'pep', 'metricValues': [{'metricName': 'count', 'value': 500.0}, {'metricName': 'mean', 'value': 771273060000.0}, {'metricName': 'stddev', 'value': 509250011000.0}, {'metricName': 'min', 'value': 309237645000.0}, {'metricName': 'max', 'value': 1331439860000.0}], 'statisticType': 'descriptiveStatistics'}, {'featureName': 'max_trx', 'metricValues': [{'metricName': 'count', 'value': 500.0}, {'metricName': 'mean', 'value': 1876.5645}, {'metricName': 'stddev', 'value': 532.82294}, {'metricName': 'min', 'value': 608.2359}, {'metricName': 'max', 'value': 3885.9565}], 'statisticType': 'descriptiveStatistics'}, {'featureName': 'triangle_count', 'metricValues': [{'metricName': 'count', 'value': 500.0}, {'metricName': 'mean', 'value': 7.524}, {'metricName': 'stddev', 'value': 4.1804757}, {'metricName': 'min', 'value': 0.0}, {'metricName': 'max', 'value': 21.0}], 'statisticType': 'descriptiveStatistics'}, {'featureName': 'number_of_accounts', 'metricValues': [{'metricName': 'count', 'value': 500.0}, {'metricName': 'mean', 'value': 7.752}, {'metricName': 'stddev', 'value': 4.065902}, {'metricName': 'min', 'value': 1.0}, {'metricName': 'max', 'value': 14.0}], 'statisticType': 'descriptiveStatistics'}, {'featureName': 'min_trx', 'metricValues': [{'metricName': 'count', 'value': 500.0}, {'metricName': 'mean', 'value': 126.41404}, {'metricName': 'stddev', 'value': 135.2302}, {'metricName': 'min', 'value': 0.15052964}, {'metricName': 'max', 'value': 1403.2979}], 'statisticType': 'descriptiveStatistics'}, {'featureName': 'avg_trx', 'metricValues': [{'metricName': 'count', 'value': 500.0}, {'metricName': 'mean', 'value': 804.36707}, {'metricName': 'stddev', 'value': 190.28111}, {'metricName': 'min', 'value': 260.58777}, {'metricName': 'max', 'value': 1544.8882}], 'statisticType': 'descriptiveStatistics'}, {'featureName': 'count_trx', 'metricValues': [{'metricName': 'count', 'value': 500.0}, {'metricName': 'mean', 'value': 20.0}, {'metricName': 'stddev', 'value': 6.230058}, {'metricName': 'min', 'value': 4.0}, {'metricName': 'max', 'value': 38.0}], 'statisticType': 'descriptiveStatistics'}, {'featureName': 'pagerank', 'metricValues': [{'metricName': 'count', 'value': 500.0}, {'metricName': 'mean', 'value': 1.0}, {'metricName': 'stddev', 'value': 0.0}, {'metricName': 'min', 'value': 1.0}, {'metricName': 'max', 'value': 1.0}], 'statisticType': 'descriptiveStatistics'}]}, 'featureCorrelationMatrix': {'featureCorrelations': [{'featureName': 'min_trx', 'correlationValues': [{'featureName': 'balance', 'correlation': -0.035783004, 'statisticType': 'featureCorrelations'}, {'featureName': 'pep', 'correlation': 0.025501782, 'statisticType': 'featureCorrelations'}, {'featureName': 'max_trx', 'correlation': 3.518876e-05, 'statisticType': 'featureCorrelations'}, {'featureName': 'triangle_count', 'correlation': -0.098245956, 'statisticType': 'featureCorrelations'}, {'featureName': 'number_of_accounts', 'correlation': -0.027770644, 'statisticType': 'featureCorrelations'}, {'featureName': 'min_trx', 'correlation': 1.0, 'statisticType': 'featureCorrelations'}, {'featureName': 'avg_trx', 'correlation': 0.39488143, 'statisticType': 'featureCorrelations'}, {'featureName': 'count_trx', 'correlation': -0.317576, 'statisticType': 'featureCorrelations'}, {'featureName': 'pagerank', 'correlation': 0.0, 'statisticType': 'featureCorrelations'}]}, {'featureName': 'balance', 'correlationValues': [{'featureName': 'balance', 'correlation': 1.0, 'statisticType': 'featureCorrelations'}, {'featureName': 'pep', 'correlation': -0.005911451, 'statisticType': 'featureCorrelations'}, {'featureName': 'max_trx', 'correlation': -0.033707105, 'statisticType': 'featureCorrelations'}, {'featureName': 'triangle_count', 'correlation': -0.024456615, 'statisticType': 'featureCorrelations'}, {'featureName': 'number_of_accounts', 'correlation': 0.024859415, 'statisticType': 'featureCorrelations'}, {'featureName': 'min_trx', 'correlation': -0.035783004, 'statisticType': 'featureCorrelations'}, {'featureName': 'avg_trx', 'correlation': -0.042454593, 'statisticType': 'featureCorrelations'}, {'featureName': 'count_trx', 'correlation': 0.020852992, 'statisticType': 'featureCorrelations'}, {'featureName': 'pagerank', 'correlation': 0.0, 'statisticType': 'featureCorrelations'}]}, {'featureName': 'triangle_count', 'correlationValues': [{'featureName': 'balance', 'correlation': -0.024456615, 'statisticType': 'featureCorrelations'}, {'featureName': 'pep', 'correlation': 0.05636367, 'statisticType': 'featureCorrelations'}, {'featureName': 'max_trx', 'correlation': 0.12662022, 'statisticType': 'featureCorrelations'}, {'featureName': 'triangle_count', 'correlation': 1.0, 'statisticType': 'featureCorrelations'}, {'featureName': 'number_of_accounts', 'correlation': -0.016744748, 'statisticType': 'featureCorrelations'}, {'featureName': 'min_trx', 'correlation': -0.098245956, 'statisticType': 'featureCorrelations'}, {'featureName': 'avg_trx', 'correlation': 0.059870116, 'statisticType': 'featureCorrelations'}, {'featureName': 'count_trx', 'correlation': 0.48660156, 'statisticType': 'featureCorrelations'}, {'featureName': 'pagerank', 'correlation': 0.0, 'statisticType': 'featureCorrelations'}]}, {'featureName': 'number_of_accounts', 'correlationValues': [{'featureName': 'balance', 'correlation': 0.024859415, 'statisticType': 'featureCorrelations'}, {'featureName': 'pep', 'correlation': -0.02666486, 'statisticType': 'featureCorrelations'}, {'featureName': 'max_trx', 'correlation': 0.0053743166, 'statisticType': 'featureCorrelations'}, {'featureName': 'triangle_count', 'correlation': -0.016744748, 'statisticType': 'featureCorrelations'}, {'featureName': 'number_of_accounts', 'correlation': 1.0, 'statisticType': 'featureCorrelations'}, {'featureName': 'min_trx', 'correlation': -0.027770644, 'statisticType': 'featureCorrelations'}, {'featureName': 'avg_trx', 'correlation': -0.045659218, 'statisticType': 'featureCorrelations'}, {'featureName': 'count_trx', 'correlation': 0.00094936165, 'statisticType': 'featureCorrelations'}, {'featureName': 'pagerank', 'correlation': 0.0, 'statisticType': 'featureCorrelations'}]}, {'featureName': 'pep', 'correlationValues': [{'featureName': 'balance', 'correlation': -0.005911451, 'statisticType': 'featureCorrelations'}, {'featureName': 'pep', 'correlation': 1.0, 'statisticType': 'featureCorrelations'}, {'featureName': 'max_trx', 'correlation': 0.03964969, 'statisticType': 'featureCorrelations'}, {'featureName': 'triangle_count', 'correlation': 0.05636367, 'statisticType': 'featureCorrelations'}, {'featureName': 'number_of_accounts', 'correlation': -0.02666486, 'statisticType': 'featureCorrelations'}, {'featureName': 'min_trx', 'correlation': 0.025501782, 'statisticType': 'featureCorrelations'}, {'featureName': 'avg_trx', 'correlation': 0.0037346045, 'statisticType': 'featureCorrelations'}, {'featureName': 'count_trx', 'correlation': 0.028409643, 'statisticType': 'featureCorrelations'}, {'featureName': 'pagerank', 'correlation': 0.0, 'statisticType': 'featureCorrelations'}]}, {'featureName': 'max_trx', 'correlationValues': [{'featureName': 'balance', 'correlation': -0.033707105, 'statisticType': 'featureCorrelations'}, {'featureName': 'pep', 'correlation': 0.03964969, 'statisticType': 'featureCorrelations'}, {'featureName': 'max_trx', 'correlation': 1.0, 'statisticType': 'featureCorrelations'}, {'featureName': 'triangle_count', 'correlation': 0.12662022, 'statisticType': 'featureCorrelations'}, {'featureName': 'number_of_accounts', 'correlation': 0.0053743166, 'statisticType': 'featureCorrelations'}, {'featureName': 'min_trx', 'correlation': 3.518876e-05, 'statisticType': 'featureCorrelations'}, {'featureName': 'avg_trx', 'correlation': 0.6561947, 'statisticType': 'featureCorrelations'}, {'featureName': 'count_trx', 'correlation': 0.34287718, 'statisticType': 'featureCorrelations'}, {'featureName': 'pagerank', 'correlation': 0.0, 'statisticType': 'featureCorrelations'}]}, {'featureName': 'pagerank', 'correlationValues': [{'featureName': 'balance', 'correlation': 0.0, 'statisticType': 'featureCorrelations'}, {'featureName': 'pep', 'correlation': 0.0, 'statisticType': 'featureCorrelations'}, {'featureName': 'max_trx', 'correlation': 0.0, 'statisticType': 'featureCorrelations'}, {'featureName': 'triangle_count', 'correlation': 0.0, 'statisticType': 'featureCorrelations'}, {'featureName': 'number_of_accounts', 'correlation': 0.0, 'statisticType': 'featureCorrelations'}, {'featureName': 'min_trx', 'correlation': 0.0, 'statisticType': 'featureCorrelations'}, {'featureName': 'avg_trx', 'correlation': 0.0, 'statisticType': 'featureCorrelations'}, {'featureName': 'count_trx', 'correlation': 0.0, 'statisticType': 'featureCorrelations'}, {'featureName': 'pagerank', 'correlation': 1.0, 'statisticType': 'featureCorrelations'}]}, {'featureName': 'avg_trx', 'correlationValues': [{'featureName': 'balance', 'correlation': -0.042454593, 'statisticType': 'featureCorrelations'}, {'featureName': 'pep', 'correlation': 0.0037346045, 'statisticType': 'featureCorrelations'}, {'featureName': 'max_trx', 'correlation': 0.6561947, 'statisticType': 'featureCorrelations'}, {'featureName': 'triangle_count', 'correlation': 0.059870116, 'statisticType': 'featureCorrelations'}, {'featureName': 'number_of_accounts', 'correlation': -0.045659218, 'statisticType': 'featureCorrelations'}, {'featureName': 'min_trx', 'correlation': 0.39488143, 'statisticType': 'featureCorrelations'}, {'featureName': 'avg_trx', 'correlation': 1.0, 'statisticType': 'featureCorrelations'}, {'featureName': 'count_trx', 'correlation': 0.06330359, 'statisticType': 'featureCorrelations'}, {'featureName': 'pagerank', 'correlation': 0.0, 'statisticType': 'featureCorrelations'}]}, {'featureName': 'count_trx', 'correlationValues': [{'featureName': 'balance', 'correlation': 0.020852992, 'statisticType': 'featureCorrelations'}, {'featureName': 'pep', 'correlation': 0.028409643, 'statisticType': 'featureCorrelations'}, {'featureName': 'max_trx', 'correlation': 0.34287718, 'statisticType': 'featureCorrelations'}, {'featureName': 'triangle_count', 'correlation': 0.48660156, 'statisticType': 'featureCorrelations'}, {'featureName': 'number_of_accounts', 'correlation': 0.00094936165, 'statisticType': 'featureCorrelations'}, {'featureName': 'min_trx', 'correlation': -0.317576, 'statisticType': 'featureCorrelations'}, {'featureName': 'avg_trx', 'correlation': 0.06330359, 'statisticType': 'featureCorrelations'}, {'featureName': 'count_trx', 'correlation': 1.0, 'statisticType': 'featureCorrelations'}, {'featureName': 'pagerank', 'correlation': 0.0, 'statisticType': 'featureCorrelations'}]}]}, 'features': [{'name': 'pagerank', 'type': 'FLOAT', 'description': '-', 'primary': False}, {'name': 'count_trx', 'type': 'BIGINT', 'description': '-', 'primary': False}, {'name': 'avg_trx', 'type': 'FLOAT', 'description': '-', 'primary': False}, {'name': 'min_trx', 'type': 'FLOAT', 'description': '-', 'primary': False}, {'name': 'number_of_accounts', 'type': 'INT', 'description': '-', 'primary': False}, {'name': 'triangle_count', 'type': 'FLOAT', 'description': '-', 'primary': False}, {'name': 'max_trx', 'type': 'FLOAT', 'description': '-', 'primary': False}, {'name': 'pep', 'type': 'BIGINT', 'description': '-', 'primary': False}, {'name': 'balance', 'type': 'FLOAT', 'description': '-', 'primary': False}], 'featuresHistogram': {'featureDistributions': [{'featureName': 'balance', 'frequencyDistribution': [{'bin': '6.6182351112', 'frequency': 56}, {'bin': '1590.1828311682', 'frequency': 69}, {'bin': '3173.7474272251', 'frequency': 58}, {'bin': '4757.3120232821', 'frequency': 49}, {'bin': '6340.876619339', 'frequency': 56}, {'bin': '7924.4412153959', 'frequency': 43}, {'bin': '9508.0058114529', 'frequency': 33}, {'bin': '11091.5704075098', 'frequency': 36}, {'bin': '12675.1350035667', 'frequency': 34}, {'bin': '14258.6995996237', 'frequency': 22}, {'bin': '15842.2641956806', 'frequency': 15}, {'bin': '17425.8287917376', 'frequency': 6}, {'bin': '19009.3933877945', 'frequency': 12}, {'bin': '20592.9579838514', 'frequency': 5}, {'bin': '22176.5225799084', 'frequency': 3}, {'bin': '23760.0871759653', 'frequency': 0}, {'bin': '25343.6517720222', 'frequency': 0}, {'bin': '26927.2163680792', 'frequency': 1}, {'bin': '28510.7809641361', 'frequency': 1}, {'bin': '30094.3455601931', 'frequency': 1}], 'statisticType': 'featureDistributions'}, {'featureName': 'pep', 'frequencyDistribution': [{'bin': '309237645312.0', 'frequency': 274}, {'bin': '360347756134.4000244141', 'frequency': 0}, {'bin': '411457866956.799987793', 'frequency': 0}, {'bin': '462567977779.200012207', 'frequency': 0}, {'bin': '513678088601.5999755859', 'frequency': 0}, {'bin': '564788199424.0', 'frequency': 0}, {'bin': '615898310246.4000244141', 'frequency': 0}, {'bin': '667008421068.8000488281', 'frequency': 0}, {'bin': '718118531891.1999511719', 'frequency': 0}, {'bin': '769228642713.6000976562', 'frequency': 0}, {'bin': '820338753536.0', 'frequency': 0}, {'bin': '871448864358.4000244141', 'frequency': 0}, {'bin': '922558975180.8000488281', 'frequency': 0}, {'bin': '973669086003.2000732422', 'frequency': 0}, {'bin': '1024779196825.5999755859', 'frequency': 0}, {'bin': '1075889307648.0', 'frequency': 0}, {'bin': '1126999418470.3999023438', 'frequency': 0}, {'bin': '1178109529292.8000488281', 'frequency': 0}, {'bin': '1229219640115.2001953125', 'frequency': 0}, {'bin': '1280329750937.6000976562', 'frequency': 226}], 'statisticType': 'featureDistributions'}, {'featureName': 'max_trx', 'frequencyDistribution': [{'bin': '608.2359008789', 'frequency': 6}, {'bin': '772.1219329834', 'frequency': 7}, {'bin': '936.0079650879', 'frequency': 9}, {'bin': '1099.8939971924', 'frequency': 34}, {'bin': '1263.7800292969', 'frequency': 46}, {'bin': '1427.6660614014', 'frequency': 49}, {'bin': '1591.5520935059', 'frequency': 71}, {'bin': '1755.4381256104', 'frequency': 67}, {'bin': '1919.3241577148', 'frequency': 50}, {'bin': '2083.2101898193', 'frequency': 44}, {'bin': '2247.0962219238', 'frequency': 38}, {'bin': '2410.9822540283', 'frequency': 30}, {'bin': '2574.8682861328', 'frequency': 17}, {'bin': '2738.7543182373', 'frequency': 14}, {'bin': '2902.6403503418', 'frequency': 10}, {'bin': '3066.5263824463', 'frequency': 2}, {'bin': '3230.4124145508', 'frequency': 1}, {'bin': '3394.2984466553', 'frequency': 3}, {'bin': '3558.1844787598', 'frequency': 0}, {'bin': '3722.0705108643', 'frequency': 2}], 'statisticType': 'featureDistributions'}, {'featureName': 'triangle_count', 'frequencyDistribution': [{'bin': '0.0', 'frequency': 15}, {'bin': '1.05', 'frequency': 32}, {'bin': '2.1', 'frequency': 37}, {'bin': '3.15', 'frequency': 49}, {'bin': '4.2', 'frequency': 52}, {'bin': '5.25', 'frequency': 42}, {'bin': '6.3', 'frequency': 44}, {'bin': '7.35', 'frequency': 51}, {'bin': '8.4', 'frequency': 38}, {'bin': '9.45', 'frequency': 27}, {'bin': '10.5', 'frequency': 29}, {'bin': '11.55', 'frequency': 24}, {'bin': '12.6', 'frequency': 13}, {'bin': '13.65', 'frequency': 10}, {'bin': '14.7', 'frequency': 10}, {'bin': '15.75', 'frequency': 9}, {'bin': '16.8', 'frequency': 7}, {'bin': '17.85', 'frequency': 5}, {'bin': '18.9', 'frequency': 0}, {'bin': '19.95', 'frequency': 6}], 'statisticType': 'featureDistributions'}, {'featureName': 'number_of_accounts', 'frequencyDistribution': [{'bin': '1.0', 'frequency': 35}, {'bin': '1.65', 'frequency': 30}, {'bin': '2.3', 'frequency': 0}, {'bin': '2.95', 'frequency': 37}, {'bin': '3.6', 'frequency': 36}, {'bin': '4.25', 'frequency': 0}, {'bin': '4.9', 'frequency': 27}, {'bin': '5.55', 'frequency': 39}, {'bin': '6.2', 'frequency': 0}, {'bin': '6.85', 'frequency': 31}, {'bin': '7.5', 'frequency': 35}, {'bin': '8.15', 'frequency': 0}, {'bin': '8.8', 'frequency': 30}, {'bin': '9.45', 'frequency': 42}, {'bin': '10.1', 'frequency': 0}, {'bin': '10.75', 'frequency': 43}, {'bin': '11.4', 'frequency': 36}, {'bin': '12.05', 'frequency': 0}, {'bin': '12.7', 'frequency': 41}, {'bin': '13.35', 'frequency': 38}], 'statisticType': 'featureDistributions'}, {'featureName': 'min_trx', 'frequencyDistribution': [{'bin': '0.1505296379', 'frequency': 216}, {'bin': '70.3078957342', 'frequency': 119}, {'bin': '140.4652618304', 'frequency': 68}, {'bin': '210.6226279266', 'frequency': 45}, {'bin': '280.7799940228', 'frequency': 24}, {'bin': '350.9373601191', 'frequency': 13}, {'bin': '421.0947262153', 'frequency': 5}, {'bin': '491.2520923115', 'frequency': 4}, {'bin': '561.4094584078', 'frequency': 2}, {'bin': '631.566824504', 'frequency': 1}, {'bin': '701.7241906002', 'frequency': 0}, {'bin': '771.8815566964', 'frequency': 2}, {'bin': '842.0389227927', 'frequency': 0}, {'bin': '912.1962888889', 'frequency': 0}, {'bin': '982.3536549851', 'frequency': 0}, {'bin': '1052.5110210814', 'frequency': 0}, {'bin': '1122.6683871776', 'frequency': 0}, {'bin': '1192.8257532738', 'frequency': 0}, {'bin': '1262.98311937', 'frequency': 0}, {'bin': '1333.1404854663', 'frequency': 1}], 'statisticType': 'featureDistributions'}, {'featureName': 'avg_trx', 'frequencyDistribution': [{'bin': '260.5877685547', 'frequency': 2}, {'bin': '324.8027893066', 'frequency': 7}, {'bin': '389.0178100586', 'frequency': 9}, {'bin': '453.2328308105', 'frequency': 13}, {'bin': '517.4478515625', 'frequency': 19}, {'bin': '581.6628723145', 'frequency': 50}, {'bin': '645.8778930664', 'frequency': 54}, {'bin': '710.0929138184', 'frequency': 68}, {'bin': '774.3079345703', 'frequency': 66}, {'bin': '838.5229553223', 'frequency': 74}, {'bin': '902.7379760742', 'frequency': 42}, {'bin': '966.9529968262', 'frequency': 41}, {'bin': '1031.1680175781', 'frequency': 24}, {'bin': '1095.3830383301', 'frequency': 13}, {'bin': '1159.598059082', 'frequency': 9}, {'bin': '1223.813079834', 'frequency': 4}, {'bin': '1288.0281005859', 'frequency': 1}, {'bin': '1352.2431213379', 'frequency': 2}, {'bin': '1416.4581420898', 'frequency': 1}, {'bin': '1480.6731628418', 'frequency': 1}], 'statisticType': 'featureDistributions'}, {'featureName': 'count_trx', 'frequencyDistribution': [{'bin': '4.0', 'frequency': 2}, {'bin': '5.7', 'frequency': 5}, {'bin': '7.4', 'frequency': 12}, {'bin': '9.1', 'frequency': 14}, {'bin': '10.8', 'frequency': 26}, {'bin': '12.5', 'frequency': 51}, {'bin': '14.2', 'frequency': 0}, {'bin': '15.9', 'frequency': 48}, {'bin': '17.6', 'frequency': 69}, {'bin': '19.3', 'frequency': 62}, {'bin': '21.0', 'frequency': 62}, {'bin': '22.7', 'frequency': 43}, {'bin': '24.4', 'frequency': 38}, {'bin': '26.1', 'frequency': 0}, {'bin': '27.8', 'frequency': 32}, {'bin': '29.5', 'frequency': 14}, {'bin': '31.2', 'frequency': 8}, {'bin': '32.9', 'frequency': 7}, {'bin': '34.6', 'frequency': 5}, {'bin': '36.3', 'frequency': 2}], 'statisticType': 'featureDistributions'}, {'featureName': 'pagerank', 'frequencyDistribution': [{'bin': '1.0', 'frequency': 500}], 'statisticType': 'featureDistributions'}]}, 'featurestoreId': 1, 'featurestoreName': 'fs_demo_featurestore', 'id': 5, 'inodeId': 106772, 'jobId': None, 'jobName': None, 'jobStatus': None, 'lastComputed': None, 'name': 'AML_dataset', 'version': 1, 'dataFormat': 'tfrecords', 'hdfsStorePath': '/Projects/fs_demo/Training_Datasets/AML_dataset_1', 'size': 0}, {'clusterAnalysis': {'dataPoints': [{'datapointName': '0', 'firstDimension': -309237645000.0, 'secondDimension': 20106.723}, {'datapointName': '1', 'firstDimension': -1331439860000.0, 'secondDimension': 16601.521}, {'datapointName': '2', 'firstDimension': -1331439860000.0, 'secondDimension': 7806.503}, {'datapointName': '3', 'firstDimension': -1331439860000.0, 'secondDimension': 1352.7709}, {'datapointName': '4', 'firstDimension': -309237645000.0, 'secondDimension': 4328.4453}, {'datapointName': '5', 'firstDimension': -1331439860000.0, 'secondDimension': 10511.799}, {'datapointName': '6', 'firstDimension': -1331439860000.0, 'secondDimension': 2422.1794}, {'datapointName': '7', 'firstDimension': -309237645000.0, 'secondDimension': 5537.27}, {'datapointName': '8', 'firstDimension': -1331439860000.0, 'secondDimension': 16346.803}, {'datapointName': '9', 'firstDimension': -1331439860000.0, 'secondDimension': 16954.521}, {'datapointName': '10', 'firstDimension': -1331439860000.0, 'secondDimension': 16954.521}, {'datapointName': '11', 'firstDimension': -309237645000.0, 'secondDimension': 6713.2393}, {'datapointName': '12', 'firstDimension': -309237645000.0, 'secondDimension': 4336.7915}, {'datapointName': '13', 'firstDimension': -1331439860000.0, 'secondDimension': 4469.9385}, {'datapointName': '14', 'firstDimension': -309237645000.0, 'secondDimension': 7878.2607}, {'datapointName': '15', 'firstDimension': -309237645000.0, 'secondDimension': 13561.976}, {'datapointName': '16', 'firstDimension': -309237645000.0, 'secondDimension': 14349.123}, {'datapointName': '17', 'firstDimension': -309237645000.0, 'secondDimension': 2736.8833}, {'datapointName': '18', 'firstDimension': -1331439860000.0, 'secondDimension': 18610.225}, {'datapointName': '19', 'firstDimension': -1331439860000.0, 'secondDimension': 1100.4834}, {'datapointName': '20', 'firstDimension': -309237645000.0, 'secondDimension': 11091.505}, {'datapointName': '21', 'firstDimension': -1331439860000.0, 'secondDimension': 2591.632}, {'datapointName': '22', 'firstDimension': -1331439860000.0, 'secondDimension': 1014.1514}, {'datapointName': '23', 'firstDimension': -309237645000.0, 'secondDimension': 1869.1776}, {'datapointName': '24', 'firstDimension': -1331439860000.0, 'secondDimension': 10988.505}, {'datapointName': '25', 'firstDimension': -1331439860000.0, 'secondDimension': 7466.997}, {'datapointName': '26', 'firstDimension': -309237645000.0, 'secondDimension': 14983.745}, {'datapointName': '27', 'firstDimension': -1331439860000.0, 'secondDimension': 22834.072}, {'datapointName': '28', 'firstDimension': -1331439860000.0, 'secondDimension': 1631.5436}, {'datapointName': '29', 'firstDimension': -309237645000.0, 'secondDimension': 10894.385}, {'datapointName': '30', 'firstDimension': -1331439860000.0, 'secondDimension': 6294.59}, {'datapointName': '31', 'firstDimension': -1331439860000.0, 'secondDimension': 7053.379}, {'datapointName': '32', 'firstDimension': -1331439860000.0, 'secondDimension': 7053.379}, {'datapointName': '33', 'firstDimension': -309237645000.0, 'secondDimension': 12564.201}, {'datapointName': '34', 'firstDimension': -1331439860000.0, 'secondDimension': 11008.783}, {'datapointName': '35', 'firstDimension': -309237645000.0, 'secondDimension': 7581.582}, {'datapointName': '36', 'firstDimension': -1331439860000.0, 'secondDimension': 1325.7572}, {'datapointName': '37', 'firstDimension': -1331439860000.0, 'secondDimension': 11420.431}, {'datapointName': '38', 'firstDimension': -1331439860000.0, 'secondDimension': 4936.403}, {'datapointName': '39', 'firstDimension': -309237645000.0, 'secondDimension': -101.52001}, {'datapointName': '40', 'firstDimension': -309237645000.0, 'secondDimension': 5457.3384}, {'datapointName': '41', 'firstDimension': -1331439860000.0, 'secondDimension': 19935.254}, {'datapointName': '42', 'firstDimension': -1331439860000.0, 'secondDimension': -168.1365}, {'datapointName': '43', 'firstDimension': -309237645000.0, 'secondDimension': 8720.543}, {'datapointName': '44', 'firstDimension': -1331439860000.0, 'secondDimension': 16416.453}, {'datapointName': '45', 'firstDimension': -1331439860000.0, 'secondDimension': 13440.766}, {'datapointName': '46', 'firstDimension': -309237645000.0, 'secondDimension': 1797.9172}, {'datapointName': '47', 'firstDimension': -309237645000.0, 'secondDimension': 4172.2935}, {'datapointName': '48', 'firstDimension': -309237645000.0, 'secondDimension': 1024.8698}, {'datapointName': '49', 'firstDimension': -309237645000.0, 'secondDimension': 10376.653}, {'datapointName': '50', 'firstDimension': -1331439860000.0, 'secondDimension': 5311.0513}, {'datapointName': '51', 'firstDimension': -309237645000.0, 'secondDimension': 19918.322}, {'datapointName': '52', 'firstDimension': -1331439860000.0, 'secondDimension': 14408.691}, {'datapointName': '53', 'firstDimension': -1331439860000.0, 'secondDimension': 9879.68}, {'datapointName': '54', 'firstDimension': -309237645000.0, 'secondDimension': 3005.4038}, {'datapointName': '55', 'firstDimension': -1331439860000.0, 'secondDimension': 1532.5122}, {'datapointName': '56', 'firstDimension': -1331439860000.0, 'secondDimension': 3565.981}, {'datapointName': '57', 'firstDimension': -309237645000.0, 'secondDimension': 17877.014}, {'datapointName': '58', 'firstDimension': -1331439860000.0, 'secondDimension': 8905.7}, {'datapointName': '59', 'firstDimension': -309237645000.0, 'secondDimension': 9141.746}, {'datapointName': '60', 'firstDimension': -309237645000.0, 'secondDimension': 12727.806}, {'datapointName': '61', 'firstDimension': -1331439860000.0, 'secondDimension': -393.3108}], 'clusters': [{'datapointName': '0', 'cluster': 0}, {'datapointName': '1', 'cluster': 1}, {'datapointName': '2', 'cluster': 2}, {'datapointName': '3', 'cluster': 2}, {'datapointName': '4', 'cluster': 3}, {'datapointName': '5', 'cluster': 1}, {'datapointName': '6', 'cluster': 2}, {'datapointName': '7', 'cluster': 3}, {'datapointName': '8', 'cluster': 1}, {'datapointName': '9', 'cluster': 1}, {'datapointName': '10', 'cluster': 1}, {'datapointName': '11', 'cluster': 4}, {'datapointName': '12', 'cluster': 3}, {'datapointName': '13', 'cluster': 2}, {'datapointName': '14', 'cluster': 4}, {'datapointName': '15', 'cluster': 0}, {'datapointName': '16', 'cluster': 0}, {'datapointName': '17', 'cluster': 3}, {'datapointName': '18', 'cluster': 1}, {'datapointName': '19', 'cluster': 2}, {'datapointName': '20', 'cluster': 4}, {'datapointName': '21', 'cluster': 2}, {'datapointName': '22', 'cluster': 2}, {'datapointName': '23', 'cluster': 3}, {'datapointName': '24', 'cluster': 1}, {'datapointName': '25', 'cluster': 2}, {'datapointName': '26', 'cluster': 0}, {'datapointName': '27', 'cluster': 1}, {'datapointName': '28', 'cluster': 2}, {'datapointName': '29', 'cluster': 4}, {'datapointName': '30', 'cluster': 2}, {'datapointName': '31', 'cluster': 2}, {'datapointName': '32', 'cluster': 2}, {'datapointName': '33', 'cluster': 4}, {'datapointName': '34', 'cluster': 1}, {'datapointName': '35', 'cluster': 4}, {'datapointName': '36', 'cluster': 2}, {'datapointName': '37', 'cluster': 1}, {'datapointName': '38', 'cluster': 2}, {'datapointName': '39', 'cluster': 3}, {'datapointName': '40', 'cluster': 3}, {'datapointName': '41', 'cluster': 1}, {'datapointName': '42', 'cluster': 2}, {'datapointName': '43', 'cluster': 4}, {'datapointName': '44', 'cluster': 1}, {'datapointName': '45', 'cluster': 1}, {'datapointName': '46', 'cluster': 3}, {'datapointName': '47', 'cluster': 3}, {'datapointName': '48', 'cluster': 3}, {'datapointName': '49', 'cluster': 4}, {'datapointName': '50', 'cluster': 2}, {'datapointName': '51', 'cluster': 0}, {'datapointName': '52', 'cluster': 1}, {'datapointName': '53', 'cluster': 1}, {'datapointName': '54', 'cluster': 3}, {'datapointName': '55', 'cluster': 2}, {'datapointName': '56', 'cluster': 2}, {'datapointName': '57', 'cluster': 0}, {'datapointName': '58', 'cluster': 1}, {'datapointName': '59', 'cluster': 4}, {'datapointName': '60', 'cluster': 4}, {'datapointName': '61', 'cluster': 2}], 'statisticType': 'clusterAnalysis'}, 'created': '2018-12-17T11:58:04Z', 'creator': 'admin@kth.se', 'dependencies': [], 'description': '', 'descriptiveStatistics': {'descriptiveStats': [{'featureName': 'balance', 'metricValues': [{'metricName': 'count', 'value': 500.0}, {'metricName': 'mean', 'value': 7788.0317}, {'metricName': 'stddev', 'value': 5615.956}, {'metricName': 'min', 'value': 6.618235}, {'metricName': 'max', 'value': 31677.91}], 'statisticType': 'descriptiveStatistics'}, {'featureName': 'pep', 'metricValues': [{'metricName': 'count', 'value': 500.0}, {'metricName': 'mean', 'value': 771273060000.0}, {'metricName': 'stddev', 'value': 509250011000.0}, {'metricName': 'min', 'value': 309237645000.0}, {'metricName': 'max', 'value': 1331439860000.0}], 'statisticType': 'descriptiveStatistics'}, {'featureName': 'max_trx', 'metricValues': [{'metricName': 'count', 'value': 500.0}, {'metricName': 'mean', 'value': 1876.5645}, {'metricName': 'stddev', 'value': 532.82294}, {'metricName': 'min', 'value': 608.2359}, {'metricName': 'max', 'value': 3885.9565}], 'statisticType': 'descriptiveStatistics'}, {'featureName': 'triangle_count', 'metricValues': [{'metricName': 'count', 'value': 500.0}, {'metricName': 'mean', 'value': 7.524}, {'metricName': 'stddev', 'value': 4.1804757}, {'metricName': 'min', 'value': 0.0}, {'metricName': 'max', 'value': 21.0}], 'statisticType': 'descriptiveStatistics'}, {'featureName': 'number_of_accounts', 'metricValues': [{'metricName': 'count', 'value': 500.0}, {'metricName': 'mean', 'value': 7.752}, {'metricName': 'stddev', 'value': 4.065902}, {'metricName': 'min', 'value': 1.0}, {'metricName': 'max', 'value': 14.0}], 'statisticType': 'descriptiveStatistics'}, {'featureName': 'min_trx', 'metricValues': [{'metricName': 'count', 'value': 500.0}, {'metricName': 'mean', 'value': 126.41404}, {'metricName': 'stddev', 'value': 135.2302}, {'metricName': 'min', 'value': 0.15052964}, {'metricName': 'max', 'value': 1403.2979}], 'statisticType': 'descriptiveStatistics'}, {'featureName': 'avg_trx', 'metricValues': [{'metricName': 'count', 'value': 500.0}, {'metricName': 'mean', 'value': 804.36707}, {'metricName': 'stddev', 'value': 190.28111}, {'metricName': 'min', 'value': 260.58777}, {'metricName': 'max', 'value': 1544.8882}], 'statisticType': 'descriptiveStatistics'}, {'featureName': 'count_trx', 'metricValues': [{'metricName': 'count', 'value': 500.0}, {'metricName': 'mean', 'value': 20.0}, {'metricName': 'stddev', 'value': 6.230058}, {'metricName': 'min', 'value': 4.0}, {'metricName': 'max', 'value': 38.0}], 'statisticType': 'descriptiveStatistics'}, {'featureName': 'pagerank', 'metricValues': [{'metricName': 'count', 'value': 500.0}, {'metricName': 'mean', 'value': 1.0}, {'metricName': 'stddev', 'value': 0.0}, {'metricName': 'min', 'value': 1.0}, {'metricName': 'max', 'value': 1.0}], 'statisticType': 'descriptiveStatistics'}]}, 'featureCorrelationMatrix': {'featureCorrelations': [{'featureName': 'min_trx', 'correlationValues': [{'featureName': 'balance', 'correlation': -0.035783004, 'statisticType': 'featureCorrelations'}, {'featureName': 'pep', 'correlation': 0.025501782, 'statisticType': 'featureCorrelations'}, {'featureName': 'max_trx', 'correlation': 3.518876e-05, 'statisticType': 'featureCorrelations'}, {'featureName': 'triangle_count', 'correlation': -0.098245956, 'statisticType': 'featureCorrelations'}, {'featureName': 'number_of_accounts', 'correlation': -0.027770644, 'statisticType': 'featureCorrelations'}, {'featureName': 'min_trx', 'correlation': 1.0, 'statisticType': 'featureCorrelations'}, {'featureName': 'avg_trx', 'correlation': 0.39488143, 'statisticType': 'featureCorrelations'}, {'featureName': 'count_trx', 'correlation': -0.317576, 'statisticType': 'featureCorrelations'}, {'featureName': 'pagerank', 'correlation': 0.0, 'statisticType': 'featureCorrelations'}]}, {'featureName': 'balance', 'correlationValues': [{'featureName': 'balance', 'correlation': 1.0, 'statisticType': 'featureCorrelations'}, {'featureName': 'pep', 'correlation': -0.005911451, 'statisticType': 'featureCorrelations'}, {'featureName': 'max_trx', 'correlation': -0.033707105, 'statisticType': 'featureCorrelations'}, {'featureName': 'triangle_count', 'correlation': -0.024456615, 'statisticType': 'featureCorrelations'}, {'featureName': 'number_of_accounts', 'correlation': 0.024859415, 'statisticType': 'featureCorrelations'}, {'featureName': 'min_trx', 'correlation': -0.035783004, 'statisticType': 'featureCorrelations'}, {'featureName': 'avg_trx', 'correlation': -0.042454593, 'statisticType': 'featureCorrelations'}, {'featureName': 'count_trx', 'correlation': 0.020852992, 'statisticType': 'featureCorrelations'}, {'featureName': 'pagerank', 'correlation': 0.0, 'statisticType': 'featureCorrelations'}]}, {'featureName': 'triangle_count', 'correlationValues': [{'featureName': 'balance', 'correlation': -0.024456615, 'statisticType': 'featureCorrelations'}, {'featureName': 'pep', 'correlation': 0.05636367, 'statisticType': 'featureCorrelations'}, {'featureName': 'max_trx', 'correlation': 0.12662022, 'statisticType': 'featureCorrelations'}, {'featureName': 'triangle_count', 'correlation': 1.0, 'statisticType': 'featureCorrelations'}, {'featureName': 'number_of_accounts', 'correlation': -0.016744748, 'statisticType': 'featureCorrelations'}, {'featureName': 'min_trx', 'correlation': -0.098245956, 'statisticType': 'featureCorrelations'}, {'featureName': 'avg_trx', 'correlation': 0.059870116, 'statisticType': 'featureCorrelations'}, {'featureName': 'count_trx', 'correlation': 0.48660156, 'statisticType': 'featureCorrelations'}, {'featureName': 'pagerank', 'correlation': 0.0, 'statisticType': 'featureCorrelations'}]}, {'featureName': 'number_of_accounts', 'correlationValues': [{'featureName': 'balance', 'correlation': 0.024859415, 'statisticType': 'featureCorrelations'}, {'featureName': 'pep', 'correlation': -0.02666486, 'statisticType': 'featureCorrelations'}, {'featureName': 'max_trx', 'correlation': 0.0053743166, 'statisticType': 'featureCorrelations'}, {'featureName': 'triangle_count', 'correlation': -0.016744748, 'statisticType': 'featureCorrelations'}, {'featureName': 'number_of_accounts', 'correlation': 1.0, 'statisticType': 'featureCorrelations'}, {'featureName': 'min_trx', 'correlation': -0.027770644, 'statisticType': 'featureCorrelations'}, {'featureName': 'avg_trx', 'correlation': -0.045659218, 'statisticType': 'featureCorrelations'}, {'featureName': 'count_trx', 'correlation': 0.00094936165, 'statisticType': 'featureCorrelations'}, {'featureName': 'pagerank', 'correlation': 0.0, 'statisticType': 'featureCorrelations'}]}, {'featureName': 'pep', 'correlationValues': [{'featureName': 'balance', 'correlation': -0.005911451, 'statisticType': 'featureCorrelations'}, {'featureName': 'pep', 'correlation': 1.0, 'statisticType': 'featureCorrelations'}, {'featureName': 'max_trx', 'correlation': 0.03964969, 'statisticType': 'featureCorrelations'}, {'featureName': 'triangle_count', 'correlation': 0.05636367, 'statisticType': 'featureCorrelations'}, {'featureName': 'number_of_accounts', 'correlation': -0.02666486, 'statisticType': 'featureCorrelations'}, {'featureName': 'min_trx', 'correlation': 0.025501782, 'statisticType': 'featureCorrelations'}, {'featureName': 'avg_trx', 'correlation': 0.0037346045, 'statisticType': 'featureCorrelations'}, {'featureName': 'count_trx', 'correlation': 0.028409643, 'statisticType': 'featureCorrelations'}, {'featureName': 'pagerank', 'correlation': 0.0, 'statisticType': 'featureCorrelations'}]}, {'featureName': 'max_trx', 'correlationValues': [{'featureName': 'balance', 'correlation': -0.033707105, 'statisticType': 'featureCorrelations'}, {'featureName': 'pep', 'correlation': 0.03964969, 'statisticType': 'featureCorrelations'}, {'featureName': 'max_trx', 'correlation': 1.0, 'statisticType': 'featureCorrelations'}, {'featureName': 'triangle_count', 'correlation': 0.12662022, 'statisticType': 'featureCorrelations'}, {'featureName': 'number_of_accounts', 'correlation': 0.0053743166, 'statisticType': 'featureCorrelations'}, {'featureName': 'min_trx', 'correlation': 3.518876e-05, 'statisticType': 'featureCorrelations'}, {'featureName': 'avg_trx', 'correlation': 0.6561947, 'statisticType': 'featureCorrelations'}, {'featureName': 'count_trx', 'correlation': 0.34287718, 'statisticType': 'featureCorrelations'}, {'featureName': 'pagerank', 'correlation': 0.0, 'statisticType': 'featureCorrelations'}]}, {'featureName': 'pagerank', 'correlationValues': [{'featureName': 'balance', 'correlation': 0.0, 'statisticType': 'featureCorrelations'}, {'featureName': 'pep', 'correlation': 0.0, 'statisticType': 'featureCorrelations'}, {'featureName': 'max_trx', 'correlation': 0.0, 'statisticType': 'featureCorrelations'}, {'featureName': 'triangle_count', 'correlation': 0.0, 'statisticType': 'featureCorrelations'}, {'featureName': 'number_of_accounts', 'correlation': 0.0, 'statisticType': 'featureCorrelations'}, {'featureName': 'min_trx', 'correlation': 0.0, 'statisticType': 'featureCorrelations'}, {'featureName': 'avg_trx', 'correlation': 0.0, 'statisticType': 'featureCorrelations'}, {'featureName': 'count_trx', 'correlation': 0.0, 'statisticType': 'featureCorrelations'}, {'featureName': 'pagerank', 'correlation': 1.0, 'statisticType': 'featureCorrelations'}]}, {'featureName': 'avg_trx', 'correlationValues': [{'featureName': 'balance', 'correlation': -0.042454593, 'statisticType': 'featureCorrelations'}, {'featureName': 'pep', 'correlation': 0.0037346045, 'statisticType': 'featureCorrelations'}, {'featureName': 'max_trx', 'correlation': 0.6561947, 'statisticType': 'featureCorrelations'}, {'featureName': 'triangle_count', 'correlation': 0.059870116, 'statisticType': 'featureCorrelations'}, {'featureName': 'number_of_accounts', 'correlation': -0.045659218, 'statisticType': 'featureCorrelations'}, {'featureName': 'min_trx', 'correlation': 0.39488143, 'statisticType': 'featureCorrelations'}, {'featureName': 'avg_trx', 'correlation': 1.0, 'statisticType': 'featureCorrelations'}, {'featureName': 'count_trx', 'correlation': 0.06330359, 'statisticType': 'featureCorrelations'}, {'featureName': 'pagerank', 'correlation': 0.0, 'statisticType': 'featureCorrelations'}]}, {'featureName': 'count_trx', 'correlationValues': [{'featureName': 'balance', 'correlation': 0.020852992, 'statisticType': 'featureCorrelations'}, {'featureName': 'pep', 'correlation': 0.028409643, 'statisticType': 'featureCorrelations'}, {'featureName': 'max_trx', 'correlation': 0.34287718, 'statisticType': 'featureCorrelations'}, {'featureName': 'triangle_count', 'correlation': 0.48660156, 'statisticType': 'featureCorrelations'}, {'featureName': 'number_of_accounts', 'correlation': 0.00094936165, 'statisticType': 'featureCorrelations'}, {'featureName': 'min_trx', 'correlation': -0.317576, 'statisticType': 'featureCorrelations'}, {'featureName': 'avg_trx', 'correlation': 0.06330359, 'statisticType': 'featureCorrelations'}, {'featureName': 'count_trx', 'correlation': 1.0, 'statisticType': 'featureCorrelations'}, {'featureName': 'pagerank', 'correlation': 0.0, 'statisticType': 'featureCorrelations'}]}]}, 'features': [{'name': 'pagerank', 'type': 'FLOAT', 'description': '-', 'primary': False}, {'name': 'count_trx', 'type': 'BIGINT', 'description': '-', 'primary': False}, {'name': 'avg_trx', 'type': 'FLOAT', 'description': '-', 'primary': False}, {'name': 'min_trx', 'type': 'FLOAT', 'description': '-', 'primary': False}, {'name': 'number_of_accounts', 'type': 'INT', 'description': '-', 'primary': False}, {'name': 'triangle_count', 'type': 'FLOAT', 'description': '-', 'primary': False}, {'name': 'max_trx', 'type': 'FLOAT', 'description': '-', 'primary': False}, {'name': 'pep', 'type': 'BIGINT', 'description': '-', 'primary': False}, {'name': 'balance', 'type': 'FLOAT', 'description': '-', 'primary': False}], 'featuresHistogram': {'featureDistributions': [{'featureName': 'balance', 'frequencyDistribution': [{'bin': '6.6182351112', 'frequency': 56}, {'bin': '1590.1828311682', 'frequency': 69}, {'bin': '3173.7474272251', 'frequency': 58}, {'bin': '4757.3120232821', 'frequency': 49}, {'bin': '6340.876619339', 'frequency': 56}, {'bin': '7924.4412153959', 'frequency': 43}, {'bin': '9508.0058114529', 'frequency': 33}, {'bin': '11091.5704075098', 'frequency': 36}, {'bin': '12675.1350035667', 'frequency': 34}, {'bin': '14258.6995996237', 'frequency': 22}, {'bin': '15842.2641956806', 'frequency': 15}, {'bin': '17425.8287917376', 'frequency': 6}, {'bin': '19009.3933877945', 'frequency': 12}, {'bin': '20592.9579838514', 'frequency': 5}, {'bin': '22176.5225799084', 'frequency': 3}, {'bin': '23760.0871759653', 'frequency': 0}, {'bin': '25343.6517720222', 'frequency': 0}, {'bin': '26927.2163680792', 'frequency': 1}, {'bin': '28510.7809641361', 'frequency': 1}, {'bin': '30094.3455601931', 'frequency': 1}], 'statisticType': 'featureDistributions'}, {'featureName': 'pep', 'frequencyDistribution': [{'bin': '309237645312.0', 'frequency': 274}, {'bin': '360347756134.4000244141', 'frequency': 0}, {'bin': '411457866956.799987793', 'frequency': 0}, {'bin': '462567977779.200012207', 'frequency': 0}, {'bin': '513678088601.5999755859', 'frequency': 0}, {'bin': '564788199424.0', 'frequency': 0}, {'bin': '615898310246.4000244141', 'frequency': 0}, {'bin': '667008421068.8000488281', 'frequency': 0}, {'bin': '718118531891.1999511719', 'frequency': 0}, {'bin': '769228642713.6000976562', 'frequency': 0}, {'bin': '820338753536.0', 'frequency': 0}, {'bin': '871448864358.4000244141', 'frequency': 0}, {'bin': '922558975180.8000488281', 'frequency': 0}, {'bin': '973669086003.2000732422', 'frequency': 0}, {'bin': '1024779196825.5999755859', 'frequency': 0}, {'bin': '1075889307648.0', 'frequency': 0}, {'bin': '1126999418470.3999023438', 'frequency': 0}, {'bin': '1178109529292.8000488281', 'frequency': 0}, {'bin': '1229219640115.2001953125', 'frequency': 0}, {'bin': '1280329750937.6000976562', 'frequency': 226}], 'statisticType': 'featureDistributions'}, {'featureName': 'max_trx', 'frequencyDistribution': [{'bin': '608.2359008789', 'frequency': 6}, {'bin': '772.1219329834', 'frequency': 7}, {'bin': '936.0079650879', 'frequency': 9}, {'bin': '1099.8939971924', 'frequency': 34}, {'bin': '1263.7800292969', 'frequency': 46}, {'bin': '1427.6660614014', 'frequency': 49}, {'bin': '1591.5520935059', 'frequency': 71}, {'bin': '1755.4381256104', 'frequency': 67}, {'bin': '1919.3241577148', 'frequency': 50}, {'bin': '2083.2101898193', 'frequency': 44}, {'bin': '2247.0962219238', 'frequency': 38}, {'bin': '2410.9822540283', 'frequency': 30}, {'bin': '2574.8682861328', 'frequency': 17}, {'bin': '2738.7543182373', 'frequency': 14}, {'bin': '2902.6403503418', 'frequency': 10}, {'bin': '3066.5263824463', 'frequency': 2}, {'bin': '3230.4124145508', 'frequency': 1}, {'bin': '3394.2984466553', 'frequency': 3}, {'bin': '3558.1844787598', 'frequency': 0}, {'bin': '3722.0705108643', 'frequency': 2}], 'statisticType': 'featureDistributions'}, {'featureName': 'triangle_count', 'frequencyDistribution': [{'bin': '0.0', 'frequency': 15}, {'bin': '1.05', 'frequency': 32}, {'bin': '2.1', 'frequency': 37}, {'bin': '3.15', 'frequency': 49}, {'bin': '4.2', 'frequency': 52}, {'bin': '5.25', 'frequency': 42}, {'bin': '6.3', 'frequency': 44}, {'bin': '7.35', 'frequency': 51}, {'bin': '8.4', 'frequency': 38}, {'bin': '9.45', 'frequency': 27}, {'bin': '10.5', 'frequency': 29}, {'bin': '11.55', 'frequency': 24}, {'bin': '12.6', 'frequency': 13}, {'bin': '13.65', 'frequency': 10}, {'bin': '14.7', 'frequency': 10}, {'bin': '15.75', 'frequency': 9}, {'bin': '16.8', 'frequency': 7}, {'bin': '17.85', 'frequency': 5}, {'bin': '18.9', 'frequency': 0}, {'bin': '19.95', 'frequency': 6}], 'statisticType': 'featureDistributions'}, {'featureName': 'number_of_accounts', 'frequencyDistribution': [{'bin': '1.0', 'frequency': 35}, {'bin': '1.65', 'frequency': 30}, {'bin': '2.3', 'frequency': 0}, {'bin': '2.95', 'frequency': 37}, {'bin': '3.6', 'frequency': 36}, {'bin': '4.25', 'frequency': 0}, {'bin': '4.9', 'frequency': 27}, {'bin': '5.55', 'frequency': 39}, {'bin': '6.2', 'frequency': 0}, {'bin': '6.85', 'frequency': 31}, {'bin': '7.5', 'frequency': 35}, {'bin': '8.15', 'frequency': 0}, {'bin': '8.8', 'frequency': 30}, {'bin': '9.45', 'frequency': 42}, {'bin': '10.1', 'frequency': 0}, {'bin': '10.75', 'frequency': 43}, {'bin': '11.4', 'frequency': 36}, {'bin': '12.05', 'frequency': 0}, {'bin': '12.7', 'frequency': 41}, {'bin': '13.35', 'frequency': 38}], 'statisticType': 'featureDistributions'}, {'featureName': 'min_trx', 'frequencyDistribution': [{'bin': '0.1505296379', 'frequency': 216}, {'bin': '70.3078957342', 'frequency': 119}, {'bin': '140.4652618304', 'frequency': 68}, {'bin': '210.6226279266', 'frequency': 45}, {'bin': '280.7799940228', 'frequency': 24}, {'bin': '350.9373601191', 'frequency': 13}, {'bin': '421.0947262153', 'frequency': 5}, {'bin': '491.2520923115', 'frequency': 4}, {'bin': '561.4094584078', 'frequency': 2}, {'bin': '631.566824504', 'frequency': 1}, {'bin': '701.7241906002', 'frequency': 0}, {'bin': '771.8815566964', 'frequency': 2}, {'bin': '842.0389227927', 'frequency': 0}, {'bin': '912.1962888889', 'frequency': 0}, {'bin': '982.3536549851', 'frequency': 0}, {'bin': '1052.5110210814', 'frequency': 0}, {'bin': '1122.6683871776', 'frequency': 0}, {'bin': '1192.8257532738', 'frequency': 0}, {'bin': '1262.98311937', 'frequency': 0}, {'bin': '1333.1404854663', 'frequency': 1}], 'statisticType': 'featureDistributions'}, {'featureName': 'avg_trx', 'frequencyDistribution': [{'bin': '260.5877685547', 'frequency': 2}, {'bin': '324.8027893066', 'frequency': 7}, {'bin': '389.0178100586', 'frequency': 9}, {'bin': '453.2328308105', 'frequency': 13}, {'bin': '517.4478515625', 'frequency': 19}, {'bin': '581.6628723145', 'frequency': 50}, {'bin': '645.8778930664', 'frequency': 54}, {'bin': '710.0929138184', 'frequency': 68}, {'bin': '774.3079345703', 'frequency': 66}, {'bin': '838.5229553223', 'frequency': 74}, {'bin': '902.7379760742', 'frequency': 42}, {'bin': '966.9529968262', 'frequency': 41}, {'bin': '1031.1680175781', 'frequency': 24}, {'bin': '1095.3830383301', 'frequency': 13}, {'bin': '1159.598059082', 'frequency': 9}, {'bin': '1223.813079834', 'frequency': 4}, {'bin': '1288.0281005859', 'frequency': 1}, {'bin': '1352.2431213379', 'frequency': 2}, {'bin': '1416.4581420898', 'frequency': 1}, {'bin': '1480.6731628418', 'frequency': 1}], 'statisticType': 'featureDistributions'}, {'featureName': 'count_trx', 'frequencyDistribution': [{'bin': '4.0', 'frequency': 2}, {'bin': '5.7', 'frequency': 5}, {'bin': '7.4', 'frequency': 12}, {'bin': '9.1', 'frequency': 14}, {'bin': '10.8', 'frequency': 26}, {'bin': '12.5', 'frequency': 51}, {'bin': '14.2', 'frequency': 0}, {'bin': '15.9', 'frequency': 48}, {'bin': '17.6', 'frequency': 69}, {'bin': '19.3', 'frequency': 62}, {'bin': '21.0', 'frequency': 62}, {'bin': '22.7', 'frequency': 43}, {'bin': '24.4', 'frequency': 38}, {'bin': '26.1', 'frequency': 0}, {'bin': '27.8', 'frequency': 32}, {'bin': '29.5', 'frequency': 14}, {'bin': '31.2', 'frequency': 8}, {'bin': '32.9', 'frequency': 7}, {'bin': '34.6', 'frequency': 5}, {'bin': '36.3', 'frequency': 2}], 'statisticType': 'featureDistributions'}, {'featureName': 'pagerank', 'frequencyDistribution': [{'bin': '1.0', 'frequency': 500}], 'statisticType': 'featureDistributions'}]}, 'featurestoreId': 1, 'featurestoreName': 'fs_demo_featurestore', 'id': 6, 'inodeId': 107146, 'jobId': None, 'jobName': None, 'jobStatus': None, 'lastComputed': None, 'name': 'TestDataset', 'version': 1, 'dataFormat': 'csv', 'hdfsStorePath': '/Projects/fs_demo/Training_Datasets/TestDataset_1', 'size': 0}]}"
     ]
    }
   ],
   "source": [
    "featurestore.get_featurestore_metadata(featurestore=featurestore.project_featurestore())"
   ]
  },
  {
   "cell_type": "code",
   "execution_count": null,
   "metadata": {},
   "outputs": [],
   "source": []
  }
 ],
 "metadata": {
  "kernelspec": {
   "display_name": "PySpark",
   "language": "",
   "name": "pysparkkernel"
  },
  "language_info": {
   "codemirror_mode": {
    "name": "python",
    "version": 2
   },
   "mimetype": "text/x-python",
   "name": "pyspark",
   "pygments_lexer": "python2"
  }
 },
 "nbformat": 4,
 "nbformat_minor": 2
}