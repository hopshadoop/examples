{
 "cells": [
  {
   "cell_type": "code",
   "execution_count": null,
   "metadata": {},
   "outputs": [],
   "source": [
    "# Load UCI census train and test data into dataframes.\n",
    "import pandas as pd\n",
    "import hops.hdfs as hdfs\n",
    "features = [\"Age\", \"Workclass\", \"fnlwgt\", \"Education\", \"Education-Num\", \"Marital Status\",\n",
    "            \"Occupation\", \"Relationship\", \"Race\", \"Sex\", \"Capital Gain\", \"Capital Loss\",\n",
    "            \"Hours per week\", \"Country\", \"Target\"]\n",
    "h = hdfs.get_fs()\n",
    "with h.open_file(hdfs.project_path() + \"/TestJob/data/census/adult.data\", \"r\") as trainFile:\n",
    "    train_data =pd.read_csv(trainFile, names=features, sep=r'\\s*,\\s*', engine='python', na_values=\"?\")\n",
    "with h.open_file(hdfs.project_path() + \"/TestJob/data/census/adult.test\", \"r\") as testFile:\n",
    "    test_data =pd.read_csv(testFile, names=features, sep=r'\\s*,\\s*', engine='python', skiprows=[0], na_values=\"?\")"
   ]
  },
  {
   "cell_type": "code",
   "execution_count": null,
   "metadata": {},
   "outputs": [],
   "source": [
    "from hops import facets\n",
    "facets.overview(train_data, test_data)"
   ]
  }
 ],
 "metadata": {
  "kernelspec": {
   "display_name": "python-demo_tensorflow_admin000__meb10000",
   "language": "python",
   "name": "python-demo_tensorflow_admin000__meb10000"
  },
  "language_info": {
   "codemirror_mode": {
    "name": "ipython",
    "version": 2
   },
   "file_extension": ".py",
   "mimetype": "text/x-python",
   "name": "python",
   "nbconvert_exporter": "python",
   "pygments_lexer": "ipython2",
   "version": "2.7.14"
  }
 },
 "nbformat": 4,
 "nbformat_minor": 2
}
